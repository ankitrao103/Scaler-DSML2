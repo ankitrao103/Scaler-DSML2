{
  "cells": [
    {
      "cell_type": "markdown",
      "metadata": {},
      "source": [
        "# 2-D Arrays\n"
      ]
    },
    {
      "cell_type": "code",
      "execution_count": 2,
      "metadata": {
        "trusted": true
      },
      "outputs": [],
      "source": [
        "import numpy as np"
      ]
    },
    {
      "cell_type": "markdown",
      "metadata": {},
      "source": [
        "# Fit Bit Data Anaylsis\n"
      ]
    },
    {
      "cell_type": "code",
      "execution_count": 2,
      "metadata": {
        "trusted": true
      },
      "outputs": [
        {
          "name": "stderr",
          "output_type": "stream",
          "text": [
            "Downloading...\n",
            "From: https://drive.google.com/uc?id=1vk1Pu0djiYcrdc85yUXZ_Rqq2oZNcohd\n",
            "To: d:\\Scaler\\Module-4 Python\\Day-2 Numpy-II\\fit.txt\n",
            "\n",
            "  0%|          | 0.00/3.43k [00:00<?, ?B/s]\n",
            "100%|██████████| 3.43k/3.43k [00:00<?, ?B/s]\n"
          ]
        }
      ],
      "source": [
        "!gdown https://drive.google.com/uc?id=1vk1Pu0djiYcrdc85yUXZ_Rqq2oZNcohd"
      ]
    },
    {
      "cell_type": "code",
      "execution_count": 3,
      "metadata": {},
      "outputs": [],
      "source": [
        "data = np.loadtxt('./fit.txt', dtype=\"str\")"
      ]
    },
    {
      "cell_type": "code",
      "execution_count": 4,
      "metadata": {},
      "outputs": [
        {
          "data": {
            "text/plain": [
              "array([['06-10-2017', '5464', 'Neutral', '181', '5', 'Inactive'],\n",
              "       ['07-10-2017', '6041', 'Sad', '197', '8', 'Inactive'],\n",
              "       ['08-10-2017', '25', 'Sad', '0', '5', 'Inactive'],\n",
              "       ['09-10-2017', '5461', 'Sad', '174', '4', 'Inactive'],\n",
              "       ['10-10-2017', '6915', 'Neutral', '223', '5', 'Active'],\n",
              "       ['11-10-2017', '4545', 'Sad', '149', '6', 'Inactive'],\n",
              "       ['12-10-2017', '4340', 'Sad', '140', '6', 'Inactive'],\n",
              "       ['13-10-2017', '1230', 'Sad', '38', '7', 'Inactive'],\n",
              "       ['14-10-2017', '61', 'Sad', '1', '5', 'Inactive'],\n",
              "       ['15-10-2017', '1258', 'Sad', '40', '6', 'Inactive'],\n",
              "       ['16-10-2017', '3148', 'Sad', '101', '8', 'Inactive'],\n",
              "       ['17-10-2017', '4687', 'Sad', '152', '5', 'Inactive'],\n",
              "       ['18-10-2017', '4732', 'Happy', '150', '6', 'Active'],\n",
              "       ['19-10-2017', '3519', 'Sad', '113', '7', 'Inactive'],\n",
              "       ['20-10-2017', '1580', 'Sad', '49', '5', 'Inactive'],\n",
              "       ['21-10-2017', '2822', 'Sad', '86', '6', 'Inactive'],\n",
              "       ['22-10-2017', '181', 'Sad', '6', '8', 'Inactive'],\n",
              "       ['23-10-2017', '3158', 'Neutral', '99', '5', 'Inactive'],\n",
              "       ['24-10-2017', '4383', 'Neutral', '143', '4', 'Inactive'],\n",
              "       ['25-10-2017', '3881', 'Neutral', '125', '5', 'Inactive'],\n",
              "       ['26-10-2017', '4037', 'Neutral', '129', '6', 'Inactive'],\n",
              "       ['27-10-2017', '202', 'Neutral', '6', '8', 'Inactive'],\n",
              "       ['28-10-2017', '292', 'Neutral', '9', '5', 'Inactive'],\n",
              "       ['29-10-2017', '330', 'Happy', '10', '6', 'Inactive'],\n",
              "       ['30-10-2017', '2209', 'Neutral', '72', '5', 'Inactive'],\n",
              "       ['31-10-2017', '4550', 'Happy', '150', '8', 'Active'],\n",
              "       ['01-11-2017', '4435', 'Happy', '141', '5', 'Inactive'],\n",
              "       ['02-11-2017', '4779', 'Happy', '156', '4', 'Inactive'],\n",
              "       ['03-11-2017', '1831', 'Happy', '57', '5', 'Inactive'],\n",
              "       ['04-11-2017', '2255', 'Happy', '72', '4', 'Inactive'],\n",
              "       ['05-11-2017', '539', 'Happy', '17', '5', 'Active'],\n",
              "       ['06-11-2017', '5464', 'Happy', '181', '4', 'Inactive'],\n",
              "       ['07-11-2017', '6041', 'Neutral', '197', '3', 'Inactive'],\n",
              "       ['08-11-2017', '4068', 'Happy', '131', '2', 'Inactive'],\n",
              "       ['09-11-2017', '4683', 'Happy', '154', '9', 'Inactive'],\n",
              "       ['10-11-2017', '4033', 'Happy', '137', '5', 'Inactive'],\n",
              "       ['11-11-2017', '6314', 'Happy', '193', '6', 'Active'],\n",
              "       ['12-11-2017', '614', 'Happy', '19', '4', 'Active'],\n",
              "       ['13-11-2017', '3149', 'Happy', '101', '5', 'Active'],\n",
              "       ['14-11-2017', '4005', 'Happy', '139', '8', 'Active'],\n",
              "       ['15-11-2017', '4880', 'Happy', '164', '4', 'Active'],\n",
              "       ['16-11-2017', '4136', 'Happy', '137', '5', 'Active'],\n",
              "       ['17-11-2017', '705', 'Happy', '22', '6', 'Active'],\n",
              "       ['18-11-2017', '570', 'Neutral', '17', '5', 'Active'],\n",
              "       ['19-11-2017', '269', 'Happy', '9', '6', 'Active'],\n",
              "       ['20-11-2017', '4275', 'Happy', '145', '5', 'Inactive'],\n",
              "       ['21-11-2017', '5999', 'Happy', '192', '6', 'Inactive'],\n",
              "       ['22-11-2017', '4421', 'Happy', '146', '5', 'Inactive'],\n",
              "       ['23-11-2017', '6930', 'Happy', '234', '6', 'Inactive'],\n",
              "       ['24-11-2017', '5195', 'Happy', '167', '5', 'Inactive'],\n",
              "       ['25-11-2017', '546', 'Happy', '16', '6', 'Inactive'],\n",
              "       ['26-11-2017', '493', 'Happy', '17', '7', 'Active'],\n",
              "       ['27-11-2017', '995', 'Happy', '32', '6', 'Active'],\n",
              "       ['28-11-2017', '1163', 'Neutral', '35', '7', 'Active'],\n",
              "       ['29-11-2017', '6676', 'Sad', '220', '6', 'Active'],\n",
              "       ['30-11-2017', '3608', 'Happy', '116', '5', 'Active'],\n",
              "       ['01-12-2017', '774', 'Happy', '23', '6', 'Active'],\n",
              "       ['02-12-2017', '1421', 'Happy', '44', '7', 'Active'],\n",
              "       ['03-12-2017', '4064', 'Happy', '131', '8', 'Active'],\n",
              "       ['04-12-2017', '2725', 'Happy', '86', '8', 'Active'],\n",
              "       ['05-12-2017', '5934', 'Happy', '194', '7', 'Active'],\n",
              "       ['06-12-2017', '1867', 'Happy', '60', '8', 'Active'],\n",
              "       ['07-12-2017', '3721', 'Sad', '121', '5', 'Active'],\n",
              "       ['08-12-2017', '2374', 'Neutral', '76', '4', 'Inactive'],\n",
              "       ['09-12-2017', '2909', 'Neutral', '93', '3', 'Active'],\n",
              "       ['10-12-2017', '1648', 'Sad', '53', '3', 'Active'],\n",
              "       ['11-12-2017', '799', 'Sad', '25', '4', 'Inactive'],\n",
              "       ['12-12-2017', '7102', 'Neutral', '227', '5', 'Active'],\n",
              "       ['13-12-2017', '3941', 'Neutral', '125', '5', 'Active'],\n",
              "       ['14-12-2017', '7422', 'Happy', '243', '5', 'Active'],\n",
              "       ['15-12-2017', '437', 'Neutral', '14', '3', 'Active'],\n",
              "       ['16-12-2017', '1231', 'Neutral', '39', '4', 'Active'],\n",
              "       ['17-12-2017', '1696', 'Sad', '55', '4', 'Inactive'],\n",
              "       ['18-12-2017', '4921', 'Neutral', '158', '5', 'Active'],\n",
              "       ['19-12-2017', '221', 'Sad', '7', '5', 'Active'],\n",
              "       ['20-12-2017', '6500', 'Neutral', '213', '5', 'Active'],\n",
              "       ['21-12-2017', '3575', 'Neutral', '116', '5', 'Active'],\n",
              "       ['22-12-2017', '4061', 'Sad', '129', '5', 'Inactive'],\n",
              "       ['23-12-2017', '651', 'Sad', '21', '5', 'Inactive'],\n",
              "       ['24-12-2017', '753', 'Sad', '28', '4', 'Inactive'],\n",
              "       ['25-12-2017', '518', 'Sad', '16', '3', 'Inactive'],\n",
              "       ['26-12-2017', '5537', 'Happy', '180', '4', 'Active'],\n",
              "       ['27-12-2017', '4108', 'Neutral', '138', '5', 'Active'],\n",
              "       ['28-12-2017', '5376', 'Happy', '176', '5', 'Active'],\n",
              "       ['29-12-2017', '3066', 'Neutral', '99', '4', 'Active'],\n",
              "       ['30-12-2017', '177', 'Sad', '5', '5', 'Inactive'],\n",
              "       ['31-12-2017', '36', 'Sad', '1', '3', 'Inactive'],\n",
              "       ['01-01-2018', '299', 'Sad', '10', '3', 'Inactive'],\n",
              "       ['02-01-2018', '1447', 'Neutral', '47', '3', 'Inactive'],\n",
              "       ['03-01-2018', '2599', 'Neutral', '84', '2', 'Inactive'],\n",
              "       ['04-01-2018', '702', 'Sad', '23', '3', 'Inactive'],\n",
              "       ['05-01-2018', '133', 'Sad', '4', '2', 'Inactive'],\n",
              "       ['06-01-2018', '153', 'Happy', '0', '8', 'Inactive'],\n",
              "       ['07-01-2018', '500', 'Neutral', '0', '5', 'Active'],\n",
              "       ['08-01-2018', '2127', 'Neutral', '0', '5', 'Inactive'],\n",
              "       ['09-01-2018', '2203', 'Happy', '0', '5', 'Active']], dtype='<U10')"
            ]
          },
          "execution_count": 4,
          "metadata": {},
          "output_type": "execute_result"
        }
      ],
      "source": [
        "data"
      ]
    },
    {
      "cell_type": "code",
      "execution_count": 5,
      "metadata": {},
      "outputs": [
        {
          "data": {
            "text/plain": [
              "array([['06-10-2017', '5464', 'Neutral', '181', '5', 'Inactive'],\n",
              "       ['07-10-2017', '6041', 'Sad', '197', '8', 'Inactive'],\n",
              "       ['08-10-2017', '25', 'Sad', '0', '5', 'Inactive'],\n",
              "       ['09-10-2017', '5461', 'Sad', '174', '4', 'Inactive'],\n",
              "       ['10-10-2017', '6915', 'Neutral', '223', '5', 'Active']],\n",
              "      dtype='<U10')"
            ]
          },
          "execution_count": 5,
          "metadata": {},
          "output_type": "execute_result"
        }
      ],
      "source": [
        "data[:5]"
      ]
    },
    {
      "cell_type": "code",
      "execution_count": 6,
      "metadata": {},
      "outputs": [
        {
          "data": {
            "text/plain": [
              "(96, 6)"
            ]
          },
          "execution_count": 6,
          "metadata": {},
          "output_type": "execute_result"
        }
      ],
      "source": [
        "data.shape"
      ]
    },
    {
      "cell_type": "code",
      "execution_count": 7,
      "metadata": {},
      "outputs": [
        {
          "data": {
            "text/plain": [
              "array(['06-10-2017', '5464', 'Neutral', '181', '5', 'Inactive'],\n",
              "      dtype='<U10')"
            ]
          },
          "execution_count": 7,
          "metadata": {},
          "output_type": "execute_result"
        }
      ],
      "source": [
        "data[0]"
      ]
    },
    {
      "cell_type": "code",
      "execution_count": 14,
      "metadata": {},
      "outputs": [
        {
          "data": {
            "text/plain": [
              "array(['06-10-2017', '07-10-2017', '08-10-2017', '09-10-2017',\n",
              "       '10-10-2017', '11-10-2017', '12-10-2017', '13-10-2017',\n",
              "       '14-10-2017', '15-10-2017', '16-10-2017', '17-10-2017',\n",
              "       '18-10-2017', '19-10-2017', '20-10-2017', '21-10-2017',\n",
              "       '22-10-2017', '23-10-2017', '24-10-2017', '25-10-2017',\n",
              "       '26-10-2017', '27-10-2017', '28-10-2017', '29-10-2017',\n",
              "       '30-10-2017', '31-10-2017', '01-11-2017', '02-11-2017',\n",
              "       '03-11-2017', '04-11-2017', '05-11-2017', '06-11-2017',\n",
              "       '07-11-2017', '08-11-2017', '09-11-2017', '10-11-2017',\n",
              "       '11-11-2017', '12-11-2017', '13-11-2017', '14-11-2017',\n",
              "       '15-11-2017', '16-11-2017', '17-11-2017', '18-11-2017',\n",
              "       '19-11-2017', '20-11-2017', '21-11-2017', '22-11-2017',\n",
              "       '23-11-2017', '24-11-2017', '25-11-2017', '26-11-2017',\n",
              "       '27-11-2017', '28-11-2017', '29-11-2017', '30-11-2017',\n",
              "       '01-12-2017', '02-12-2017', '03-12-2017', '04-12-2017',\n",
              "       '05-12-2017', '06-12-2017', '07-12-2017', '08-12-2017',\n",
              "       '09-12-2017', '10-12-2017', '11-12-2017', '12-12-2017',\n",
              "       '13-12-2017', '14-12-2017', '15-12-2017', '16-12-2017',\n",
              "       '17-12-2017', '18-12-2017', '19-12-2017', '20-12-2017',\n",
              "       '21-12-2017', '22-12-2017', '23-12-2017', '24-12-2017',\n",
              "       '25-12-2017', '26-12-2017', '27-12-2017', '28-12-2017',\n",
              "       '29-12-2017', '30-12-2017', '31-12-2017', '01-01-2018',\n",
              "       '02-01-2018', '03-01-2018', '04-01-2018', '05-01-2018',\n",
              "       '06-01-2018', '07-01-2018', '08-01-2018', '09-01-2018'],\n",
              "      dtype='<U10')"
            ]
          },
          "execution_count": 14,
          "metadata": {},
          "output_type": "execute_result"
        }
      ],
      "source": [
        "data[:,0]"
      ]
    },
    {
      "cell_type": "code",
      "execution_count": 8,
      "metadata": {},
      "outputs": [
        {
          "data": {
            "text/plain": [
              "array(['06-10-2017', '07-10-2017', '08-10-2017', '09-10-2017',\n",
              "       '10-10-2017', '11-10-2017', '12-10-2017', '13-10-2017',\n",
              "       '14-10-2017', '15-10-2017', '16-10-2017', '17-10-2017',\n",
              "       '18-10-2017', '19-10-2017', '20-10-2017', '21-10-2017',\n",
              "       '22-10-2017', '23-10-2017', '24-10-2017', '25-10-2017',\n",
              "       '26-10-2017', '27-10-2017', '28-10-2017', '29-10-2017',\n",
              "       '30-10-2017', '31-10-2017', '01-11-2017', '02-11-2017',\n",
              "       '03-11-2017', '04-11-2017', '05-11-2017', '06-11-2017',\n",
              "       '07-11-2017', '08-11-2017', '09-11-2017', '10-11-2017',\n",
              "       '11-11-2017', '12-11-2017', '13-11-2017', '14-11-2017',\n",
              "       '15-11-2017', '16-11-2017', '17-11-2017', '18-11-2017',\n",
              "       '19-11-2017', '20-11-2017', '21-11-2017', '22-11-2017',\n",
              "       '23-11-2017', '24-11-2017', '25-11-2017', '26-11-2017',\n",
              "       '27-11-2017', '28-11-2017', '29-11-2017', '30-11-2017',\n",
              "       '01-12-2017', '02-12-2017', '03-12-2017', '04-12-2017',\n",
              "       '05-12-2017', '06-12-2017', '07-12-2017', '08-12-2017',\n",
              "       '09-12-2017', '10-12-2017', '11-12-2017', '12-12-2017',\n",
              "       '13-12-2017', '14-12-2017', '15-12-2017', '16-12-2017',\n",
              "       '17-12-2017', '18-12-2017', '19-12-2017', '20-12-2017',\n",
              "       '21-12-2017', '22-12-2017', '23-12-2017', '24-12-2017',\n",
              "       '25-12-2017', '26-12-2017', '27-12-2017', '28-12-2017',\n",
              "       '29-12-2017', '30-12-2017', '31-12-2017', '01-01-2018',\n",
              "       '02-01-2018', '03-01-2018', '04-01-2018', '05-01-2018',\n",
              "       '06-01-2018', '07-01-2018', '08-01-2018', '09-01-2018'],\n",
              "      dtype='<U10')"
            ]
          },
          "execution_count": 8,
          "metadata": {},
          "output_type": "execute_result"
        }
      ],
      "source": [
        "data.T[0]"
      ]
    },
    {
      "cell_type": "code",
      "execution_count": 6,
      "metadata": {},
      "outputs": [],
      "source": [
        "data_t = data.T"
      ]
    },
    {
      "cell_type": "code",
      "execution_count": 7,
      "metadata": {},
      "outputs": [
        {
          "data": {
            "text/plain": [
              "(6, 96)"
            ]
          },
          "execution_count": 7,
          "metadata": {},
          "output_type": "execute_result"
        }
      ],
      "source": [
        "data_t.shape"
      ]
    },
    {
      "cell_type": "code",
      "execution_count": 8,
      "metadata": {},
      "outputs": [],
      "source": [
        "data, stepcount, mood , calories_burned, hour_of_sleep, activity_status = data_t"
      ]
    },
    {
      "cell_type": "code",
      "execution_count": 9,
      "metadata": {},
      "outputs": [
        {
          "data": {
            "text/plain": [
              "array(['5464', '6041', '25', '5461', '6915', '4545', '4340', '1230', '61',\n",
              "       '1258', '3148', '4687', '4732', '3519', '1580', '2822', '181',\n",
              "       '3158', '4383', '3881', '4037', '202', '292', '330', '2209',\n",
              "       '4550', '4435', '4779', '1831', '2255', '539', '5464', '6041',\n",
              "       '4068', '4683', '4033', '6314', '614', '3149', '4005', '4880',\n",
              "       '4136', '705', '570', '269', '4275', '5999', '4421', '6930',\n",
              "       '5195', '546', '493', '995', '1163', '6676', '3608', '774', '1421',\n",
              "       '4064', '2725', '5934', '1867', '3721', '2374', '2909', '1648',\n",
              "       '799', '7102', '3941', '7422', '437', '1231', '1696', '4921',\n",
              "       '221', '6500', '3575', '4061', '651', '753', '518', '5537', '4108',\n",
              "       '5376', '3066', '177', '36', '299', '1447', '2599', '702', '133',\n",
              "       '153', '500', '2127', '2203'], dtype='<U10')"
            ]
          },
          "execution_count": 9,
          "metadata": {},
          "output_type": "execute_result"
        }
      ],
      "source": [
        "stepcount"
      ]
    },
    {
      "cell_type": "code",
      "execution_count": 16,
      "metadata": {},
      "outputs": [
        {
          "data": {
            "text/plain": [
              "(96,)"
            ]
          },
          "execution_count": 16,
          "metadata": {},
          "output_type": "execute_result"
        }
      ],
      "source": [
        "stepcount.shape"
      ]
    },
    {
      "cell_type": "markdown",
      "metadata": {},
      "source": [
        "## What is the relation between stepcount and mood ?"
      ]
    },
    {
      "cell_type": "code",
      "execution_count": 14,
      "metadata": {},
      "outputs": [
        {
          "data": {
            "text/plain": [
              "array(['Neutral', 'Sad', 'Sad', 'Sad', 'Neutral', 'Sad', 'Sad', 'Sad',\n",
              "       'Sad', 'Sad', 'Sad', 'Sad', 'Happy', 'Sad', 'Sad', 'Sad', 'Sad',\n",
              "       'Neutral', 'Neutral', 'Neutral', 'Neutral', 'Neutral', 'Neutral',\n",
              "       'Happy', 'Neutral', 'Happy', 'Happy', 'Happy', 'Happy', 'Happy',\n",
              "       'Happy', 'Happy', 'Neutral', 'Happy', 'Happy', 'Happy', 'Happy',\n",
              "       'Happy', 'Happy', 'Happy', 'Happy', 'Happy', 'Happy', 'Neutral',\n",
              "       'Happy', 'Happy', 'Happy', 'Happy', 'Happy', 'Happy', 'Happy',\n",
              "       'Happy', 'Happy', 'Neutral', 'Sad', 'Happy', 'Happy', 'Happy',\n",
              "       'Happy', 'Happy', 'Happy', 'Happy', 'Sad', 'Neutral', 'Neutral',\n",
              "       'Sad', 'Sad', 'Neutral', 'Neutral', 'Happy', 'Neutral', 'Neutral',\n",
              "       'Sad', 'Neutral', 'Sad', 'Neutral', 'Neutral', 'Sad', 'Sad', 'Sad',\n",
              "       'Sad', 'Happy', 'Neutral', 'Happy', 'Neutral', 'Sad', 'Sad', 'Sad',\n",
              "       'Neutral', 'Neutral', 'Sad', 'Sad', 'Happy', 'Neutral', 'Neutral',\n",
              "       'Happy'], dtype='<U10')"
            ]
          },
          "execution_count": 14,
          "metadata": {},
          "output_type": "execute_result"
        }
      ],
      "source": [
        "mood"
      ]
    },
    {
      "cell_type": "code",
      "execution_count": 15,
      "metadata": {},
      "outputs": [
        {
          "data": {
            "text/plain": [
              "array([False, False, False, False, False, False, False, False, False,\n",
              "       False, False, False,  True, False, False, False, False, False,\n",
              "       False, False, False, False, False,  True, False,  True,  True,\n",
              "        True,  True,  True,  True,  True, False,  True,  True,  True,\n",
              "        True,  True,  True,  True,  True,  True,  True, False,  True,\n",
              "        True,  True,  True,  True,  True,  True,  True,  True, False,\n",
              "       False,  True,  True,  True,  True,  True,  True,  True, False,\n",
              "       False, False, False, False, False, False,  True, False, False,\n",
              "       False, False, False, False, False, False, False, False, False,\n",
              "        True, False,  True, False, False, False, False, False, False,\n",
              "       False, False,  True, False, False,  True])"
            ]
          },
          "execution_count": 15,
          "metadata": {},
          "output_type": "execute_result"
        }
      ],
      "source": [
        "mood == \"Happy\""
      ]
    },
    {
      "cell_type": "code",
      "execution_count": 17,
      "metadata": {},
      "outputs": [
        {
          "data": {
            "text/plain": [
              "array(['4732', '330', '4550', '4435', '4779', '1831', '2255', '539',\n",
              "       '5464', '4068', '4683', '4033', '6314', '614', '3149', '4005',\n",
              "       '4880', '4136', '705', '269', '4275', '5999', '4421', '6930',\n",
              "       '5195', '546', '493', '995', '3608', '774', '1421', '4064', '2725',\n",
              "       '5934', '1867', '7422', '5537', '5376', '153', '2203'],\n",
              "      dtype='<U10')"
            ]
          },
          "execution_count": 17,
          "metadata": {},
          "output_type": "execute_result"
        }
      ],
      "source": [
        "stepcount[mood == \"Happy\"]"
      ]
    },
    {
      "cell_type": "code",
      "execution_count": 11,
      "metadata": {},
      "outputs": [],
      "source": [
        "# To use mean on step count I have to convert it to int\n",
        "# stepcount = np.array(stepcount, dtype=int)\n",
        "stepcount = stepcount.astype(int)"
      ]
    },
    {
      "cell_type": "code",
      "execution_count": 19,
      "metadata": {},
      "outputs": [
        {
          "data": {
            "text/plain": [
              "3392.725"
            ]
          },
          "execution_count": 19,
          "metadata": {},
          "output_type": "execute_result"
        }
      ],
      "source": [
        "np.mean(stepcount[mood == \"Happy\"])"
      ]
    },
    {
      "cell_type": "markdown",
      "metadata": {},
      "source": [
        "#### For Neutral mood"
      ]
    },
    {
      "cell_type": "code",
      "execution_count": 20,
      "metadata": {},
      "outputs": [
        {
          "data": {
            "text/plain": [
              "3153.777777777778"
            ]
          },
          "execution_count": 20,
          "metadata": {},
          "output_type": "execute_result"
        }
      ],
      "source": [
        "np.mean(stepcount[mood == \"Neutral\"])"
      ]
    },
    {
      "cell_type": "markdown",
      "metadata": {},
      "source": [
        "#### For Sad mood"
      ]
    },
    {
      "cell_type": "code",
      "execution_count": 21,
      "metadata": {},
      "outputs": [
        {
          "data": {
            "text/plain": [
              "2103.0689655172414"
            ]
          },
          "execution_count": 21,
          "metadata": {},
          "output_type": "execute_result"
        }
      ],
      "source": [
        "np.mean(stepcount[mood == \"Sad\"])"
      ]
    },
    {
      "cell_type": "markdown",
      "metadata": {},
      "source": [
        "## For hours of sleep"
      ]
    },
    {
      "cell_type": "code",
      "execution_count": 22,
      "metadata": {},
      "outputs": [
        {
          "data": {
            "text/plain": [
              "array(['5', '8', '5', '4', '5', '6', '6', '7', '5', '6', '8', '5', '6',\n",
              "       '7', '5', '6', '8', '5', '4', '5', '6', '8', '5', '6', '5', '8',\n",
              "       '5', '4', '5', '4', '5', '4', '3', '2', '9', '5', '6', '4', '5',\n",
              "       '8', '4', '5', '6', '5', '6', '5', '6', '5', '6', '5', '6', '7',\n",
              "       '6', '7', '6', '5', '6', '7', '8', '8', '7', '8', '5', '4', '3',\n",
              "       '3', '4', '5', '5', '5', '3', '4', '4', '5', '5', '5', '5', '5',\n",
              "       '5', '4', '3', '4', '5', '5', '4', '5', '3', '3', '3', '2', '3',\n",
              "       '2', '8', '5', '5', '5'], dtype='<U10')"
            ]
          },
          "execution_count": 22,
          "metadata": {},
          "output_type": "execute_result"
        }
      ],
      "source": [
        "hour_of_sleep"
      ]
    },
    {
      "cell_type": "code",
      "execution_count": 23,
      "metadata": {},
      "outputs": [],
      "source": [
        "#convert to int\n",
        "hour_of_sleep = np.array(hour_of_sleep, dtype=int)"
      ]
    },
    {
      "cell_type": "code",
      "execution_count": 24,
      "metadata": {},
      "outputs": [
        {
          "data": {
            "text/plain": [
              "2669.3529411764707"
            ]
          },
          "execution_count": 24,
          "metadata": {},
          "output_type": "execute_result"
        }
      ],
      "source": [
        "np.mean(stepcount[hour_of_sleep >= 7])"
      ]
    },
    {
      "cell_type": "markdown",
      "metadata": {},
      "source": [
        "# CaseStudy Crux  \n",
        "- Can Generate mask from one Array and Aplly on another array\n"
      ]
    },
    {
      "cell_type": "markdown",
      "metadata": {},
      "source": [
        "## Q2. If stepCount>300 what percentage is my mood haapy?"
      ]
    },
    {
      "cell_type": "code",
      "execution_count": 12,
      "metadata": {},
      "outputs": [
        {
          "data": {
            "text/plain": [
              "array([ True,  True, False,  True,  True,  True,  True, False, False,\n",
              "       False,  True,  True,  True,  True, False, False, False,  True,\n",
              "        True,  True,  True, False, False, False, False,  True,  True,\n",
              "        True, False, False, False,  True,  True,  True,  True,  True,\n",
              "        True, False,  True,  True,  True,  True, False, False, False,\n",
              "        True,  True,  True,  True,  True, False, False, False, False,\n",
              "        True,  True, False, False,  True, False,  True, False,  True,\n",
              "       False, False, False, False,  True,  True,  True, False, False,\n",
              "       False,  True, False,  True,  True,  True, False, False, False,\n",
              "        True,  True,  True,  True, False, False, False, False, False,\n",
              "       False, False, False, False, False, False])"
            ]
          },
          "execution_count": 12,
          "metadata": {},
          "output_type": "execute_result"
        }
      ],
      "source": [
        "stepcount>3000"
      ]
    },
    {
      "cell_type": "code",
      "execution_count": 19,
      "metadata": {},
      "outputs": [
        {
          "data": {
            "text/plain": [
              "array(['Neutral', 'Sad', 'Sad', 'Neutral', 'Sad', 'Sad', 'Sad', 'Sad',\n",
              "       'Happy', 'Sad', 'Neutral', 'Neutral', 'Neutral', 'Neutral',\n",
              "       'Happy', 'Happy', 'Happy', 'Happy', 'Neutral', 'Happy', 'Happy',\n",
              "       'Happy', 'Happy', 'Happy', 'Happy', 'Happy', 'Happy', 'Happy',\n",
              "       'Happy', 'Happy', 'Happy', 'Happy', 'Sad', 'Happy', 'Happy',\n",
              "       'Happy', 'Sad', 'Neutral', 'Neutral', 'Happy', 'Neutral',\n",
              "       'Neutral', 'Neutral', 'Sad', 'Happy', 'Neutral', 'Happy',\n",
              "       'Neutral'], dtype='<U10')"
            ]
          },
          "execution_count": 19,
          "metadata": {},
          "output_type": "execute_result"
        }
      ],
      "source": [
        "mood_stepCount = mood[stepcount>3000]\n",
        "mood_stepCount"
      ]
    },
    {
      "cell_type": "code",
      "execution_count": 21,
      "metadata": {},
      "outputs": [
        {
          "data": {
            "text/plain": [
              "24"
            ]
          },
          "execution_count": 21,
          "metadata": {},
          "output_type": "execute_result"
        }
      ],
      "source": [
        "mood_StepcountHappy = mood_stepCount[mood_stepCount == \"Happy\"]\n",
        "len(mood_StepcountHappy)"
      ]
    },
    {
      "cell_type": "code",
      "execution_count": 22,
      "metadata": {},
      "outputs": [],
      "source": [
        "percentageOfPeopleHappy_after3000Steps = len(mood_StepcountHappy)/len(mood)"
      ]
    },
    {
      "cell_type": "code",
      "execution_count": 24,
      "metadata": {},
      "outputs": [
        {
          "data": {
            "text/plain": [
              "25.0"
            ]
          },
          "execution_count": 24,
          "metadata": {},
          "output_type": "execute_result"
        }
      ],
      "source": [
        "percentageOfPeopleHappy_after3000Steps*100"
      ]
    },
    {
      "cell_type": "code",
      "execution_count": null,
      "metadata": {},
      "outputs": [],
      "source": []
    }
  ],
  "metadata": {
    "kernelspec": {
      "display_name": "Python 3",
      "language": "python",
      "name": "python3"
    },
    "language_info": {
      "codemirror_mode": {
        "name": "ipython",
        "version": 3
      },
      "file_extension": ".py",
      "mimetype": "text/x-python",
      "name": "python",
      "nbconvert_exporter": "python",
      "pygments_lexer": "ipython3",
      "version": "3.11.4"
    }
  },
  "nbformat": 4,
  "nbformat_minor": 4
}
