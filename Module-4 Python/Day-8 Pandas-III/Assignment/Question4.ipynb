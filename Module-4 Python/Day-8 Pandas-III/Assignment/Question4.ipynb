{
 "cells": [
  {
   "cell_type": "code",
   "execution_count": null,
   "metadata": {},
   "outputs": [],
   "source": [
    "change = lambda x: 'senior' if x > 50 else 'adult' if x >= 18 else 'kid'\n",
    "\n",
    "    a['age']=a['age'].apply(change)\n",
    "\n",
    "    return pd.DataFrame(a, columns=['name','age'])"
   ]
  }
 ],
 "metadata": {
  "language_info": {
   "name": "python"
  }
 },
 "nbformat": 4,
 "nbformat_minor": 2
}
