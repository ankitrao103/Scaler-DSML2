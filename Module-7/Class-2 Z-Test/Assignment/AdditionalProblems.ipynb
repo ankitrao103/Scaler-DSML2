{
 "cells": [
  {
   "cell_type": "code",
   "execution_count": 1,
   "metadata": {},
   "outputs": [],
   "source": [
    "from scipy.stats import norm\n",
    "import numpy as np"
   ]
  },
  {
   "cell_type": "markdown",
   "metadata": {},
   "source": [
    "# Q1. Quality control analysis\n",
    "For a quality control analysis, a factory assesses the tensile strength of a sample of steel rods.\n",
    "\n",
    "The sample exhibits a mean tensile strength of 750 MPa with a sample standard deviation of 50 MPa, while the known population mean is 800 MPa.\n",
    "\n",
    "Calculate Cohen's d for this quality control study."
   ]
  },
  {
   "cell_type": "code",
   "execution_count": 3,
   "metadata": {},
   "outputs": [
    {
     "data": {
      "text/plain": [
       "-1.0"
      ]
     },
     "execution_count": 3,
     "metadata": {},
     "output_type": "execute_result"
    }
   ],
   "source": [
    "population_mean = 800\n",
    "sample_std_dev = 50\n",
    "sample_mean = 750\n",
    "# Cohen's d is known as Z-score\n",
    "z = (sample_mean - population_mean) / (sample_std_dev)\n",
    "z"
   ]
  },
  {
   "cell_type": "markdown",
   "metadata": {},
   "source": [
    "# Q2. Water Regulation\n",
    "The student hostel office at IIT Madras estimates that each student uses more than 3.5 buckets of water per day.\n",
    "\n",
    "In order to verify this claim, the college trustees decide to monitor the water consuption over the next 45 days, and it is found that on an average, 3.72 buckets of water is consumed by a student, per day.\n",
    "\n",
    "Assume that the population standard deviation is 0.7 buckets. What is the critical sample mean, assuming a critical z-value of 1.28?\n",
    "\n",
    "Note: The critical sample mean is defined as the mean value for which the z-score is equal to the critical value. Also, round off the final answer to three decimal places."
   ]
  },
  {
   "cell_type": "code",
   "execution_count": 8,
   "metadata": {},
   "outputs": [
    {
     "data": {
      "text/plain": [
       "3.6335677938559874"
      ]
     },
     "execution_count": 8,
     "metadata": {},
     "output_type": "execute_result"
    }
   ],
   "source": [
    "population_mean = 3.5\n",
    "population_std_dev = 0.7\n",
    "sample_size = 45\n",
    "sample_mean = 3.72\n",
    "\n",
    "z = 1.28\n",
    "sample_std_dev = population_std_dev / np.sqrt(sample_size)\n",
    "critical_sample_mean = z*sample_std_dev + population_mean\n",
    "critical_sample_mean"
   ]
  },
  {
   "cell_type": "markdown",
   "metadata": {},
   "source": [
    "# Q3. Testing efficacy of improving GRE score\n",
    "The verbal reasoning in the GRE has an average score of 150 and a standard deviation of 8.5.\n",
    "\n",
    "A coaching centre claims that their students are better. An average of 10 people showed that students from this coaching centre have an average score of 155.\n",
    "\n",
    "At a 5% significance level (or 95% confidence level), can we conclude that students from the coaching centre are better? Use the Z-test, and compute the p-value."
   ]
  },
  {
   "cell_type": "code",
   "execution_count": 10,
   "metadata": {},
   "outputs": [
    {
     "name": "stdout",
     "output_type": "stream",
     "text": [
      "Z-Value:  1.8601633295108115\n",
      "P-Value:  0.031431210741779014\n",
      "Reject Null Hypothesis\n"
     ]
    }
   ],
   "source": [
    "population_mean = 150\n",
    "population_std_dev = 8.5\n",
    "sampel_size = 10\n",
    "sample_mean = 155\n",
    "\n",
    "z = (sample_mean - population_mean) / (population_std_dev / np.sqrt(sampel_size)) \n",
    "print(\"Z-Value: \",z)\n",
    "\n",
    "p_value = 1 - norm.cdf(z)\n",
    "print(\"P-Value: \",p_value)\n",
    "\n",
    "# Alpha\n",
    "alpha = 0.05 # 5% Significance Level\n",
    "\n",
    "if p_value < alpha:\n",
    "    print(\"Reject Null Hypothesis\")\n",
    "else:\n",
    "    print(\"Fail to Reject Null Hypothesis\")"
   ]
  },
  {
   "cell_type": "markdown",
   "metadata": {},
   "source": [
    "# Q4. What is the delivery time?\n",
    "A company claims that the average time it takes to deliver a product to customers is 3 days.\n",
    "\n",
    "The company's delivery process is under scrutiny, and a sample of 25 delivery times is collected. The sample mean delivery time is 3.5 days, and the population standard deviation is known to be 0.8 days.\n",
    "\n",
    "\n",
    "At a 5% significance level, can we conclude that the average delivery time is greater than 3 days?\n",
    "\n",
    "Conduct a one-sample Z-test to determine the same. Also, evaluate the z-score for observed average time."
   ]
  },
  {
   "cell_type": "code",
   "execution_count": 11,
   "metadata": {},
   "outputs": [
    {
     "name": "stdout",
     "output_type": "stream",
     "text": [
      "Z-Value:  3.125\n",
      "P-Value:  0.0008890252991083925\n",
      "Reject Null Hypothesis\n"
     ]
    }
   ],
   "source": [
    "population_mean = 3\n",
    "population_std_dev = 0.8\n",
    "sample_size = 25\n",
    "sample_mean = 3.5\n",
    "\n",
    "z = (sample_mean - population_mean) / (population_std_dev / np.sqrt(sample_size))\n",
    "print(\"Z-Value: \",z)\n",
    "\n",
    "p_value = 1 - norm.cdf(z)\n",
    "print(\"P-Value: \",p_value)\n",
    "\n",
    "# Alpha\n",
    "alpha = 0.05 # 5% Significance Level\n",
    "if p_value < alpha:\n",
    "    print(\"Reject Null Hypothesis\")\n",
    "else:\n",
    "    print(\"Fail to Reject Null Hypothesis\")"
   ]
  }
 ],
 "metadata": {
  "kernelspec": {
   "display_name": "Python 3",
   "language": "python",
   "name": "python3"
  },
  "language_info": {
   "codemirror_mode": {
    "name": "ipython",
    "version": 3
   },
   "file_extension": ".py",
   "mimetype": "text/x-python",
   "name": "python",
   "nbconvert_exporter": "python",
   "pygments_lexer": "ipython3",
   "version": "3.11.4"
  }
 },
 "nbformat": 4,
 "nbformat_minor": 2
}
