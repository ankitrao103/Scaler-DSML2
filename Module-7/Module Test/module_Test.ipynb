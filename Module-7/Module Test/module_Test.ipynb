{
 "cells": [
  {
   "cell_type": "code",
   "execution_count": 1,
   "metadata": {},
   "outputs": [],
   "source": [
    "import numpy as np\n",
    "import matplotlib.pyplot as plt\n",
    "import pandas as pd\n",
    "import seaborn as sns\n",
    "from scipy.stats import ttest_rel, f_oneway, norm"
   ]
  },
  {
   "cell_type": "markdown",
   "metadata": {},
   "source": [
    "# Q1. IQ test\n",
    "\n",
    "Sun Pharmaceutical Industries claims that a person's IQ improves after they use the Donepezil drug.\n",
    "\n",
    "To test this claim a trial was conducted considering 20 patients. An IQ test was conducted for these patients before giving the drug and an IQ test was conducted for the same set of patients after the drug the recorded results are shown below.\n",
    "```python\n",
    "IQ_before=[101,124,89,57,135,98,69,105,114,106,97,121,93,116,102,71,88,108,144,99]\n",
    "\n",
    "IQ_after=[113,127,89,70,127,104,69,127,115,99,104,120,95,129,106,71,94,112,154,96]\n",
    "```\n",
    "Perform an appropriate test to test the claim at 90% confidence."
   ]
  },
  {
   "cell_type": "code",
   "execution_count": 2,
   "metadata": {},
   "outputs": [
    {
     "name": "stdout",
     "output_type": "stream",
     "text": [
      "statistic: -2.5849213105659876\n",
      "pvalue: 0.009079862169696327\n",
      "reject null hypothesis\n"
     ]
    }
   ],
   "source": [
    "iq_before=[101,124,89,57,135,98,69,105,114,106,97,121,93,116,102,71,88,108,144,99]\n",
    "\n",
    "iq_after=[113,127,89,70,127,104,69,127,115,99,104,120,95,129,106,71,94,112,154,96]\n",
    "statistic, pvalue = ttest_rel(iq_before,iq_after, alternative='less')  \n",
    "print('statistic:',statistic)\n",
    "print('pvalue:',pvalue)\n",
    "if pvalue < 0.1:\n",
    "    print('reject null hypothesis')\n",
    "else:\n",
    "    print('accept null hypothesis')"
   ]
  },
  {
   "cell_type": "markdown",
   "metadata": {},
   "source": [
    "# Q2. Advertising Campaigns\n",
    "\n",
    "In a randomized controlled trial, you are comparing the effectiveness of two different advertising campaigns (A and B) in increasing sales. You collect data on sales from two groups: one exposed to campaign A and the other to campaign B. Which of the following statistical tests is most appropriate for comparing the mean sales between the two groups?\n",
    "\n",
    "\n",
    "- Chi-squared test\n",
    "- Pearson correlation\n",
    "- Paired samples t-test\n",
    "- Independent samples t-test"
   ]
  },
  {
   "cell_type": "markdown",
   "metadata": {},
   "source": [
    "### ✅ **Independent samples t-test**"
   ]
  },
  {
   "cell_type": "markdown",
   "metadata": {},
   "source": [
    "# Q3. New Flagship Product\n",
    "A software company is planning to release a new version of its flagship product. The intent is that the new version will be better as compared to the previous version. Formulate the null and alternative hypotheses for this scenario."
   ]
  },
  {
   "cell_type": "markdown",
   "metadata": {},
   "source": [
    "Based on the options provided, the most suitable pair of null and alternative hypotheses for the scenario would be:\n",
    "\n",
    "Null Hypothesis (H0): The new version will have the same number of reported bugs as the previous version. \n",
    "\n",
    "Alternative Hypothesis (H1): The new version will reduce the number of reported bugs."
   ]
  },
  {
   "cell_type": "markdown",
   "metadata": {},
   "source": [
    "# Q4. Four Machines\n",
    "Suppose there a four machines m1, m2, m3, and m4 in a factory that is used to produce a certain kind of cotton fabric.\n",
    "\n",
    "Samples of size 4 with each unit having 100sq. meters are selected from the output of the machine randomly, and the number of flaws in every 100 sq. meters is counted and listed below.\n",
    "```python\n",
    "m1 = [8, 9, 11, 12]\n",
    "m2 = [6, 8, 10, 4]\n",
    "m3 = [14, 12, 18, 9]\n",
    "m4 = [20, 22, 25, 23]\n",
    "```\n",
    "Do you think there is a significant difference in the performance of the four machines?\n",
    "\n",
    "Check whether there is a significant difference (consider a 5% significance level)"
   ]
  },
  {
   "cell_type": "code",
   "execution_count": 12,
   "metadata": {},
   "outputs": [
    {
     "name": "stdout",
     "output_type": "stream",
     "text": [
      "stats: 25.221574344023324\n",
      "p_value: 1.8124793267561276e-05\n",
      "There is a significant difference in the performance of the four machines.\n"
     ]
    }
   ],
   "source": [
    "m1 = [8, 9, 11, 12]\n",
    "m2 = [6, 8, 10, 4]\n",
    "m3 = [14, 12, 18, 9]\n",
    "m4 = [20, 22, 25, 23]\n",
    "stats, p_value = f_oneway(m1, m2, m3, m4)\n",
    "print('stats:',stats)\n",
    "print('p_value:',p_value)\n",
    "# Checking the p-value\n",
    "if p_value < 0.05:\n",
    "    print(\"There is a significant difference in the performance of the four machines.\")\n",
    "else:\n",
    "    print(\"There is no significant difference in the performance of the four machines.\")"
   ]
  },
  {
   "cell_type": "markdown",
   "metadata": {},
   "source": [
    "# Q5. Highway mileage\n",
    "\n",
    "A popular car manufacturing brand claims that their car model Rex500 has an average highway mileage of 21.50 Km/L, you want to test whether this claim is statistically significant or not.\n",
    "\n",
    "You managed to get data from 45 cars of this model and found that the average highway mileage is 20.42 Km/L, with a standard deviation of 2.7 Km/L\n",
    "\n",
    "With 99% confidence, will you be able to conclude that the average highway mileage is statistically lower than the claimed fuel economy?\n",
    "\n",
    "Use the appropriate test and select the correct option below:"
   ]
  },
  {
   "cell_type": "code",
   "execution_count": 36,
   "metadata": {},
   "outputs": [
    {
     "name": "stdout",
     "output_type": "stream",
     "text": [
      "z_score: -2.6832815729997432\n",
      "p_value: 0.003645179045767866\n",
      "Reject null hypothesis: The avg is different\n"
     ]
    }
   ],
   "source": [
    "mean = 21.50\n",
    "sample = 45\n",
    "sample_mean = 20.42\n",
    "sample_std = 2.7\n",
    "\n",
    "z_score = (sample_mean - mean) / (sample_std / np.sqrt(sample))\n",
    "print('z_score:',z_score)\n",
    "\n",
    "p_value = norm.cdf(z_score)\n",
    "print('p_value:',p_value)\n",
    "\n",
    "if p_value < 0.01:\n",
    "    print(\"Reject null hypothesis: The avg is different\")\n",
    "else:\n",
    "    print(\"Fail to Reject null hypothesis: The avg is same\")"
   ]
  },
  {
   "cell_type": "markdown",
   "metadata": {},
   "source": [
    "# Q6. p-value\n",
    "\n",
    "Setting the p-level at 0.01 increases the chances of making\n",
    "\n",
    "\n",
    "- All of the above\n",
    "- Type I error\n",
    "- Type II error\n",
    "- Type III error"
   ]
  },
  {
   "cell_type": "markdown",
   "metadata": {},
   "source": [
    "# Q7. New Feature Quarter\n",
    "​​You have a dataset with a 'date' column in the format 'YYYY-MM-DD'. You want to create a new feature 'quarter' which indicates the quarter of the year (Q1, Q2, Q3, or Q4) corresponding to each date. Which of the following code snippets achieves this task correctly?\n",
    "- df['quarter'] = pd.to_datetime(df['date']).dt.month // 3 + 2\n",
    "- df['quarter'] = pd.to_datetime(df['date']).dt.quarter\n",
    "- df['quarter'] = pd.to_datetime(df['date']).apply(lambda x: 'Q'+str((x.month-1)//3+1).zfill(2))\n",
    "- df['quarter'] = pd.to_datetime(df['date']).apply(lambda x: 'Q'+str((x.month-1)//3+2))"
   ]
  },
  {
   "cell_type": "code",
   "execution_count": 19,
   "metadata": {},
   "outputs": [
    {
     "data": {
      "text/html": [
       "<div>\n",
       "<style scoped>\n",
       "    .dataframe tbody tr th:only-of-type {\n",
       "        vertical-align: middle;\n",
       "    }\n",
       "\n",
       "    .dataframe tbody tr th {\n",
       "        vertical-align: top;\n",
       "    }\n",
       "\n",
       "    .dataframe thead th {\n",
       "        text-align: right;\n",
       "    }\n",
       "</style>\n",
       "<table border=\"1\" class=\"dataframe\">\n",
       "  <thead>\n",
       "    <tr style=\"text-align: right;\">\n",
       "      <th></th>\n",
       "      <th>date</th>\n",
       "    </tr>\n",
       "  </thead>\n",
       "  <tbody>\n",
       "    <tr>\n",
       "      <th>0</th>\n",
       "      <td>2022-01-01</td>\n",
       "    </tr>\n",
       "    <tr>\n",
       "      <th>1</th>\n",
       "      <td>2022-04-01</td>\n",
       "    </tr>\n",
       "    <tr>\n",
       "      <th>2</th>\n",
       "      <td>2022-07-01</td>\n",
       "    </tr>\n",
       "    <tr>\n",
       "      <th>3</th>\n",
       "      <td>2022-10-01</td>\n",
       "    </tr>\n",
       "  </tbody>\n",
       "</table>\n",
       "</div>"
      ],
      "text/plain": [
       "         date\n",
       "0  2022-01-01\n",
       "1  2022-04-01\n",
       "2  2022-07-01\n",
       "3  2022-10-01"
      ]
     },
     "execution_count": 19,
     "metadata": {},
     "output_type": "execute_result"
    }
   ],
   "source": [
    "df = pd.DataFrame({'date': ['2022-01-01', '2022-04-01', '2022-07-01', '2022-10-01']})\n",
    "df"
   ]
  },
  {
   "cell_type": "code",
   "execution_count": 31,
   "metadata": {},
   "outputs": [
    {
     "data": {
      "text/html": [
       "<div>\n",
       "<style scoped>\n",
       "    .dataframe tbody tr th:only-of-type {\n",
       "        vertical-align: middle;\n",
       "    }\n",
       "\n",
       "    .dataframe tbody tr th {\n",
       "        vertical-align: top;\n",
       "    }\n",
       "\n",
       "    .dataframe thead th {\n",
       "        text-align: right;\n",
       "    }\n",
       "</style>\n",
       "<table border=\"1\" class=\"dataframe\">\n",
       "  <thead>\n",
       "    <tr style=\"text-align: right;\">\n",
       "      <th></th>\n",
       "      <th>date</th>\n",
       "      <th>quarter</th>\n",
       "    </tr>\n",
       "  </thead>\n",
       "  <tbody>\n",
       "    <tr>\n",
       "      <th>0</th>\n",
       "      <td>2022-01-01</td>\n",
       "      <td>Q01</td>\n",
       "    </tr>\n",
       "    <tr>\n",
       "      <th>1</th>\n",
       "      <td>2022-04-01</td>\n",
       "      <td>Q02</td>\n",
       "    </tr>\n",
       "    <tr>\n",
       "      <th>2</th>\n",
       "      <td>2022-07-01</td>\n",
       "      <td>Q03</td>\n",
       "    </tr>\n",
       "    <tr>\n",
       "      <th>3</th>\n",
       "      <td>2022-10-01</td>\n",
       "      <td>Q04</td>\n",
       "    </tr>\n",
       "  </tbody>\n",
       "</table>\n",
       "</div>"
      ],
      "text/plain": [
       "         date quarter\n",
       "0  2022-01-01     Q01\n",
       "1  2022-04-01     Q02\n",
       "2  2022-07-01     Q03\n",
       "3  2022-10-01     Q04"
      ]
     },
     "execution_count": 31,
     "metadata": {},
     "output_type": "execute_result"
    }
   ],
   "source": [
    "# df['quarter'] = pd.to_datetime(df['date']).dt.month // 3 + 2 -> ❌\n",
    "df['quarter'] = pd.to_datetime(df['date']).apply(lambda x: 'Q'+str((x.month-1)//3+1).zfill(2))\n",
    "df"
   ]
  },
  {
   "cell_type": "markdown",
   "metadata": {},
   "source": [
    "# Q8. Error Rate\n",
    "In hypothesis testing, what is the type I error rate if we set the significance level (α) at 0.01?\n",
    "\n",
    "\n",
    "- 0.05\n",
    "- 0.01\n",
    "- 0.001\n",
    "- 0.10"
   ]
  },
  {
   "cell_type": "markdown",
   "metadata": {},
   "source": [
    "# Q9. Marathon Race time\n",
    "In a sample of marathon race times, the mean time is 4 hours, and the standard deviation is 30 minutes. If you set the Z-score threshold to 2, which race times would be considered outliers?"
   ]
  },
  {
   "cell_type": "code",
   "execution_count": 16,
   "metadata": {},
   "outputs": [
    {
     "data": {
      "text/plain": [
       "5.0"
      ]
     },
     "execution_count": 16,
     "metadata": {},
     "output_type": "execute_result"
    }
   ],
   "source": [
    "mean = 4\n",
    "std_dev = 0.5\n",
    "z_score = 2\n",
    "x = z_score*std_dev + mean\n",
    "x "
   ]
  },
  {
   "cell_type": "code",
   "execution_count": 18,
   "metadata": {},
   "outputs": [
    {
     "data": {
      "text/plain": [
       "3.0"
      ]
     },
     "execution_count": 18,
     "metadata": {},
     "output_type": "execute_result"
    }
   ],
   "source": [
    "x = mean - z_score*std_dev\n",
    "x"
   ]
  },
  {
   "cell_type": "code",
   "execution_count": null,
   "metadata": {},
   "outputs": [],
   "source": []
  }
 ],
 "metadata": {
  "kernelspec": {
   "display_name": "Python 3",
   "language": "python",
   "name": "python3"
  },
  "language_info": {
   "codemirror_mode": {
    "name": "ipython",
    "version": 3
   },
   "file_extension": ".py",
   "mimetype": "text/x-python",
   "name": "python",
   "nbconvert_exporter": "python",
   "pygments_lexer": "ipython3",
   "version": "3.11.4"
  }
 },
 "nbformat": 4,
 "nbformat_minor": 2
}
