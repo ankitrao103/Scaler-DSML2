{
 "cells": [
  {
   "cell_type": "code",
   "execution_count": 1,
   "metadata": {},
   "outputs": [],
   "source": [
    "import numpy as np\n",
    "import pandas as pd\n",
    "import matplotlib.pyplot as plt\n",
    "import seaborn as sns"
   ]
  },
  {
   "cell_type": "code",
   "execution_count": 2,
   "metadata": {},
   "outputs": [],
   "source": [
    "from scipy.stats import ttest_ind, ttest_rel, ttest_1samp"
   ]
  },
  {
   "cell_type": "markdown",
   "metadata": {},
   "source": [
    "# Q1. Green Gram Yield\n",
    "Traditionally it is known that a green gram cultivation yields 12.0 quintals per hectare on an average.\n",
    "\n",
    "In order to increase crop yields, scientists have developed a new variety of green grams, that can supposedly produce more than the expected average yield of 12 quintals per hectare.\n",
    "\n",
    "To test the same, this variety of green grams was tested on 10 randomly selected farmer's fields.\n",
    "\n",
    "The yield (quintals/hectare) was recorded as: [14.3,12.6,13.7,10.9,13.7,12.0,11.4,12.0,12.6,13.1]\n",
    "\n",
    "With a 5% significance level, can we conclude that the average yield of this variety of green grams is more than the expected yield (12 quintals/hectare)?\n",
    "\n",
    "Perform an appropriate test and choose the correct option below :"
   ]
  },
  {
   "cell_type": "code",
   "execution_count": 13,
   "metadata": {},
   "outputs": [
    {
     "name": "stdout",
     "output_type": "stream",
     "text": [
      "0.04979938002326665\n",
      "Reject H0 ; Yield will be more than 12 quintals per hectare\n"
     ]
    }
   ],
   "source": [
    "population_mean = 12\n",
    "sample_size = 10\n",
    "sample_list = [14.3,12.6,13.7,10.9,13.7,12.0,11.4,12.0,12.6,13.1]\n",
    "\n",
    "\n",
    "# One sample t-test\n",
    "t_stat, pvalue = ttest_1samp(sample_list, 12.0, alternative='greater')\n",
    "print(pvalue)\n",
    "\n",
    "alpha = 0.05 # 5% significance level\n",
    "if pvalue < alpha:\n",
    "  print('Reject H0 ; Yield will be more than 12 quintals per hectare')\n",
    "else:\n",
    "  print('Fail to reject H0 ; Yield will be 12 quintals per hectare')"
   ]
  },
  {
   "cell_type": "markdown",
   "metadata": {},
   "source": [
    "# Q2. Gym body fat percentage\n",
    "Samples of Body fat percentages of few gym going men and women are recorded.\n",
    "```\n",
    "men = [13.3, 6.0, 20.0, 8.0, 14.0, 19.0, 18.0, 25.0, 16.0, 24.0, 15.0, 1.0, 15.0]\n",
    "women = [22.0, 16.0, 21.7, 21.0, 30.0, 26.0, 12.0, 23.2, 28.0, 23.0]\n",
    "```\n",
    "Perform an appropriate test to check if the mean body fat percentage of men and women is statistically different.\n",
    "\n",
    "Assume the significance level to be 5%.\n",
    "\n",
    "Choose the correct option below :"
   ]
  },
  {
   "cell_type": "code",
   "execution_count": 15,
   "metadata": {},
   "outputs": [
    {
     "name": "stdout",
     "output_type": "stream",
     "text": [
      "15.0   22.0\n",
      "0.01073060790419796\n",
      "Reject H0 ; mean body fat percentage of men and women is statistically different.\n"
     ]
    }
   ],
   "source": [
    "men = [13.3, 6.0, 20.0, 8.0, 14.0, 19.0, 18.0, 25.0, 16.0, 24.0, 15.0, 1.0, 15.0]\n",
    "women = [22.0, 16.0, 21.7, 21.0, 30.0, 26.0, 12.0, 23.2, 28.0, 23.0]\n",
    "men_mean = np.mean(men).round(0)\n",
    "women_mean = np.mean(women).round(0)\n",
    "print(men_mean,\" \", women_mean)\n",
    "\n",
    "# Two sample t-test\n",
    "t_stat, pvalue = ttest_ind(men, women, alternative='two-sided')\n",
    "print(pvalue)\n",
    "\n",
    "alpha = 0.05 # 5% significance level\n",
    "if pvalue < alpha:\n",
    "  print('Reject H0 ; mean body fat percentage of men and women is statistically different.')\n",
    "else:\n",
    "  print('Fail to reject H0 ; mean body fat percentage of men and women is statistically NOT different.')"
   ]
  },
  {
   "cell_type": "markdown",
   "metadata": {},
   "source": [
    "# Q3. Quality assurance\n",
    "\n",
    "The quality assurance department claims that on average the non-fat milk contains more than 190 mg of Calcium per 500 ml packet.\n",
    "\n",
    "To check this claim 45 packets of milk are collected and the content of calcium is recorded.\n",
    "\n",
    "Perform an appropriate test to check the claim with a 90% confidence level.\n",
    "\n",
    "```\n",
    "data = [193, 321, 222, 158, 176, 149, 154, 223, 233, 177, 280, 244, 138, 210, 167, 129, 254, 167, 194, 191, 128, 191, 144, 184, 330, 216, 212, 142, 216, 197, 231, 133, 205, 192, 195, 243, 224, 137, 234, 171, 176, 249, 222, 234, 191]\n",
    "```"
   ]
  },
  {
   "cell_type": "code",
   "execution_count": 22,
   "metadata": {},
   "outputs": [
    {
     "name": "stdout",
     "output_type": "stream",
     "text": [
      "Observed sample mean =  199.49\n",
      "Test statistic =  1.3689\n",
      "P-value =  0.089\n",
      "Reject H0\n"
     ]
    }
   ],
   "source": [
    "data = pd.Series([193, 321, 222, 158, 176, 149, 154, 223, 233, 177, 280, 244, 138, 210, 167, 129, 254, 167, 194, 191, 128, 191, 144, 184, 330, 216, 212, 142, 216, 197, 231, 133, 205, 192, 195, 243, 224, 137, 234, 171, 176, 249, 222, 234, 191])\n",
    "print(\"Observed sample mean = \", round(data.mean(), 2))\n",
    "t_stat, p_value = ttest_1samp(data, popmean=190, alternative=\"greater\")\n",
    "print(\"Test statistic = \", round(t_stat,4))\n",
    "print(\"P-value = \", round(p_value,4))\n",
    "if p_value < 0.10:\n",
    " print(\"Reject H0\")\n",
    "else: \n",
    " print(\"Fail to reject H0\")"
   ]
  },
  {
   "cell_type": "markdown",
   "metadata": {},
   "source": [
    "# Q4. Coaching class\n",
    "There are 8 females and 12 males in a coaching class.\n",
    "\n",
    "After a practice test, the coach wants to know whether the average score of females is greater than the average score of males.\n",
    "\n",
    "Given data describes the scores of females and males in his class.\n",
    "```\n",
    "female_scores=[25,30,45,49,47,35,32,42]\n",
    "\n",
    "male_scores=[45,47,25,22,29,32,27,28,40,49,50,33]\n",
    "```\n",
    "Use an appropriate test to check whether the assumption of the coach is significant or not, at a 2% significance level?"
   ]
  },
  {
   "cell_type": "code",
   "execution_count": 32,
   "metadata": {},
   "outputs": [
    {
     "name": "stdout",
     "output_type": "stream",
     "text": [
      "P-value =  0.2847023809445894\n",
      "Fail to reject H0: the average score of females is NOT greater than the average score of males\n"
     ]
    }
   ],
   "source": [
    "# Two Sample Test\n",
    "female_scores=[25,30,45,49,47,35,32,42]\n",
    "male_scores=[45,47,25,22,29,32,27,28,40,49,50,33]\n",
    "\n",
    "t_stat, pvalue = ttest_ind(female_scores,male_scores,alternative=\"greater\")\n",
    "print(\"P-value = \",pvalue)\n",
    "\n",
    "alpha = 0.02 # 2% significance level\n",
    "if pvalue < alpha:\n",
    "  print('Reject H0:  the average score of females is greater than the average score of males')\n",
    "else:\n",
    "  print('Fail to reject H0: the average score of females is NOT greater than the average score of males')"
   ]
  },
  {
   "cell_type": "code",
   "execution_count": 36,
   "metadata": {},
   "outputs": [
    {
     "name": "stdout",
     "output_type": "stream",
     "text": [
      "P-value =  0.8551954147800473\n",
      "Fail to reject H0: the average yield of Ammonium chloride is NOT different from the average yield of Urea\n"
     ]
    }
   ],
   "source": [
    "# Two Sample Test\n",
    "Ammonium_chloride = [13.4, 10.9, 11.2, 11.8, 14, 15.3, 14.2, 12.6, 17, 16.2, 16.5, 15.7]\n",
    "Urea = [12, 11.7, 10.7, 11.2, 14.8, 14.4, 13.9, 13.7, 16.9, 16, 15.6, 16]\n",
    "\n",
    "t_stat, pvalue = ttest_ind(Ammonium_chloride,Urea,alternative=\"two-sided\")\n",
    "print(\"P-value = \",pvalue)\n",
    "\n",
    "alpha = 0.05 # 95% Confidence level\n",
    "if pvalue < alpha:\n",
    "  print('Reject H0:  the average yield of Ammonium chloride is different from the average yield of Urea')\n",
    "else:\n",
    "  print('Fail to reject H0: the average yield of Ammonium chloride is NOT different from the average yield of Urea')"
   ]
  },
  {
   "cell_type": "markdown",
   "metadata": {},
   "source": [
    "# Q6. Zumba trainer\n",
    "The Zumba trainer claims to the customers, that their new dance routine helps to reduce more weight.\n",
    "\n",
    "Weight of 8 people were recorded before and after following the new Zumba training for a month:\n",
    "```\n",
    "wt_before = [85, 74, 63.5, 69.4, 71.6, 65,90,78]\n",
    "\n",
    "wt_after = [82, 71, 64, 65.2, 67.8, 64.7,95,77]\n",
    "```\n",
    "Test the trainer's claim with 90% confidence. Further, what would be the pvalue?"
   ]
  },
  {
   "cell_type": "code",
   "execution_count": 39,
   "metadata": {},
   "outputs": [
    {
     "name": "stdout",
     "output_type": "stream",
     "text": [
      "P-value =  0.14546808501326386\n",
      "Fail to reject H0: the average weight after the treatment is NOT less than the average weight before the treatment\n"
     ]
    }
   ],
   "source": [
    "# Paired Sample Test\n",
    "wt_before = [85, 74, 63.5, 69.4, 71.6, 65,90,78]\n",
    "wt_after = [82, 71, 64, 65.2, 67.8, 64.7,95,77]\n",
    "\n",
    "t_stat, pvalue = ttest_rel(wt_before,wt_after,alternative=\"greater\")\n",
    "print(\"P-value = \",pvalue)\n",
    "\n",
    "alpha = 0.10 # 90% Confidence level\n",
    "if pvalue < alpha:\n",
    "  print('Reject H0:  the average weight after the treatment is less than the average weight before the treatment')\n",
    "else: \n",
    "  print('Fail to reject H0: the average weight after the treatment is NOT less than the average weight before the treatment')"
   ]
  },
  {
   "cell_type": "markdown",
   "metadata": {},
   "source": [
    "# Q7. The correct test\n",
    "A certain company decided to roll out a new training regime for its employees.\n",
    "\n",
    "To test which regime (old or new) would be preferred by the employees, they made 5 employees (who had earlier cleared the old regime) take part in the new training regime, and then score them both, out of 100.\n",
    "\n",
    "Which of the following statistical procedures would be most appropriate to test the claim that employee overall scores are the same in both training regimes?\n",
    "\n",
    "![](https://d2beiqkhq929f0.cloudfront.net/public_assets/assets/000/002/200/original/image_2022-02-15_184314.png?1644930795)\n",
    "\n"
   ]
  },
  {
   "cell_type": "markdown",
   "metadata": {},
   "source": [
    "### Option A: Two-tailed two-sample paired/dependent t-test of means"
   ]
  },
  {
   "cell_type": "markdown",
   "metadata": {},
   "source": [
    "# Q8. Test the Training Program\n",
    "You are appointed as a Data Analyst for a training program deployed by the Government of India.\n",
    "\n",
    "The participants’ skills were tested before and after the training using some metrics on a scale of 10.\n",
    "```\n",
    "before = [2.45, 0.69, 1.80, 2.80, 0.07, 1.67, 2.93, 0.47, 1.45, 1.34]   \n",
    "\n",
    "after = [7.71, 2.17, 5.65, 8.79, 0.23, 5.23, 9.19, 1.49, 4.56, 4.20] \n",
    "\n",
    "```\n",
    "Conduct an appropriate test to assess a statistically significant increase in the average skill score after the training program, and then answer the below questions accordingly.\n",
    "\n",
    "Note: Perform the test at alpha = 5%."
   ]
  },
  {
   "cell_type": "code",
   "execution_count": 40,
   "metadata": {},
   "outputs": [
    {
     "name": "stdout",
     "output_type": "stream",
     "text": [
      "T-Stat =  -5.111096450191605\n",
      "P-value =  0.00031778119819482275\n",
      "Reject H0: The average skill score increase after the training\n"
     ]
    }
   ],
   "source": [
    "# Two Sample Paired Test\n",
    "before = [2.45, 0.69, 1.80, 2.80, 0.07, 1.67, 2.93, 0.47, 1.45, 1.34]   \n",
    "after = [7.71, 2.17, 5.65, 8.79, 0.23, 5.23, 9.19, 1.49, 4.56, 4.20] \n",
    "\n",
    "t_stat, pvalue = ttest_rel(before,after,alternative=\"less\")\n",
    "print(\"T-Stat = \",t_stat)\n",
    "print(\"P-value = \",pvalue)\n",
    "\n",
    "alpha = 0.05 # 95% Confidence level\n",
    "if pvalue < alpha:\n",
    "  print('Reject H0: The average skill score increase after the training')\n",
    "else:\n",
    "  print('Fail to reject H0: the average skill score does not increase after the training')"
   ]
  }
 ],
 "metadata": {
  "kernelspec": {
   "display_name": "Python 3",
   "language": "python",
   "name": "python3"
  },
  "language_info": {
   "codemirror_mode": {
    "name": "ipython",
    "version": 3
   },
   "file_extension": ".py",
   "mimetype": "text/x-python",
   "name": "python",
   "nbconvert_exporter": "python",
   "pygments_lexer": "ipython3",
   "version": "3.11.4"
  }
 },
 "nbformat": 4,
 "nbformat_minor": 2
}
