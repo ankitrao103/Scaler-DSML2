{
 "cells": [
  {
   "cell_type": "code",
   "execution_count": 1,
   "metadata": {},
   "outputs": [],
   "source": [
    "import numpy as np\n",
    "import pandas as pd\n",
    "import matplotlib.pyplot as plt\n",
    "import seaborn as sns\n",
    "from scipy.stats import ttest_ind, ttest_rel, ttest_1samp"
   ]
  },
  {
   "cell_type": "markdown",
   "metadata": {},
   "source": [
    "# Q1. Average British man height\n",
    "The average British man is 175.3 cm tall. A survey recorded the heights of 10 UK men and we want to know whether the mean of the sample is different from the population mean.\n",
    "\n",
    "survey_height = [177.3, 182.7, 169.6, 176.3, 180.3, 179.4, 178.5, 177.2, 181.8, 176.5]\n",
    "\n",
    "\n",
    "Perform an appropriate test and choose the correct option below, that we can conclude with a 5% significance."
   ]
  },
  {
   "cell_type": "code",
   "execution_count": 2,
   "metadata": {},
   "outputs": [
    {
     "name": "stdout",
     "output_type": "stream",
     "text": [
      "P-value:  0.04734137339747034\n",
      "Null hypothesis rejected. Sample mean is different from population mean.\n"
     ]
    }
   ],
   "source": [
    "# One Sample T-Test\n",
    "population_mean = 175.3\n",
    "survey_height = [177.3, 182.7, 169.6, 176.3, 180.3, 179.4, 178.5, 177.2, 181.8, 176.5]\n",
    "t_stat, p_value = ttest_1samp(survey_height, population_mean)\n",
    "print(\"P-value: \", p_value)\n",
    "\n",
    "alpha = 0.05 # 5% significance level\n",
    "if p_value < alpha:\n",
    "    print(\"Null hypothesis rejected. Sample mean is different from population mean.\")\n",
    "else:\n",
    "    print(\"Null hypothesis accepted. Sample mean is same as population mean.\")"
   ]
  },
  {
   "cell_type": "markdown",
   "metadata": {},
   "source": [
    "# Q2. Two Schools IQ\n",
    "Samples of IQ scores are collected from two competing schools, as follows:\n",
    "```\n",
    "school_1 = [115, 111, 112, 101, 95, 98, 100, 90, 89, 108]\n",
    "school_2 = [107, 103, 91, 99, 104, 98, 117, 113, 92, 96, 108, 115, 116, 88]\n",
    "```\n",
    "Perform an appropriate test with a 5% significance level to check if there is any statistically significant difference in the mean IQ's of these schools.\n",
    "\n",
    "Choose the correct option below :"
   ]
  },
  {
   "cell_type": "code",
   "execution_count": 5,
   "metadata": {},
   "outputs": [
    {
     "name": "stdout",
     "output_type": "stream",
     "text": [
      "P-value:  0.7154458095186707\n",
      "Null hypothesis accepted. There is no difference is IQ.\n"
     ]
    }
   ],
   "source": [
    "# Two Sample T-Test\n",
    "school_1 = [115, 111, 112, 101, 95, 98, 100, 90, 89, 108]\n",
    "school_2 = [107, 103, 91, 99, 104, 98, 117, 113, 92, 96, 108, 115, 116, 88]\n",
    "\n",
    "t_stat, p_value = ttest_ind(school_1, school_2, alternative='two-sided')\n",
    "print(\"P-value: \", p_value)\n",
    "\n",
    "alpha = 0.05 # 5% significance level\n",
    "if p_value < alpha:\n",
    "    print(\"Null hypothesis rejected.There is difference is IQ.\")\n",
    "else:\n",
    "    print(\"Null hypothesis accepted. There is no difference is IQ.\")"
   ]
  },
  {
   "cell_type": "markdown",
   "metadata": {},
   "source": [
    "# Q3. T/Z Test\n",
    "The distributions of two variables x and y are given below in the form of boxplots.\n",
    "\n",
    "![](https://d2beiqkhq929f0.cloudfront.net/public_assets/assets/000/005/668/original/Untitled.png?1654099496)\n",
    "\n",
    "Mark the correct option regarding variables x and y."
   ]
  },
  {
   "cell_type": "code",
   "execution_count": null,
   "metadata": {},
   "outputs": [],
   "source": [
    "\n",
    "#TODO"
   ]
  },
  {
   "cell_type": "markdown",
   "metadata": {},
   "source": [
    "# Q4. Select the Test\n",
    " A pharmaceutical company is developing a new drug to decrease the blood pressure. In a clinical trial, they measured the blood pressure of 30 participants before administering the new drug.\n",
    "\n",
    "After a month of treatment, they measured the blood pressure again for the same group. The company wants to determine if there is a significant decrease in blood pressure after using the new drug.\n",
    "\n",
    "Which hypothesis test should the company use, and what are the characteristics of the test?"
   ]
  },
  {
   "cell_type": "markdown",
   "metadata": {},
   "source": [
    "### Option A: One-tailed, Paired T-test"
   ]
  }
 ],
 "metadata": {
  "kernelspec": {
   "display_name": "Python 3",
   "language": "python",
   "name": "python3"
  },
  "language_info": {
   "codemirror_mode": {
    "name": "ipython",
    "version": 3
   },
   "file_extension": ".py",
   "mimetype": "text/x-python",
   "name": "python",
   "nbconvert_exporter": "python",
   "pygments_lexer": "ipython3",
   "version": "3.11.4"
  }
 },
 "nbformat": 4,
 "nbformat_minor": 2
}
