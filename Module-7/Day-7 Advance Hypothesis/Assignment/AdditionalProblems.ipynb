{
 "cells": [
  {
   "cell_type": "code",
   "execution_count": 5,
   "metadata": {},
   "outputs": [],
   "source": [
    "import numpy as np\n",
    "import pandas as pd\n",
    "\n",
    "import statsmodels.api as sm\n",
    "from statsmodels.formula.api import ols\n",
    "from scipy.stats import ttest_ind, kstest\n",
    "from statsmodels.api import stats"
   ]
  },
  {
   "cell_type": "markdown",
   "metadata": {},
   "source": [
    "# Q1. Advertising strategies\n",
    "\n",
    "Suppose you conducted an experiment to investigate the impact of two different advertising strategies (A and B) on the click-through rates of a website.\n",
    "\n",
    "After running the experiment, you found that the click-through count for Strategy A was 150, and for Strategy B, it was 200.\n",
    "\n",
    "Perform a hypothesis test to determine if the difference in click-through rates between Strategy A and Strategy B is statistically significant. Use a significance level of 0.05. Assume 1000 users were exposed to each strategy."
   ]
  },
  {
   "cell_type": "code",
   "execution_count": 6,
   "metadata": {},
   "outputs": [
    {
     "name": "stdout",
     "output_type": "stream",
     "text": [
      "Z-statistic: -2.9424494316825\n",
      "P-value: 0.0032562696284120576\n",
      "Reject the null hypothesis. There is a significant difference in click-through rates between Strategy A and Strategy B.\n"
     ]
    }
   ],
   "source": [
    "# Number of users exposed to each strategy\n",
    "n_A = n_B = 1000\n",
    "\n",
    "# Number of users who clicked through for each strategy\n",
    "clicks_A = 150\n",
    "clicks_B = 200\n",
    "\n",
    "# Proportions for each strategy\n",
    "prop_A = clicks_A / n_A\n",
    "prop_B = clicks_B / n_B\n",
    "\n",
    "\n",
    "# Perform two-sample proportion z-test\n",
    "z_stat, p_value = stats.proportions_ztest([clicks_A, clicks_B], [n_A, n_B], alternative='two-sided')\n",
    "\n",
    "# Print the results\n",
    "print(f\"Z-statistic: {z_stat}\")\n",
    "print(f\"P-value: {p_value}\")\n",
    "\n",
    "# Interpret the results\n",
    "alpha = 0.05\n",
    "if p_value < alpha:\n",
    "   print(\"Reject the null hypothesis. There is a significant difference in click-through rates between Strategy A and Strategy B.\")\n",
    "else:\n",
    "   print(\"Fail to reject the null hypothesis. There is no significant difference in click-through rates between Strategy A and Strategy B.\")\n"
   ]
  },
  {
   "cell_type": "markdown",
   "metadata": {},
   "source": [
    "# Q2. Age group vs Coffee Type\n",
    "\n",
    "A coffee shop wants to understand the relationship between the age group ('20-30','31-40', '41-50') and their preferred coffee type (Light Roast, Medium Roast, Dark Roast) based on data collected from a local Coffee Barista.\n",
    "\n",
    "Dataset: [Data](./coffee.csv)\n",
    "\n",
    "Sample data:\n",
    "\n",
    "![](https://d2beiqkhq929f0.cloudfront.net/public_assets/assets/000/059/328/original/Screenshot_2023-12-13_at_6.46.05_PM.png?1702473375)\n",
    "\n",
    "\n",
    "Do age groups and coffee types interact to influence the number of orders?\n",
    "\n",
    "Conduct an appropriate hypothesis test to determine the interaction effects of the relationship at a 5% significance level."
   ]
  },
  {
   "cell_type": "code",
   "execution_count": 3,
   "metadata": {},
   "outputs": [
    {
     "data": {
      "text/html": [
       "<div>\n",
       "<style scoped>\n",
       "    .dataframe tbody tr th:only-of-type {\n",
       "        vertical-align: middle;\n",
       "    }\n",
       "\n",
       "    .dataframe tbody tr th {\n",
       "        vertical-align: top;\n",
       "    }\n",
       "\n",
       "    .dataframe thead th {\n",
       "        text-align: right;\n",
       "    }\n",
       "</style>\n",
       "<table border=\"1\" class=\"dataframe\">\n",
       "  <thead>\n",
       "    <tr style=\"text-align: right;\">\n",
       "      <th></th>\n",
       "      <th>Age_Group</th>\n",
       "      <th>Coffee_Type</th>\n",
       "      <th>Number_of_Orders</th>\n",
       "    </tr>\n",
       "  </thead>\n",
       "  <tbody>\n",
       "    <tr>\n",
       "      <th>0</th>\n",
       "      <td>20-30</td>\n",
       "      <td>Light Roast</td>\n",
       "      <td>45</td>\n",
       "    </tr>\n",
       "    <tr>\n",
       "      <th>1</th>\n",
       "      <td>20-30</td>\n",
       "      <td>Medium Roast</td>\n",
       "      <td>60</td>\n",
       "    </tr>\n",
       "    <tr>\n",
       "      <th>2</th>\n",
       "      <td>20-30</td>\n",
       "      <td>Dark Roast</td>\n",
       "      <td>30</td>\n",
       "    </tr>\n",
       "    <tr>\n",
       "      <th>3</th>\n",
       "      <td>31-40</td>\n",
       "      <td>Light Roast</td>\n",
       "      <td>35</td>\n",
       "    </tr>\n",
       "    <tr>\n",
       "      <th>4</th>\n",
       "      <td>31-40</td>\n",
       "      <td>Medium Roast</td>\n",
       "      <td>40</td>\n",
       "    </tr>\n",
       "  </tbody>\n",
       "</table>\n",
       "</div>"
      ],
      "text/plain": [
       "  Age_Group   Coffee_Type  Number_of_Orders\n",
       "0     20-30   Light Roast                45\n",
       "1     20-30  Medium Roast                60\n",
       "2     20-30    Dark Roast                30\n",
       "3     31-40   Light Roast                35\n",
       "4     31-40  Medium Roast                40"
      ]
     },
     "execution_count": 3,
     "metadata": {},
     "output_type": "execute_result"
    }
   ],
   "source": [
    "df = pd.read_csv('coffee.csv')\n",
    "df.head()"
   ]
  },
  {
   "cell_type": "code",
   "execution_count": 4,
   "metadata": {},
   "outputs": [
    {
     "name": "stdout",
     "output_type": "stream",
     "text": [
      "                                 sum_sq   df         F    PR(>F)\n",
      "C(Age_Group)                 686.777778  2.0  5.104046  0.032992\n",
      "C(Coffee_Type)               143.444444  2.0  1.066061  0.384141\n",
      "C(Age_Group):C(Coffee_Type)  493.888889  4.0  1.835260  0.206332\n",
      "Residual                     605.500000  9.0       NaN       NaN\n"
     ]
    }
   ],
   "source": [
    "# Two Way Anova\n",
    "\n",
    "# fit an ols model on the data frame\n",
    "# use 'fit()' to fit the linear model\n",
    "# ols('dependent variable ~ C(independent variable1) * C(independent variable2)', data=df).fit()\n",
    "test = ols('Number_of_Orders ~ C(Age_Group) * C(Coffee_Type)', data=df).fit()\n",
    "\n",
    "# create a table for a 2-way ANOVA test\n",
    "# Pass the linear model 'test'\n",
    "# 'typ = 2' performs two-way ANOVA\n",
    "anova_table = sm.stats.anova_lm(test, typ = 2)\n",
    "\n",
    "# Display the results\n",
    "# Significance level is 0.05\n",
    "print(anova_table)"
   ]
  },
  {
   "cell_type": "code",
   "execution_count": null,
   "metadata": {},
   "outputs": [],
   "source": []
  }
 ],
 "metadata": {
  "kernelspec": {
   "display_name": "Python 3",
   "language": "python",
   "name": "python3"
  },
  "language_info": {
   "codemirror_mode": {
    "name": "ipython",
    "version": 3
   },
   "file_extension": ".py",
   "mimetype": "text/x-python",
   "name": "python",
   "nbconvert_exporter": "python",
   "pygments_lexer": "ipython3",
   "version": "3.11.4"
  }
 },
 "nbformat": 4,
 "nbformat_minor": 2
}
