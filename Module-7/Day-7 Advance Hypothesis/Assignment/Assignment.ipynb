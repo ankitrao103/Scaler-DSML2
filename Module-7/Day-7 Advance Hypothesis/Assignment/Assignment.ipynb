{
 "cells": [
  {
   "cell_type": "code",
   "execution_count": 2,
   "metadata": {},
   "outputs": [],
   "source": [
    "import numpy as np\n",
    "import pandas as pd\n",
    "\n",
    "import statsmodels.api as sm\n",
    "from statsmodels.formula.api import ols\n",
    "from scipy.stats import ttest_ind, kstest"
   ]
  },
  {
   "cell_type": "markdown",
   "metadata": {},
   "source": [
    "# Q1. Dosage and Gender\n",
    "\n",
    "A researcher is interested in determining the effects of different dosages of a dietary supplement on the performance of both males and females on a physical endurance test.\n",
    "\n",
    "The three different dosages of the medicine are low, medium, and high, and the genders are male and female.\n",
    "\n",
    "Data: [Dataset](./dosages.csv)\n",
    "\n",
    "Sample data:\n",
    "\n",
    "![](https://d2beiqkhq929f0.cloudfront.net/public_assets/assets/000/059/314/original/Screenshot_2023-12-13_at_5.54.59_PM.png?1702470320)\n",
    "\n",
    "Conduct an appropriate hypothesis test to determine the interaction effects of the test at a 1% significance level."
   ]
  },
  {
   "cell_type": "code",
   "execution_count": 4,
   "metadata": {},
   "outputs": [
    {
     "data": {
      "text/html": [
       "<div>\n",
       "<style scoped>\n",
       "    .dataframe tbody tr th:only-of-type {\n",
       "        vertical-align: middle;\n",
       "    }\n",
       "\n",
       "    .dataframe tbody tr th {\n",
       "        vertical-align: top;\n",
       "    }\n",
       "\n",
       "    .dataframe thead th {\n",
       "        text-align: right;\n",
       "    }\n",
       "</style>\n",
       "<table border=\"1\" class=\"dataframe\">\n",
       "  <thead>\n",
       "    <tr style=\"text-align: right;\">\n",
       "      <th></th>\n",
       "      <th>Dietary</th>\n",
       "      <th>Supplement_Dosage</th>\n",
       "      <th>Test_values</th>\n",
       "    </tr>\n",
       "  </thead>\n",
       "  <tbody>\n",
       "    <tr>\n",
       "      <th>0</th>\n",
       "      <td>Female</td>\n",
       "      <td>Low</td>\n",
       "      <td>35.6</td>\n",
       "    </tr>\n",
       "    <tr>\n",
       "      <th>1</th>\n",
       "      <td>Female</td>\n",
       "      <td>Medium</td>\n",
       "      <td>49.4</td>\n",
       "    </tr>\n",
       "    <tr>\n",
       "      <th>2</th>\n",
       "      <td>Female</td>\n",
       "      <td>High</td>\n",
       "      <td>55.2</td>\n",
       "    </tr>\n",
       "    <tr>\n",
       "      <th>3</th>\n",
       "      <td>Male</td>\n",
       "      <td>Low</td>\n",
       "      <td>92.2</td>\n",
       "    </tr>\n",
       "    <tr>\n",
       "      <th>4</th>\n",
       "      <td>Male</td>\n",
       "      <td>Medium</td>\n",
       "      <td>45.4</td>\n",
       "    </tr>\n",
       "  </tbody>\n",
       "</table>\n",
       "</div>"
      ],
      "text/plain": [
       "  Dietary Supplement_Dosage  Test_values\n",
       "0  Female               Low         35.6\n",
       "1  Female            Medium         49.4\n",
       "2  Female              High         55.2\n",
       "3    Male               Low         92.2\n",
       "4    Male            Medium         45.4"
      ]
     },
     "execution_count": 4,
     "metadata": {},
     "output_type": "execute_result"
    }
   ],
   "source": [
    "df = pd.read_csv('./dosages.csv')\n",
    "df.head()"
   ]
  },
  {
   "cell_type": "code",
   "execution_count": 6,
   "metadata": {},
   "outputs": [
    {
     "name": "stdout",
     "output_type": "stream",
     "text": [
      "                                      sum_sq   df         F    PR(>F)\n",
      "C(Dietary)                        532.000833  1.0  1.075214  0.339742\n",
      "C(Supplement_Dosage)              130.811667  2.0  0.132190  0.878657\n",
      "C(Dietary):C(Supplement_Dosage)  2869.201667  2.0  2.899438  0.131502\n",
      "Residual                         2968.715000  6.0       NaN       NaN\n"
     ]
    }
   ],
   "source": [
    "# Two Way Anova\n",
    "\n",
    "# fit an ols model on the data frame\n",
    "# use 'fit()' to fit the linear model\n",
    "# ols('dependent variable ~ C(independent variable1) * C(independent variable2)', data=df).fit()\n",
    "test = ols('Test_values ~ C(Dietary) * C(Supplement_Dosage)', data=df).fit()\n",
    "\n",
    "# create a table for a 2-way ANOVA test\n",
    "# Pass the linear model 'test'\n",
    "# 'typ = 2' performs two-way ANOVA\n",
    "anova_table = sm.stats.anova_lm(test, typ = 2)\n",
    "\n",
    "# Display the results\n",
    "# Significance level is 0.01\n",
    "print(anova_table)"
   ]
  },
  {
   "cell_type": "markdown",
   "metadata": {},
   "source": [
    "# Q2. Fertiliser and Watering Frequency\n",
    "A researcher wants to investigate the effects of two different fertilizers (‘A’ & ‘B’) and three watering frequencies (‘Low’, ‘Medium’, ‘High’) on the growth of tomato plants.\n",
    "\n",
    "Is there a significant interaction between the fertilizer type and watering frequency on plant growth?\n",
    "\n",
    "Dataset: [Data](./Fertilizer.csv)\n",
    "\n",
    "Sample data:\n",
    "\n",
    "![](https://d2beiqkhq929f0.cloudfront.net/public_assets/assets/000/059/317/original/Screenshot_2023-12-13_at_6.05.51_PM.png?1702470963)\n",
    "\n",
    "Conduct an appropriate hypothesis test to determine only the interaction effects of this research at a 5% significance level.\n"
   ]
  },
  {
   "cell_type": "code",
   "execution_count": 8,
   "metadata": {},
   "outputs": [
    {
     "data": {
      "text/html": [
       "<div>\n",
       "<style scoped>\n",
       "    .dataframe tbody tr th:only-of-type {\n",
       "        vertical-align: middle;\n",
       "    }\n",
       "\n",
       "    .dataframe tbody tr th {\n",
       "        vertical-align: top;\n",
       "    }\n",
       "\n",
       "    .dataframe thead th {\n",
       "        text-align: right;\n",
       "    }\n",
       "</style>\n",
       "<table border=\"1\" class=\"dataframe\">\n",
       "  <thead>\n",
       "    <tr style=\"text-align: right;\">\n",
       "      <th></th>\n",
       "      <th>Fertilizer</th>\n",
       "      <th>Watering_Frequency</th>\n",
       "      <th>Plant_Height</th>\n",
       "    </tr>\n",
       "  </thead>\n",
       "  <tbody>\n",
       "    <tr>\n",
       "      <th>0</th>\n",
       "      <td>A</td>\n",
       "      <td>Low</td>\n",
       "      <td>15.2</td>\n",
       "    </tr>\n",
       "    <tr>\n",
       "      <th>1</th>\n",
       "      <td>A</td>\n",
       "      <td>Medium</td>\n",
       "      <td>20.7</td>\n",
       "    </tr>\n",
       "    <tr>\n",
       "      <th>2</th>\n",
       "      <td>A</td>\n",
       "      <td>High</td>\n",
       "      <td>24.3</td>\n",
       "    </tr>\n",
       "    <tr>\n",
       "      <th>3</th>\n",
       "      <td>B</td>\n",
       "      <td>Low</td>\n",
       "      <td>18.4</td>\n",
       "    </tr>\n",
       "    <tr>\n",
       "      <th>4</th>\n",
       "      <td>B</td>\n",
       "      <td>Medium</td>\n",
       "      <td>23.1</td>\n",
       "    </tr>\n",
       "  </tbody>\n",
       "</table>\n",
       "</div>"
      ],
      "text/plain": [
       "  Fertilizer Watering_Frequency  Plant_Height\n",
       "0          A                Low          15.2\n",
       "1          A             Medium          20.7\n",
       "2          A               High          24.3\n",
       "3          B                Low          18.4\n",
       "4          B             Medium          23.1"
      ]
     },
     "execution_count": 8,
     "metadata": {},
     "output_type": "execute_result"
    }
   ],
   "source": [
    "path = './Fertilizer.csv'\n",
    "df = pd.read_csv(path)\n",
    "df.head()"
   ]
  },
  {
   "cell_type": "code",
   "execution_count": 9,
   "metadata": {},
   "outputs": [
    {
     "name": "stdout",
     "output_type": "stream",
     "text": [
      "                                         sum_sq    df         F    PR(>F)\n",
      "C(Fertilizer)                         84.067222   1.0  1.509060  0.242831\n",
      "C(Watering_Frequency)                100.634444   2.0  0.903226  0.431117\n",
      "C(Fertilizer):C(Watering_Frequency)   50.034444   2.0  0.449075  0.648519\n",
      "Residual                             668.500000  12.0       NaN       NaN\n"
     ]
    }
   ],
   "source": [
    "# Two Way Anova\n",
    "\n",
    "# fit an ols model on the data frame\n",
    "# use 'fit()' to fit the linear model\n",
    "# ols('dependent variable ~ C(independent variable1) * C(independent variable2)', data=df).fit()\n",
    "test = ols('Plant_Height ~ C(Fertilizer) * C(Watering_Frequency)', data=df).fit()\n",
    "\n",
    "# create a table for a 2-way ANOVA test\n",
    "# Pass the linear model 'test'\n",
    "# 'typ = 2' performs two-way ANOVA\n",
    "anova_table = sm.stats.anova_lm(test, typ = 2)\n",
    "\n",
    "# Display the results\n",
    "# Significance level is 0.05\n",
    "print(anova_table)"
   ]
  },
  {
   "cell_type": "markdown",
   "metadata": {},
   "source": [
    "# Q3. Education vs Test\n",
    "\n",
    "The Committee head of a national entrance exam wants to analyze if there are any differences in learning outcomes between students with different educational backgrounds (high school or college) and teaching methods (traditional or interactive) on test scores.\n",
    "\n",
    "Data: [Dataset](./Teaching_Method.csv)\n",
    "\n",
    "Sample data:\n",
    "\n",
    "![](https://d2beiqkhq929f0.cloudfront.net/public_assets/assets/000/059/323/original/Screenshot_2023-12-13_at_6.21.09_PM.png?1702471882)\n",
    "\n",
    "Conduct an appropriate hypothesis test to determine the main effects & interaction effects of the test at a 5% significance level."
   ]
  },
  {
   "cell_type": "code",
   "execution_count": 11,
   "metadata": {},
   "outputs": [
    {
     "data": {
      "text/html": [
       "<div>\n",
       "<style scoped>\n",
       "    .dataframe tbody tr th:only-of-type {\n",
       "        vertical-align: middle;\n",
       "    }\n",
       "\n",
       "    .dataframe tbody tr th {\n",
       "        vertical-align: top;\n",
       "    }\n",
       "\n",
       "    .dataframe thead th {\n",
       "        text-align: right;\n",
       "    }\n",
       "</style>\n",
       "<table border=\"1\" class=\"dataframe\">\n",
       "  <thead>\n",
       "    <tr style=\"text-align: right;\">\n",
       "      <th></th>\n",
       "      <th>Education</th>\n",
       "      <th>Teaching_Method</th>\n",
       "      <th>Test_Score</th>\n",
       "    </tr>\n",
       "  </thead>\n",
       "  <tbody>\n",
       "    <tr>\n",
       "      <th>0</th>\n",
       "      <td>High School</td>\n",
       "      <td>Traditional</td>\n",
       "      <td>72</td>\n",
       "    </tr>\n",
       "    <tr>\n",
       "      <th>1</th>\n",
       "      <td>High School</td>\n",
       "      <td>Interactive</td>\n",
       "      <td>85</td>\n",
       "    </tr>\n",
       "    <tr>\n",
       "      <th>2</th>\n",
       "      <td>College</td>\n",
       "      <td>Traditional</td>\n",
       "      <td>70</td>\n",
       "    </tr>\n",
       "    <tr>\n",
       "      <th>3</th>\n",
       "      <td>College</td>\n",
       "      <td>Interactive</td>\n",
       "      <td>92</td>\n",
       "    </tr>\n",
       "    <tr>\n",
       "      <th>4</th>\n",
       "      <td>High School</td>\n",
       "      <td>Traditional</td>\n",
       "      <td>74</td>\n",
       "    </tr>\n",
       "  </tbody>\n",
       "</table>\n",
       "</div>"
      ],
      "text/plain": [
       "     Education Teaching_Method  Test_Score\n",
       "0  High School     Traditional          72\n",
       "1  High School     Interactive          85\n",
       "2      College     Traditional          70\n",
       "3      College     Interactive          92\n",
       "4  High School     Traditional          74"
      ]
     },
     "execution_count": 11,
     "metadata": {},
     "output_type": "execute_result"
    }
   ],
   "source": [
    "df = pd.read_csv('./Teaching_Method.csv')\n",
    "df.head()"
   ]
  },
  {
   "cell_type": "code",
   "execution_count": 12,
   "metadata": {},
   "outputs": [
    {
     "name": "stdout",
     "output_type": "stream",
     "text": [
      "                                 sum_sq    df         F    PR(>F)\n",
      "C(Education)                       6.25   1.0  0.081477  0.780172\n",
      "C(Teaching_Method)               552.25   1.0  7.199348  0.019920\n",
      "C(Education):C(Teaching_Method)    4.00   1.0  0.052146  0.823216\n",
      "Residual                         920.50  12.0       NaN       NaN\n"
     ]
    }
   ],
   "source": [
    "# Two Way Anova\n",
    "\n",
    "# fit an ols model on the data frame\n",
    "# use 'fit()' to fit the linear model\n",
    "# ols('dependent variable ~ C(independent variable1) * C(independent variable2)', data=df).fit()\n",
    "test = ols('Test_Score ~ C(Education) * C(Teaching_Method)', data=df).fit()\n",
    "\n",
    "# create a table for a 2-way ANOVA test\n",
    "# Pass the linear model 'test'\n",
    "# 'typ = 2' performs two-way ANOVA\n",
    "anova_table = sm.stats.anova_lm(test, typ = 2)\n",
    "\n",
    "# Display the results\n",
    "# Significance level is 0.05\n",
    "print(anova_table)"
   ]
  },
  {
   "cell_type": "markdown",
   "metadata": {},
   "source": [
    "# Q4. Sales Strategy\n",
    "\n",
    "A data analyst is comparing the sales amounts (in dollars) for two different marketing strategies (A and B). The sales data for 20 days under each strategy is collected.\n",
    "\n",
    "```javascript\n",
    "sales_strategy_A = [156, 153, 157, 154, 156, 159, 152, 156, 157, 154, 153, 157, 157,152, 155, 154, 151, 157, 155, 151]\n",
    "\n",
    "sales_strategy_B = [135, 147, 126, 136, 158, 139, 163, 141, 156, 142, 130, 129, 161, 158, 117, 151, 121, 135, 123, 153]\n",
    "```\n",
    "\n",
    "Perform an appropriate test to assess if there is a significant difference in the sales distributions between Strategy A and Strategy B. Use a significance level of 0.05."
   ]
  },
  {
   "cell_type": "code",
   "execution_count": 17,
   "metadata": {},
   "outputs": [
    {
     "name": "stdout",
     "output_type": "stream",
     "text": [
      "T-Stats: 0.65, P-Value: 0.0002704973445409677\n",
      "Reject the null hypothesis: Data is not from the same distribution\n"
     ]
    }
   ],
   "source": [
    "sales_strategy_A = [156, 153, 157, 154, 156, 159, 152, 156, 157, 154, 153, 157, 157,152, 155, 154, 151, 157, 155, 151]\n",
    "sales_strategy_B = [135, 147, 126, 136, 158, 139, 163, 141, 156, 142, 130, 129, 161, 158, 117, 151, 121, 135, 123, 153]\n",
    "\n",
    "# Perform a KS Test\n",
    "t_stats, p_value = kstest(sales_strategy_A, sales_strategy_B)\n",
    "print(f'T-Stats: {t_stats}, P-Value: {p_value}')\n",
    "\n",
    "# Aplha value is 0.05\n",
    "if p_value < 0.05:\n",
    "    print('Reject the null hypothesis: Data is not from the same distribution')\n",
    "else:\n",
    "    print('Accept the null hypothesis: Data has same distribution')\n"
   ]
  },
  {
   "cell_type": "markdown",
   "metadata": {},
   "source": [
    "# Q5. Mobile App Response\n",
    "\n",
    "A researcher is investigating the distribution of response times (in seconds) for two different versions of a mobile app, i.e. the time taken for a mobile app to respond to a user action, measured in seconds.\n",
    "\n",
    "\n",
    "The goal is to determine if the response time distributions significantly differ between the two versions.\n",
    "\n",
    "Data for 20 users for each app version is collected.\n",
    "```javascript\n",
    "response_times_version_A = [1.2, 1.3, 1.1, 1.4, 1.2, 1.3, 1.0, 1.5, 1.2, 1.3, 1.2, 1.4, 1.1, 1.3, 1.2, 1.5, 1.3, 1.4, 1.2, 1.3]\n",
    "\n",
    "response_times_version_B = [1.6, 1.2, 1.3, 1.4, 1.1, 1.3, 1.2, 1.5, 1.3, 1.4, 1.2, 1.3, 1.2, 1.4, 1.1, 1.3, 1.5, 1.2, 1.3, 1.4]\n",
    "```\n",
    "Choose the appropriate test for the given scenario"
   ]
  },
  {
   "cell_type": "markdown",
   "metadata": {},
   "source": [
    "### Answer: ✅KS Test \n"
   ]
  },
  {
   "cell_type": "markdown",
   "metadata": {},
   "source": [
    "# Q6. Delivery Method\n",
    "\n",
    "An online shopping platform is testing two different delivery methods to improve the delivery times for their customers.\n",
    "\n",
    "The data below represents the delivery times (in hours) for a sample of orders using Method A and Method B.\n",
    "```javascript\n",
    "delivery_method_A = [2.5, 3.2, 2.8, 3.5, 3.0, 2.7, 2.9, 3.1, 2.6, 3.3]\n",
    "\n",
    "delivery_method_B = [3.8, 3.2, 3.5, 3.1, 3.9, 3.0, 3.3, 3.6, 3.4, 3.7]\n",
    "```\n",
    "Using an appropriate test, determine if there is a significant difference in the delivery time distributions between Method A and Method B. Use a significance level of 0.05."
   ]
  },
  {
   "cell_type": "code",
   "execution_count": 19,
   "metadata": {},
   "outputs": [
    {
     "name": "stdout",
     "output_type": "stream",
     "text": [
      "T-Stats: 0.5, P-Value: 0.16782134274394334\n",
      "Accept the null hypothesis: Data has same distribution\n"
     ]
    }
   ],
   "source": [
    "delivery_method_A = [2.5, 3.2, 2.8, 3.5, 3.0, 2.7, 2.9, 3.1, 2.6, 3.3]\n",
    "delivery_method_B = [3.8, 3.2, 3.5, 3.1, 3.9, 3.0, 3.3, 3.6, 3.4, 3.7]\n",
    "\n",
    "# Perform a KS Test\n",
    "t_stats, p_value = kstest(delivery_method_A, delivery_method_B)\n",
    "print(f'T-Stats: {t_stats}, P-Value: {p_value}')\n",
    "\n",
    "# Aplha value is 0.05\n",
    "if p_value < 0.05:\n",
    "    print('Reject the null hypothesis: Data is not from the same distribution')\n",
    "else:\n",
    "    print('Accept the null hypothesis: Data has same distribution')\n"
   ]
  },
  {
   "cell_type": "markdown",
   "metadata": {},
   "source": [
    "# Q7. Banking app\n",
    "\n",
    "A bank is launching two different approaches (A and B) to encourage customers to adopt its new mobile banking app. The bank randomly assigns a group of customers to each approach and monitors their adoption rates over a month.\n",
    "\n",
    "Data:\n",
    "```javascript\n",
    "Group A (Approach A): [38, 40, 42, 37, 39, 41, 36, 35, 43, 38]  \n",
    "Group B (Approach B): [48, 45, 46, 43, 50, 44, 49, 47, 42, 46] \n",
    "```\n",
    "Objective:\n",
    "\n",
    "Assess whether the new incentive program in Approach B leads to a statistically significant improvement in the adoption rates compared to Approach A.\n",
    "\n",
    "Choose the suitable statistical test."
   ]
  },
  {
   "cell_type": "code",
   "execution_count": 22,
   "metadata": {},
   "outputs": [
    {
     "name": "stdout",
     "output_type": "stream",
     "text": [
      "T-Stats: -6.125851335983492, P-Value: 4.359142475666563e-06\n"
     ]
    }
   ],
   "source": [
    "groupA = [38, 40, 42, 37, 39, 41, 36, 35, 43, 38]  \n",
    "groupB = [48, 45, 46, 43, 50, 44, 49, 47, 42, 46] \n",
    "\n",
    "# Perform a T-Test Ind(A/B Test)\n",
    "t_stats, p_value = ttest_ind(groupA, groupB, alternative='less')\n",
    "print(f'T-Stats: {t_stats}, P-Value: {p_value}')\n"
   ]
  },
  {
   "cell_type": "markdown",
   "metadata": {},
   "source": [
    "# Q8. Suitable scenario for A/B testing\n",
    "\n",
    "Select the scenarios for which A/B testing can be effectively used?\n",
    "\n",
    "A)\n",
    "\n",
    "A coffee shop is considering two different promotional strategies to boost sales during the morning hours. \n",
    "Strategy A involves offering discounts on coffee, while Strategy B involves introducing a new breakfast menu. \n",
    "The marketing team wants to determine which strategy leads to a higher increase in sales.\n",
    "\n",
    "B)\n",
    "\n",
    "A university is conducting a survey to assess the effectiveness of two teaching methods (Method A and Method B) in improving student performance in mathematics. \n",
    "The goal is to determine if one teaching method is more successful than the other in helping students achieve higher scores.\n",
    "\n",
    "C)\n",
    "\n",
    "A nutritionist is conducting a study to compare the average weight loss among three different diet plans. \n",
    "She randomly assigns participants into three groups, each following a different diet plan (Low-Carb, Mediterranean, and Vegan).\n",
    "After eight weeks, she records the weight loss for each participant.\n",
    "\n",
    "D)\n",
    "\n",
    "A manufacturing company is interested in studying the effects of two factors (Temperature and Humidity) on the strength of a certain type of material.\n",
    "They conduct an experiment where they expose samples of the material to different combinations of temperature (High and Low) and humidity (High and Low) levels."
   ]
  },
  {
   "cell_type": "markdown",
   "metadata": {},
   "source": [
    "# Correct Answer: A, B\n",
    "\n",
    "Explanation\n",
    "\n",
    "- A) A coffee shop considering two different promotional strategies (Strategy A and Strategy B) to boost sales during the morning hours is a scenario suitable for A/B testing. In A/B testing, the coffee shop can randomly assign customers to either Strategy A or Strategy B and measure the impact on sales. This helps in determining which strategy leads to a higher increase in sales.\n",
    "\n",
    "- B) A university conducting a survey to assess the effectiveness of two teaching methods (Method A and Method B) in improving student performance in mathematics is also suitable for A/B testing. The university can randomly assign students to either Method A or Method B, assess their performance, and determine if one teaching method is more successful than the other.\n",
    "\n",
    "- C) The scenario with the nutritionist comparing average weight loss among three different diet plans involves more than two groups (Low-Carb, Mediterranean, and Vegan). While it is a suitable scenario for ANOVA (Analysis of Variance), A/B testing is typically designed for comparing two variations.\n",
    "\n",
    "- D) The manufacturing company studying the effects of two factors (Temperature and Humidity) on material strength involves more than two variations (different combinations of temperature and humidity). Similar to option C, this scenario is better suited for ANOVA or factorial experiments, as it involves more than two variations.\n",
    "\n",
    "### **In A/B testing, the focus is on comparing two variations to determine which one performs better in achieving a specific goal or outcome.**"
   ]
  },
  {
   "cell_type": "code",
   "execution_count": null,
   "metadata": {},
   "outputs": [],
   "source": []
  }
 ],
 "metadata": {
  "kernelspec": {
   "display_name": "Python 3",
   "language": "python",
   "name": "python3"
  },
  "language_info": {
   "codemirror_mode": {
    "name": "ipython",
    "version": 3
   },
   "file_extension": ".py",
   "mimetype": "text/x-python",
   "name": "python",
   "nbconvert_exporter": "python",
   "pygments_lexer": "ipython3",
   "version": "3.11.4"
  }
 },
 "nbformat": 4,
 "nbformat_minor": 2
}
