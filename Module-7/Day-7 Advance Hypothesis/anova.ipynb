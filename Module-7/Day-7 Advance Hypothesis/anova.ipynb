{
 "cells": [
  {
   "cell_type": "code",
   "execution_count": 1,
   "metadata": {},
   "outputs": [],
   "source": [
    "import numpy as np\n",
    "import pandas as pd\n",
    "\n",
    "import statsmodels.api as sm\n",
    "from statsmodels.formula.api import ols"
   ]
  },
  {
   "cell_type": "code",
   "execution_count": 4,
   "metadata": {},
   "outputs": [
    {
     "data": {
      "text/html": [
       "<div>\n",
       "<style scoped>\n",
       "    .dataframe tbody tr th:only-of-type {\n",
       "        vertical-align: middle;\n",
       "    }\n",
       "\n",
       "    .dataframe tbody tr th {\n",
       "        vertical-align: top;\n",
       "    }\n",
       "\n",
       "    .dataframe thead th {\n",
       "        text-align: right;\n",
       "    }\n",
       "</style>\n",
       "<table border=\"1\" class=\"dataframe\">\n",
       "  <thead>\n",
       "    <tr style=\"text-align: right;\">\n",
       "      <th></th>\n",
       "      <th>Flavour</th>\n",
       "      <th>Location</th>\n",
       "      <th>Sales</th>\n",
       "    </tr>\n",
       "  </thead>\n",
       "  <tbody>\n",
       "    <tr>\n",
       "      <th>0</th>\n",
       "      <td>Orange</td>\n",
       "      <td>West</td>\n",
       "      <td>141</td>\n",
       "    </tr>\n",
       "    <tr>\n",
       "      <th>1</th>\n",
       "      <td>Lemon</td>\n",
       "      <td>West</td>\n",
       "      <td>178</td>\n",
       "    </tr>\n",
       "    <tr>\n",
       "      <th>2</th>\n",
       "      <td>Orange</td>\n",
       "      <td>West</td>\n",
       "      <td>170</td>\n",
       "    </tr>\n",
       "    <tr>\n",
       "      <th>3</th>\n",
       "      <td>Orange</td>\n",
       "      <td>East</td>\n",
       "      <td>76</td>\n",
       "    </tr>\n",
       "    <tr>\n",
       "      <th>4</th>\n",
       "      <td>Lemon</td>\n",
       "      <td>East</td>\n",
       "      <td>170</td>\n",
       "    </tr>\n",
       "  </tbody>\n",
       "</table>\n",
       "</div>"
      ],
      "text/plain": [
       "  Flavour Location  Sales\n",
       "0  Orange     West    141\n",
       "1   Lemon     West    178\n",
       "2  Orange     West    170\n",
       "3  Orange     East     76\n",
       "4   Lemon     East    170"
      ]
     },
     "execution_count": 4,
     "metadata": {},
     "output_type": "execute_result"
    }
   ],
   "source": [
    "df = pd.read_csv('./two_way_anova.csv')\n",
    "df.head()"
   ]
  },
  {
   "cell_type": "code",
   "execution_count": 5,
   "metadata": {},
   "outputs": [
    {
     "name": "stdout",
     "output_type": "stream",
     "text": [
      "                               sum_sq    df         F    PR(>F)\n",
      "C(Flavour)                6919.558981   2.0  1.968465  0.145773\n",
      "C(Location)               2059.273884   3.0  0.390546  0.760092\n",
      "C(Flavour):C(Location)   11802.257765   6.0  1.119163  0.357804\n",
      "Residual                154669.016331  88.0       NaN       NaN\n"
     ]
    }
   ],
   "source": [
    "test = ols('Sales ~ C(Flavour) * C(Location)', data=df).fit()\n",
    "anova_table = sm.stats.anova_lm(test, typ = 2)\n",
    "print(anova_table)"
   ]
  },
  {
   "cell_type": "markdown",
   "metadata": {},
   "source": [
    "sum_sq: variation in the dependent variables\n",
    "\n",
    "df: degrees of freedom\n",
    "\n",
    "F: F-stat\n",
    "\n",
    "PR: probabilities associated with F-stats"
   ]
  },
  {
   "cell_type": "markdown",
   "metadata": {},
   "source": [
    "alpha = 0.05 (Reject H0 if p<0.05)\n",
    "\n",
    "1. PR - Flavour: 0.145. This is not too small --> Fail to reject\n",
    "2. PR - location: 0.76. --> Fail to reject\n",
    "3. PR - interaction: 0.35 --> fail to reject"
   ]
  },
  {
   "cell_type": "markdown",
   "metadata": {},
   "source": [
    "## Ks Test"
   ]
  },
  {
   "cell_type": "code",
   "execution_count": 6,
   "metadata": {},
   "outputs": [],
   "source": [
    "# Recovery times from 2 drugs\n",
    "from scipy import stats\n",
    "import numpy as np\n",
    "import matplotlib.pyplot as plt"
   ]
  },
  {
   "cell_type": "code",
   "execution_count": 7,
   "metadata": {},
   "outputs": [],
   "source": [
    "r1 = [8.82420842, 7.47774471, 7.55712098, 7.98131439, 6.82771606,\n",
    "       7.48566433, 9.15385732, 5.84040502, 8.26124313, 8.4728876 ,\n",
    "       6.82582186, 7.00490974, 8.43423058, 6.72099932, 6.97495982,\n",
    "       5.93748053, 5.40707847, 6.16385557, 6.71421056, 4.42396183,\n",
    "       6.87285228, 8.00313581, 6.69035041, 7.83622942, 8.70984957,\n",
    "       5.56284584, 9.08093437, 4.98165193, 7.67769408, 6.04738478,\n",
    "       7.64921582, 7.31051639, 6.74463303, 7.27356973, 8.16787232,\n",
    "       6.90990965, 7.06439167, 6.62921957, 6.08283539, 6.2458137 ,\n",
    "       8.65173634, 5.76080646, 6.20573219, 8.91561004, 6.22560201,\n",
    "       5.67542104, 6.97412435, 8.31354697, 8.14172701, 8.26099345,\n",
    "       7.87612791, 6.24835109, 9.95324783, 6.59504627, 6.17365145,\n",
    "       6.05676895, 7.23030223, 7.71311809, 7.37163804, 5.69798738,\n",
    "       5.71056902, 7.94556876, 7.47234105, 6.85346234, 4.77892053,\n",
    "       6.92631063, 6.10681151, 7.06277198, 7.18023164, 7.78285327,\n",
    "       7.85500885, 6.54349161, 8.25949958, 6.44289198, 7.16705977,\n",
    "       6.03517015, 7.61274786, 7.032845  , 6.78161745, 7.07917968,\n",
    "       6.21549342, 5.34267439, 6.73039933, 7.70562561, 8.15117049,\n",
    "       6.72564324, 6.68220904, 8.50359274, 7.52912703, 7.34572493,\n",
    "       5.95734283, 6.58259396, 6.49394335, 8.68069592, 8.60547125,\n",
    "       6.8905056 , 7.72575925, 6.84801609, 7.96999724, 7.10420915]"
   ]
  },
  {
   "cell_type": "code",
   "execution_count": 8,
   "metadata": {},
   "outputs": [],
   "source": [
    "r2 = [ 9.56597358,  7.49291458,  8.73841824,  7.63523452,  4.12559277,\n",
    "        7.3679259 ,  9.87873565,  6.14516559,  8.19923821,  7.30169992,\n",
    "       10.24606417,  6.83814477,  7.01611267,  6.15716049,  8.29590714,\n",
    "       12.3333305 ,  8.22144016,  6.06830071,  3.75820649,  6.69220157,\n",
    "       10.08721618,  9.70580422,  7.31050006, 11.40145721,  5.64818498,\n",
    "        7.38914449,  8.43740074,  6.3451435 ,  7.05694361,  8.1997151 ,\n",
    "        9.03059061,  7.76904679,  6.92375578,  5.78318543,  8.99027781,\n",
    "        7.56186529,  5.27095372,  8.32896688, 11.52935757,  7.08119961,\n",
    "        9.48825066,  9.14072759,  7.30357663,  8.62183754, 10.40999814,\n",
    "        8.70096763,  7.04645384,  6.378799  , 10.5098363 ,  7.36078888,\n",
    "        7.33403615,  8.07396248,  6.18309499,  7.24668404,  9.03430611,\n",
    "        8.99016584,  6.78606416,  8.436418  ,  6.85877947, 10.10405772,\n",
    "        6.74943076,  7.57812376,  7.12920671,  9.38065269,  9.57139966,\n",
    "        6.4484012 ,  6.93877043,  9.22141667,  8.34815638,  7.73980671,\n",
    "        7.17840767,  9.27913457,  6.49963224,  9.92287292,  7.63978639,\n",
    "        9.53931977,  9.02602273,  6.79374185,  8.59715131,  8.37747338,\n",
    "        8.78161815,  6.78716383,  8.28473394,  8.20283798, 12.50518811,\n",
    "       10.19772574,  8.93758457,  8.9540311 ,  8.28927558,  6.28935098,\n",
    "        7.69447559,  9.66777701, 10.33898342,  8.71199578,  5.12781581,\n",
    "        9.70954569,  9.13685031,  7.28989718,  8.0868909 ,  7.42937556,\n",
    "        7.31356749,  9.92345816,  8.60211814,  9.33228465,  8.14132658,\n",
    "        6.17871495, 10.28358242,  7.31898597,  7.95085527,  6.20331719,\n",
    "        9.19119762,  6.98600628,  7.05314883, 10.57921482,  6.83637574,\n",
    "        7.86199283,  8.23350975,  5.87625665,  7.78945364,  8.83612492]\n"
   ]
  },
  {
   "cell_type": "code",
   "execution_count": 9,
   "metadata": {},
   "outputs": [
    {
     "data": {
      "text/plain": [
       "(100, 120)"
      ]
     },
     "execution_count": 9,
     "metadata": {},
     "output_type": "execute_result"
    }
   ],
   "source": [
    "d1 = np.array(r1)\n",
    "d2 = np.array(r2)\n",
    "n1 = len(d1)\n",
    "n2 = len(d2)\n",
    "n1, n2"
   ]
  },
  {
   "cell_type": "code",
   "execution_count": 10,
   "metadata": {},
   "outputs": [
    {
     "data": {
      "text/plain": [
       "7.1049166262"
      ]
     },
     "execution_count": 10,
     "metadata": {},
     "output_type": "execute_result"
    }
   ],
   "source": [
    "np.mean(d1)"
   ]
  },
  {
   "cell_type": "code",
   "execution_count": 11,
   "metadata": {},
   "outputs": [
    {
     "data": {
      "text/plain": [
       "8.073423327583333"
      ]
     },
     "execution_count": 11,
     "metadata": {},
     "output_type": "execute_result"
    }
   ],
   "source": [
    "np.mean(d2)"
   ]
  },
  {
   "cell_type": "code",
   "execution_count": 12,
   "metadata": {},
   "outputs": [
    {
     "name": "stdout",
     "output_type": "stream",
     "text": [
      "KS Statistic: 0.3233333333333333\n",
      "P-value: 1.516338798228849e-05\n"
     ]
    }
   ],
   "source": [
    "statistic, p_value =  stats.kstest(d1, d2)\n",
    "print(\"KS Statistic:\", statistic)\n",
    "print(\"P-value:\", p_value)"
   ]
  },
  {
   "cell_type": "code",
   "execution_count": 13,
   "metadata": {},
   "outputs": [
    {
     "name": "stdout",
     "output_type": "stream",
     "text": [
      "The p-value is less than or equal to 0.01, two samples have different distributions.\n"
     ]
    }
   ],
   "source": [
    "if p_value > 0.01:\n",
    "    print(\"The p-value is greater than 0.01,two samples have the same distribution.\")\n",
    "else:\n",
    "    print(\"The p-value is less than or equal to 0.01, two samples have different distributions.\")"
   ]
  },
  {
   "cell_type": "code",
   "execution_count": 14,
   "metadata": {},
   "outputs": [
    {
     "data": {
      "image/png": "[encoded data removed]",
      "text/plain": [
       "<Figure size 640x480 with 1 Axes>"
      ]
     },
     "metadata": {},
     "output_type": "display_data"
    }
   ],
   "source": [
    "plt.grid()\n",
    "a = plt.hist(d1, bins=100, cumulative=True, label='CDF', density=True, histtype='step')\n",
    "b = plt.hist(d2, bins=100, cumulative=True, label='CDF', density=True, histtype='step')\n",
    "plt.show()"
   ]
  },
  {
   "cell_type": "markdown",
   "metadata": {},
   "source": [
    "# A-B Test"
   ]
  },
  {
   "cell_type": "code",
   "execution_count": 15,
   "metadata": {},
   "outputs": [],
   "source": [
    "# Youtube case study\n",
    "import seaborn as sns\n",
    "from scipy import stats\n"
   ]
  },
  {
   "cell_type": "code",
   "execution_count": 16,
   "metadata": {},
   "outputs": [
    {
     "data": {
      "text/html": [
       "<div>\n",
       "<style scoped>\n",
       "    .dataframe tbody tr th:only-of-type {\n",
       "        vertical-align: middle;\n",
       "    }\n",
       "\n",
       "    .dataframe tbody tr th {\n",
       "        vertical-align: top;\n",
       "    }\n",
       "\n",
       "    .dataframe thead th {\n",
       "        text-align: right;\n",
       "    }\n",
       "</style>\n",
       "<table border=\"1\" class=\"dataframe\">\n",
       "  <thead>\n",
       "    <tr style=\"text-align: right;\">\n",
       "      <th></th>\n",
       "      <th>date</th>\n",
       "      <th>customer_id</th>\n",
       "      <th>premium</th>\n",
       "      <th>watch_time_hrs</th>\n",
       "      <th>customer_segmnt</th>\n",
       "    </tr>\n",
       "  </thead>\n",
       "  <tbody>\n",
       "    <tr>\n",
       "      <th>0</th>\n",
       "      <td>2018-09-11</td>\n",
       "      <td>402</td>\n",
       "      <td>0</td>\n",
       "      <td>7.173618</td>\n",
       "      <td>control</td>\n",
       "    </tr>\n",
       "    <tr>\n",
       "      <th>1</th>\n",
       "      <td>2018-02-28</td>\n",
       "      <td>227</td>\n",
       "      <td>0</td>\n",
       "      <td>0.836170</td>\n",
       "      <td>control</td>\n",
       "    </tr>\n",
       "    <tr>\n",
       "      <th>2</th>\n",
       "      <td>2018-10-18</td>\n",
       "      <td>812</td>\n",
       "      <td>1</td>\n",
       "      <td>4.402078</td>\n",
       "      <td>treatment</td>\n",
       "    </tr>\n",
       "    <tr>\n",
       "      <th>3</th>\n",
       "      <td>2018-05-22</td>\n",
       "      <td>43</td>\n",
       "      <td>0</td>\n",
       "      <td>3.982454</td>\n",
       "      <td>control</td>\n",
       "    </tr>\n",
       "    <tr>\n",
       "      <th>4</th>\n",
       "      <td>2018-07-18</td>\n",
       "      <td>307</td>\n",
       "      <td>0</td>\n",
       "      <td>7.513302</td>\n",
       "      <td>control</td>\n",
       "    </tr>\n",
       "    <tr>\n",
       "      <th>5</th>\n",
       "      <td>2018-09-10</td>\n",
       "      <td>238</td>\n",
       "      <td>0</td>\n",
       "      <td>1.456961</td>\n",
       "      <td>control</td>\n",
       "    </tr>\n",
       "    <tr>\n",
       "      <th>6</th>\n",
       "      <td>2018-02-21</td>\n",
       "      <td>691</td>\n",
       "      <td>1</td>\n",
       "      <td>3.800375</td>\n",
       "      <td>treatment</td>\n",
       "    </tr>\n",
       "    <tr>\n",
       "      <th>7</th>\n",
       "      <td>2018-04-27</td>\n",
       "      <td>199</td>\n",
       "      <td>0</td>\n",
       "      <td>4.574446</td>\n",
       "      <td>control</td>\n",
       "    </tr>\n",
       "    <tr>\n",
       "      <th>8</th>\n",
       "      <td>2018-05-28</td>\n",
       "      <td>105</td>\n",
       "      <td>0</td>\n",
       "      <td>3.425942</td>\n",
       "      <td>control</td>\n",
       "    </tr>\n",
       "    <tr>\n",
       "      <th>9</th>\n",
       "      <td>2018-09-24</td>\n",
       "      <td>604</td>\n",
       "      <td>0</td>\n",
       "      <td>3.959896</td>\n",
       "      <td>treatment</td>\n",
       "    </tr>\n",
       "  </tbody>\n",
       "</table>\n",
       "</div>"
      ],
      "text/plain": [
       "         date  customer_id  premium  watch_time_hrs customer_segmnt\n",
       "0  2018-09-11          402        0        7.173618         control\n",
       "1  2018-02-28          227        0        0.836170         control\n",
       "2  2018-10-18          812        1        4.402078       treatment\n",
       "3  2018-05-22           43        0        3.982454         control\n",
       "4  2018-07-18          307        0        7.513302         control\n",
       "5  2018-09-10          238        0        1.456961         control\n",
       "6  2018-02-21          691        1        3.800375       treatment\n",
       "7  2018-04-27          199        0        4.574446         control\n",
       "8  2018-05-28          105        0        3.425942         control\n",
       "9  2018-09-24          604        0        3.959896       treatment"
      ]
     },
     "execution_count": 16,
     "metadata": {},
     "output_type": "execute_result"
    }
   ],
   "source": [
    "ab_test_data = pd.read_csv(\"ab_test_data.csv\")\n",
    "ab_test_data.head(10)"
   ]
  },
  {
   "cell_type": "code",
   "execution_count": 22,
   "metadata": {},
   "outputs": [
    {
     "data": {
      "text/plain": [
       "19960"
      ]
     },
     "execution_count": 22,
     "metadata": {},
     "output_type": "execute_result"
    }
   ],
   "source": [
    "len(ab_test_data)"
   ]
  },
  {
   "cell_type": "code",
   "execution_count": 17,
   "metadata": {},
   "outputs": [
    {
     "data": {
      "text/plain": [
       "8459"
      ]
     },
     "execution_count": 17,
     "metadata": {},
     "output_type": "execute_result"
    }
   ],
   "source": [
    "sum((ab_test_data[\"premium\"] == 0) & (ab_test_data[\"customer_segmnt\"] == \"control\"))"
   ]
  },
  {
   "cell_type": "code",
   "execution_count": 18,
   "metadata": {},
   "outputs": [
    {
     "data": {
      "text/plain": [
       "1514"
      ]
     },
     "execution_count": 18,
     "metadata": {},
     "output_type": "execute_result"
    }
   ],
   "source": [
    "sum((ab_test_data[\"premium\"] == 1) & (ab_test_data[\"customer_segmnt\"] == \"control\"))\n"
   ]
  },
  {
   "cell_type": "code",
   "execution_count": 20,
   "metadata": {},
   "outputs": [
    {
     "data": {
      "text/plain": [
       "7975"
      ]
     },
     "execution_count": 20,
     "metadata": {},
     "output_type": "execute_result"
    }
   ],
   "source": [
    "sum((ab_test_data[\"premium\"] == 0) & (ab_test_data[\"customer_segmnt\"] == \"treatment\"))\n"
   ]
  },
  {
   "cell_type": "code",
   "execution_count": 21,
   "metadata": {},
   "outputs": [
    {
     "data": {
      "text/plain": [
       "2012"
      ]
     },
     "execution_count": 21,
     "metadata": {},
     "output_type": "execute_result"
    }
   ],
   "source": [
    "sum((ab_test_data[\"premium\"] == 1) & (ab_test_data[\"customer_segmnt\"] == \"treatment\"))\n"
   ]
  },
  {
   "cell_type": "code",
   "execution_count": 24,
   "metadata": {},
   "outputs": [
    {
     "data": {
      "text/plain": [
       "(19960, 5)"
      ]
     },
     "execution_count": 24,
     "metadata": {},
     "output_type": "execute_result"
    }
   ],
   "source": [
    "ab_test_data.shape"
   ]
  },
  {
   "cell_type": "code",
   "execution_count": 28,
   "metadata": {},
   "outputs": [
    {
     "data": {
      "text/plain": [
       "customer_segmnt\n",
       "treatment    9987\n",
       "control      9973\n",
       "Name: count, dtype: int64"
      ]
     },
     "execution_count": 28,
     "metadata": {},
     "output_type": "execute_result"
    }
   ],
   "source": [
    "ab_test_data[\"customer_segmnt\"].value_counts()\n",
    "# Balance Data "
   ]
  },
  {
   "cell_type": "code",
   "execution_count": 30,
   "metadata": {},
   "outputs": [
    {
     "data": {
      "image/png": "[encoded data removed]",
      "text/plain": [
       "<Figure size 640x480 with 1 Axes>"
      ]
     },
     "metadata": {},
     "output_type": "display_data"
    }
   ],
   "source": [
    "# histogram of the data\n",
    "sns.histplot(ab_test_data[\"watch_time_hrs\"], bins=100, kde=True)\n",
    "plt.show()"
   ]
  },
  {
   "cell_type": "code",
   "execution_count": 31,
   "metadata": {},
   "outputs": [
    {
     "data": {
      "text/plain": [
       "customer_segmnt\n",
       "control      3.609960\n",
       "treatment    3.054294\n",
       "Name: watch_time_hrs, dtype: float64"
      ]
     },
     "execution_count": 31,
     "metadata": {},
     "output_type": "execute_result"
    }
   ],
   "source": [
    "ab_test_data.groupby(\"customer_segmnt\")[\"watch_time_hrs\"].mean()"
   ]
  },
  {
   "cell_type": "code",
   "execution_count": 32,
   "metadata": {},
   "outputs": [],
   "source": [
    "ab_test_control_data = ab_test_data[ab_test_data[\"customer_segmnt\"] == \"control\"]\n",
    "ab_test_treatment_data = ab_test_data[ab_test_data[\"customer_segmnt\"] == \"treatment\"]"
   ]
  },
  {
   "cell_type": "code",
   "execution_count": 33,
   "metadata": {},
   "outputs": [
    {
     "data": {
      "text/plain": [
       "9973"
      ]
     },
     "execution_count": 33,
     "metadata": {},
     "output_type": "execute_result"
    }
   ],
   "source": [
    "ab_test_control_data.shape[0]"
   ]
  },
  {
   "cell_type": "code",
   "execution_count": 34,
   "metadata": {},
   "outputs": [
    {
     "data": {
      "text/plain": [
       "9987"
      ]
     },
     "execution_count": 34,
     "metadata": {},
     "output_type": "execute_result"
    }
   ],
   "source": [
    "ab_test_treatment_data.shape[0]"
   ]
  },
  {
   "cell_type": "code",
   "execution_count": 35,
   "metadata": {},
   "outputs": [
    {
     "name": "stdout",
     "output_type": "stream",
     "text": [
      "T-Statistic: 15.96034913022092\n",
      "P-value: 5.438408586231319e-57\n"
     ]
    }
   ],
   "source": [
    "statistic, p_value = stats.ttest_ind(ab_test_control_data[\"watch_time_hrs\"], ab_test_treatment_data[\"watch_time_hrs\"])\n",
    "print(\"T-Statistic:\", statistic)\n",
    "print(\"P-value:\", p_value)"
   ]
  }
 ],
 "metadata": {
  "kernelspec": {
   "display_name": "Python 3",
   "language": "python",
   "name": "python3"
  },
  "language_info": {
   "codemirror_mode": {
    "name": "ipython",
    "version": 3
   },
   "file_extension": ".py",
   "mimetype": "text/x-python",
   "name": "python",
   "nbconvert_exporter": "python",
   "pygments_lexer": "ipython3",
   "version": "3.11.4"
  }
 },
 "nbformat": 4,
 "nbformat_minor": 2
}
