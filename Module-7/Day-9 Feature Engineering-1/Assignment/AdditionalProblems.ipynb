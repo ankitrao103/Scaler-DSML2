{
 "cells": [
  {
   "cell_type": "code",
   "execution_count": 1,
   "metadata": {},
   "outputs": [],
   "source": [
    "import numpy as np\n",
    "import pandas as pd\n",
    "import matplotlib.pyplot as plt\n",
    "import seaborn as sns\n",
    "from scipy.stats import ttest_ind,chi2_contingency, mode"
   ]
  },
  {
   "cell_type": "markdown",
   "metadata": {},
   "source": [
    "Q1. New feature\n",
    "\n",
    "While doing EDA on a car's price prediction dataset, we plotted the pair plots for the features ['maintenance', 'insurance', 'number_of_gears'] and got the following result:\n",
    "\n",
    "![](https://d2beiqkhq929f0.cloudfront.net/public_assets/assets/000/005/679/original/Screenshot_2022-06-02_at_10.25.34_AM.png?1654226831)\n",
    "\n",
    "Which of the options is correct with respect to the pair plots given the info that maintenance is helpful in the prediction of a car’s price?"
   ]
  },
  {
   "cell_type": "markdown",
   "metadata": {},
   "source": [
    "### ✅Answer: \n",
    "A new feature which is the sum of insurance and maintenance will also be helpful in the price prediction of cars.\n",
    "\n",
    "### Explanation:\n",
    "\n",
    "It is visible from the pair plots that maintenance and insurance are highly positively correlated and it’s also informed that maintenance is helpful while predicting a car’s price.\n",
    "\n",
    "Therefore it can easily be interpreted that when a new feature is actually the sum of insurance and maintenance it will still be helpful with the prediction as being helpful would mean that there should be some correlation between feature and price."
   ]
  },
  {
   "cell_type": "markdown",
   "metadata": {},
   "source": [
    "# Q2. Skewed central tendencies\n",
    "\n",
    "Suppose you are working on two distributions:\n",
    "\n",
    "A which is positively skewed, and\n",
    "B which is negatively skewed.\n",
    "Which of the statements are correct for the relationship between mean, median, and mode for distributions A and B?\n",
    "\n",
    "A: Mean > Median > Mode\n",
    "\n",
    "B: Mean < Median < Mode\n",
    "\n",
    "A: Mean < Median < Mode\n",
    "\n",
    "B: Mean > Median > Mode"
   ]
  },
  {
   "cell_type": "markdown",
   "metadata": {},
   "source": [
    "## Correct options :\n",
    "\n",
    "A: Mean > Median > Mode\n",
    "B: Mean < Median < Mode\n",
    "\n",
    "## Explanation :\n",
    "\n",
    "For Symmetrical data (No skewness),\n",
    "\n",
    "  - The mean, median and mode of the data coincide at the same point (the centre of distribution).\n",
    "  - This is because the tails on both sides are mirror images of each other. Hence, there is balance.\n",
    "  \n",
    "For Positive/Right Skewed Distribution\n",
    "\n",
    "  - Mode by definition is the point with highest frequency of occurence. Hence it lies corresponding to the peak of distribution.\n",
    "  - Further, since the tail on the right-hand side of the distribution is longer or fatter than the left side.\n",
    "  - The distribution is pulled or stretched toward the right.\n",
    "  - As a result, mean is typically greater than the median.\n",
    "  \n",
    "This is because:\n",
    "\n",
    "  - The mean is sensitive to extreme values or outliers in the tail.\n",
    "  - The median is less affected by extreme values and provides a better measure of central tendency in skewed distributions.\n",
    "  \n",
    "For Negatively/Left Skewed Distribution\n",
    "\n",
    "- Again, the mode would lie corresponding to the peak\n",
    "- Since, the tail on the left-hand side of the distribution is longer or fatter than the right side.\n",
    "- The distribution is pulled or stretched toward the left.\n",
    "- As a result, mean is typically less than the median.\n",
    "\n",
    "!![](https://d2beiqkhq929f0.cloudfront.net/public_assets/assets/000/014/655/original/skeness.jpg?1663009314)"
   ]
  },
  {
   "cell_type": "code",
   "execution_count": null,
   "metadata": {},
   "outputs": [],
   "source": []
  }
 ],
 "metadata": {
  "kernelspec": {
   "display_name": "Python 3",
   "language": "python",
   "name": "python3"
  },
  "language_info": {
   "codemirror_mode": {
    "name": "ipython",
    "version": 3
   },
   "file_extension": ".py",
   "mimetype": "text/x-python",
   "name": "python",
   "nbconvert_exporter": "python",
   "pygments_lexer": "ipython3",
   "version": "3.11.4"
  }
 },
 "nbformat": 4,
 "nbformat_minor": 2
}
