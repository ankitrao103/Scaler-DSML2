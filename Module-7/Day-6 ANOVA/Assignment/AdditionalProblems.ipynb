{
 "cells": [
  {
   "cell_type": "code",
   "execution_count": 1,
   "metadata": {},
   "outputs": [],
   "source": [
    "import numpy as np\n",
    "import pandas as pd\n",
    "import matplotlib.pyplot as plt\n",
    "import seaborn as sns"
   ]
  },
  {
   "cell_type": "code",
   "execution_count": 2,
   "metadata": {},
   "outputs": [],
   "source": [
    "from scipy.stats import f_oneway, kruskal, shapiro, levene, ttest_ind\n",
    "from statsmodels.graphics.gofplots import qqplot "
   ]
  },
  {
   "cell_type": "markdown",
   "metadata": {},
   "source": [
    "# Q1. Variance in No of defects\n",
    "\n",
    "You are analyzing data on the number of defects in products produced by three different machines.\n",
    "\n",
    "What statistical test would you use to determine if the variances in the number of defects are significantly different between the machines?"
   ]
  },
  {
   "cell_type": "markdown",
   "metadata": {},
   "source": [
    "### Answer:-> ✅Levene’s Test"
   ]
  },
  {
   "cell_type": "markdown",
   "metadata": {},
   "source": [
    "# Q2. Difference in Treatmen\n",
    "A pharmaceutical company conducted a clinical trial to test the effectiveness of three different drug treatments (Drug A, Drug B, and Drug C) on patients with a specific medical condition.\n",
    "\n",
    "The trial measured the reduction in symptoms for each patient after treatment. The dataset consists of three groups, each representing one drug treatment, where each value represents the unit difference before and after taking the drugs.\n",
    "```javascript\n",
    "drug_a = [8, 17, 16, 25, 17]\n",
    "drug_b = [9, 8, 16, 7, 8]\n",
    "drug_c = [7, 6, 5, 4, 6]\n",
    "```\n",
    "Conduct an appropriate test to assess overall differences with a 99% confidence level and, if significant, perform pairwise t-tests to identify which pairs of drug treatments exhibit significant differences in the reduction of symptoms."
   ]
  },
  {
   "cell_type": "code",
   "execution_count": 4,
   "metadata": {},
   "outputs": [
    {
     "name": "stdout",
     "output_type": "stream",
     "text": [
      "T-Test: t-statistic: 2.2225022225033344, p-value: 0.05695934338403185\n",
      "T-Test: t-statistic: 4.011287266192101, p-value: 0.003888074101483069\n",
      "T-Test: t-statistic: 2.340822943922611, p-value: 0.04735481485792407\n"
     ]
    }
   ],
   "source": [
    "drug_a = [8, 17, 16, 25, 17]\n",
    "drug_b = [9, 8, 16, 7, 8]\n",
    "drug_c = [7, 6, 5, 4, 6]\n",
    "\n",
    "# T- Test\n",
    "t_stat, p_val = ttest_ind(drug_a, drug_b)\n",
    "print(f'T-Test: t-statistic: {t_stat}, p-value: {p_val}')\n",
    "\n",
    "t_stat, p_val = ttest_ind(drug_a, drug_c)\n",
    "print(f'T-Test: t-statistic: {t_stat}, p-value: {p_val}')\n",
    "\n",
    "t_stat, p_val = ttest_ind(drug_b, drug_c)\n",
    "print(f'T-Test: t-statistic: {t_stat}, p-value: {p_val}')\n"
   ]
  },
  {
   "cell_type": "markdown",
   "metadata": {},
   "source": [
    "# Answer\n",
    "✅ There is a significant difference in the mean reduction in symptoms between Drug A and Drug C.\n",
    "\n",
    "✅ There is NO significant difference in the mean reduction in symptoms between Drug A and Drug B."
   ]
  },
  {
   "cell_type": "markdown",
   "metadata": {},
   "source": [
    "# Q3. Three sales persons\n",
    "\n",
    "A Company wishes to test whether three sales persons Saurav, Naveen, and Radha make the same sales or they differ in their selling ability by comparing the average number of sales made by them last week.\n",
    "\n",
    "Out of 14 sales 'Saurav' made 5, 'Naveen' made 4 and 'Radha' made 5. The following arrays describes the records of the sales persons in rupees.\n",
    "``` javascript\n",
    "Saurav = [300, 400, 300, 500, 50]\n",
    "Naveen = [600, 300, 300, 400]\n",
    "Radha = [700, 300, 400, 600, 500]\n",
    "```\n",
    "\n",
    "Test whether the average sales of the Saurav, Naveen, and Radha differ in size at a 95% confidence level."
   ]
  },
  {
   "cell_type": "code",
   "execution_count": 7,
   "metadata": {},
   "outputs": [
    {
     "name": "stdout",
     "output_type": "stream",
     "text": [
      "F-statistic: 1.8263524159663869\n",
      "p-value: 0.20659122081429684\n",
      "Fail to reject null hypothesis: There is no significant difference in average sales.\n"
     ]
    }
   ],
   "source": [
    "saurav = [300, 400, 300, 500, 50]\n",
    "naveen = [600, 300, 300, 400]\n",
    "radha = [700, 300, 400, 600, 500]\n",
    "\n",
    "# Perform one-way ANOVA\n",
    "f_statistic, p_value = f_oneway(saurav, naveen, radha)\n",
    "\n",
    "# Significance level (alpha)\n",
    "alpha = 0.05\n",
    "\n",
    "print(\"F-statistic:\", f_statistic)\n",
    "print(\"p-value:\", p_value)\n",
    "\n",
    "# Compare p-value with significance level\n",
    "if p_value < alpha:\n",
    "    print(\"Reject null hypothesis: There is a significant difference in average sales.\")\n",
    "else:\n",
    "    print(\"Fail to reject null hypothesis: There is no significant difference in average sales.\")"
   ]
  },
  {
   "cell_type": "markdown",
   "metadata": {},
   "source": [
    "# Q4. Vehicle Miles\n",
    "The Highway Administration conducts an annual survey on motor vehicles travelling on the highway. They publish their findings in Highway Statistics, based on different types of vehicles.\n",
    "Independent simple random samples of cars, buses, and trucks yielded the data on a number of thousand miles driven last year.\n",
    "``` javascript\n",
    "cars = [19.9, 15.3, 2.2, 6.8, 34.2, 8.3, 12.0, 7.0, 9.5, 1.1]\n",
    "buses = [1.8, 24.6, 7.2, 37.0, 7.2, 21.2, 6.5, 23.6]\n",
    "trucks = [13.3, 23.0, 25.4, 15.3, 57.1, 14.5, 26.0]\n",
    "```\n",
    "We want to decide if there is a difference in last year’s mean number of miles driven among cars, buses, and trucks.\n",
    "\n",
    "At a 93% confidence level, does the data provide sufficient evidence to conclude that there is a difference in last year’s mean number of miles driven by cars, buses, and trucks?\n",
    "\n",
    "Choose the correct option below :"
   ]
  },
  {
   "cell_type": "code",
   "execution_count": 10,
   "metadata": {},
   "outputs": [
    {
     "name": "stdout",
     "output_type": "stream",
     "text": [
      "H-statistic: 2.4686944536875277\n",
      "p-value: 0.10782985675757563\n",
      "Fail to reject null hypothesis: There is no significant difference in average sales.\n"
     ]
    }
   ],
   "source": [
    "cars = [19.9, 15.3, 2.2, 6.8, 34.2, 8.3, 12.0, 7.0, 9.5, 1.1]\n",
    "buses = [1.8, 24.6, 7.2, 37.0, 7.2, 21.2, 6.5, 23.6]\n",
    "trucks = [13.3, 23.0, 25.4, 15.3, 57.1, 14.5, 26.0]\n",
    "\n",
    "# Perform one-way ANOVA\n",
    "f_statistic, p_value = f_oneway(cars, buses, trucks)\n",
    "print(\"H-statistic:\", f_statistic)\n",
    "print(\"p-value:\", p_value)\n",
    "\n",
    "# Compare p-value with significance level\n",
    "aplha = 0.07\n",
    "if p_value < alpha:\n",
    "    print(\"Reject null hypothesis: There is a significant difference in average sales.\")\n",
    "else:\n",
    "    print(\"Fail to reject null hypothesis: There is no significant difference in average sales.\")\n"
   ]
  },
  {
   "cell_type": "code",
   "execution_count": null,
   "metadata": {},
   "outputs": [],
   "source": []
  }
 ],
 "metadata": {
  "kernelspec": {
   "display_name": "Python 3",
   "language": "python",
   "name": "python3"
  },
  "language_info": {
   "codemirror_mode": {
    "name": "ipython",
    "version": 3
   },
   "file_extension": ".py",
   "mimetype": "text/x-python",
   "name": "python",
   "nbconvert_exporter": "python",
   "pygments_lexer": "ipython3",
   "version": "3.11.4"
  }
 },
 "nbformat": 4,
 "nbformat_minor": 2
}
