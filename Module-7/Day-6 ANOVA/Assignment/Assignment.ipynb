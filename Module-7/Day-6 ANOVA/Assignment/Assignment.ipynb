{
 "cells": [
  {
   "cell_type": "code",
   "execution_count": 2,
   "metadata": {},
   "outputs": [],
   "source": [
    "import numpy as np\n",
    "import pandas as pd\n",
    "import matplotlib.pyplot as plt\n",
    "import seaborn as sns"
   ]
  },
  {
   "cell_type": "code",
   "execution_count": 4,
   "metadata": {},
   "outputs": [],
   "source": [
    "from scipy.stats import f_oneway, kruskal, shapiro, levene, ttest_ind\n",
    "from statsmodels.graphics.gofplots import qqplot "
   ]
  },
  {
   "cell_type": "markdown",
   "metadata": {},
   "source": [
    "# Q1. Energy Consumption\n",
    "The United States is divided into four regions: Northeast, Midwest, South and West regions.\n",
    "\n",
    "Independent random samples of households in these regions yielded the data on last year’s energy consumptions.\n",
    "```javascript\n",
    "a = [13, 8, 11, 12, 11]\n",
    "b = [15, 10, 16, 11, 13, 10]\n",
    "c = [5, 11, 9, 5]\n",
    "d = [8, 10, 6, 5, 7]\n",
    "```\n",
    "\n",
    "![](https://d2beiqkhq929f0.cloudfront.net/public_assets/assets/000/032/933/original/Screenshot_2023-04-27_at_4.57.01_PM.png?1682602412)\n",
    "\n",
    "At a 5% significance level, does the data provide sufficient evidence to conclude that there is a difference in last year’s mean energy consumption\n",
    "by households among the four regions?\n",
    "\n",
    "Choose the correct option below :"
   ]
  },
  {
   "cell_type": "code",
   "execution_count": 5,
   "metadata": {},
   "outputs": [
    {
     "name": "stdout",
     "output_type": "stream",
     "text": [
      "F-statistic: 6.324748040313554, p-value: 0.004930291920562857\n",
      "Reject the null hypothesis and Not all regions' households had the same mean energy consumption in last year\n"
     ]
    }
   ],
   "source": [
    "a = [13, 8, 11, 12, 11]\n",
    "b = [15, 10, 16, 11, 13, 10]\n",
    "c = [5, 11, 9, 5]\n",
    "d = [8, 10, 6, 5, 7]\n",
    "\n",
    "# f_oneway test\n",
    "\n",
    "f_stat, p_val = f_oneway(a, b, c, d)\n",
    "print(f'F-statistic: {f_stat}, p-value: {p_val}')\n",
    "\n",
    "# 5% significance level\n",
    "if p_val < 0.05:\n",
    "  print(\"Reject the null hypothesis and Not all regions' households had the same mean energy consumption in last year\")\n",
    "else:\n",
    "  print(\"Fail to reject the null hypothesis and Not all regions' households had the same mean energy consumption in last year\")\n"
   ]
  },
  {
   "cell_type": "markdown",
   "metadata": {},
   "source": [
    "# Q2. Book Review\n",
    "\n",
    "There is a website, \"www.goodreads.com\" where people can leave their reviews about a book and rate them on a scale of 1 to 5 stars.\n",
    "The following table gives the number of pages of a random sample of books with different ratings, as listed on the site:\n",
    "\n",
    "```javascript\n",
    "one_star = [382, 391, 335, 368, 400, 372]\n",
    "two_star = [560, 343, 512, 329, 391, 367]\n",
    "three_star = [384, 458, 409, 309, 374, 459]\n",
    "four_star = [325, 390, 304, 240, 306, 169]\n",
    "five_star = [360, 298, 272, 368, 320, 326]\n",
    "```\n",
    "At a 1% significance level, does the data provide sufficient evidence to conclude that there is a difference in the mean number of pages among books in these five rating groups?\n",
    "\n",
    "Choose the correct option below :"
   ]
  },
  {
   "cell_type": "code",
   "execution_count": 7,
   "metadata": {},
   "outputs": [
    {
     "name": "stdout",
     "output_type": "stream",
     "text": [
      "F-statistic: 4.238644902556343, p-value: 0.009362001936328834\n",
      "Reject the null hypothesis and Number of pages in the books belonging to different rating groups is same\n"
     ]
    }
   ],
   "source": [
    "one_star = [382, 391, 335, 368, 400, 372]\n",
    "two_star = [560, 343, 512, 329, 391, 367]\n",
    "three_star = [384, 458, 409, 309, 374, 459]\n",
    "four_star = [325, 390, 304, 240, 306, 169]\n",
    "five_star = [360, 298, 272, 368, 320, 326]\n",
    "\n",
    "# f_oneway test\n",
    "f_stat, p_val = f_oneway(one_star, two_star, three_star, four_star, five_star)\n",
    "print(f'F-statistic: {f_stat}, p-value: {p_val}')\n",
    "\n",
    "# 1% significance level\n",
    "if p_val < 0.01:\n",
    "  print(\"Reject the null hypothesis and Number of pages in the books belonging to different rating groups is same\")\n",
    "else:\n",
    "  print(\"Fail to reject the null hypothesis and Number of pages in the books belonging to same rating groups is same\")\n"
   ]
  },
  {
   "cell_type": "markdown",
   "metadata": {},
   "source": [
    "# Q3. SmartPhone Battery Life\n",
    "\n",
    "Consumer Reports publishes reviews and comparisons of products based on results from its laboratory.\n",
    "Data from their website gave the following table for battery lives in hours, for samples of smartphones made by four different mobile companies.\n",
    "```javascript\n",
    "Brand_A = [19.60, 18.82, 19.00, 18.45, 19.79, 19.03, 17.89, 19.42]\n",
    "Brand_B = [21.10, 20.00, 20.43, 19.67, 18.99, 19.98, 20.14, 19.78]\n",
    "Brand_C = [10.31, 10.02, 9.41, 9.89, 10.05, 10.52, 11.02, 10.42]\n",
    "Brand_D = [17.02, 16.71, 17.78, 18.65, 15.98, 17.63, 17.00, 16.78, 16.92, 17.14]\n",
    "```\n",
    "At a 2% significance level, does the data provide sufficient evidence to conclude that there is a significant difference in the mean battery life, among the four brands?\n",
    "\n",
    "And, if significant, then perform pairwise T-tests to identify which pairs of smartphone brands offer a different mean battery life.\n",
    "\n",
    "Choose the correct option below :"
   ]
  },
  {
   "cell_type": "code",
   "execution_count": 12,
   "metadata": {},
   "outputs": [
    {
     "name": "stdout",
     "output_type": "stream",
     "text": [
      "One-Way ANOVA results:\n",
      "F-statistic: 404.7865500650496\n",
      "P-value: 2.3921494414993266e-24\n",
      "Reject the null hypothesis\n",
      "There is at least one pair of smartphone brands that offer a significantly different mean battery life.\n"
     ]
    }
   ],
   "source": [
    "\n",
    "# Sample data for battery life of different smartphone brands\n",
    "brand_A = [19.60, 18.82, 19.00, 18.45, 19.79, 19.03, 17.89, 19.42]\n",
    "brand_B = [21.10, 20.00, 20.43, 19.67, 18.99, 19.98, 20.14, 19.78]\n",
    "brand_C = [10.31, 10.02, 9.41, 9.89, 10.05, 10.52, 11.02, 10.42]\n",
    "brand_D = [17.02, 16.71, 17.78, 18.65, 15.98, 17.63, 17.00, 16.78, 16.92, 17.14]\n",
    "\n",
    "# Perform one-way ANOVA\n",
    "f_statistic, p_value = f_oneway(brand_A, brand_B, brand_C, brand_D)\n",
    "\n",
    "# Print the results\n",
    "print(\"One-Way ANOVA results:\")\n",
    "print(\"F-statistic:\", f_statistic)\n",
    "print(\"P-value:\", p_value)\n",
    "\n",
    "alpha = 0.02\n",
    "\n",
    "# Interpret the results of one-way ANOVA\n",
    "if p_value < alpha:\n",
    "   print(\"Reject the null hypothesis\")\n",
    "   print(\"There is at least one pair of smartphone brands that offer a significantly different mean battery life.\")\n",
    "else:\n",
    "   print(\"Fail to reject the null hypothesis\")\n",
    "   print(\"There are no significant differences in the mean battery life of smartphones among these 4 brands.\")"
   ]
  },
  {
   "cell_type": "markdown",
   "metadata": {},
   "source": [
    "# Q4. Assumptions\n",
    "Mark the correct assumptions of ANOVA.\n",
    "\n",
    "- Populations from which samples are drawn should be normal.\n",
    "\n",
    "- The samples should be drawn randomly and independently.\n",
    "\n",
    "- The variability between the dependent variables within different groups is equal.\n",
    "\n",
    "- No population has a common variance.\n"
   ]
  },
  {
   "cell_type": "markdown",
   "metadata": {},
   "source": [
    "# Answer \n",
    "✅ Populations from which samples are drawn should be normal.\n",
    "\n",
    "✅ The samples should be drawn randomly and independently.\n",
    "\n",
    "✅ The variability between the dependent variables within different groups is equal.\n"
   ]
  },
  {
   "cell_type": "markdown",
   "metadata": {},
   "source": [
    "# Q5. Same execution times?\n",
    "\n",
    "A software development team is comparing the performance of three different algorithms for sorting large datasets.\n",
    "\n",
    "The team collects the execution time (in milliseconds) for each algorithm on 20 different datasets:\n",
    "```javascript\n",
    "algorithm_A = np.array([23, 25, 22, 27, 28, 24, 26, 29, 21, 30, 25, 43, 26, 28, 24, 22, 27, 46, 25, 29]) \n",
    "\n",
    "algorithm_B = np.array([31, 28, 29, 32, 30, 33, 27, 28, 32, 30, 31, 29, 30, 48, 33, 31, 29, 30, 32, 31]) \n",
    "\n",
    "algorithm_C = np.array([45, 43, 23, 49, 49, 8, 21, 20, 42, 40, 28, 46, 44, 37, 44, 38, 42, 34, 42, 40])\n",
    "```\n",
    "Check for the assumptions of One-way ANOVA & decide the appropriate test to determine if there is a statistically significant difference in the execution times of the three algorithms at a 95% confidence level."
   ]
  },
  {
   "cell_type": "code",
   "execution_count": 7,
   "metadata": {},
   "outputs": [
    {
     "name": "stdout",
     "output_type": "stream",
     "text": [
      "Algorithm A\n",
      "Stats:  0.7401392459869385\n",
      "P-value:  0.00012557873560581356\n",
      "Reject H0: Data is not Gaussian\n",
      "Algorithm B\n",
      "Stats:  0.6094622015953064\n",
      "P-value:  3.6959927456337027e-06\n",
      "Reject H0: Data is not Gaussian\n",
      "Algorithm C\n",
      "Stats:  0.8589619398117065\n",
      "P-value:  0.007560277823358774\n",
      "Reject H0: Data is not Gaussian\n"
     ]
    }
   ],
   "source": [
    "algorithm_A = np.array([23, 25, 22, 27, 28, 24, 26, 29, 21, 30, 25, 43, 26, 28, 24, 22, 27, 46, 25, 29]) \n",
    "algorithm_B = np.array([31, 28, 29, 32, 30, 33, 27, 28, 32, 30, 31, 29, 30, 48, 33, 31, 29, 30, 32, 31]) \n",
    "algorithm_C = np.array([45, 43, 23, 49, 49, 8, 21, 20, 42, 40, 28, 46, 44, 37, 44, 38, 42, 34, 42, 40])\n",
    "# H0: Data is Gaussian\n",
    "# Ha: Data is not Gaussian\n",
    "\n",
    "#ALgo A\n",
    "print(\"Algorithm A\")\n",
    "test_stat, p_value = shapiro(algorithm_A)\n",
    "print(\"Stats: \", test_stat)\n",
    "print(\"P-value: \", p_value)\n",
    "\n",
    "# significance level = (100 - confidence level)/100\n",
    "if p_value < 0.05:\n",
    "  print(\"Reject H0: Data is not Gaussian\")\n",
    "else:\n",
    "  print(\"Fail to reject H0\")\n",
    "  print(\"Data is Gaussian\")\n",
    "\n",
    "# Algo B\n",
    "print(\"Algorithm B\")\n",
    "test_stat, p_value = shapiro(algorithm_B)\n",
    "print(\"Stats: \", test_stat)\n",
    "print(\"P-value: \", p_value)\n",
    "\n",
    "# significance level = (100 - confidence level)/100\n",
    "if p_value < 0.05:\n",
    "  print(\"Reject H0: Data is not Gaussian\")\n",
    "else:\n",
    "  print(\"Fail to reject H0\")\n",
    "  print(\"Data is Gaussian\")\n",
    "\n",
    "# Algo C\n",
    "print(\"Algorithm C\")\n",
    "test_stat, p_value = shapiro(algorithm_C)\n",
    "print(\"Stats: \", test_stat)\n",
    "print(\"P-value: \", p_value)\n",
    "\n",
    "# significance level = (100 - confidence level)/100\n",
    "if p_value < 0.05:\n",
    "  print(\"Reject H0: Data is not Gaussian\")\n",
    "else:\n",
    "  print(\"Fail to reject H0\")\n",
    "  print(\"Data is Gaussian\")\n",
    "\n"
   ]
  },
  {
   "cell_type": "code",
   "execution_count": 8,
   "metadata": {},
   "outputs": [
    {
     "name": "stdout",
     "output_type": "stream",
     "text": [
      "Stats:  15.347265483520486\n",
      "P-value:  0.00046492579685792804\n",
      "Reject H0: At least one algorithm has a different mean\n"
     ]
    }
   ],
   "source": [
    "# We Will Perform Kruskal-Wallis H-test\n",
    "# H0: All the algorithms have the same mean\n",
    "# Ha: At least one algorithm has a different mean\n",
    "\n",
    "test_stat, p_value = kruskal(algorithm_A, algorithm_B, algorithm_C)\n",
    "print(\"Stats: \", test_stat)\n",
    "print(\"P-value: \", p_value)\n",
    "\n",
    "# significance level = (100 - confidence level)/100\n",
    "\n",
    "if p_value < 0.05:\n",
    "  print(\"Reject H0: At least one algorithm has a different mean\")\n",
    "else:\n",
    "  print(\"Fail to reject H0\")\n",
    "  print(\"All the algorithms have the same mean\")"
   ]
  },
  {
   "cell_type": "markdown",
   "metadata": {},
   "source": [
    "# Q6. QQ Normality Test\n",
    "Which of the following statements about a QQ plots is/are False ?\n",
    "- If the points on a QQ plot closely follow a straight line, the plot indicates that the Normal model is an adequate representation for the data.\n",
    "\n",
    "- A histogram, showing the typical mound-like appearance of the Normal distribution, is more helpful than a QQ plot for assessing Normality.\n",
    "\n",
    "- Outliers on a QQ plot will manifest as points significantly deviating from the overall pattern of the plot.\n",
    "\n",
    "- The QQ plot is a very useful graphical tool for assessing the adequacy of the Normal model."
   ]
  },
  {
   "cell_type": "markdown",
   "metadata": {},
   "source": [
    "# Answer\n",
    "-  A histogram, showing the typical mound-like appearance of the Normal distribution, is more helpful than a QQ plot for assessing Normality.\n",
    "\n",
    "- If the points on a QQ plot closely follow a straight line, the plot indicates that the Normal model is an adequate representation for the data: **True**:\n",
    "  - If the points on a Normal quantile plot lie close to a straight line, it indicates that the Normal model is an adequate representation for the data. A departure from a straight line suggests a deviation from normality.\n",
    "- A histogram, showing the typical mound-like appearance of the Normal distribution, is more helpful than a QQ plot for assessing Normality: **False**:\n",
    "  - This statement is incorrect. The quantile plot is often considered more helpful than a histogram for assessing normality. While a histogram provides an overall shape, the quantile plot offers a direct comparison to the expected quantiles of a Normal distribution, making it more sensitive to departures from normality.\n",
    "- Outliers on a QQ plot will manifest as points significantly deviating from the overall pattern of the plot.: **True**:\n",
    "  - On a quantile plot, outliers will appear as points that are far away from the overall pattern of the plot. This makes it easier to identify outliers compared to a histogram.\n",
    "- The QQ plot is a very useful graphical tool for assessing the adequacy of the Normal model.: **True**:\n",
    "  - The Normal quantile plot is indeed a very useful graphical tool for assessing the adequacy of the Normal model. It provides a visual check of normality by comparing the distribution of data points to the expected distribution under normality."
   ]
  },
  {
   "cell_type": "markdown",
   "metadata": {},
   "source": [
    "# Q7. Inference of QQ Plot\n",
    "\n",
    "If a QQ plot displays points deviating both above and below the reference line, what might you infer about the dataset?\n",
    "\n",
    "![](https://d2beiqkhq929f0.cloudfront.net/public_assets/assets/000/059/237/original/Screenshot_2023-12-12_at_5.41.28_PM.png?1702383160)\n",
    "\n",
    "- The dataset has outliers.\n",
    "\n",
    "- The dataset lacks outliers.\n",
    "\n",
    "- The dataset is not normally distributed.\n",
    "\n",
    "- The dataset is normally distributed.\n"
   ]
  },
  {
   "cell_type": "markdown",
   "metadata": {},
   "source": [
    "# Answer\n",
    "✅ The dataset has outliers.\n",
    "\n",
    "✅ The dataset is not normally distributed."
   ]
  },
  {
   "cell_type": "markdown",
   "metadata": {},
   "source": [
    "# Q8. Different Variance?\n",
    "\n",
    "The pharmaceutical company collected data on the treatment effects (values in corresponding units) of two drug formulations (Group A and Group B) in a study\n",
    "```javascript\n",
    "group_a_effects = [1.5, 1.8, 1.2, 1.6, 1.7]\n",
    "\n",
    "group_b_effects = [1.4, 1.9, 1.3, 1.5, 1.8]\n",
    "```\n",
    "The researchers want to assess whether the variances of the treatment effects are significantly different among the two groups.\n",
    "\n",
    "Perform the appropriate test with a 90% confidence level, calculate the p-value and interpret the conclusions."
   ]
  },
  {
   "cell_type": "code",
   "execution_count": 10,
   "metadata": {},
   "outputs": [
    {
     "name": "stdout",
     "output_type": "stream",
     "text": [
      "Levene's test results:\n",
      "Test statistic: 0.1666666666666667\n",
      "P-value: 0.693799838016959\n",
      "Fail to reject the null hypothesis\n",
      "The variances is Same.\n"
     ]
    }
   ],
   "source": [
    "group_a_effects = [1.5, 1.8, 1.2, 1.6, 1.7]\n",
    "group_b_effects = [1.4, 1.9, 1.3, 1.5, 1.8]\n",
    "\n",
    "# Perform Levene's test\n",
    "levene_stat, p_value = levene(group_a_effects, group_b_effects)\n",
    "print(\"Levene's test results:\")\n",
    "print(\"Test statistic:\", levene_stat)\n",
    "print(\"P-value:\", p_value)\n",
    "\n",
    "# Confidence level = 90%\n",
    "# Significance level = 10%\n",
    "\n",
    "# Interpret the results of Levene's test\n",
    "if p_value < 0.1:\n",
    "    print(\"Reject the null hypothesis\")\n",
    "    print(\"The variances is different.\")\n",
    "else:\n",
    "    print(\"Fail to reject the null hypothesis\")\n",
    "    print(\"The variances is Same.\")"
   ]
  },
  {
   "cell_type": "code",
   "execution_count": null,
   "metadata": {},
   "outputs": [],
   "source": []
  }
 ],
 "metadata": {
  "kernelspec": {
   "display_name": "Python 3",
   "language": "python",
   "name": "python3"
  },
  "language_info": {
   "codemirror_mode": {
    "name": "ipython",
    "version": 3
   },
   "file_extension": ".py",
   "mimetype": "text/x-python",
   "name": "python",
   "nbconvert_exporter": "python",
   "pygments_lexer": "ipython3",
   "version": "3.11.4"
  }
 },
 "nbformat": 4,
 "nbformat_minor": 2
}
