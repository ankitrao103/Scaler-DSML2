{
 "cells": [
  {
   "cell_type": "code",
   "execution_count": 1,
   "metadata": {},
   "outputs": [],
   "source": [
    "from statsmodels.stats import weightstats as stests\n",
    "from scipy import  stats\n",
    "import statsmodels.api as sm\n",
    "import numpy as np\n"
   ]
  },
  {
   "cell_type": "code",
   "execution_count": 4,
   "metadata": {},
   "outputs": [],
   "source": [
    "def TwoSampZTest(samp_mean_1, samp_mean_2, samp_std_1, samp_std_2, n1, n2):\n",
    "  # Calculate the test statistic\n",
    "  denominator = np.sqrt((samp_std_1**2 / n1) + (samp_std_2**2 / n2))\n",
    "  z_score = (samp_mean_1 - samp_mean_2) / denominator\n",
    "  return z_score"
   ]
  },
  {
   "cell_type": "markdown",
   "metadata": {},
   "source": [
    "# Q1. Average hourly wage\n",
    "\n",
    "The average hourly wage of a sample of 150 workers in plant 'A' was Rs.2·87 with a standard deviation of Rs. 1·08.\n",
    "\n",
    "The average wage of a sample of 200 workers in plant 'B' was Rs. 2·56 with a standard deviation of Rs. 1·28.\n",
    "\n",
    "(i) Calculate the Z-score for this scenario.\n",
    "\n",
    "(ii) Can an applicant safely assume that the hourly wages paid by plant 'A' are higher than those paid by plant 'B' at a 1% significance level?"
   ]
  },
  {
   "cell_type": "code",
   "execution_count": 5,
   "metadata": {},
   "outputs": [
    {
     "data": {
      "text/plain": [
       "2.453219634102559"
      ]
     },
     "execution_count": 5,
     "metadata": {},
     "output_type": "execute_result"
    }
   ],
   "source": [
    "# Given data\n",
    "sample_mean_X = 2.87 # Average fuel efficiency for Group X (Engine X)\n",
    "sample_mean_Y = 2.56 # Average fuel efficiency for Group Y (Engine Y)\n",
    "sample_std_X = 1.08 # Standard deviation for Group X\n",
    "sample_std_Y = 1.28 # Standard deviation for Group Y\n",
    "significance_level = 0.01\n",
    "sample_size_X = 150 # Sample size for Group X\n",
    "sample_size_Y = 200 # Sample size for Group Y\n",
    "\n",
    "#Calculate the z-score using the function\n",
    "z_score = TwoSampZTest(sample_mean_X, sample_mean_Y, sample_std_X, sample_std_Y, sample_size_X, sample_size_Y)\n",
    "z_score\n"
   ]
  },
  {
   "cell_type": "code",
   "execution_count": 8,
   "metadata": {},
   "outputs": [
    {
     "name": "stdout",
     "output_type": "stream",
     "text": [
      "z-score: 2.4532\n",
      "p-value: 0.0071\n",
      "Conclusion: Reject the null hypothesis. Hourly wages in plant 'A' are higher than those in plant 'B' at a 1% significance level.\n"
     ]
    }
   ],
   "source": [
    "# Calculate the one-tailed p-value\n",
    "p_value = 1-stats.norm.cdf(z_score)\n",
    "\n",
    "# Compare the p-value to the significance level\n",
    "if p_value < significance_level:\n",
    "    conclusion = \"Reject the null hypothesis. Hourly wages in plant 'A' are higher than those in plant 'B' at a 1% significance level.\"\n",
    "else:\n",
    "    conclusion = \"Fail to reject the null hypothesis. No significant difference in hourly wages between plant 'A' and 'B' at a 1% significance level.\"\n",
    "\n",
    "# Print the results\n",
    "print(f'z-score: {z_score:.4f}')\n",
    "print(f'p-value: {p_value:.4f}')\n",
    "print('Conclusion:', conclusion)"
   ]
  },
  {
   "cell_type": "markdown",
   "metadata": {},
   "source": [
    "# Q2. Complexity of SQL queries\n",
    "The Head of Data Analyst Department is conducting a comparative analysis of the complexity of SQL queries written by two analysts, namely Analyst X and Analyst Y.\n",
    "\n",
    "He has gathered data on the number of lines of code for each SQL query.\n",
    "```javascript\n",
    "Analyst X's SQL lines of code: [15, 18, 20, 17, 16, 19, 22, 16, 18, 21, 23, 18, 17, 19, 20, 24, 25, 26, 27, 28, 19, 21, 22, 23, 24, 25, 26, 27, 28, 29, 30]\n",
    "Analyst Y's SQL lines of code: [14, 17, 19, 16, 15, 18, 21, 15, 17, 20, 22, 17, 16, 18, 19, 23, 24, 25, 26, 27, 18, 20, 21, 22, 23, 24, 25, 26, 27, 28, 29]\n",
    "```\n",
    "The analyst hypothesizes that Analyst Y writes less complex code compared to Analyst X. To investigate this hypothesis, conduct an appropriate test with a 90% confidence interval."
   ]
  },
  {
   "cell_type": "code",
   "execution_count": 21,
   "metadata": {},
   "outputs": [
    {
     "name": "stdout",
     "output_type": "stream",
     "text": [
      "Z-score: 0.9186781563938095\n",
      "P-value: 0.17913196923296043\n",
      "z-score: 0.9187\n",
      "p-value: 0.1791\n",
      "Conclusion: Fail to reject the null hypothesis. No significant difference in hourly wages between plant 'A' and 'B' at a 1% significance level.\n"
     ]
    }
   ],
   "source": [
    "# Number of lines of code for SQL queries by Analyst X\n",
    "sql_lines_X = [15, 18, 20, 17, 16, 19, 22, 16, 18, 21, 23, 18, 17, 19, 20, 24, 25, 26, 27, 28, 19, 21, 22, 23, 24, 25, 26, 27, 28, 29, 30]\n",
    "\n",
    "# Number of lines of code for SQL queries by Analyst Y\n",
    "sql_lines_Y = [14, 17, 19, 16, 15, 18, 21, 15, 17, 20, 22, 17, 16, 18, 19, 23, 24, 25, 26, 27, 18, 20, 21, 22, 23, 24, 25, 26, 27, 28, 29]\n",
    "\n",
    "# Perform two-sample Z-test\n",
    "z_score, p_value = stests.ztest(sql_lines_X, sql_lines_Y, alternative ='larger')\n",
    "\n",
    "# Confidence level\n",
    "confidence_level = 0.90\n",
    "alpha = 1 - confidence_level\n",
    "\n",
    "# Print the results\n",
    "print(f\"Z-score: {z_score}\")\n",
    "print(f\"P-value: {p_value}\")\n",
    "\n",
    "if p_value < alpha:\n",
    "    conclusion = \"Reject the null hypothesis. Hourly wages in plant 'A' are higher than those in plant 'B' at a 1% significance level.\"\n",
    "else:\n",
    "    conclusion = \"Fail to reject the null hypothesis. No significant difference in hourly wages between plant 'A' and 'B' at a 1% significance level.\"\n",
    "\n",
    "# Print the results\n",
    "print(f'z-score: {z_score:.4f}')\n",
    "print(f'p-value: {p_value:.4f}')\n",
    "print('Conclusion:', conclusion)\n"
   ]
  },
  {
   "cell_type": "markdown",
   "metadata": {},
   "source": [
    "# Q3. Rice and Wheat\n",
    "\n",
    "Out of a sample of 1,000 people residing in Maharashtra, 540 are rice eaters, while the rest consume wheat primarily.\n",
    "\n",
    "Can we assume that rice and wheat are equally popular in this state at a 5% significance level?"
   ]
  },
  {
   "cell_type": "code",
   "execution_count": 35,
   "metadata": {},
   "outputs": [
    {
     "name": "stdout",
     "output_type": "stream",
     "text": [
      "Z-statistic = 2.537956625422939\n",
      "P-value = 0.011150180283180655\n",
      "Decision: Reject the null hypothesis\n",
      "Conclusion: There is enough evidence to conclude that the Wheat and Rice conversion are equally popular.\n"
     ]
    }
   ],
   "source": [
    "# Perform the Z-proportions test\n",
    "total_population = 1000\n",
    "rice_eaters = 540\n",
    "wheat_eaters = total_population - rice_eaters\n",
    "assumed_proportion = 0.5  # Assuming equal popularity of rice and wheat\n",
    "\n",
    "# Hypothesis test\n",
    "z_stat, p_value = sm.stats.proportions_ztest(rice_eaters, total_population, assumed_proportion, alternative='two-sided')\n",
    "\n",
    "# Print the results\n",
    "print(f\"Z-statistic = {z_stat}\")\n",
    "print(f\"P-value = {p_value}\")\n",
    "\n",
    "alpha = 0.05\n",
    "if p_value < alpha:\n",
    "    decision = \"Reject the null hypothesis\"\n",
    "else:\n",
    "    decision = \"Fail to reject the null hypothesis\"\n",
    "\n",
    "if decision == \"Reject the null hypothesis\":\n",
    "    conclusion = \"There is enough evidence to conclude that the Wheat and Rice conversion are equally popular.\"\n",
    "else:\n",
    "    conclusion = \"There is not enough evidence to conclude that the Wheat and Rice conversion rates are equally popular.\"\n",
    "\n",
    "# Print the results\n",
    "print(f\"Decision: {decision}\")\n",
    "print(f\"Conclusion: {conclusion}\")"
   ]
  },
  {
   "cell_type": "markdown",
   "metadata": {},
   "source": [
    "# Q4. Politician Support for Environment\n",
    "\n",
    "A state senator cannot decide how to vote on an environmental protection bill.\n",
    "\n",
    "The senator decides to request a survey and if the proportion of registered voters supporting the bill exceeds 0.60, she will vote for it.\n",
    "\n",
    "A random sample of 750 voters is selected and 495 are found to support the bill.\n",
    "\n",
    "Conduct an appropriate test at a 90% confidence interval."
   ]
  },
  {
   "cell_type": "code",
   "execution_count": 25,
   "metadata": {},
   "outputs": [
    {
     "name": "stdout",
     "output_type": "stream",
     "text": [
      "Test statistic: 3.354101966249688\n",
      "p-value: 0.0003981150787953913\n",
      "Reject the null hypothesis.\n"
     ]
    }
   ],
   "source": [
    "n = 750 # Sample size\n",
    "x = 495 # Number of customers dissatisfied with the new system\n",
    "p_hat = x/n # Sample proportion\n",
    "p = 0.60 # Hypothesized proportion\n",
    "\n",
    "# Calculate test statistic value for one sample proportion test\n",
    "Z = (p_hat - p) / np.sqrt((p * (1 - p)) / n)\n",
    "print('Test statistic:',Z)\n",
    "\n",
    "# Calculate the p-value for the test statistic\n",
    "p_value = 1 - stats.norm.cdf(Z)\n",
    "print('p-value:', p_value)\n",
    "\n",
    "# Define the significance level\n",
    "alpha = 0.10\n",
    "\n",
    "# Make a decision based on the p-value and significance level\n",
    "if p_value < alpha:\n",
    "  print('Reject the null hypothesis.')\n",
    "else:\n",
    "  print('Fail to reject the null hypothesis.')"
   ]
  },
  {
   "cell_type": "markdown",
   "metadata": {},
   "source": [
    "# Q5. Find the Hypotheses\n",
    "\n",
    "A fair coin should land showing tails with a relative frequency of 50% in a long series of flips.\n",
    "\n",
    "John was told by a friend that spinning a coin on a flat surface, rather than flipping it would not be fair. Spinning would cause the coin to be more biased towards giving tails.\n",
    "\n",
    "To test this claim, he spun his own penny 100 times. It was observed that the penny showed tails in 60% of the spins.\n",
    "\n",
    "Let p represent the proportion of spins that this penny would land showing tails.\n",
    "\n",
    "What are appropriate hypotheses for John's significance test?"
   ]
  },
  {
   "cell_type": "markdown",
   "metadata": {},
   "source": [
    "## Correct option: Null: p = 50%, Alternative: p > 50%\n",
    "\n",
    "## Explanation:\n",
    "Null Hypothesis (H0):\n",
    "\n",
    "The null hypothesis represents the assumption that there is no difference from the expected proportion of tails for a fair coin,\n",
    "i.e. H0: p=50\n",
    "Alternative Hypothesis (H1):\n",
    "\n",
    "The alternative hypothesis expresses the claim being tested, which is that spinning the penny makes it more likely to land showing tails, implying that the proportion of tails may be greater than 50%,\n",
    "i.e. H1: p>50"
   ]
  },
  {
   "cell_type": "markdown",
   "metadata": {},
   "source": [
    "# Q6. Quidditch teams\n",
    "\n",
    "The Quidditch teams at Hogwarts conducted tryouts for two positions: Chasers and Seekers.\n",
    "\n",
    "In Group Chasers, out of 90 students who tried out, 57 were selected. In Group Seekers, out of 120 students who tried out, 98 were selected.\n",
    "\n",
    "Is there a significant difference in the proportion of students selected for Chasers and Seekers positions?\n",
    "\n",
    "Conduct a test at 90% confidence level."
   ]
  },
  {
   "cell_type": "code",
   "execution_count": 30,
   "metadata": {},
   "outputs": [
    {
     "name": "stdout",
     "output_type": "stream",
     "text": [
      "Z-statistic: -2.990306921349541\n",
      "P-value: 0.002786972588958094\n",
      "Reject the null hypothesis. There is a significant difference in the proportion of students selected for Chasers and Seekers positions.\n"
     ]
    }
   ],
   "source": [
    "\n",
    "# Data for Chasers\n",
    "selected_chasers = 57\n",
    "total_chasers = 90\n",
    "\n",
    "# Data for Seekers\n",
    "selected_seekers = 98\n",
    "total_seekers = 120\n",
    "\n",
    "# Perform two-sample Z-proportion test\n",
    "z_stat, p_value = sm.stats.proportions_ztest([selected_chasers, selected_seekers], [total_chasers, total_seekers], alternative = 'two-sided')\n",
    "\n",
    "# Confidence level\n",
    "confidence_level = 0.90\n",
    "# Calculate the critical value for a two-tailed test\n",
    "alpha = 1 - confidence_level\n",
    "\n",
    "# Print the results\n",
    "print(f\"Z-statistic: {z_stat}\")\n",
    "print(f\"P-value: {p_value}\")\n",
    "\n",
    "# Decision Rule\n",
    "if p_value < alpha:\n",
    "   print(\"Reject the null hypothesis. There is a significant difference in the proportion of students selected for Chasers and Seekers positions.\")\n",
    "else:\n",
    "   print(\"Fail to reject the null hypothesis. There is no significant difference in the proportion of students selected for Chasers and Seekers positions.\")"
   ]
  },
  {
   "cell_type": "markdown",
   "metadata": {},
   "source": [
    "# Q7. Best Season of Naruto\n",
    "\n",
    "As a product manager, you want to evaluate the user satisfaction for two different seasons of Naruto Shippuden (Season 1 and Season 2).\n",
    "\n",
    "You collected feedback from 250 viewers who watched Season 1 of Naruto Shippuden, and 120 expressed satisfaction. Similarly, for Season 2, you gathered data from 300 viewers, and 150 of them expressed satisfaction.\n",
    "\n",
    "Conduct an appropriate test at a 95% confidence interval to determine if there's a higher user satisfaction for Season 2 than for Season 1."
   ]
  },
  {
   "cell_type": "code",
   "execution_count": 32,
   "metadata": {},
   "outputs": [
    {
     "name": "stdout",
     "output_type": "stream",
     "text": [
      "Z-statistic: -0.46717659215115714\n",
      "P-value: 0.3201867697265242\n",
      "Fail to reject the null hypothesis. Season 2 is equal to Season 1 in terms of customer satisfaction.\n"
     ]
    }
   ],
   "source": [
    "\n",
    "total = np.array([250, 300])\n",
    "satisfied = np.array([120, 150])\n",
    "\n",
    "# Perform two-sample Z-proportion test\n",
    "z_stat, p_value = sm.stats.proportions_ztest(satisfied, total, alternative = 'smaller')\n",
    "\n",
    "# Confidence level\n",
    "confidence_level = 0.95\n",
    "# Calculate the critical value for a two-tailed test\n",
    "alpha = 1 - confidence_level\n",
    "\n",
    "# Print the results\n",
    "print(f\"Z-statistic: {z_stat}\")\n",
    "print(f\"P-value: {p_value}\")\n",
    "\n",
    "# Decision Rule\n",
    "if p_value < alpha:\n",
    "   print(\"Reject the null hypothesis. Season 2 is better than Season 1 in terms of customer satisfaction.\")\n",
    "else:\n",
    "   print(\"Fail to reject the null hypothesis. Season 2 is equal to Season 1 in terms of customer satisfaction.\")"
   ]
  },
  {
   "cell_type": "markdown",
   "metadata": {},
   "source": [
    "# Q8. Assess Customer Satisfaction\n",
    "\n",
    "A company is surveying to assess customer satisfaction with two different support approaches.\n",
    "\n",
    "The company collects feedback from customers subjected to each approach and wants to compare the satisfied customers.\n",
    "\n",
    "Which statistical test would be most appropriate for the company to compare the satisfied customers between the two support approaches, and what would be the relevant null hypothesis?\n",
    "\n",
    "- One-sample z-test for mean, H0: The proportion of satisfied customers is different for the two customer support approaches.\n",
    "- Two-sample z-test for mean, H0: The proportion of satisfied customers is the same for both customer support approaches.\n",
    "- One-sample z-proportion test H0: The proportion of satisfied customers is different for the two customer support approaches.\n",
    "- Two-sample z-proportion test, H0: The proportion of satisfied customers is the same for both customer support approaches."
   ]
  },
  {
   "cell_type": "markdown",
   "metadata": {},
   "source": [
    "## Correct Answer: \n",
    "Two-sample z-proportion test, H0: The proportion of satisfied customers is the same for both customer support approaches.\n",
    "\n",
    "## Explanation:\n",
    "\n",
    "In this scenario, the company is comparing the proportion of satisfied customers between two different groups (support approaches).\n",
    "Therefore, we need a statistical test that compares the proportions between two independent samples.\n",
    "\n",
    "- One-sample z-test for mean: This is not suitable as it compares the mean of a single sample to a known mean.\n",
    "- Two-sample z-test for mean: This is not applicable as we are dealing with proportions, not means.\n",
    "- One-sample z-proportion test: This is only suitable for comparing the proportion of a single sample to a known proportion.\n",
    "- Two-sample z-proportion test: This is the best option as it specifically compares the proportions of two independent samples.\n",
    "Null Hypothesis (H0): The proportion of satisfied customers is the same for both customer support approaches.\n",
    "\n",
    "Alternative Hypothesis (H1): The proportion of satisfied customers is different for the two customer support approaches.\n",
    "\n",
    "By performing a two-sample z-proportion test, the company can statistically assess whether the observed difference in customer satisfaction between the two support approaches is simply due to chance or reflects a real difference in the effectiveness of the approaches."
   ]
  },
  {
   "cell_type": "code",
   "execution_count": null,
   "metadata": {},
   "outputs": [],
   "source": []
  }
 ],
 "metadata": {
  "kernelspec": {
   "display_name": "Python 3",
   "language": "python",
   "name": "python3"
  },
  "language_info": {
   "codemirror_mode": {
    "name": "ipython",
    "version": 3
   },
   "file_extension": ".py",
   "mimetype": "text/x-python",
   "name": "python",
   "nbconvert_exporter": "python",
   "pygments_lexer": "ipython3",
   "version": "3.11.4"
  }
 },
 "nbformat": 4,
 "nbformat_minor": 2
}
