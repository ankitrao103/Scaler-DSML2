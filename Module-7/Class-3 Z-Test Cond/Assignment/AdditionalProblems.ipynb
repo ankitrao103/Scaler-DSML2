{
 "cells": [
  {
   "cell_type": "code",
   "execution_count": 1,
   "metadata": {},
   "outputs": [],
   "source": [
    "from statsmodels.stats import weightstats as stests\n",
    "from scipy import  stats\n",
    "import statsmodels.api as sm\n",
    "import numpy as np\n"
   ]
  },
  {
   "cell_type": "code",
   "execution_count": 2,
   "metadata": {},
   "outputs": [],
   "source": [
    "def TwoSampZTest(samp_mean_1, samp_mean_2, samp_std_1, samp_std_2, n1, n2):\n",
    "  # Calculate the test statistic\n",
    "  denominator = np.sqrt((samp_std_1**2 / n1) + (samp_std_2**2 / n2))\n",
    "  z_score = (samp_mean_1 - samp_mean_2) / denominator\n",
    "  return z_score"
   ]
  },
  {
   "cell_type": "markdown",
   "metadata": {},
   "source": [
    "# Q1. Server A or B?\n",
    "\n",
    "An IT team is comparing the response times of two different web servers, Server A and Server B, under a specific load. They have collected response time data for a sample of requests.\n",
    "\n",
    "- Server A: Mean response time of 120 milliseconds from 30 requests, with a standard deviation of 15 milliseconds.\n",
    "- Server B: Mean response time of 110 milliseconds from 35 requests, with a standard deviation of 12 milliseconds.\n",
    "\n",
    "Conduct an appropriate test to determine if there is a significant difference in the mean response times between the two servers. Assume a 5% significance level."
   ]
  },
  {
   "cell_type": "code",
   "execution_count": 4,
   "metadata": {},
   "outputs": [
    {
     "name": "stdout",
     "output_type": "stream",
     "text": [
      "z-score: 2.9343\n",
      "p-value: 0.0033\n",
      "Conclusion: Reject the null hypothesis. There is a significant difference in the mean response times between Server A and Server B.\n"
     ]
    }
   ],
   "source": [
    "# Given data\n",
    "sample_mean_X = 120 # Average fuel efficiency for Group X (Engine X)\n",
    "sample_mean_Y = 110 # Average fuel efficiency for Group Y (Engine Y)\n",
    "sample_std_X = 15 # Standard deviation for Group X\n",
    "sample_std_Y = 12 # Standard deviation for Group Y\n",
    "significance_level = 0.05\n",
    "sample_size_X = 30 # Sample size for Group X\n",
    "sample_size_Y = 35 # Sample size for Group Y\n",
    "\n",
    "#Calculate the z-score using the function\n",
    "z_score = TwoSampZTest(sample_mean_X, sample_mean_Y, sample_std_X, sample_std_Y, sample_size_X, sample_size_Y)\n",
    "# Calculate the one-tailed p-value\n",
    "p_value = 2*(1-stats.norm.cdf(z_score))\n",
    "\n",
    "# Compare the p-value to the significance level\n",
    "if p_value < significance_level:\n",
    "    conclusion = \"Reject the null hypothesis. There is a significant difference in the mean response times between Server A and Server B.\"\n",
    "else:\n",
    "    conclusion = \"Fail to reject the null hypothesis.There is a no significant difference in the mean response times between Server A and Server B.\"\n",
    "\n",
    "# Print the results\n",
    "print(f'z-score: {z_score:.4f}')\n",
    "print(f'p-value: {p_value:.4f}')\n",
    "print('Conclusion:', conclusion)\n"
   ]
  },
  {
   "cell_type": "markdown",
   "metadata": {},
   "source": [
    "# Q2. Bullseye\n",
    "\n",
    "A group of archers claims that they can hit the bullseye with a success rate of 70%. To test this claim, a random sample of 100 shots is taken, and 65 of them hit the bullseye.\n",
    "\n",
    "Is there significant evidence to suggest that the archer’s actual success rate is greater than 70% at a 95% confidence level?"
   ]
  },
  {
   "cell_type": "code",
   "execution_count": 6,
   "metadata": {},
   "outputs": [
    {
     "name": "stdout",
     "output_type": "stream",
     "text": [
      "Test statistic: -1.0910894511799603\n",
      "p-value: 0.8623832379625824\n",
      "Fail to reject the null hypothesis.There is no significant evidence to suggest that the archers' actual success rate is greater than 70%.\n"
     ]
    }
   ],
   "source": [
    "# One Sample Z-proportion test\n",
    "n = 100 # Sample size\n",
    "x = 65 # Number of customers dissatisfied with the new system\n",
    "p_hat = x/n # Sample proportion\n",
    "p = 0.70 # Hypothesized proportion\n",
    "\n",
    "# Calculate test statistic value for one sample proportion test\n",
    "Z = (p_hat - p) / np.sqrt((p * (1 - p)) / n)\n",
    "print('Test statistic:',Z)\n",
    "\n",
    "# Calculate the p-value for the test statistic\n",
    "p_value = 1 - stats.norm.cdf(Z)\n",
    "print('p-value:', p_value)\n",
    "\n",
    "# Define the significance level\n",
    "alpha = 0.05\n",
    "\n",
    "# Make a decision based on the p-value and significance level\n",
    "if p_value < alpha:\n",
    "  print(\"Reject the null hypothesis.There is significant evidence to suggest that the archers' actual success rate is greater than 70%.\")\n",
    "else:\n",
    "  print(\"Fail to reject the null hypothesis.There is no significant evidence to suggest that the archers' actual success rate is greater than 70%.\")"
   ]
  },
  {
   "cell_type": "markdown",
   "metadata": {},
   "source": [
    "# Q3. Are they comparable?\n",
    "\n",
    "You are testing two drugs as a remedy. Drug A is effective in 41 out of a sample of 195. Drug B works on 351 out of 605 people.\n",
    "\n",
    "Are the two drugs comparable in terms of effectiveness? Use a 5% significance level for testing.\n",
    "\n",
    "Perform an appropriate test."
   ]
  },
  {
   "cell_type": "code",
   "execution_count": 8,
   "metadata": {},
   "outputs": [
    {
     "name": "stdout",
     "output_type": "stream",
     "text": [
      "Z-statistic: -8.985900954503084\n",
      "P-value: 2.566230446480293e-19\n",
      "Reject the null hypothesis.  the proportions of Drug A and Drug B are significantly different.\n"
     ]
    }
   ],
   "source": [
    "\n",
    "total = np.array([195, 605])\n",
    "satisfied = np.array([41, 351])\n",
    "\n",
    "# Perform two-sample Z-proportion test\n",
    "z_stat, p_value = sm.stats.proportions_ztest(satisfied, total, alternative = 'two-sided')\n",
    "\n",
    "\n",
    "# Calculate the critical value for a two-tailed test\n",
    "alpha = 0.05\n",
    "\n",
    "# Print the results\n",
    "print(f\"Z-statistic: {z_stat}\")\n",
    "print(f\"P-value: {p_value}\")\n",
    "\n",
    "# Decision Rule\n",
    "if p_value < alpha:\n",
    "   print(\"Reject the null hypothesis. the proportions of Drug A and Drug B are significantly different.\")\n",
    "else:\n",
    "   print(\"Fail to reject the null hypothesis. No significant difference in the proportions of Drug A and Drug B\")"
   ]
  },
  {
   "cell_type": "markdown",
   "metadata": {},
   "source": [
    "# Q4. Post Engagement Rate\n",
    "\n",
    "As a social media analyst, you want to compare the engagement rates of posts from two different accounts (Account X and Account Y).\n",
    "\n",
    "You collected data on 180 posts from Account X, where 40 received high engagement. Similarly, you collect data on 200 posts from Account Y, where 60 received high engagement.\n",
    "\n",
    "Conduct an appropriate test at a 95% confidence interval to determine if there's a significant difference in high engagement proportions between the two accounts."
   ]
  },
  {
   "cell_type": "code",
   "execution_count": 11,
   "metadata": {},
   "outputs": [
    {
     "name": "stdout",
     "output_type": "stream",
     "text": [
      "Z-statistic: -1.7191729277636834\n",
      "P-value: 0.08558288874449103\n",
      "Fail to reject the null hypothesis.  There is no significant difference in high engagement proportions between Account X and Account Y.\n"
     ]
    }
   ],
   "source": [
    "\n",
    "total = np.array([180, 200])\n",
    "satisfied = np.array([40, 60])\n",
    "\n",
    "# Perform two-sample Z-proportion test\n",
    "z_stat, p_value = sm.stats.proportions_ztest(satisfied, total, alternative = 'two-sided')\n",
    "\n",
    "\n",
    "# Calculate the critical value for a two-tailed test\n",
    "alpha = 0.05\n",
    "\n",
    "# Print the results\n",
    "print(f\"Z-statistic: {z_stat}\")\n",
    "print(f\"P-value: {p_value}\")\n",
    "\n",
    "# Decision Rule\n",
    "if p_value < alpha:\n",
    "   print(\"Reject the null hypothesis. There is a significant difference in high engagement proportions between Account X and Account Y.\")\n",
    "else:\n",
    "   print(\"Fail to reject the null hypothesis.  There is no significant difference in high engagement proportions between Account X and Account Y.\")"
   ]
  },
  {
   "cell_type": "code",
   "execution_count": null,
   "metadata": {},
   "outputs": [],
   "source": []
  }
 ],
 "metadata": {
  "kernelspec": {
   "display_name": "Python 3",
   "language": "python",
   "name": "python3"
  },
  "language_info": {
   "codemirror_mode": {
    "name": "ipython",
    "version": 3
   },
   "file_extension": ".py",
   "mimetype": "text/x-python",
   "name": "python",
   "nbconvert_exporter": "python",
   "pygments_lexer": "ipython3",
   "version": "3.11.4"
  }
 },
 "nbformat": 4,
 "nbformat_minor": 2
}
