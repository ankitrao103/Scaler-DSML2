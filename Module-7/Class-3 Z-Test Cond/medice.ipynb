{
 "cells": [
  {
   "cell_type": "code",
   "execution_count": 2,
   "metadata": {},
   "outputs": [],
   "source": [
    "import random\n",
    "import numpy as np"
   ]
  },
  {
   "cell_type": "code",
   "execution_count": 3,
   "metadata": {},
   "outputs": [
    {
     "name": "stdout",
     "output_type": "stream",
     "text": [
      "M1_data:  [6.0, 6.0, 11.0, 7.0, 19.0, 6.0, 13.0, 10.0, 18.0, 7.0, 10.0, 10.0, 9.0, 5.0, 12.0, 6.0, 14.0, 6.0, 10.0, 12.0, 19.0, 6.0, 7.0, 17.0, 5.0, 19.0, 14.0, 9.0, 18.0, 17.0, 10.0, 17.0, 8.0, 14.0, 13.0, 17.0, 10.0, 11.0, 17.0, 13.0, 15.0, 15.0, 15.0, 18.0, 12.0, 15.0, 11.0, 5.0, 16.0, 8.0, 17.0, 19.0, 15.0, 8.0, 10.0, 11.0, 6.0, 12.0, 14.0, 10.0, 8.0, 6.0, 14.0, 5.0, 10.0, 8.0, 13.0, 16.0, 19.0, 15.0, 20.0, 19.0, 14.0, 9.0, 12.0, 8.0, 20.0, 12.0, 16.0, 6.0, 7.0, 8.0, 9.0, 10.0, 9.0, 12.0, 11.0, 7.0, 6.0, 10.0, 6.0, 11.0, 5.0, 13.0, 6.0, 15.0, 11.0, 20.0, 9.0, 12.0]\n"
     ]
    }
   ],
   "source": [
    "# Set a random seed for reproducibility\n",
    "# Setting random seed to 123 for consistent, deterministic generation of recovery times across groups.\n",
    "random.seed(123) # you can use any integer as the seed\n",
    "\n",
    "#  Create an empty list to store the recovery times\n",
    "M1_data = []\n",
    "\n",
    "# Generate 100 random recovery times\n",
    "# The underscore _ in the loop is a placeholder, signifying indifference to the counter value and solely focusing on executing the code block 100 times.\n",
    "for _ in range(100):\n",
    "    recovery_time = random.uniform(5.0, 20.0) # Generating values between 5 and 20\n",
    "    M1_data.append(np.round(recovery_time,0))\n",
    "\n",
    "# Print the generated data\n",
    "print(\"M1_data: \",M1_data) "
   ]
  },
  {
   "cell_type": "code",
   "execution_count": 4,
   "metadata": {},
   "outputs": [
    {
     "name": "stdout",
     "output_type": "stream",
     "text": [
      "M2_data:  [24.0, 13.0, 14.0, 21.0, 29.0, 27.0, 15.0, 23.0, 22.0, 14.0, 11.0, 7.0, 27.0, 6.0, 18.0, 18.0, 9.0, 21.0, 28.0, 24.0, 15.0, 8.0, 29.0, 18.0, 21.0, 25.0, 15.0, 7.0, 8.0, 22.0, 14.0, 27.0, 24.0, 30.0, 22.0, 13.0, 25.0, 6.0, 18.0, 27.0, 18.0, 8.0, 18.0, 19.0, 14.0, 27.0, 14.0, 12.0, 18.0, 10.0, 13.0, 15.0, 28.0, 7.0, 10.0, 10.0, 30.0, 27.0, 10.0, 19.0, 7.0, 13.0, 14.0, 18.0, 28.0, 25.0, 18.0, 25.0, 17.0, 23.0, 24.0, 11.0, 26.0, 19.0, 17.0, 15.0, 11.0, 18.0, 8.0, 21.0, 27.0, 25.0, 20.0, 17.0, 22.0, 8.0, 6.0, 27.0, 14.0, 22.0]\n"
     ]
    }
   ],
   "source": [
    "# Crate an empty list to store the recovery times\n",
    "M2_data = []\n",
    "\n",
    "# Generate 90 random recovery times\n",
    "# The underscore _ in the loop is a placeholder, signifying in difference to counter value and  \n",
    "for _ in range(90):\n",
    "    recovery_time = random.uniform(5.0, 30.0) # Generating values between 5 and 20\n",
    "    M2_data.append(np.round(recovery_time,0))\n",
    "\n",
    "# Print the generated data\n",
    "print(\"M2_data: \",M2_data) "
   ]
  },
  {
   "cell_type": "code",
   "execution_count": 5,
   "metadata": {},
   "outputs": [],
   "source": [
    "# import a library to perform a z-test\n",
    "from statsmodels.stats import weightstats as stests\n",
    "from scipy import  stats"
   ]
  },
  {
   "cell_type": "code",
   "execution_count": 7,
   "metadata": {},
   "outputs": [
    {
     "name": "stdout",
     "output_type": "stream",
     "text": [
      "The z-score is:  -7.68917478890992\n",
      "The p-value is:  1.4808703984296164e-14\n"
     ]
    }
   ],
   "source": [
    "z_score , pval = stests.ztest(M1_data, M2_data, value=0 ,alternative='two-sided')\n",
    "\n",
    "# Print the test statistic and the corresponding p-value\n",
    "print(\"The z-score is: \",z_score)\n",
    "print(\"The p-value is: \",pval)"
   ]
  },
  {
   "cell_type": "code",
   "execution_count": 9,
   "metadata": {},
   "outputs": [
    {
     "name": "stdout",
     "output_type": "stream",
     "text": [
      "Reject the null hypothesis, The recovery time of M1 is different from M2.\n"
     ]
    }
   ],
   "source": [
    "aplha = 0.01\n",
    "if pval<aplha:\n",
    "    print(\"Reject the null hypothesis, The recovery time of M1 is different from M2.\")\n",
    "else:\n",
    "    print(\"Fail to reject the null hypothesis The recovery time of M1 is not different from M2.\")"
   ]
  },
  {
   "cell_type": "markdown",
   "metadata": {},
   "source": [
    "### Q2. Car manufacturers Question\n",
    "\n",
    "A car manufacturer conducted a study to compare the fuel efficiency of two different engine types: Engine X and Engine Y.\n",
    "\n",
    "They collected data from two groups: Group X and Group Y.\n",
    "\n",
    "In Group X, a random sample of 50 cars with Engine X had an average fuel efficiency of 30 miles per gallon (mpg) with a standard deviation of 3 mpg.\n",
    "In Group Y, a random sample of 60 cars with Engine Y had an average fuel efficiency of 32 mpg with a standard deviation of 2.5 mpg.\n",
    "\n",
    "### Null hypothesis: The population means of fuel efficiency for Engine X and Engine Y are the same.\n",
    "### Alternative hypothesis: One engine type is more fuel-efficient than the other.\n"
   ]
  },
  {
   "cell_type": "code",
   "execution_count": 11,
   "metadata": {},
   "outputs": [],
   "source": [
    "# Define the function to calculate the test statistic and corresponding p-value\n",
    "def TwoSampZTest(samp_mean_1, samp_mean_2, samp_std_1, samp_std_2, n1, n2):\n",
    "  # Calculate the test statistic\n",
    "  denominator = np.sqrt((samp_std_1**2 / n1) + (samp_std_2**2 / n2))\n",
    "  z_score = (samp_mean_1 - samp_mean_2) / denominator\n",
    "  return z_score\n"
   ]
  },
  {
   "cell_type": "code",
   "execution_count": 10,
   "metadata": {},
   "outputs": [],
   "source": [
    "# Given data\n",
    "sample_mean_X = 30 # Average fuel efficiency for Group X (Engine X)\n",
    "sample_mean_Y = 32 # Average fuel efficiency for Group Y (Engine Y)\n",
    "sample_std_X = 3 # Standard deviation for Group X\n",
    "sample_std_Y = 2.5 # Standard deviation for Group Y\n",
    "significance_level = 0.05\n",
    "sample_size_X = 50 # Sample size for Group X\n",
    "sample_size_Y = 60 # Sample size for Group Y\n"
   ]
  },
  {
   "cell_type": "code",
   "execution_count": 12,
   "metadata": {},
   "outputs": [
    {
     "data": {
      "text/plain": [
       "-3.751832396884334"
      ]
     },
     "execution_count": 12,
     "metadata": {},
     "output_type": "execute_result"
    }
   ],
   "source": [
    "# Calculate the z-score using the function\n",
    "z_score = TwoSampZTest(sample_mean_X, sample_mean_Y, sample_std_X, sample_std_Y, sample_size_X, sample_size_Y)\n",
    "z_score"
   ]
  },
  {
   "cell_type": "code",
   "execution_count": 17,
   "metadata": {},
   "outputs": [
    {
     "data": {
      "text/plain": [
       "0.00017554681014571685"
      ]
     },
     "execution_count": 17,
     "metadata": {},
     "output_type": "execute_result"
    }
   ],
   "source": [
    "p_value = 2 * (stats.norm.cdf(z_score))\n",
    "# OR\n",
    "p_value = 2 * (1 - stats.norm.cdf(abs(z_score)))\n",
    "p_value"
   ]
  },
  {
   "cell_type": "code",
   "execution_count": 15,
   "metadata": {},
   "outputs": [
    {
     "data": {
      "text/plain": [
       "1.0"
      ]
     },
     "execution_count": 15,
     "metadata": {},
     "output_type": "execute_result"
    }
   ],
   "source": [
    "a = stats.norm.cdf(abs(z_score))\n",
    "b = stats.norm.cdf(z_score)\n",
    "a+b"
   ]
  },
  {
   "cell_type": "code",
   "execution_count": 18,
   "metadata": {},
   "outputs": [
    {
     "name": "stdout",
     "output_type": "stream",
     "text": [
      "z-score: -3.7518\n",
      "p-value: 0.0002\n",
      "Conclusion: Reject the null hypothesis. Engine Y is more fuel-efficient.\n"
     ]
    }
   ],
   "source": [
    "# Compare the p-value to the significance level\n",
    "if p_value < significance_level:\n",
    "  conclusion = \"Reject the null hypothesis. Engine Y is more fuel-efficient.\"\n",
    "else:\n",
    "  conclusion = \"Fail to reject the null hypothesis. No significant difference in fuel efficiency.\"\n",
    "\n",
    "print(f'z-score: {z_score:.4f}')\n",
    "print(f'p-value: {p_value:.4f}')\n",
    "print('Conclusion:', conclusion)"
   ]
  },
  {
   "cell_type": "code",
   "execution_count": null,
   "metadata": {},
   "outputs": [],
   "source": []
  }
 ],
 "metadata": {
  "kernelspec": {
   "display_name": "Python 3",
   "language": "python",
   "name": "python3"
  },
  "language_info": {
   "codemirror_mode": {
    "name": "ipython",
    "version": 3
   },
   "file_extension": ".py",
   "mimetype": "text/x-python",
   "name": "python",
   "nbconvert_exporter": "python",
   "pygments_lexer": "ipython3",
   "version": "3.11.4"
  }
 },
 "nbformat": 4,
 "nbformat_minor": 2
}
