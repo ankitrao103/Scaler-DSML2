{
 "cells": [
  {
   "cell_type": "code",
   "execution_count": 1,
   "metadata": {},
   "outputs": [],
   "source": [
    "import random\n",
    "import numpy as np"
   ]
  },
  {
   "cell_type": "code",
   "execution_count": 3,
   "metadata": {},
   "outputs": [
    {
     "name": "stdout",
     "output_type": "stream",
     "text": [
      "M1_data:  [6.0, 6.0, 11.0, 7.0, 19.0, 6.0, 13.0, 10.0, 18.0, 7.0, 10.0, 10.0, 9.0, 5.0, 12.0, 6.0, 14.0, 6.0, 10.0, 12.0, 19.0, 6.0, 7.0, 17.0, 5.0, 19.0, 14.0, 9.0, 18.0, 17.0, 10.0, 17.0, 8.0, 14.0, 13.0, 17.0, 10.0, 11.0, 17.0, 13.0, 15.0, 15.0, 15.0, 18.0, 12.0, 15.0, 11.0, 5.0, 16.0, 8.0, 17.0, 19.0, 15.0, 8.0, 10.0, 11.0, 6.0, 12.0, 14.0, 10.0, 8.0, 6.0, 14.0, 5.0, 10.0, 8.0, 13.0, 16.0, 19.0, 15.0, 20.0, 19.0, 14.0, 9.0, 12.0, 8.0, 20.0, 12.0, 16.0, 6.0, 7.0, 8.0, 9.0, 10.0, 9.0, 12.0, 11.0, 7.0, 6.0, 10.0, 6.0, 11.0, 5.0, 13.0, 6.0, 15.0, 11.0, 20.0, 9.0, 12.0]\n"
     ]
    }
   ],
   "source": [
    "# Set a random seed for reproducibility\n",
    "# Setting random seed to 123 for consistent, deterministic generation of recovery times across groups.\n",
    "random.seed(123) # you can use any integer as the seed\n",
    "\n",
    "#  Create an empty list to store the recovery times\n",
    "M1_data = []\n",
    "\n",
    "# Generate 100 random recovery times\n",
    "# The underscore _ in the loop is a placeholder, signifying indifference to the counter value and solely focusing on executing the code block 100 times.\n",
    "for _ in range(100):\n",
    "    recovery_time = random.uniform(5.0, 20.0) # Generating values between 5 and 20\n",
    "    M1_data.append(np.round(recovery_time,0))\n",
    "\n",
    "# Print the generated data\n",
    "print(\"M1_data: \",M1_data) "
   ]
  },
  {
   "cell_type": "code",
   "execution_count": 4,
   "metadata": {},
   "outputs": [
    {
     "name": "stdout",
     "output_type": "stream",
     "text": [
      "M2_data:  [24.0, 13.0, 14.0, 21.0, 29.0, 27.0, 15.0, 23.0, 22.0, 14.0, 11.0, 7.0, 27.0, 6.0, 18.0, 18.0, 9.0, 21.0, 28.0, 24.0, 15.0, 8.0, 29.0, 18.0, 21.0, 25.0, 15.0, 7.0, 8.0, 22.0, 14.0, 27.0, 24.0, 30.0, 22.0, 13.0, 25.0, 6.0, 18.0, 27.0, 18.0, 8.0, 18.0, 19.0, 14.0, 27.0, 14.0, 12.0, 18.0, 10.0, 13.0, 15.0, 28.0, 7.0, 10.0, 10.0, 30.0, 27.0, 10.0, 19.0, 7.0, 13.0, 14.0, 18.0, 28.0, 25.0, 18.0, 25.0, 17.0, 23.0, 24.0, 11.0, 26.0, 19.0, 17.0, 15.0, 11.0, 18.0, 8.0, 21.0, 27.0, 25.0, 20.0, 17.0, 22.0, 8.0, 6.0, 27.0, 14.0, 22.0]\n"
     ]
    }
   ],
   "source": [
    "# Crate an empty list to store the recovery times\n",
    "M2_data = []\n",
    "\n",
    "# Generate 90 random recovery times\n",
    "# The underscore _ in the loop is a placeholder, signifying in difference to counter value and  \n",
    "for _ in range(90):\n",
    "    recovery_time = random.uniform(5.0, 30.0) # Generating values between 5 and 20\n",
    "    M2_data.append(np.round(recovery_time,0))\n",
    "\n",
    "# Print the generated data\n",
    "print(\"M2_data: \",M2_data) "
   ]
  },
  {
   "cell_type": "code",
   "execution_count": 2,
   "metadata": {},
   "outputs": [],
   "source": [
    "# import a library to perform a z-test\n",
    "from statsmodels.stats import weightstats as stests\n",
    "from scipy import  stats"
   ]
  },
  {
   "cell_type": "code",
   "execution_count": 7,
   "metadata": {},
   "outputs": [
    {
     "name": "stdout",
     "output_type": "stream",
     "text": [
      "The z-score is:  -7.68917478890992\n",
      "The p-value is:  1.4808703984296164e-14\n"
     ]
    }
   ],
   "source": [
    "z_score , pval = stests.ztest(M1_data, M2_data, value=0 ,alternative='two-sided')\n",
    "\n",
    "# Print the test statistic and the corresponding p-value\n",
    "print(\"The z-score is: \",z_score)\n",
    "print(\"The p-value is: \",pval)"
   ]
  },
  {
   "cell_type": "code",
   "execution_count": 9,
   "metadata": {},
   "outputs": [
    {
     "name": "stdout",
     "output_type": "stream",
     "text": [
      "Reject the null hypothesis, The recovery time of M1 is different from M2.\n"
     ]
    }
   ],
   "source": [
    "aplha = 0.01\n",
    "if pval<aplha:\n",
    "    print(\"Reject the null hypothesis, The recovery time of M1 is different from M2.\")\n",
    "else:\n",
    "    print(\"Fail to reject the null hypothesis The recovery time of M1 is not different from M2.\")"
   ]
  },
  {
   "cell_type": "markdown",
   "metadata": {},
   "source": [
    "### Q2. Car manufacturers Question\n",
    "\n",
    "A car manufacturer conducted a study to compare the fuel efficiency of two different engine types: Engine X and Engine Y.\n",
    "\n",
    "They collected data from two groups: Group X and Group Y.\n",
    "\n",
    "In Group X, a random sample of 50 cars with Engine X had an average fuel efficiency of 30 miles per gallon (mpg) with a standard deviation of 3 mpg.\n",
    "In Group Y, a random sample of 60 cars with Engine Y had an average fuel efficiency of 32 mpg with a standard deviation of 2.5 mpg.\n",
    "\n",
    "### Null hypothesis: The population means of fuel efficiency for Engine X and Engine Y are the same.\n",
    "### Alternative hypothesis: One engine type is more fuel-efficient than the other.\n"
   ]
  },
  {
   "cell_type": "code",
   "execution_count": 11,
   "metadata": {},
   "outputs": [],
   "source": [
    "# Define the function to calculate the test statistic and corresponding p-value\n",
    "def TwoSampZTest(samp_mean_1, samp_mean_2, samp_std_1, samp_std_2, n1, n2):\n",
    "  # Calculate the test statistic\n",
    "  denominator = np.sqrt((samp_std_1**2 / n1) + (samp_std_2**2 / n2))\n",
    "  z_score = (samp_mean_1 - samp_mean_2) / denominator\n",
    "  return z_score\n"
   ]
  },
  {
   "cell_type": "code",
   "execution_count": 10,
   "metadata": {},
   "outputs": [],
   "source": [
    "# Given data\n",
    "sample_mean_X = 30 # Average fuel efficiency for Group X (Engine X)\n",
    "sample_mean_Y = 32 # Average fuel efficiency for Group Y (Engine Y)\n",
    "sample_std_X = 3 # Standard deviation for Group X\n",
    "sample_std_Y = 2.5 # Standard deviation for Group Y\n",
    "significance_level = 0.05\n",
    "sample_size_X = 50 # Sample size for Group X\n",
    "sample_size_Y = 60 # Sample size for Group Y\n"
   ]
  },
  {
   "cell_type": "code",
   "execution_count": 12,
   "metadata": {},
   "outputs": [
    {
     "data": {
      "text/plain": [
       "-3.751832396884334"
      ]
     },
     "execution_count": 12,
     "metadata": {},
     "output_type": "execute_result"
    }
   ],
   "source": [
    "# Calculate the z-score using the function\n",
    "z_score = TwoSampZTest(sample_mean_X, sample_mean_Y, sample_std_X, sample_std_Y, sample_size_X, sample_size_Y)\n",
    "z_score"
   ]
  },
  {
   "cell_type": "code",
   "execution_count": 17,
   "metadata": {},
   "outputs": [
    {
     "data": {
      "text/plain": [
       "0.00017554681014571685"
      ]
     },
     "execution_count": 17,
     "metadata": {},
     "output_type": "execute_result"
    }
   ],
   "source": [
    "p_value = 2 * (stats.norm.cdf(z_score))\n",
    "# OR\n",
    "p_value = 2 * (1 - stats.norm.cdf(abs(z_score)))\n",
    "p_value"
   ]
  },
  {
   "cell_type": "code",
   "execution_count": 15,
   "metadata": {},
   "outputs": [
    {
     "data": {
      "text/plain": [
       "1.0"
      ]
     },
     "execution_count": 15,
     "metadata": {},
     "output_type": "execute_result"
    }
   ],
   "source": [
    "a = stats.norm.cdf(abs(z_score))\n",
    "b = stats.norm.cdf(z_score)\n",
    "a+b"
   ]
  },
  {
   "cell_type": "code",
   "execution_count": 18,
   "metadata": {},
   "outputs": [
    {
     "name": "stdout",
     "output_type": "stream",
     "text": [
      "z-score: -3.7518\n",
      "p-value: 0.0002\n",
      "Conclusion: Reject the null hypothesis. Engine Y is more fuel-efficient.\n"
     ]
    }
   ],
   "source": [
    "# Compare the p-value to the significance level\n",
    "if p_value < significance_level:\n",
    "  conclusion = \"Reject the null hypothesis. Engine Y is more fuel-efficient.\"\n",
    "else:\n",
    "  conclusion = \"Fail to reject the null hypothesis. No significant difference in fuel efficiency.\"\n",
    "\n",
    "print(f'z-score: {z_score:.4f}')\n",
    "print(f'p-value: {p_value:.4f}')\n",
    "print('Conclusion:', conclusion)"
   ]
  },
  {
   "cell_type": "markdown",
   "metadata": {},
   "source": [
    "## Quiz"
   ]
  },
  {
   "cell_type": "markdown",
   "metadata": {},
   "source": [
    "# Question-1"
   ]
  },
  {
   "cell_type": "code",
   "execution_count": 3,
   "metadata": {},
   "outputs": [],
   "source": [
    "# Null Hypothesis (H0): The average heights of plants grown with fertilizers X and Y are equal (μ₁ = μ₂).\n",
    "# Alternative Hypothesis (Ha): The average heights of plants grown with fertilizers X and Y are different (μ₁ ≠ μ₂)"
   ]
  },
  {
   "cell_type": "code",
   "execution_count": 4,
   "metadata": {},
   "outputs": [
    {
     "name": "stdout",
     "output_type": "stream",
     "text": [
      "z-statistic: -2.029994857352875\n",
      "p-value: 0.042357062026854894\n",
      "Reject the null hypothesis. There is a statistically significant difference in the average heights of plants grown with fertilizer X and Y.\n"
     ]
    }
   ],
   "source": [
    "from statsmodels.stats import weightstats as stests\n",
    "\n",
    "# Group A heights\n",
    "heights_a = [14, 16, 13, 17, 12, 18]\n",
    "\n",
    "# Group B heights\n",
    "heights_b = [18, 19, 16, 17, 15, 20]\n",
    "\n",
    "# Significance level\n",
    "alpha = 0.1\n",
    "\n",
    "# Perform the z-test\n",
    "z_stat, p_value = stests.ztest(heights_a, heights_b, value=0, alternative='two-sided')\n",
    "\n",
    "# Print the z-statistic and p-value\n",
    "print(\"z-statistic:\", z_stat)\n",
    "print(\"p-value:\", p_value)\n",
    "\n",
    "# Decision\n",
    "if p_value < alpha:\n",
    "    print(\"Reject the null hypothesis. There is a statistically significant difference in the average heights of plants grown with fertilizer X and Y.\")\n",
    "else:\n",
    "    print(\"Fail to reject the null hypothesis. There is no statistically significant difference in the average heights of plants grown with fertilizer X and Y.\")"
   ]
  },
  {
   "cell_type": "markdown",
   "metadata": {},
   "source": [
    "# Z-Proportion Test"
   ]
  },
  {
   "cell_type": "markdown",
   "metadata": {},
   "source": [
    "### **One Sample**"
   ]
  },
  {
   "cell_type": "code",
   "execution_count": 5,
   "metadata": {},
   "outputs": [
    {
     "name": "stdout",
     "output_type": "stream",
     "text": [
      "Z-statistic = 1.7817416127494983\n",
      "P-value = 0.07479137758694376\n"
     ]
    }
   ],
   "source": [
    "# Define the data\n",
    "# Number of satisfied customers\n",
    "satisfied_customers = 115\n",
    "# Total number of customers in the sample\n",
    "total_customers = 150\n",
    "\n",
    "# Specify the target satisfaction level (null hypothesis)\n",
    "target_satisfaction = 0.70  # 70%\n",
    "\n",
    "# Define the hypotheses\n",
    "# Null Hypothesis (H0): The proportion of satisfied customers equals the target satisfaction level.\n",
    "# Alternative Hypothesis (Ha): The proportion of satisfied customers is not equal to the target satisfaction level.\n",
    "\n",
    "p = target_satisfaction # population proportion\n",
    "\n",
    "# Calculate the test statistic (Z)\n",
    "# p_hat = sample proportion = x/n\n",
    "p_hat = satisfied_customers / total_customers\n",
    "n = total_customers\n",
    "\n",
    "#formula\n",
    "Z = (p_hat - p) / np.sqrt((p * (1 - p)) / n)\n",
    "\n",
    "# Interpret the test statistic\n",
    "# Z follows a standard normal distribution. We will calculate the two-tailed p-value next.\n",
    "\n",
    "# Calculate the p-value\n",
    "p_value = 2 * (1 - stats.norm.cdf(np.abs(Z)))\n",
    "\n",
    "# In a two-tailed z-test, we care about the magnitude of deviation, not direction, from the null hypothesis.\n",
    "# Using np.abs(Z) removes the sign of the z-score, ensuring both positive and negative deviations contribute to the p-value calculation, making it more accurate for the two-tailed test.\n",
    "\n",
    "# Print the results\n",
    "print(f\"Z-statistic = {Z}\")\n",
    "print(f\"P-value = {p_value}\")"
   ]
  },
  {
   "cell_type": "code",
   "execution_count": 6,
   "metadata": {},
   "outputs": [
    {
     "name": "stdout",
     "output_type": "stream",
     "text": [
      "Decision: Fail to reject the null hypothesis\n",
      "Conclusion: There is not enough evidence to conclude that the proportion of satisfied customers with the new product is statistically different from the target satisfaction level.\n"
     ]
    }
   ],
   "source": [
    "alpha = 0.05  # Significance level\n",
    "if p_value < alpha:\n",
    "    decision = \"Reject the null hypothesis\"\n",
    "else:\n",
    "    decision = \"Fail to reject the null hypothesis\"\n",
    "\n",
    "if decision == \"Reject the null hypothesis\":\n",
    "    conclusion = \"There is enough evidence to conclude that the proportion of satisfied customers with the new product is statistically different from the target satisfaction level.\"\n",
    "else:\n",
    "    conclusion = \"There is not enough evidence to conclude that the proportion of satisfied customers with the new product is statistically different from the target satisfaction level.\"\n",
    "\n",
    "# Print the results\n",
    "print(f\"Decision: {decision}\")\n",
    "print(f\"Conclusion: {conclusion}\")"
   ]
  },
  {
   "cell_type": "markdown",
   "metadata": {},
   "source": [
    "## Quiz Question 3"
   ]
  },
  {
   "cell_type": "code",
   "execution_count": 7,
   "metadata": {},
   "outputs": [
    {
     "name": "stdout",
     "output_type": "stream",
     "text": [
      "Test statistic: -1.3801311186847078\n",
      "p-value: 0.9162268612556912\n",
      "Fail to reject the null hypothesis.\n"
     ]
    }
   ],
   "source": [
    "# Null Hypothesis (H0): The proportion of customers dissatisfied with the new system is less than or equal to 30%.(p ≤ 0.30)\n",
    "# Alternative Hypothesis (H1): The proportion of customers dissatisfied with the new system is greater than 30%.(p > 0.30).\n",
    "\n",
    "n = 250 # Sample size\n",
    "x = 65 # Number of customers dissatisfied with the new system\n",
    "p_hat = x/n # Sample proportion\n",
    "p = 0.30 # Hypothesized proportion\n",
    "\n",
    "# Calculate test statistic value for one sample proportion test\n",
    "Z = (p_hat - p) / np.sqrt((p * (1 - p)) / n)\n",
    "print('Test statistic:',Z)\n",
    "\n",
    "# Calculate the p-value for the test statistic\n",
    "p_value = 1 - stats.norm.cdf(Z)\n",
    "print('p-value:', p_value)\n",
    "\n",
    "# Define the significance level\n",
    "alpha = 0.05\n",
    "\n",
    "# Make a decision based on the p-value and significance level\n",
    "if p_value < alpha:\n",
    "  print('Reject the null hypothesis.')\n",
    "else:\n",
    "  print('Fail to reject the null hypothesis.')"
   ]
  },
  {
   "cell_type": "markdown",
   "metadata": {},
   "source": [
    "## Two Sample z-test for Proportions"
   ]
  },
  {
   "cell_type": "markdown",
   "metadata": {},
   "source": [
    "Null Hypothesis (H0): The conversion rates of the old web page (Web Page A) and the new web page (Web Page B) are the same.  (1=2\n",
    "p1=p2)\n",
    "\n",
    "Alternative Hypothesis (Ha): The conversion rates of the old web page (Web Page A) and the new web page (Web Page B) are different.(1≠2\n",
    "p1=p2)"
   ]
  },
  {
   "cell_type": "code",
   "execution_count": 10,
   "metadata": {},
   "outputs": [
    {
     "name": "stdout",
     "output_type": "stream",
     "text": [
      "Z-statistic = -0.8125338562826986\n",
      "P-value = 0.4164853677823287\n"
     ]
    }
   ],
   "source": [
    "import statsmodels.api as sm\n",
    "import numpy as np\n",
    "\n",
    "# Define the data\n",
    "conversions = np.array([50, 30])  # Number of conversions for Web Page A and Web Page B # x_1, x_2\n",
    "visits = np.array([1000, 500])  # Number of visits for Web Page A and Web Page B # n_1, n_2\n",
    "\n",
    "# Perform the Z-proportions test\n",
    "z_stat, p_value = sm.stats.proportions_ztest(conversions, visits, alternative='two-sided')\n",
    "\n",
    "# Print the results\n",
    "print(f\"Z-statistic = {z_stat}\")\n",
    "print(f\"P-value = {p_value}\")"
   ]
  },
  {
   "cell_type": "code",
   "execution_count": 11,
   "metadata": {},
   "outputs": [
    {
     "name": "stdout",
     "output_type": "stream",
     "text": [
      "Decision: Fail to reject the null hypothesis\n",
      "Conclusion: There is not enough evidence to conclude that the conversion rates of the new web page (Web Page B) are statistically different from the old web page (Web Page A).\n"
     ]
    }
   ],
   "source": [
    "# Make a decision and conclusion\n",
    "if p_value < alpha:\n",
    "    decision = \"Reject the null hypothesis\"\n",
    "else:\n",
    "    decision = \"Fail to reject the null hypothesis\"\n",
    "\n",
    "if decision == \"Reject the null hypothesis\":\n",
    "    conclusion = \"There is enough evidence to conclude that the conversion rates of the new web page (Web Page B) are statistically different from the old web page (Web Page A).\"\n",
    "else:\n",
    "    conclusion = \"There is not enough evidence to conclude that the conversion rates of the new web page (Web Page B) are statistically different from the old web page (Web Page A).\"\n",
    "\n",
    "# Print the results\n",
    "print(f\"Decision: {decision}\")\n",
    "print(f\"Conclusion: {conclusion}\")"
   ]
  }
 ],
 "metadata": {
  "kernelspec": {
   "display_name": "Python 3",
   "language": "python",
   "name": "python3"
  },
  "language_info": {
   "codemirror_mode": {
    "name": "ipython",
    "version": 3
   },
   "file_extension": ".py",
   "mimetype": "text/x-python",
   "name": "python",
   "nbconvert_exporter": "python",
   "pygments_lexer": "ipython3",
   "version": "3.11.4"
  }
 },
 "nbformat": 4,
 "nbformat_minor": 2
}
