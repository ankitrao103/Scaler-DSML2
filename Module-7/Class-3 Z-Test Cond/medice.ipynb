{
 "cells": [
  {
   "cell_type": "code",
   "execution_count": 1,
   "metadata": {},
   "outputs": [],
   "source": [
    "import random\n",
    "import numpy as np"
   ]
  },
  {
   "cell_type": "code",
   "execution_count": 3,
   "metadata": {},
   "outputs": [
    {
     "name": "stdout",
     "output_type": "stream",
     "text": [
      "M1_data:  [6.0, 6.0, 11.0, 7.0, 19.0, 6.0, 13.0, 10.0, 18.0, 7.0, 10.0, 10.0, 9.0, 5.0, 12.0, 6.0, 14.0, 6.0, 10.0, 12.0, 19.0, 6.0, 7.0, 17.0, 5.0, 19.0, 14.0, 9.0, 18.0, 17.0, 10.0, 17.0, 8.0, 14.0, 13.0, 17.0, 10.0, 11.0, 17.0, 13.0, 15.0, 15.0, 15.0, 18.0, 12.0, 15.0, 11.0, 5.0, 16.0, 8.0, 17.0, 19.0, 15.0, 8.0, 10.0, 11.0, 6.0, 12.0, 14.0, 10.0, 8.0, 6.0, 14.0, 5.0, 10.0, 8.0, 13.0, 16.0, 19.0, 15.0, 20.0, 19.0, 14.0, 9.0, 12.0, 8.0, 20.0, 12.0, 16.0, 6.0, 7.0, 8.0, 9.0, 10.0, 9.0, 12.0, 11.0, 7.0, 6.0, 10.0, 6.0, 11.0, 5.0, 13.0, 6.0, 15.0, 11.0, 20.0, 9.0, 12.0]\n"
     ]
    }
   ],
   "source": [
    "# Set a random seed for reproducibility\n",
    "# Setting random seed to 123 for consistent, deterministic generation of recovery times across \n",
    "random.seed(123) # you can use any integer as the seed\n",
    "\n",
    "# Crate an empty list to store the recovery times\n",
    "M1_data = []\n",
    "\n",
    "# Generate 100 random recovery times\n",
    "# The underscore _ in the loop is a placeholder, signifying in diffrerence to counter value and  \n",
    "for _ in range(100):\n",
    "    recovery_time = random.uniform(5.0, 20.0) # Generating values between 5 and 20\n",
    "    M1_data.append(np.round(recovery_time,0))\n",
    "\n",
    "# Print the generated data\n",
    "print(\"M1_data: \",M1_data) "
   ]
  },
  {
   "cell_type": "code",
   "execution_count": 6,
   "metadata": {},
   "outputs": [
    {
     "name": "stdout",
     "output_type": "stream",
     "text": [
      "M2_data:  [14.0, 17.0, 10.0, 10.0, 11.0, 6.0, 28.0, 7.0, 28.0, 5.0, 21.0, 19.0, 6.0, 29.0, 23.0, 27.0, 16.0, 12.0, 10.0, 8.0, 22.0, 26.0, 10.0, 6.0, 14.0, 9.0, 11.0, 11.0, 22.0, 16.0, 19.0, 15.0, 30.0, 17.0, 6.0, 8.0, 23.0, 28.0, 8.0, 17.0, 27.0, 19.0, 5.0, 18.0, 12.0, 10.0, 28.0, 8.0, 26.0, 24.0, 20.0, 13.0, 7.0, 22.0, 29.0, 9.0, 8.0, 17.0, 26.0, 5.0, 25.0, 7.0, 6.0, 9.0, 16.0, 28.0, 22.0, 6.0, 9.0, 17.0, 7.0, 22.0, 14.0, 29.0, 25.0, 25.0, 11.0, 16.0, 22.0, 7.0, 5.0, 13.0, 15.0, 25.0, 25.0, 6.0, 7.0, 28.0, 12.0, 8.0]\n"
     ]
    }
   ],
   "source": [
    "# Crate an empty list to store the recovery times\n",
    "M2_data = []\n",
    "\n",
    "# Generate 90 random recovery times\n",
    "# The underscore _ in the loop is a placeholder, signifying in diffrerence to counter value and  \n",
    "for _ in range(90):\n",
    "    recovery_time = random.uniform(5.0, 30.0) # Generating values between 5 and 20\n",
    "    M2_data.append(np.round(recovery_time,0))\n",
    "\n",
    "# Print the generated data\n",
    "print(\"M2_data: \",M2_data) "
   ]
  },
  {
   "cell_type": "code",
   "execution_count": 8,
   "metadata": {},
   "outputs": [],
   "source": [
    "# import a library to perform a z-test\n",
    "from statsmodels.stats import weightstats as stests\n",
    "from scipy import  stats"
   ]
  },
  {
   "cell_type": "code",
   "execution_count": null,
   "metadata": {},
   "outputs": [],
   "source": []
  }
 ],
 "metadata": {
  "kernelspec": {
   "display_name": "Python 3",
   "language": "python",
   "name": "python3"
  },
  "language_info": {
   "codemirror_mode": {
    "name": "ipython",
    "version": 3
   },
   "file_extension": ".py",
   "mimetype": "text/x-python",
   "name": "python",
   "nbconvert_exporter": "python",
   "pygments_lexer": "ipython3",
   "version": "3.11.4"
  }
 },
 "nbformat": 4,
 "nbformat_minor": 2
}
