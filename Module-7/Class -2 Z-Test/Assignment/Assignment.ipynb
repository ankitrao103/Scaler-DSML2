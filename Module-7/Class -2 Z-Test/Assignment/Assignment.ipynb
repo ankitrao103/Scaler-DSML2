{
 "cells": [
  {
   "cell_type": "code",
   "execution_count": 12,
   "metadata": {},
   "outputs": [],
   "source": [
    "from scipy.stats import norm\n",
    "import numpy as np"
   ]
  },
  {
   "cell_type": "markdown",
   "metadata": {},
   "source": [
    "# Q1 Short State\n",
    "A country has a population average height of 65 inches with a standard deviation of 2.5. A person feels people from his state are shorter. He takes the average of 20 people and sees that it is 64.5.\n",
    "\n",
    "At a 5% significance level (or 95% confidence level), can we conclude that people from his state are shorter, using the Z-test? What is the p-value?"
   ]
  },
  {
   "cell_type": "code",
   "execution_count": 15,
   "metadata": {},
   "outputs": [
    {
     "name": "stdout",
     "output_type": "stream",
     "text": [
      "Fail to reject the null hypothesis. No significant evidence that people from the state are shorter.\n",
      "Z-score: -0.8944271909999159\n",
      "P-value: 0.18554668476134878\n"
     ]
    }
   ],
   "source": [
    "# Population parameters\n",
    "population_mean = 65  # Population average height\n",
    "population_stddev = 2.5  # Population standard deviation\n",
    "\n",
    "# Sample statistics\n",
    "sample_mean = 64.5  \n",
    "sample_size = 20 # Average of 20 people\n",
    "\n",
    "# Calculate the standard error of the sample mean\n",
    "standard_error = population_stddev / (sample_size ** 0.5)\n",
    "\n",
    "# Calculate the Z-score\n",
    "z_score = (sample_mean - population_mean) / standard_error\n",
    "\n",
    "# Calculate the p-value: Left Tail Test\n",
    "p_value = norm.cdf(z_score)\n",
    "\n",
    "# Significance level\n",
    "alpha = 0.05\n",
    "\n",
    "# Compare p-value with the significance level\n",
    "if p_value < alpha:\n",
    "    print(f\"Reject the null hypothesis. People from the state are shorter.\")\n",
    "else:\n",
    "    print(f\"Fail to reject the null hypothesis. No significant evidence that people from the state are shorter.\")\n",
    "\n",
    "print(f\"Z-score: {z_score}\")\n",
    "print(f\"P-value: {p_value}\")"
   ]
  },
  {
   "cell_type": "markdown",
   "metadata": {},
   "source": [
    "# Q2. Pastries Produce Per Day\n",
    "A French cafe has historically maintained that their average daily pastry production is at most 500.\n",
    "\n",
    "With the installation of a new machine, they assert that the average daily pastry production has increased. The average number of pastries produced per day over a 70-day period was found to be 530.\n",
    "\n",
    "Assume that the population standard deviation for the pastries produced per day is 125.\n",
    "\n",
    "Perform a z-test with the critical z-value = 1.64 at the alpha (significance level) = 0.05 to evaluate if there's sufficient evidence to support their claim of the new machine producing more than 500 pastries daily.\n",
    "\n",
    "Note: Round off the z-score to two decimal places."
   ]
  },
  {
   "cell_type": "code",
   "execution_count": 8,
   "metadata": {},
   "outputs": [
    {
     "name": "stdout",
     "output_type": "stream",
     "text": [
      "z-score: 2.01\n",
      "critical z-value: 1.6448536269514722\n",
      "Reject the null hypothesis. The shop's claim is supported by the data.\n"
     ]
    }
   ],
   "source": [
    "sample_mean = 530\n",
    "population_std = 125\n",
    "sample_size = 70\n",
    "population_mean = 500\n",
    "\n",
    "# Calculate z-score\n",
    "z_score = (sample_mean - population_mean) / (population_std / np.sqrt(sample_size))\n",
    "\n",
    "# Round z-score to two decimal places\n",
    "z_score = round(z_score, 2)\n",
    "print(f\"z-score: {z_score}\")\n",
    "\n",
    "# Set critical z-value and confidence level\n",
    "confidence_level = 0.95\n",
    "critical_z = norm.ppf(confidence_level)\n",
    "print(\"critical z-value:\",critical_z)\n",
    "\n",
    "# Check if the z-score is greater than the critical z-value\n",
    "\n",
    "if z_score > critical_z:\n",
    "    print(\"Reject the null hypothesis. The shop's claim is supported by the data.\")\n",
    "else:\n",
    "    print(\"Fail to reject the null hypothesis. There is not enough evidence to support the shop's claim.\")"
   ]
  },
  {
   "cell_type": "code",
   "execution_count": 27,
   "metadata": {},
   "outputs": [
    {
     "data": {
      "text/plain": [
       "3.8535677938559876"
      ]
     },
     "execution_count": 27,
     "metadata": {},
     "output_type": "execute_result"
    }
   ],
   "source": [
    "# sample_mean = 3.72\n",
    "sample_size = 45\n",
    "population_mean = 3.72\n",
    "population_std = 0.7\n",
    "\n",
    "# Calculate the standard error of the sample mean\n",
    "standard_error = population_std / (sample_size ** 0.5)\n",
    "\n",
    "# Calculate the Z-score\n",
    "sample_mean  = 1.28*standard_error + population_mean \n",
    "sample_mean"
   ]
  },
  {
   "cell_type": "code",
   "execution_count": 26,
   "metadata": {},
   "outputs": [
    {
     "name": "stdout",
     "output_type": "stream",
     "text": [
      "Critical Sample Mean: 3.634\n"
     ]
    }
   ],
   "source": [
    "population_mean = 3.5\n",
    "population_std = 0.7\n",
    "critical_z_value = 1.28\n",
    "sample_size = 45\n",
    "\n",
    "# Calculate the critical sample mean\n",
    "critical_sample_mean = population_mean + (critical_z_value * (population_std / (sample_size**0.5)))\n",
    "\n",
    "# Round off the answer to three decimal places\n",
    "critical_sample_mean = round(critical_sample_mean, 3)\n",
    "print(\"Critical Sample Mean:\", critical_sample_mean)"
   ]
  },
  {
   "cell_type": "code",
   "execution_count": null,
   "metadata": {},
   "outputs": [],
   "source": []
  }
 ],
 "metadata": {
  "kernelspec": {
   "display_name": "Python 3",
   "language": "python",
   "name": "python3"
  },
  "language_info": {
   "codemirror_mode": {
    "name": "ipython",
    "version": 3
   },
   "file_extension": ".py",
   "mimetype": "text/x-python",
   "name": "python",
   "nbconvert_exporter": "python",
   "pygments_lexer": "ipython3",
   "version": "3.11.4"
  }
 },
 "nbformat": 4,
 "nbformat_minor": 2
}
