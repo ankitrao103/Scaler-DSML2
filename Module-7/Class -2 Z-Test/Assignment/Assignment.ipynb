{
 "cells": [
  {
   "cell_type": "code",
   "execution_count": 2,
   "metadata": {},
   "outputs": [],
   "source": [
    "from scipy.stats import norm\n",
    "import numpy as np"
   ]
  },
  {
   "cell_type": "markdown",
   "metadata": {},
   "source": [
    "# Q1 Short State\n",
    "A country has a population average height of 65 inches with a standard deviation of 2.5. A person feels people from his state are shorter. He takes the average of 20 people and sees that it is 64.5.\n",
    "\n",
    "At a 5% significance level (or 95% confidence level), can we conclude that people from his state are shorter, using the Z-test? What is the p-value?"
   ]
  },
  {
   "cell_type": "code",
   "execution_count": 15,
   "metadata": {},
   "outputs": [
    {
     "name": "stdout",
     "output_type": "stream",
     "text": [
      "Fail to reject the null hypothesis. No significant evidence that people from the state are shorter.\n",
      "Z-score: -0.8944271909999159\n",
      "P-value: 0.18554668476134878\n"
     ]
    }
   ],
   "source": [
    "# Population parameters\n",
    "population_mean = 65  # Population average height\n",
    "population_stddev = 2.5  # Population standard deviation\n",
    "\n",
    "# Sample statistics\n",
    "sample_mean = 64.5  \n",
    "sample_size = 20 # Average of 20 people\n",
    "\n",
    "# Calculate the standard error of the sample mean\n",
    "standard_error = population_stddev / (sample_size ** 0.5)\n",
    "\n",
    "# Calculate the Z-score\n",
    "z_score = (sample_mean - population_mean) / standard_error\n",
    "\n",
    "# Calculate the p-value: Left Tail Test\n",
    "p_value = norm.cdf(z_score)\n",
    "\n",
    "# Significance level\n",
    "alpha = 0.05\n",
    "\n",
    "# Compare p-value with the significance level\n",
    "if p_value < alpha:\n",
    "    print(f\"Reject the null hypothesis. People from the state are shorter.\")\n",
    "else:\n",
    "    print(f\"Fail to reject the null hypothesis. No significant evidence that people from the state are shorter.\")\n",
    "\n",
    "print(f\"Z-score: {z_score}\")\n",
    "print(f\"P-value: {p_value}\")"
   ]
  },
  {
   "cell_type": "markdown",
   "metadata": {},
   "source": [
    "# Q2. Pastries Produce Per Day\n",
    "A French cafe has historically maintained that their average daily pastry production is at most 500.\n",
    "\n",
    "With the installation of a new machine, they assert that the average daily pastry production has increased. The average number of pastries produced per day over a 70-day period was found to be 530.\n",
    "\n",
    "Assume that the population standard deviation for the pastries produced per day is 125.\n",
    "\n",
    "Perform a z-test with the critical z-value = 1.64 at the alpha (significance level) = 0.05 to evaluate if there's sufficient evidence to support their claim of the new machine producing more than 500 pastries daily.\n",
    "\n",
    "Note: Round off the z-score to two decimal places."
   ]
  },
  {
   "cell_type": "code",
   "execution_count": 8,
   "metadata": {},
   "outputs": [
    {
     "name": "stdout",
     "output_type": "stream",
     "text": [
      "z-score: 2.01\n",
      "critical z-value: 1.6448536269514722\n",
      "Reject the null hypothesis. The shop's claim is supported by the data.\n"
     ]
    }
   ],
   "source": [
    "sample_mean = 530\n",
    "population_std = 125\n",
    "sample_size = 70\n",
    "population_mean = 500\n",
    "\n",
    "# Calculate z-score\n",
    "z_score = (sample_mean - population_mean) / (population_std / np.sqrt(sample_size))\n",
    "\n",
    "# Round z-score to two decimal places\n",
    "z_score = round(z_score, 2)\n",
    "print(f\"z-score: {z_score}\")\n",
    "\n",
    "# Set critical z-value and confidence level\n",
    "confidence_level = 0.95\n",
    "critical_z = norm.ppf(confidence_level)\n",
    "print(\"critical z-value:\",critical_z)\n",
    "\n",
    "# Check if the z-score is greater than the critical z-value\n",
    "\n",
    "if z_score > critical_z:\n",
    "    print(\"Reject the null hypothesis. The shop's claim is supported by the data.\")\n",
    "else:\n",
    "    print(\"Fail to reject the null hypothesis. There is not enough evidence to support the shop's claim.\")"
   ]
  },
  {
   "cell_type": "markdown",
   "metadata": {},
   "source": [
    "# Q3. India runs on Chai\n",
    "\n",
    "The Chai Point stall at Bengaluru airport estimates that each person visiting the store drinks an average of 1.7 small cups of tea.\n",
    "\n",
    "Assume a population standard deviation of 0.5 small cups. A sample of 30 customers collected over a few days averaged 1.85 small cups of tea per person.\n",
    "\n",
    "Test the claim using an appropriate test at an alpha = 0.05 significance value, with a critical z-score value of ±1.96.\n",
    "\n",
    "Note: Round off the z-score to two decimal places."
   ]
  },
  {
   "cell_type": "code",
   "execution_count": 7,
   "metadata": {},
   "outputs": [
    {
     "name": "stdout",
     "output_type": "stream",
     "text": [
      "z-score: 1.64\n",
      "z-score: 1.64\n",
      "Fail to reject the null hypothesis. There is not enough evidence to support a difference from the estimated average.\n"
     ]
    }
   ],
   "source": [
    "sample_mean = 1.85\n",
    "population_std = 0.5\n",
    "sample_size = 30\n",
    "population_mean = 1.7\n",
    "\n",
    "# Calculate z-score\n",
    "z_score = (sample_mean - population_mean) / (population_std / np.sqrt(sample_size))\n",
    "\n",
    "# Round z-score to two decimal places\n",
    "z_score = np.round(z_score, 2)\n",
    "\n",
    "# Set alpha and critical z-score (use two-tailed since direction is unknown)\n",
    "alpha = 0.05\n",
    "critical_z = 1.96\n",
    "\n",
    "# Check if the z-score is greater than the critical z-value\n",
    "if abs(z_score) > critical_z:\n",
    "   print(f\"z-score: {z_score}\")\n",
    "   print(\"Reject the null hypothesis. The average tea consumption is likely different from the estimate.\")\n",
    "else:\n",
    "   print(f\"z-score: {z_score}\")\n",
    "   print(\"Fail to reject the null hypothesis. There is not enough evidence to support a difference from the estimated average.\")"
   ]
  },
  {
   "cell_type": "markdown",
   "metadata": {},
   "source": [
    "# Q4. Web Application Response\n",
    "A data scientist is looking at how a web application responds, with an average response time of 250 milliseconds and a standard deviation of 30 milliseconds.\n",
    "\n",
    "Find the critical value for a 96% confidence level.\n"
   ]
  },
  {
   "cell_type": "code",
   "execution_count": 10,
   "metadata": {},
   "outputs": [
    {
     "name": "stdout",
     "output_type": "stream",
     "text": [
      "Critical Value: 311.6125\n"
     ]
    }
   ],
   "source": [
    "# Given values\n",
    "confidence_level = 0.96\n",
    "mean = 250  # Mean response time in milliseconds\n",
    "std_deviation = 30  # Standard deviation in milliseconds\n",
    "\n",
    "# A two-tailed test, considering both possibilities: the average response time could be higher or lower than 250 milliseconds.\n",
    "# Calculate the critical Z-score for a 96% confidence level\n",
    "critical_z = norm.ppf(1 - (1 - confidence_level) / 2)\n",
    "\n",
    "# Calculate the critical value using Z-score formula\n",
    "critical_value = (critical_z * std_deviation) + mean\n",
    "\n",
    "\n",
    "print(f\"Critical Value: {critical_value:.4f}\")"
   ]
  },
  {
   "cell_type": "markdown",
   "metadata": {},
   "source": [
    "# Q5. CI and Conclusion\n",
    "A marketing team aims to estimate the average time, visitors spend on their website.\n",
    "\n",
    "They gathered a random sample of 100 visitors and determined that the average time spent on the website was 4.5 minutes.\n",
    "\n",
    "The team is working under the assumption that the population's mean time spent on the website is 4.0 minutes, with a standard deviation of 1.2 minutes.\n",
    "\n",
    "Their goal is to estimate the true time spent on the website with a 95% confidence level. Calculate the confidence interval values and make a conclusion based on the calculated interval.\n"
   ]
  },
  {
   "cell_type": "code",
   "execution_count": 19,
   "metadata": {},
   "outputs": [
    {
     "name": "stdout",
     "output_type": "stream",
     "text": [
      "z1: -1.96\n",
      "z2: -0.96\n",
      "Confidence Interval: (4.264804321855194, 4.615195678144807)\n",
      "P-value:  0.75\n",
      "Fail to reject the null hypothesis. the average time spent on the website was not more.\n"
     ]
    }
   ],
   "source": [
    "sample_size = 100\n",
    "sample_mean = 4.5\n",
    "population_std = 1.2\n",
    "population_mean = 4\n",
    "\n",
    "\n",
    "\n",
    "# Calculate z-score\n",
    "z1 = norm.ppf(0.025)\n",
    "print(f\"z1: {z1:.2f}\")\n",
    "\n",
    "\n",
    "z2 = 1 - norm.ppf(0.975)\n",
    "print(f\"z2: {z2:.2f}\")\n",
    "\n",
    "# Calculate confidence interval\n",
    "confidence_interval = (sample_mean + (z1 * (population_std / np.sqrt(sample_size))),\n",
    "                       sample_mean - (z2 * (population_std / np.sqrt(sample_size))))\n",
    "\n",
    "print(f\"Confidence Interval: {confidence_interval}\")\n",
    "\n",
    "pvalue = 1 - norm.cdf(z_score)\n",
    "print(f\"P-value: \", pvalue)\n",
    "\n",
    "alpha = 0.05 # 95% confidence level\n",
    "\n",
    "if pvalue < alpha:\n",
    "    print(\"Reject the null hypothesis. the average time spent on the website was more.\")\n",
    "else:\n",
    "    print(\"Fail to reject the null hypothesis. the average time spent on the website was not more.\")"
   ]
  },
  {
   "cell_type": "markdown",
   "metadata": {},
   "source": [
    "# Q7. Institution's claim\n",
    "\n",
    "\n",
    "It is known that the mean IQ of high school students is 100, and the standard deviation is 15.\n",
    "\n",
    "A coaching institute claims that candidates who study there have more IQ than an average high school student. When the IQ of 50 candidates was calculated, the average turned out to be 110\n",
    "\n",
    "Conduct an appropriate hypothesis test to test the institute’s claim, with a significance level of 5%"
   ]
  },
  {
   "cell_type": "code",
   "execution_count": 22,
   "metadata": {},
   "outputs": [
    {
     "name": "stdout",
     "output_type": "stream",
     "text": [
      "z-score: 4.71\n",
      "P-value: 1.2142337364462463e-06\n",
      "Reject the null hypothesis. The Institute Students have more IQ.\n"
     ]
    }
   ],
   "source": [
    "population_mean = 100\n",
    "population_std = 15\n",
    "sample_size = 50\n",
    "sample_mean = 110\n",
    "\n",
    "# Calculate z-score\n",
    "z_score = (sample_mean - population_mean) / (population_std / np.sqrt(sample_size))\n",
    "print(f\"z-score: {z_score:.2f}\")\n",
    "\n",
    "# Calculate p-value\n",
    "p_value = 1 - norm.cdf(z_score)\n",
    "print(f\"P-value: {p_value}\")\n",
    "\n",
    "# Set alpha and confidence level\n",
    "alpha = 0.05\n",
    "if p_value < alpha:\n",
    "    print(\"Reject the null hypothesis. The Institute Students have more IQ.\")\n",
    "else:\n",
    "    print(\"Fail to reject the null hypothesis.The Institute Students doesnot have more IQ.\")\n"
   ]
  },
  {
   "cell_type": "markdown",
   "metadata": {},
   "source": [
    "# Q8. Smokers\n",
    "When smokers smoke, nicotine is transformed into cotinine, which can be tested.\n",
    "\n",
    "The average cotinine level in a group of 50 smokers was 243.5 ng ml.\n",
    "\n",
    "Assuming that the standard deviation is known to be 229.5 ng ml.\n",
    "\n",
    "Test the assertion that the mean cotinine level of all smokers is equal to 300.0 ng ml, at 95% confidence."
   ]
  },
  {
   "cell_type": "code",
   "execution_count": 25,
   "metadata": {},
   "outputs": [
    {
     "name": "stdout",
     "output_type": "stream",
     "text": [
      "z-score: -1.74\n",
      "P-value: 0.0817\n",
      "Fail to reject the null hypothesis. The average weight of the population is not less.\n"
     ]
    }
   ],
   "source": [
    "sample_size = 50\n",
    "sample_mean = 243.5\n",
    "population_std = 229.5\n",
    "population_mean = 300\n",
    "\n",
    "# Calculate z-score\n",
    "z_score = (sample_mean - population_mean) / (population_std / np.sqrt(sample_size))\n",
    "print(f\"z-score: {z_score:.2f}\")\n",
    "\n",
    "p_value = 2 * (1 - norm.cdf(abs(z_score)))\n",
    "print(f\"P-value: {p_value:.4f}\")\n",
    "\n",
    "alpha = 0.05 # 95% confidence level\n",
    "if p_value < alpha:\n",
    "    print(\"Reject the null hypothesis. The average weight of the population is less.\")\n",
    "else:\n",
    "    print(\"Fail to reject the null hypothesis. The average weight of the population is not less.\")"
   ]
  },
  {
   "cell_type": "code",
   "execution_count": null,
   "metadata": {},
   "outputs": [],
   "source": []
  }
 ],
 "metadata": {
  "kernelspec": {
   "display_name": "Python 3",
   "language": "python",
   "name": "python3"
  },
  "language_info": {
   "codemirror_mode": {
    "name": "ipython",
    "version": 3
   },
   "file_extension": ".py",
   "mimetype": "text/x-python",
   "name": "python",
   "nbconvert_exporter": "python",
   "pygments_lexer": "ipython3",
   "version": "3.11.4"
  }
 },
 "nbformat": 4,
 "nbformat_minor": 2
}
