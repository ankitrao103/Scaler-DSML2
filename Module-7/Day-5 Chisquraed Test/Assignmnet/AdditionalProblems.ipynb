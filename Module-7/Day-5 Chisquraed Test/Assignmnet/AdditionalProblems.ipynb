{
 "cells": [
  {
   "cell_type": "code",
   "execution_count": 1,
   "metadata": {},
   "outputs": [],
   "source": [
    "import numpy as np\n",
    "import pandas as pd\n",
    "import matplotlib.pyplot as plt\n",
    "import seaborn as sns"
   ]
  },
  {
   "cell_type": "code",
   "execution_count": 2,
   "metadata": {},
   "outputs": [],
   "source": [
    "from scipy.stats import chi2_contingency, chisquare"
   ]
  },
  {
   "cell_type": "markdown",
   "metadata": {},
   "source": [
    "# Q1. Fair Coin Analysis\n",
    "Suppose you have a coin. You toss the coin 100 times and get 48 heads and 52 tails.\n",
    "\n",
    "Perform a test to check whether the coin is fair or biased.\n",
    "\n",
    "You want to determine if the coin is fair at a 5% significance level."
   ]
  },
  {
   "cell_type": "code",
   "execution_count": 4,
   "metadata": {},
   "outputs": [
    {
     "name": "stdout",
     "output_type": "stream",
     "text": [
      "Chi_Stat 0.16\n",
      "P-Value 0.6891565167793516\n",
      "Coin is Fair\n"
     ]
    }
   ],
   "source": [
    "chi_stat , p_value = chisquare([48,52], [50,50])\n",
    "print(\"Chi_Stat\", chi_stat)\n",
    "print(\"P-Value\", p_value)\n",
    "\n",
    "alpha = 0.05 # 5% level of significance\n",
    "\n",
    "if p_value < alpha:\n",
    "    print(\"Coin is Baised\")\n",
    "else:\n",
    "    print(\"Coin is Fair\")\n"
   ]
  },
  {
   "cell_type": "markdown",
   "metadata": {},
   "source": [
    "# Q2. Exam scores distribution\n",
    "Suppose you have data on 150 students' exam scores, and you want to test if the distribution of scores falls within predefined categories.\n",
    "\n",
    "The expected distribution is\n",
    "\n",
    "30% in the \"Excellent\" category,\n",
    "40% in the \"Good\" category, and\n",
    "30% in the \"Average\" category.\n",
    "Upon observation, you notice that there are:\n",
    "\n",
    "45 students fall into the \"Excellent\" category,\n",
    "50 students into the \"Good\" category, and\n",
    "55 students into the \"Average\" category.\n",
    "Conduct an appropriate test to see if the distribution matches expectations at a 5% significance level, and choose the correct option from below:\n",
    "\n",
    "- a)\n",
    "\n",
    "  P-value: 0.1625, \n",
    "  \n",
    "  We fail to reject the null hypothesis, \n",
    "  \n",
    "  Thus concluding that the distribution of exam scores matches the expected distribution.\n",
    "- b)\n",
    "  \n",
    "  P-value: 0.1625\n",
    "  \n",
    "  The null hypothesis is rejected, \n",
    "  \n",
    "  Thus concluding that the distribution of exam scores does not match the expected distribution. \n",
    "- c)\n",
    "\n",
    "  P-value: 0.1430\n",
    "  \n",
    "  We fail to reject the null hypothesis\n",
    "  \n",
    "  Thus concluding that the distribution of exam scores matches the expected distribution.\n",
    "- d)\n",
    "\n",
    "  P-value: 0.1430\n",
    "  \n",
    "  The null hypothesis is rejected\n",
    "  \n",
    "  Thus concluding that the distribution of exam scores does not match the expected distribution."
   ]
  },
  {
   "cell_type": "code",
   "execution_count": 6,
   "metadata": {},
   "outputs": [
    {
     "name": "stdout",
     "output_type": "stream",
     "text": [
      "Fail to reject the null hypothesis: The distribution of browsing times matches expectations.\n",
      "Chi-Square Statistic: 3.8888888888888893\n",
      "P-value: 0.1430666827544082\n"
     ]
    }
   ],
   "source": [
    "observed_counts = np.array([45, 50, 55])\n",
    "expected_counts = np.array([0.30 * 150, 0.40 * 150, 0.30 * 150])\n",
    "\n",
    "chi_squared_stat, p_value = chisquare(f_obs=observed_counts, f_exp=expected_counts)\n",
    "\n",
    "alpha = 0.05\n",
    "\n",
    "if p_value < alpha:\n",
    "    print(\"Reject the null hypothesis: The distribution of browsing times does not match expectations.\")\n",
    "else:\n",
    "    print(\"Fail to reject the null hypothesis: The distribution of browsing times matches expectations.\")\n",
    "\n",
    "print(f\"Chi-Square Statistic: {chi_squared_stat}\")\n",
    "print(f\"P-value: {p_value}\")"
   ]
  },
  {
   "cell_type": "markdown",
   "metadata": {},
   "source": [
    "# Q3. Diabetes in Native Americans\n",
    "Preventable chronic diseases are increasing rapidly in Native American populations, particularly diabetes.\n",
    "\n",
    "Below is a contingency table showing the cross-classification of educational attainment and diabetic state.\n",
    "\n",
    "![](https://d2beiqkhq929f0.cloudfront.net/public_assets/assets/000/032/896/original/Screenshot_2023-04-27_at_1.53.31_PM.png?1682589253)\n",
    "\n",
    "At 1% significance level, does the data provide sufficient evidence to conclude that an association exists between educational level and diabetic state for Native Americans?\n",
    "\n",
    "Choose the correct option below :"
   ]
  },
  {
   "cell_type": "code",
   "execution_count": 7,
   "metadata": {},
   "outputs": [
    {
     "name": "stdout",
     "output_type": "stream",
     "text": [
      "Chi_Stat 17.51186847271713\n",
      "P-Value 0.000554511571355531\n",
      "Degree of Freedom 3\n",
      "Expected [[ 18.73134328 232.26865672]\n",
      " [ 30.89552239 383.10447761]\n",
      " [ 30.82089552 382.17910448]\n",
      " [ 14.55223881 180.44776119]]\n",
      "Reject the null hypothesis: There is a relationship between the two categorical variables\n"
     ]
    }
   ],
   "source": [
    "data = [\n",
    "  [33,218],\n",
    "  [25,389],\n",
    "  [20,393],\n",
    "  [17,178]\n",
    "]\n",
    "\n",
    "chi_stat, p_value, dof, expected = chi2_contingency(data)\n",
    "print(\"Chi_Stat\", chi_stat)\n",
    "print(\"P-Value\", p_value)\n",
    "print(\"Degree of Freedom\", dof)\n",
    "print(\"Expected\", expected)\n",
    "\n",
    "# Alpha\n",
    "alpha = 0.01 # 1% level of significance\n",
    "if p_value < alpha:\n",
    "  print(\"Reject the null hypothesis: There is a relationship between the two categorical variables\")\n",
    "else:\n",
    "  print(\"Fail to reject the null hypothesis: There is no relationship between the two categorical variables\") "
   ]
  },
  {
   "cell_type": "markdown",
   "metadata": {},
   "source": [
    "# Q4. Gun Control\n",
    "A Nationwide survey was conducted where an independent and random sample of adults residing in urban, suburban, and rural regions, were asked a question: \"Do you support or oppose the motion of requiring a background check, for all gun buyers?\"\n",
    "\n",
    "The survey results are in the table below:\n",
    "\n",
    "![](https://d2beiqkhq929f0.cloudfront.net/public_assets/assets/000/032/903/original/Screenshot_2023-04-27_at_2.24.27_PM.png?1682592014)\n",
    "\n",
    "At 1% significance level, does the data provide sufficient evidence to conclude that there is an association between the region that an adult resides in, and the response received from them?\n",
    "\n",
    "Choose the correct option below :"
   ]
  },
  {
   "cell_type": "code",
   "execution_count": 8,
   "metadata": {},
   "outputs": [
    {
     "name": "stdout",
     "output_type": "stream",
     "text": [
      "Chi_Stat 11.519544916042339\n",
      "P-Value 0.003151828690194211\n",
      "Degree of Freedom 2\n",
      "Expected [[333.96753832 334.87015329 332.16230839]\n",
      " [ 36.03246168  36.12984671  35.83769161]]\n",
      "Reject the null hypothesis: There is a relationship between the two categorical variables\n"
     ]
    }
   ],
   "source": [
    "data = [\n",
    "  [335,348,318],\n",
    "  [35,23,50],\n",
    "]\n",
    "\n",
    "chi_stat, p_value, dof, expected = chi2_contingency(data)\n",
    "print(\"Chi_Stat\", chi_stat)\n",
    "print(\"P-Value\", p_value)\n",
    "print(\"Degree of Freedom\", dof)\n",
    "print(\"Expected\", expected)\n",
    "\n",
    "# Alpha\n",
    "alpha = 0.01 # 1% level of significance\n",
    "if p_value < alpha:\n",
    "  print(\"Reject the null hypothesis: There is a relationship between the two categorical variables\")\n",
    "else:\n",
    "  print(\"Fail to reject the null hypothesis: There is no relationship between the two categorical variables\") "
   ]
  },
  {
   "cell_type": "code",
   "execution_count": null,
   "metadata": {},
   "outputs": [],
   "source": []
  }
 ],
 "metadata": {
  "kernelspec": {
   "display_name": "Python 3",
   "language": "python",
   "name": "python3"
  },
  "language_info": {
   "codemirror_mode": {
    "name": "ipython",
    "version": 3
   },
   "file_extension": ".py",
   "mimetype": "text/x-python",
   "name": "python",
   "nbconvert_exporter": "python",
   "pygments_lexer": "ipython3",
   "version": "3.11.4"
  }
 },
 "nbformat": 4,
 "nbformat_minor": 2
}
