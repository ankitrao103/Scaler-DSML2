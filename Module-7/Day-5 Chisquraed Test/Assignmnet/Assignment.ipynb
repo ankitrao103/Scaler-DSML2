{
 "cells": [
  {
   "cell_type": "code",
   "execution_count": 2,
   "metadata": {},
   "outputs": [],
   "source": [
    "import numpy as np\n",
    "import pandas as pd\n",
    "import matplotlib.pyplot as plt\n",
    "import seaborn as sns"
   ]
  },
  {
   "cell_type": "code",
   "execution_count": 3,
   "metadata": {},
   "outputs": [],
   "source": [
    "from scipy.stats import chi2_contingency, chisquare"
   ]
  },
  {
   "cell_type": "markdown",
   "metadata": {},
   "source": [
    "# Q1. Marital Status and Drinking\n",
    "A national survey was conducted to obtain information on the alcohol consumption patterns of U.S. adults by marital status.\n",
    "A random sample of 1772 residents, aged 18 and older, yielded the data displayed in Table below:\n",
    "\n",
    "![](https://d2beiqkhq929f0.cloudfront.net/public_assets/assets/000/032/895/original/Screenshot_2023-04-27_at_1.36.46_PM.png?1682588952)\n",
    "\n",
    "Test whether Marital status and alcohol consumption are associated with a 5% significance level.\n",
    "\n",
    "Choose the correct option below :"
   ]
  },
  {
   "cell_type": "code",
   "execution_count": 6,
   "metadata": {},
   "outputs": [
    {
     "name": "stdout",
     "output_type": "stream",
     "text": [
      "Chi Stat: 94.26880078578765\n",
      "P Value: 3.925170647869838e-18\n",
      "Degrees of Freedom: 6\n",
      "Excepted: [[117.86681716 191.18397291  44.94920993]\n",
      " [390.55869074 633.49943567 148.94187359]\n",
      " [ 47.61286682  77.22968397  18.15744921]\n",
      " [ 33.96162528  55.08690745  12.95146727]]\n",
      "Dependent (reject H0): Marital status and alcohol consumption are associated.\n"
     ]
    }
   ],
   "source": [
    "data = [\n",
    "  [67,213,74],\n",
    "  [411,633,129],\n",
    "  [85,51,7],\n",
    "  [27,60,15],\n",
    "]\n",
    "chi_stat, p_val, dof, excepted = chi2_contingency(data)\n",
    "print('Chi Stat:', chi_stat)\n",
    "print('P Value:', p_val)\n",
    "print('Degrees of Freedom:', dof)\n",
    "print('Excepted:', excepted)\n",
    "\n",
    "alpha = 0.05 # 5% significance level\n",
    "if p_val <= alpha:\n",
    "  print('Dependent (reject H0): Marital status and alcohol consumption are associated.')\n",
    "else:\n",
    "  print('Independent (fail to reject H0): Marital status and alcohol consumption are not associated.')"
   ]
  },
  {
   "cell_type": "markdown",
   "metadata": {},
   "source": [
    "# Q2. Internet Use\n",
    "A random sample of adults yielded the following data on age and Internet usage.\n",
    "\n",
    "![](https://d2beiqkhq929f0.cloudfront.net/public_assets/assets/000/032/904/original/Screenshot_2023-04-27_at_2.34.39_PM.png?1682592271)\n",
    "\n",
    "At 1% significance level, does the data provide sufficient evidence to conclude that an association exists between age and Internet usage?\n",
    "\n",
    "Choose the correct option below :\n"
   ]
  },
  {
   "cell_type": "code",
   "execution_count": 8,
   "metadata": {},
   "outputs": [
    {
     "name": "stdout",
     "output_type": "stream",
     "text": [
      "Chi Stat: 60.74604310295546\n",
      "P Value: 2.0217185191724964e-12\n",
      "Degrees of Freedom: 4\n",
      "Excepted: [[22.92576419 38.97379913 13.10043668]\n",
      " [14.97816594 25.4628821   8.55895197]\n",
      " [32.09606987 54.56331878 18.34061135]]\n",
      "Dependent (reject H0): Age and Internet Usage consumption are associated.\n"
     ]
    }
   ],
   "source": [
    "data = [\n",
    "  [6,38,31],\n",
    "  [14,31,4],\n",
    "  [50,50,5]\n",
    "]\n",
    "chi_stat, p_val, dof, excepted = chi2_contingency(data)\n",
    "print('Chi Stat:', chi_stat)\n",
    "print('P Value:', p_val)\n",
    "print('Degrees of Freedom:', dof)\n",
    "print('Excepted:', excepted)\n",
    "\n",
    "alpha = 0.01 # 1% significance level\n",
    "if p_val < alpha:\n",
    "  print('Dependent (reject H0): Age and Internet Usage consumption are associated.')\n",
    "else:\n",
    "  print('Independent (fail to reject H0):  Age and Internet Usage consumption are not associated.')"
   ]
  },
  {
   "cell_type": "markdown",
   "metadata": {},
   "source": [
    "# Q3. Income and Residence\n",
    "The U.S. Census Bureau compiles information on the money income of people by type of residence and publishes its finding in Current Population Reports.\n",
    "\n",
    "Independent simple random samples of people consists of following types of residences\n",
    "\n",
    "Inside Principal Cities (IPC),\n",
    "Outside Principal Cities but within Metropolitan Areas (OPC), and\n",
    "Outside Metropolitan Areas (OMA),\n",
    "The Census gave the following data on income levels:\n",
    "\n",
    "![](https://d2beiqkhq929f0.cloudfront.net/public_assets/assets/000/032/905/original/Screenshot_2023-04-27_at_2.43.31_PM.png?1682592447)\n",
    "\n",
    "At the 5% significance level, can you conclude that the type of residence is related to income level?\n",
    "\n",
    "Choose the correct option below :"
   ]
  },
  {
   "cell_type": "code",
   "execution_count": 10,
   "metadata": {},
   "outputs": [
    {
     "name": "stdout",
     "output_type": "stream",
     "text": [
      "Chi Stat: 15.727554171801787\n",
      "P Value: 0.015293451318673136\n",
      "Degrees of Freedom: 6\n",
      "Excepted: [[ 70.55988593 119.11026616  37.32984791]\n",
      " [101.95437262 172.10646388  53.9391635 ]\n",
      " [103.50855513 174.73003802  54.76140684]\n",
      " [ 50.97718631  86.05323194  26.96958175]]\n",
      "Dependent (reject H0): Resident and Income Level consumption are associated.\n"
     ]
    }
   ],
   "source": [
    "data = [\n",
    "  [75,106,46],\n",
    "  [106,161,61],\n",
    "  [98,183,52],\n",
    "  [48,102,14],\n",
    "]\n",
    "chi_stat, p_val, dof, excepted = chi2_contingency(data)\n",
    "print('Chi Stat:', chi_stat)\n",
    "print('P Value:', p_val)\n",
    "print('Degrees of Freedom:', dof)\n",
    "print('Excepted:', excepted)\n",
    "\n",
    "alpha = 0.05 # 1% significance level\n",
    "if p_val < alpha:\n",
    "  print('Dependent (reject H0): Resident and Income Level consumption are associated.')\n",
    "else:\n",
    "  print('Independent (fail to reject H0): Resident and Income Level consumption are not associated.')"
   ]
  },
  {
   "cell_type": "markdown",
   "metadata": {},
   "source": [
    "# Q4. Observation representing sample\n",
    "\n",
    "According to a survey conducted on car owners, it was determined that\n",
    "\n",
    "- 60% of owners have only one car,\n",
    "- 28% have two cars, and\n",
    "- 12% have three or more cars.\n",
    "\n",
    "Suppose Ram conducted his own survey within his residential society, and found that\n",
    "\n",
    "- 73 owners have only one car,\n",
    "- 38 owners have two cars, and\n",
    "- 18 owners have three or more cars.\n",
    "\n",
    "Determine whether Ram's survey supports the original one, with a significance level of 0.05."
   ]
  },
  {
   "cell_type": "code",
   "execution_count": 18,
   "metadata": {},
   "outputs": [
    {
     "name": "stdout",
     "output_type": "stream",
     "text": [
      "Fail to reject the null hypothesis: Thus concluding that Ram's survey results are consistent with the original survey.\n",
      "Chi-Square Statistic: 0.7582133628645247\n",
      "P-value: 0.6844725882551137\n"
     ]
    }
   ],
   "source": [
    "observed_counts = np.array([73, 38, 18])\n",
    "expected_counts = np.array([0.60 * 129, 0.28 * 129, 0.12 * 129])\n",
    "\n",
    "chi_squared_stat, p_value = chisquare(f_obs=observed_counts, f_exp=expected_counts)\n",
    "\n",
    "alpha = 0.05\n",
    "\n",
    "if p_value < alpha:\n",
    "    print(\"Reject the null hypothesis: Thus concluding that Ram's survey results are not consistent with the original survey.\")\n",
    "else:\n",
    "    print(\"Fail to reject the null hypothesis: Thus concluding that Ram's survey results are consistent with the original survey.\")\n",
    "\n",
    "print(f\"Chi-Square Statistic: {chi_squared_stat}\")\n",
    "print(f\"P-value: {p_value}\")"
   ]
  },
  {
   "cell_type": "markdown",
   "metadata": {},
   "source": [
    "# Q5. Distribution of smartphone brands\n",
    "A Mobile Retail store owner is interested in the distribution of popular smartphone brands among a group of 200 people.\n",
    "\n",
    "They expect that 30% of people would prefer Brand A, 40% would prefer Brand B and 30% would prefer Brand C.\n",
    "\n",
    "However, upon surveying the group, the results are as follows: 70 prefer Brand A, 80 prefer Brand B, and 50 prefer Brand C.\n",
    "\n",
    "Conduct an appropriate test to see if the distribution of preferences matches the store owner's expectations at a 5% significance level.\n",
    "\n",
    "Choose the correct option below:\n",
    "\n",
    "- a)\n",
    "\n",
    "  P-value: 0.2048\n",
    "  \n",
    "  We fail to reject the null hypothesis\n",
    "  \n",
    "  Thus concluding that the observed distribution matches the expectations.\n",
    "- b)\n",
    "\n",
    "  P-value: 0.2048\n",
    "  \n",
    "  The null hypothesis is rejected\n",
    "  \n",
    "  Thus concluding that the observed distribution does NOT match the expectations.\n",
    "- c)\n",
    "\n",
    "  P-value: 0.1888\n",
    "  \n",
    "  We fail to reject the null hypothesis\n",
    "  \n",
    "  Thus concluding that the observed distribution matches the expectations.\n",
    "- d)\n",
    "  \n",
    "  P-value: 0.1888\n",
    "  \n",
    "  The null hypothesis is rejected\n",
    "  \n",
    "  Thus concluding that the observed distribution does not match the expectations."
   ]
  },
  {
   "cell_type": "code",
   "execution_count": 20,
   "metadata": {},
   "outputs": [
    {
     "name": "stdout",
     "output_type": "stream",
     "text": [
      "Fail to reject the null hypothesis: Thus concluding that the observed distribution matches the expectations.\n",
      "Chi-Square Statistic: 3.3333333333333335\n",
      "P-value: 0.18887560283756186\n"
     ]
    }
   ],
   "source": [
    "observed_counts = np.array([70, 80, 50])\n",
    "expected_counts = np.array([0.30 * 200, 0.40 * 200, 0.30 * 200])\n",
    "\n",
    "chi_squared_stat, p_value = chisquare(f_obs=observed_counts, f_exp=expected_counts)\n",
    "\n",
    "alpha = 0.05\n",
    "\n",
    "if p_value < alpha:\n",
    "    print(\"Reject the null hypothesis: Thus concluding that the observed distribution does not matches the expectations.\")\n",
    "else:\n",
    "    print(\"Fail to reject the null hypothesis: Thus concluding that the observed distribution matches the expectations.\")\n",
    "\n",
    "print(f\"Chi-Square Statistic: {chi_squared_stat}\")\n",
    "print(f\"P-value: {p_value}\")"
   ]
  },
  {
   "cell_type": "markdown",
   "metadata": {},
   "source": [
    "# Q6. Dof Politics\n",
    "In a social science survey, researchers investigate the relationship between two categorical variables.\n",
    "\n",
    "Those variables, along with their categories are:\n",
    "\n",
    "- Variable A: PoliticalOpinions\n",
    "  - Strongly Agree,\n",
    "  - Agree,\n",
    "  - Disagree,\n",
    "  - Strongly Disagree\n",
    "- Variable B: DemographicInfo (Age Group)\n",
    "  - 18-25,\n",
    "  - 26-35,\n",
    "  - 36-50\n",
    "The goal is to determine if there is a significant association between the opinions on the political issue and demographic characteristics, specifically age groups.\n",
    "\n",
    "In this scenario, what is the degrees of freedom for the chi-square test of independence?"
   ]
  },
  {
   "cell_type": "code",
   "execution_count": 11,
   "metadata": {},
   "outputs": [
    {
     "data": {
      "text/plain": [
       "6"
      ]
     },
     "execution_count": 11,
     "metadata": {},
     "output_type": "execute_result"
    }
   ],
   "source": [
    "(4-1)*(3-1)"
   ]
  },
  {
   "cell_type": "markdown",
   "metadata": {},
   "source": [
    "# Q7. Time spent on website\n",
    "Suppose you are interested in the distribution of time spent on a website, by it's users. You expect that:\n",
    "\n",
    "- 20% of users spend less than 5 minutes,\n",
    "- 50% spend between 5 and 10 minutes, and\n",
    "- 30% spend more than 10 minutes.\n",
    "\n",
    "After collecting data from 200 users, you find that\n",
    "\n",
    "- 30 users spent less than 5 minutes,\n",
    "- 85 users spent between 5 and 10 minutes, and\n",
    "- 85 users spent more than 10 minutes.\n",
    "Conduct an appropriate test to see if the distribution of browsing times matches your expectations at a 5% significance level. Choose the correct option from below:\n",
    "```\n",
    "a)\n",
    "\n",
    "P-value: 0.0005\n",
    "\n",
    "We fail to reject the null hypothesis\n",
    "\n",
    "Thus concluding that the distribution of browsing times matches expectations.\n",
    "```\n",
    "\n",
    "```\n",
    "b)\n",
    "\n",
    "P-value: 0.0005\n",
    "\n",
    "The null hypothesis is rejected, \n",
    "\n",
    "Thus concluding that the distribution of browsing times does not match expectations.\n",
    "```\n",
    "\n",
    "```\n",
    "c)\n",
    "\n",
    "P-value: 0.33\n",
    "\n",
    "We fail to reject the null hypothesis\n",
    "\n",
    "Thus concluding that the distribution of browsing times matches expectations.\n",
    "```\n",
    "\n",
    "```\n",
    "d)\n",
    "\n",
    "P-value: 0.33\n",
    "\n",
    "The null hypothesis is rejected, \n",
    "\n",
    "Thus concluding that the distribution of browsing times does not match expectations.\n",
    "```"
   ]
  },
  {
   "cell_type": "code",
   "execution_count": 13,
   "metadata": {},
   "outputs": [
    {
     "name": "stdout",
     "output_type": "stream",
     "text": [
      "Reject the null hypothesis: The distribution of browsing times does not match expectations.\n",
      "Chi-Square Statistic: 15.166666666666666\n",
      "P-value: 0.0005088621855732918\n"
     ]
    }
   ],
   "source": [
    "observed_counts = np.array([30, 85, 85])\n",
    "expected_counts = np.array([0.20 * 200, 0.50 * 200, 0.30 * 200])\n",
    "\n",
    "chi_squared_stat, p_value = chisquare(f_obs=observed_counts, f_exp=expected_counts)\n",
    "\n",
    "alpha = 0.05\n",
    "\n",
    "if p_value < alpha:\n",
    "    print(\"Reject the null hypothesis: The distribution of browsing times does not match expectations.\")\n",
    "else:\n",
    "    print(\"Fail to reject the null hypothesis: The distribution of browsing times matches expectations.\")\n",
    "\n",
    "print(f\"Chi-Square Statistic: {chi_squared_stat}\")\n",
    "print(f\"P-value: {p_value}\")"
   ]
  },
  {
   "cell_type": "markdown",
   "metadata": {},
   "source": [
    "# Q8. Help to choose the right test\n",
    "A telecom company had taken a survey of smartphone owners in a certain town 5 years back and found 73% of the population own a smartphone, and have been since using this data to make their business decisions.\n",
    "\n",
    "Now a new marketing manager has joined, and he believes this value is not valid anymore. Thus he conducts a survey of 500 people and finds that 420 of them responded with affirmation as to owning a smartphone.\n",
    "\n",
    "Which statistical test would you use to compare these two survey data?\n"
   ]
  },
  {
   "cell_type": "code",
   "execution_count": null,
   "metadata": {},
   "outputs": [],
   "source": []
  }
 ],
 "metadata": {
  "kernelspec": {
   "display_name": "Python 3",
   "language": "python",
   "name": "python3"
  },
  "language_info": {
   "codemirror_mode": {
    "name": "ipython",
    "version": 3
   },
   "file_extension": ".py",
   "mimetype": "text/x-python",
   "name": "python",
   "nbconvert_exporter": "python",
   "pygments_lexer": "ipython3",
   "version": "3.11.4"
  }
 },
 "nbformat": 4,
 "nbformat_minor": 2
}
