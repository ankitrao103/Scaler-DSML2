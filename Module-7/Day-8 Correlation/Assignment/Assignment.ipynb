{
 "cells": [
  {
   "cell_type": "code",
   "execution_count": 2,
   "metadata": {},
   "outputs": [],
   "source": [
    "import numpy as np\n",
    "import pandas as pd\n",
    "import matplotlib.pyplot as plt\n",
    "import seaborn as sns"
   ]
  },
  {
   "cell_type": "code",
   "execution_count": 3,
   "metadata": {},
   "outputs": [],
   "source": [
    "from scipy.stats import pearsonr, spearmanr"
   ]
  },
  {
   "cell_type": "markdown",
   "metadata": {},
   "source": [
    "# Q1. Interpret Covariance\n",
    "\n",
    "Which of the following is/are true regarding covariance?\n",
    "\n",
    "- If data values are doubled, the relationship between the features would remain unchanged, however the covariance value will change.\n",
    "\n",
    "- Covariance tells how close the data points are to the line of best fit.\n",
    "\n",
    "- Covariance cannot tell if the line of best fit is steep or not steep.\n",
    "\n",
    "- When the data are far from the line of best fit, covariance will have relatively higher value"
   ]
  },
  {
   "cell_type": "markdown",
   "metadata": {},
   "source": [
    "# Solution\n",
    "**Correct options :**\n",
    "\n",
    "- If data values are doubled, the relationship between the features would remain unchanged, however the covariance value will change.\n",
    "- Covariance cannot tell if the line of best fit is steep or not steep.\n",
    "\n",
    "**Explanation :**\n",
    "- When the values of the data is doubled, the data only scales up in the size. And because of this the variance will also change, but the relationship between the features will always be the same.\n",
    "- Covariance is not a parameter to define how good the line of best fit is, and thus it also cannot tell how close the data points are to the line of best fit.\n",
    "- Covariance cannot tell if the line of best fit is steep or not steep, Though it does tell us whether the slope of best fit is positive or negative.\n",
    "- If the covariance is compared for the data with the same scales the option D holds true. But, when the scale of the same data is changed, it is not mandatory that the covariance will have a higher value."
   ]
  },
  {
   "cell_type": "markdown",
   "metadata": {},
   "source": [
    "# Q2. Father and Son\n",
    "\n",
    "Child development researchers studying growth patterns of children collect data on the height of fathers and sons.\n",
    "\n",
    "Analyse the correlation between the father's height and their son's height using the given data\n",
    "```\n",
    "Father Height = [169.39, 161.91, 159.23, 161.72, 167.52, 152.13, 169.64, 162.56, 154.92, 158.57, 153.17, 159.56, 153.77, 168.02, 157.75, 157.42, 160.65, 160.09, 151.4, 151.05, 136.94, 163.56, 160.39, 146.92, 171.66, 150.48, 158.12, 157.83, 163.99, 164.95]  \n",
    "\n",
    "Son Height = [187.35, 177.8, 181.85, 190.69, 188.07, 168.16, 181.65, 173.94, 174.28, 177.87, 176.01, 185.18, 180.33, 175.85, 178.11, 177.34, 185.46, 173.56, 177.19, 169.02, 157.13, 179.58, 181.05, 169.8, 190.89, 164.82, 175.32, 173.69, 185.73, 185.29]\n",
    "```"
   ]
  },
  {
   "cell_type": "code",
   "execution_count": 6,
   "metadata": {},
   "outputs": [
    {
     "name": "stdout",
     "output_type": "stream",
     "text": [
      "Pearson correlation coefficient: 0.800\n",
      "P-value: 1.1121684743613119e-07\n"
     ]
    }
   ],
   "source": [
    "FatherHeight = [169.39, 161.91, 159.23, 161.72, 167.52, 152.13, 169.64, 162.56, 154.92, 158.57, 153.17, 159.56, 153.77, 168.02, 157.75, 157.42, 160.65, 160.09, 151.4, 151.05, 136.94, 163.56, 160.39, 146.92, 171.66, 150.48, 158.12, 157.83, 163.99, 164.95]  \n",
    "\n",
    "SonHeight = [187.35, 177.8, 181.85, 190.69, 188.07, 168.16, 181.65, 173.94, 174.28, 177.87, 176.01, 185.18, 180.33, 175.85, 178.11, 177.34, 185.46, 173.56, 177.19, 169.02, 157.13, 179.58, 181.05, 169.8, 190.89, 164.82, 175.32, 173.69, 185.73, 185.29]\n",
    "\n",
    "stats,p_value = pearsonr(FatherHeight, SonHeight)\n",
    "print('Pearson correlation coefficient: %.3f' % stats)\n",
    "print('P-value:' , p_value)"
   ]
  },
  {
   "cell_type": "code",
   "execution_count": 21,
   "metadata": {},
   "outputs": [
    {
     "name": "stdout",
     "output_type": "stream",
     "text": [
      "               Father Height  Son Height\n",
      "Father Height       1.000000    0.800205\n",
      "Son Height          0.800205    1.000000\n"
     ]
    },
    {
     "data": {
      "image/png": "[encoded data removed]",
      "text/plain": [
       "<Figure size 600x400 with 1 Axes>"
      ]
     },
     "metadata": {},
     "output_type": "display_data"
    }
   ],
   "source": [
    "Father_Height = [169.39, 161.91, 159.23, 161.72, 167.52, 152.13, 169.64, 162.56, 154.92, 158.57, 153.17, 159.56, 153.77, 168.02, 157.75, 157.42, 160.65, 160.09, 151.4, 151.05, 136.94, 163.56, 160.39, 146.92, 171.66, 150.48, 158.12, 157.83, 163.99, 164.95]\n",
    "Son_Height = [187.35, 177.8, 181.85, 190.69, 188.07, 168.16, 181.65, 173.94, 174.28, 177.87, 176.01, 185.18, 180.33, 175.85, 178.11, 177.34, 185.46, 173.56, 177.19, 169.02, 157.13, 179.58, 181.05, 169.8, 190.89, 164.82, 175.32, 173.69, 185.73, 185.29]\n",
    "\n",
    "data = {'Father Height': Father_Height, 'Son Height': Son_Height}\n",
    "\n",
    "# Create the DataFrame\n",
    "df = pd.DataFrame(data)\n",
    "print(df.corr())\n",
    "\n",
    "# Plot father heights vs. son heights\n",
    "\n",
    "plt.figure(figsize=(6,4))\n",
    "sns.scatterplot(x=Father_Height,y=Son_Height, color='green')\n",
    "plt.title(\"Father Heights vs. Son Heights\")\n",
    "plt.xlabel(\"Father Height (cm)\")\n",
    "plt.ylabel(\"Son Height (cm)\")\n",
    "plt.grid(True)\n",
    "plt.show()"
   ]
  },
  {
   "cell_type": "markdown",
   "metadata": {},
   "source": [
    "# Q3. mRNA Genes\n",
    "Suppose we have mRNA data with features as Gene ‘X’ and Gene ‘Y’. You get to know that there is a correlation between these features. Based on the correlation type, what conclusion can you make?\n",
    "\n",
    "![](https://d2beiqkhq929f0.cloudfront.net/public_assets/assets/000/005/610/original/Untitled.png?1654077429)\n"
   ]
  },
  {
   "cell_type": "code",
   "execution_count": 7,
   "metadata": {},
   "outputs": [],
   "source": [
    "## Answer -> Option B: 1-c, 2-a,3-b"
   ]
  },
  {
   "cell_type": "markdown",
   "metadata": {},
   "source": [
    "# Q4. Exam score and Study hours\n",
    "\n",
    "A researcher is analyzing the relationship between the number of hours students spend studying and their exam scores. He collects data from 10 students:\n",
    "\n",
    "```\n",
    "study_hours = np.array([10, 15, 20, 25, 30, 35, 40, 45, 50, 55])  \n",
    "exam_scores = np.array([60, 65, 70, 75, 80, 85, 90, 95, 100, 105])\n",
    "```\n",
    "Calculate the Pearson correlation coefficient between these variables\n"
   ]
  },
  {
   "cell_type": "code",
   "execution_count": 15,
   "metadata": {},
   "outputs": [
    {
     "name": "stdout",
     "output_type": "stream",
     "text": [
      "Pearson correlation coefficient: 1.0\n",
      "P-value: 0.0\n"
     ]
    }
   ],
   "source": [
    "study_hours = np.array([10, 15, 20, 25, 30, 35, 40, 45, 50, 55])  \n",
    "exam_scores = np.array([60, 65, 70, 75, 80, 85, 90, 95, 100, 105])\n",
    "\n",
    "# pearson correlation\n",
    "stats,p_value = pearsonr(study_hours, exam_scores)\n",
    "print('Pearson correlation coefficient:' , stats)\n",
    "print('P-value:' , p_value)"
   ]
  },
  {
   "cell_type": "markdown",
   "metadata": {},
   "source": [
    "# Q5. Correlation plots\n",
    "\n",
    "Based on Spearman's rank correlation, order the below plots from highest to lowest correlation.\n",
    "\n",
    "![](https://d2beiqkhq929f0.cloudfront.net/public_assets/assets/000/002/930/original/corr1.png?1648129836)"
   ]
  },
  {
   "cell_type": "code",
   "execution_count": 9,
   "metadata": {},
   "outputs": [],
   "source": [
    "## ANSWER-> OPTION B: C,A,B,D"
   ]
  },
  {
   "cell_type": "markdown",
   "metadata": {},
   "source": [
    "# Q6. compute pearson and spearman\n",
    "\n",
    "Compute the pearson and spearman correlation between two variables a and b .\n",
    "```\n",
    "a = [10.0, 8.0, 13.0, 9.0, 11.0, 14.0, 6.0, 4.0, 12.0, 7.0, 5.0]\n",
    "\n",
    "b = [8.04, 6.95, 7.58, 8.81, 8.33, 9.96, 7.24, 4.26, 10.84, 4.82, 5.68]\n",
    "```\n",
    "Select the correct option :\n"
   ]
  },
  {
   "cell_type": "code",
   "execution_count": 24,
   "metadata": {},
   "outputs": [
    {
     "name": "stdout",
     "output_type": "stream",
     "text": [
      "Pearson correlation coefficient: 0.81642051634484\n",
      "Pearson P-value: 0.0021696288730787827\n",
      "Spearman correlation coefficient: 0.8181818181818182\n",
      "Spearman P-value: 0.0020831448404786904\n"
     ]
    }
   ],
   "source": [
    "a = [10.0, 8.0, 13.0, 9.0, 11.0, 14.0, 6.0, 4.0, 12.0, 7.0, 5.0]\n",
    "b = [8.04, 6.95, 7.58, 8.81, 8.33, 9.96, 7.24, 4.26, 10.84, 4.82, 5.68]\n",
    "\n",
    "# pearson correlation\n",
    "stats,p_value = pearsonr(a, b)\n",
    "print('Pearson correlation coefficient:' , stats)\n",
    "print('Pearson P-value:' , p_value)\n",
    "\n",
    "stats,p_value = spearmanr(a, b)\n",
    "print('Spearman correlation coefficient:' , stats)\n",
    "print('Spearman P-value:' , p_value)"
   ]
  },
  {
   "cell_type": "markdown",
   "metadata": {},
   "source": [
    "# Q7. Sunlight and Height\n",
    "\n",
    "A biologist is studying the relationship between the height of plants and the amount of sunlight they receive.\n",
    "\n",
    "The biologist collects data from 8 different plants, measuring their heights (in centimeters) and ranking them based on the amount of sunlight they receive.\n",
    "\n",
    "```\n",
    "plant_heights = np.array([15, 20, 25, 18, 22, 30, 28, 35])\n",
    "\n",
    "sunlight_rankings = np.array([4, 7, 3, 6, 5, 8, 2, 1])\n",
    "```\n",
    "Calculate the Spearman correlation between these variables.\n"
   ]
  },
  {
   "cell_type": "code",
   "execution_count": 25,
   "metadata": {},
   "outputs": [
    {
     "name": "stdout",
     "output_type": "stream",
     "text": [
      "Spearman correlation coefficient: -0.3333333333333334\n",
      "Spearman P-value: 0.4197530864197531\n"
     ]
    }
   ],
   "source": [
    "plant_heights = np.array([15, 20, 25, 18, 22, 30, 28, 35])\n",
    "sunlight_rankings = np.array([4, 7, 3, 6, 5, 8, 2, 1])\n",
    "\n",
    "# spearman correlation\n",
    "stats,p_value = spearmanr(plant_heights, sunlight_rankings)\n",
    "print('Spearman correlation coefficient:' , stats)\n",
    "print('Spearman P-value:' , p_value)"
   ]
  }
 ],
 "metadata": {
  "kernelspec": {
   "display_name": "Python 3",
   "language": "python",
   "name": "python3"
  },
  "language_info": {
   "codemirror_mode": {
    "name": "ipython",
    "version": 3
   },
   "file_extension": ".py",
   "mimetype": "text/x-python",
   "name": "python",
   "nbconvert_exporter": "python",
   "pygments_lexer": "ipython3",
   "version": "3.11.4"
  }
 },
 "nbformat": 4,
 "nbformat_minor": 2
}
