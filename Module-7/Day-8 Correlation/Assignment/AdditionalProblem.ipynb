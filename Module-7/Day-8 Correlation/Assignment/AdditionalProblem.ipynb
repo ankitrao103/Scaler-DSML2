{
 "cells": [
  {
   "cell_type": "markdown",
   "metadata": {},
   "source": [
    "# Q1. What is Correlation Coefficient ?\n",
    "\n",
    "Given two variables x, y, the correlation coefficient is used to determine:\n",
    "\n",
    "- A specific value of the y-variable given a specific value of the x-variable\n",
    "\n",
    "- A specific value of the x-variable given a specific value of the y-variable\n",
    "\n",
    "- The strength of the linear relationship between the x and y variables\n",
    "\n",
    "- None of these"
   ]
  },
  {
   "cell_type": "markdown",
   "metadata": {},
   "source": [
    "# Asnwer\n",
    "✅ The strength of the linear relationship between the x and y variables"
   ]
  },
  {
   "cell_type": "markdown",
   "metadata": {},
   "source": [
    "# Q2. Interpret Correlation\n",
    "\n",
    "Based on the following plots, arrange them in descending order with respect to their correlation values.\n",
    "\n",
    "![](https://d2beiqkhq929f0.cloudfront.net/public_assets/assets/000/005/611/original/u.png?1654077861)\n",
    "\n",
    "![](https://d2beiqkhq929f0.cloudfront.net/public_assets/assets/000/005/612/original/u.png?1654077944)\n",
    "\n",
    "![](https://d2beiqkhq929f0.cloudfront.net/public_assets/assets/000/005/613/original/u.png?1654078002)\n",
    "\n",
    "![](https://d2beiqkhq929f0.cloudfront.net/public_assets/assets/000/005/614/original/u.png?1654078091)"
   ]
  },
  {
   "cell_type": "markdown",
   "metadata": {},
   "source": [
    "# Asnwer: iv > ii > iii > i"
   ]
  },
  {
   "cell_type": "markdown",
   "metadata": {},
   "source": [
    "Q3. Correlation Analysis\n",
    "\n",
    "Consider the below plot for two continuous variables:\n",
    "\n",
    "![](https://d2beiqkhq929f0.cloudfront.net/public_assets/assets/000/003/108/original/corr_qb.PNG?1649061008)\n",
    "\n",
    "Based on this plot, which of the following option is correct?"
   ]
  },
  {
   "cell_type": "markdown",
   "metadata": {},
   "source": [
    "# Asnwer\n",
    "✅ There is absolutely no relation between the two variables and it can be concluded that these two variables are completely independent of each other"
   ]
  },
  {
   "cell_type": "markdown",
   "metadata": {},
   "source": [
    "# Q4. Pearson vs Spearman\n",
    "\n",
    "Choose the correct statement(s) on Pearson Correlation Coefficient and Spearman Rank Correlation Coefficient.\n",
    "- Pearson gives a measure of strength of linear association between two variables where as Spearman gives a measure of strength of monotonicity between two variables.\n",
    "\n",
    "- Pearson is calculated from the raw value of data points where as Spearman depends on the rank.\n",
    "\n",
    "- Both the techniques cannot be used with nominal data\n",
    "\n",
    "- Both the tests tell us about the slope of the line of best fit."
   ]
  },
  {
   "cell_type": "markdown",
   "metadata": {},
   "source": [
    "# Correct options :\n",
    "\n",
    "✅ Pearson gives a measure of strength of linear association between two variables where as Spearman gives a measure of strength of monotonicity between two variables.\n",
    "\n",
    "✅ Pearson is calculated from the raw value of data points where as Spearman depends on the rank.\n",
    "\n",
    "✅ Both the techniques cannot be used with nominal data\n",
    "\n",
    "Explanation :\n",
    "\n",
    "- Pearson test tells us the about the slope of the line of best fit. Other than that, Pearson gives a measure of the strength of linear association between two variables whereas Spearman gives a measure of the strength of monotonicity between two variables,\n",
    "\n",
    "- Pearson coefficient is calculated from the raw value of data points whereas Spearman depends on the rank. It assesses how well the relationship between two variables can be described using a monotonic function.\n",
    "\n",
    "- Both techniques cannot be used with nominal (unranked) data as the data must be ordinal (ranked) in Spearman.\n",
    "\n",
    "- the Spearman test does not tell us about the slope of the line of best fit, it tells us how closely our data fit on a line, so two datasets with the same correlation coefficient can have very different slopes."
   ]
  }
 ],
 "metadata": {
  "language_info": {
   "name": "python"
  }
 },
 "nbformat": 4,
 "nbformat_minor": 2
}
