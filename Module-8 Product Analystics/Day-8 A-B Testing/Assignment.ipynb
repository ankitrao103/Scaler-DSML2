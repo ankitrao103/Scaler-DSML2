{
 "cells": [
  {
   "cell_type": "markdown",
   "metadata": {},
   "source": [
    "# A/B Testing Assignment "
   ]
  },
  {
   "cell_type": "markdown",
   "metadata": {},
   "source": [
    "# Q1. Question for A/B Testing\n",
    "\n",
    "Which of the following questions is not related to A/B testing?\n",
    "- Is the elevation in sales caused due to our newly launched campaign?\n",
    "- What action should we take in order to reduce the customer churn?\n",
    "- Would adding a picture to this landing page increase conversions?\n",
    "- Are people more likely to click a red button or a blue button?"
   ]
  },
  {
   "cell_type": "markdown",
   "metadata": {},
   "source": [
    "**Answer:** What action should we take in order to reduce the customer churn?\n",
    "\n",
    "**Explanation:** This question requires us to explore & recommend actions with the goal of reducing customer churn instead of approving/disproving a hypothesis."
   ]
  },
  {
   "cell_type": "markdown",
   "metadata": {},
   "source": [
    "# Q2. Purpose of A/B Testing\n",
    "\n",
    "What is the main purpose of A/B testing in product analytics?\n",
    "- To determine the best product design or feature by comparing two or more variations of a product.\n",
    "- To analyse the purchasing history of the customers by segmenting them into multiple groups.\n",
    "- To determine both the short-term & long-term impact of a feature on user behaviour.\n",
    "- To evaluate the usability of a product to be launched in the upcoming days."
   ]
  },
  {
   "cell_type": "markdown",
   "metadata": {},
   "source": [
    "**Answer:** To determine the best product design or feature by comparing two or more variations of a product."
   ]
  },
  {
   "cell_type": "markdown",
   "metadata": {},
   "source": [
    "# Q3. Conducting an Experiment\n",
    "\n",
    "Arrange the following steps in correct order for designing and conducting a successful experiment?\n",
    "\n",
    "1. Defining the flow & structure\n",
    "2. Developing the right hypothesis\n",
    "3. Clarifying the goal\n",
    "4. Identifying the pitfalls\n",
    "5. Estimating the cost & duration"
   ]
  },
  {
   "cell_type": "markdown",
   "metadata": {},
   "source": [
    "**Answer:** 3 -> 1 -> 2 -> 5 -> 4\n",
    "\n",
    "**Explanation:** The correct sequence of steps to design and conduct a successful experiment is as follows..\n",
    "\n",
    "  1. Clarifying the goal\n",
    "  2. Defining the flow & structure\n",
    "  3. Developing the right hypothesis\n",
    "  4. Estimating the cost & duration\n",
    "  5. Identifying the pitfalls"
   ]
  },
  {
   "cell_type": "markdown",
   "metadata": {},
   "source": [
    "# Q4. Primacy effect\n",
    "\n",
    "It’s been a week of launching a new feature and the user engagement is already down by 5%. What decision can we make on the basis of this observation?\n",
    "- The users didn’t like the feature and it should be removed immediately.\n",
    "- We should start adding some changes/modifications into the feature.\n",
    "- We should wait for some time and let the users get familiar with this new feature.\n",
    "- No decision can be made on the basis of this observation."
   ]
  },
  {
   "cell_type": "markdown",
   "metadata": {},
   "source": [
    "**Answer:** We should wait for some time and let the users get familiar with this new feature."
   ]
  },
  {
   "cell_type": "markdown",
   "metadata": {},
   "source": [
    "# Q5. Novelty effect\n",
    "\n",
    "It’s been around one and a half months since the launching of a new feature and the user engagement has been stagnant at 55% after increasing till the 3rd week. What can we conclude from this observation?\n",
    "- We shall wait for some time and see if the trend changes.\n",
    "- The users could be excited at first but now they’ve got bored of this feature.\n",
    "- Both of the given options seem to be valid and are subject to further study.\n",
    "- No conclusion can be reached."
   ]
  },
  {
   "cell_type": "markdown",
   "metadata": {},
   "source": [
    "**Answer:** Both of the given options seem to be valid and are subject to further study."
   ]
  }
 ],
 "metadata": {
  "language_info": {
   "name": "python"
  }
 },
 "nbformat": 4,
 "nbformat_minor": 2
}
