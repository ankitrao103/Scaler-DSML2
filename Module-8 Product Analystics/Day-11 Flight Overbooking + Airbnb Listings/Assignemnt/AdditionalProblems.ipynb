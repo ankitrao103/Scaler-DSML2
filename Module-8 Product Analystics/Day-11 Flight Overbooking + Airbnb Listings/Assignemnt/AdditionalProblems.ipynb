{
 "cells": [
  {
   "cell_type": "markdown",
   "metadata": {},
   "source": [
    "# Additional problems\n"
   ]
  },
  {
   "cell_type": "markdown",
   "metadata": {},
   "source": [
    "# Q1. How many trees?\n",
    "\n",
    "In a row of trees, a tree is 7th from the left end and the same tree is 14th from the right end. Find out how many trees are there in the row?\n",
    "- 18\n",
    "- 19\n",
    "- 20\n",
    "- 21"
   ]
  },
  {
   "cell_type": "markdown",
   "metadata": {},
   "source": [
    "**Answer:** 20\n",
    "\n",
    "**Explanation:** Let’s call the number of trees in the row “x”.\n",
    "\n",
    "If the tree is 7th from the left end, that means there are 6 trees to its left.\n",
    "\n",
    "If the same tree is 14th from the right end, that means there are 13 trees to its right.\n",
    "\n",
    "Therefore, the total number of trees in the row can be found by adding the number of trees to the left of the tree, the number of trees to the right of the tree, and the tree itself: 6 + 13 + 1 = 20\n",
    "\n",
    "So, there are 20 trees in the row."
   ]
  },
  {
   "cell_type": "markdown",
   "metadata": {},
   "source": [
    "# Q2. Spider's Web\n",
    "\n",
    "What is the day on which a spider's web, which doubles in size every day, will be 25% complete, given that the spider takes 15 days to completely build the web?\n",
    "- 7th day\n",
    "- 9th day\n",
    "- 11th day\n",
    "- 13th day"
   ]
  },
  {
   "cell_type": "markdown",
   "metadata": {},
   "source": [
    "**Answer:** 13 days\n",
    "\n",
    "**Explanation:** If the web is completed on the 15th day and it doubles everyday that means it was completed 50% on 14th day and therefore 25% on 13th day."
   ]
  },
  {
   "cell_type": "markdown",
   "metadata": {},
   "source": [
    "# Q3. Who's the second oldest?\n",
    "\n",
    "B is twice as old as A but twice younger than F.\n",
    "C is half the age of A but is twice older than D.\n",
    "\n",
    "Find out who among them is the second oldest?\n",
    "- B\n",
    "- F\n",
    "- C\n",
    "- D"
   ]
  },
  {
   "cell_type": "markdown",
   "metadata": {},
   "source": [
    "**Answer:** B\n",
    "\n",
    "**Explanation:**\n",
    "\n",
    "Let’s assign some variables to the ages of the people in the problem:\n",
    "\n",
    "  - Let A be the age of person A.\n",
    "  - Then B is twice as old as A, so B = 2A.\n",
    "  - F is twice older than B, so F = 2B = 4A.\n",
    "  - C is half the age of A, so C = A/2.\n",
    "  - C is twice as old as D, so D =C/2 = A/4.\n",
    "\n",
    "Therefore, we can see that F is the oldest person, followed by B being the second oldest."
   ]
  },
  {
   "cell_type": "markdown",
   "metadata": {},
   "source": [
    "# Q4. What comes next?\n",
    "\n",
    "Look at this series: 7, 10, 8, 11, 9, 12, ...\n",
    "\n",
    "Which number should come next?\n",
    "- 10\n",
    "- 13\n",
    "- 11\n",
    "- 15\n"
   ]
  },
  {
   "cell_type": "markdown",
   "metadata": {},
   "source": [
    "**Answer:** 10\n",
    "\n",
    "**Explanation:**\n",
    "\n",
    "The pattern seems to be that the first number increases by 3, then the second number decreases by 2, then the third number increases by 3 again, and so on.\n",
    "\n",
    "  - 7+3=10,\n",
    "  - 10-2=8,\n",
    "  - 8+3=11,\n",
    "  - 11-2=9,\n",
    "  - 9+3=12..\n",
    "  \n",
    "Therefore, the next number in the given series should be: 12-2=10"
   ]
  },
  {
   "cell_type": "markdown",
   "metadata": {},
   "source": [
    "# Q5. How many letters?\n",
    "\n",
    "How many such pairs of letters are there in the word SENDING, each of which has as many letters between its two letters as there are between them in the English alphabet?\n",
    "- No such letters\n",
    "- One\n",
    "- Two\n",
    "- Three\n"
   ]
  },
  {
   "cell_type": "markdown",
   "metadata": {},
   "source": [
    "**Answer:** Three\n",
    "\n",
    "**Explanation:** Only 3 such pairs exist in the word SENDING -\n",
    "\n",
    "  1. I(N)G\n",
    "  2. D(IN)G\n",
    "  3. S(ENDI)N"
   ]
  }
 ],
 "metadata": {
  "language_info": {
   "name": "python"
  }
 },
 "nbformat": 4,
 "nbformat_minor": 2
}
