{
 "cells": [
  {
   "cell_type": "markdown",
   "metadata": {},
   "source": [
    "# Flight Overbooking + Airbnb Listings Assignment"
   ]
  },
  {
   "cell_type": "markdown",
   "metadata": {},
   "source": [
    "# Q1. Bookings in 2015\n",
    "\n",
    "Using the below-given dataset, determine the average number of bookings in the year 2015.\n",
    "\n",
    "Use Tableau to solve this question.\n",
    "\n",
    "[Listing dataset](./Listings_dataset.xlsx)\n",
    "- 111.6\n",
    "- 45.8\n",
    "- 87.9\n",
    "- 38.7"
   ]
  },
  {
   "cell_type": "markdown",
   "metadata": {},
   "source": [
    "**Correct answer:** 87.9\n",
    "\n",
    "**Explanation:**\n",
    "![](https://d2beiqkhq929f0.cloudfront.net/public_assets/assets/000/028/297/original/67C44093-FE49-40B4-B562-D6C9134A0176.jpeg?1678973906)"
   ]
  },
  {
   "cell_type": "markdown",
   "metadata": {},
   "source": [
    "# Q2. Top 10 bookings\n",
    "\n",
    "Using the below-given dataset,\n",
    "\n",
    "Determine which of the following Indian cities is among the top 10 in terms of bookings.\n",
    "\n",
    "Use Tableau to solve this question.\n",
    "\n",
    "[Listing dataset](./Listings_dataset.xlsx)\n",
    "\n",
    "- Mumbai\n",
    "- Delhi\n",
    "- Chennai\n",
    "- Bengaluru"
   ]
  },
  {
   "cell_type": "markdown",
   "metadata": {},
   "source": [
    "**Correct answer:** Bengaluru\n",
    "\n",
    "**Explanation:**\n",
    "![](https://d2beiqkhq929f0.cloudfront.net/public_assets/assets/000/028/298/original/B0C5E845-BD86-4D25-A986-821871AA6CF5.jpeg?1678974431)"
   ]
  },
  {
   "cell_type": "markdown",
   "metadata": {},
   "source": [
    "# Q3. Number of bookings on average\n",
    "\n",
    "Using the below-given dataset,\n",
    "Determine which host type has received a higher number of bookings on average.\n",
    "\n",
    "Use Tableau to solve this question.\n",
    "\n",
    "[Listing dataset](./Listings_dataset.xlsx)\n",
    "- Regular\n",
    "- Superhost"
   ]
  },
  {
   "cell_type": "markdown",
   "metadata": {},
   "source": [
    "**Correct answer:** Superhost\n",
    "\n",
    "**Explanation:**\n",
    "![](https://d2beiqkhq929f0.cloudfront.net/public_assets/assets/000/028/299/original/F370F461-C7DB-42B2-9749-373262BE576C.jpeg?1678974791)"
   ]
  },
  {
   "cell_type": "markdown",
   "metadata": {},
   "source": [
    "# Q4. Average redundant listings\n",
    "\n",
    "Using the below-given dataset,\n",
    "\n",
    "Determine how many images for a listing resulted in higher average redundant listings.\n",
    "\n",
    "Use Tableau to solve this question.\n",
    "\n",
    "[Redundant listing dataset](./Redundant_Listings_dataset.xlsx)\n",
    "- >30 images\n",
    "- 3 to 5 images\n",
    "- 0 to 2 images\n",
    "- 26 to 30 images"
   ]
  },
  {
   "cell_type": "markdown",
   "metadata": {},
   "source": [
    "**Correct answer:** 0 to 2 images\n",
    "\n",
    "**Explanation:**\n",
    "![](https://d2beiqkhq929f0.cloudfront.net/public_assets/assets/000/028/304/original/8FD4CC16-0C88-4019-9361-85FC3DA47E95.jpeg?1678975247)"
   ]
  },
  {
   "cell_type": "markdown",
   "metadata": {},
   "source": [
    "# Q5. Number of active listings\n",
    "\n",
    "Using the below-given dataset,\n",
    "\n",
    "Determine the number of images for a listing that had a higher number of total listings.\n",
    "\n",
    "Use Tableau to solve this question.\n",
    "\n",
    "[Redundant listing dataset](./Redundant_Listings_dataset.xlsx)\n",
    "- 3 to 5 images\n",
    "- 6 to 10 images\n",
    "- 11 to 15 images\n",
    "- None of the given options"
   ]
  },
  {
   "cell_type": "markdown",
   "metadata": {},
   "source": [
    "**Correct answer:** 6 to 10 images\n",
    "\n",
    "**Explanation:**\n",
    "![](https://d2beiqkhq929f0.cloudfront.net/public_assets/assets/000/028/307/original/6B1B4105-88EF-4F43-96AF-A0D3459F069C.jpeg?1678975752)"
   ]
  },
  {
   "cell_type": "markdown",
   "metadata": {},
   "source": [
    "Q6. What is the booking trend?\n",
    "Using the below-given dataset,\n",
    "\n",
    "Determine the trend for the average number of bookings over the years.\n",
    "\n",
    "Use Tableau to solve this question.\n",
    "\n",
    "[Listing dataset](./Listings_dataset.xlsx)\n",
    "- Downward trend\n",
    "- Upward trend\n",
    "- There is no trend"
   ]
  },
  {
   "cell_type": "markdown",
   "metadata": {},
   "source": [
    "**Correct Answer: Downward trend**"
   ]
  }
 ],
 "metadata": {
  "language_info": {
   "name": "python"
  }
 },
 "nbformat": 4,
 "nbformat_minor": 2
}
