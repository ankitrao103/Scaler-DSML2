{
 "cells": [
  {
   "cell_type": "markdown",
   "metadata": {},
   "source": [
    "## Assignment"
   ]
  },
  {
   "cell_type": "markdown",
   "metadata": {},
   "source": [
    "Q1. Metric for Finance\n",
    "\n",
    "Which of these is not a commonly used business metric in the finance domain?\n",
    "- Average payload\n",
    "- Gross profit\n",
    "- Marginal costs\n",
    "- Operating margin"
   ]
  },
  {
   "cell_type": "markdown",
   "metadata": {},
   "source": [
    "**Answer:**\n",
    "Average payload\n",
    "\n",
    "**Explanation:** \n",
    "It is a metric commonly used in the mining or transportation industry. Payload is what a vehicle carries, whereas the others are related to finance."
   ]
  },
  {
   "cell_type": "markdown",
   "metadata": {},
   "source": [
    "# Q2. KPI for Consumer Service\n",
    "\n",
    "Which of these is not a KPI based on or related to consumer service?\n",
    "- Customer satisfaction\n",
    "- Response time\n",
    "- Applicant-to-hire ratio\n",
    "- No. of user complaints"
   ]
  },
  {
   "cell_type": "markdown",
   "metadata": {},
   "source": [
    "**Answer:** Applicant-to-hire ratio\n",
    "\n",
    "**Explanation:** It is a metric generally used in the Human Resource department whereas the others are related to customer service."
   ]
  },
  {
   "cell_type": "markdown",
   "metadata": {},
   "source": [
    "# Q3. North Star for Companies\n",
    "\n",
    "Which of the following is least likely to be the north star metric for the corresponding companies?\n",
    "- Walmart : Supplier Quality Index\n",
    "- Zoom : Weekly Hosted Meetings\n",
    "- Medium : Total Time Spent Reading\n",
    "- Twilio : Total Messages Sent"
   ]
  },
  {
   "cell_type": "markdown",
   "metadata": {},
   "source": [
    "**Answer:** Walmart - Supplier Quality Index\n",
    "\n",
    "**Explanation:** The north star metric for Walmart is revenue per customer.\n",
    "\n",
    "Supplier quality index is not likely to be the north star metric because the company’s main goal won’t be to improve the supplier quality but rather increase the product sales."
   ]
  },
  {
   "cell_type": "markdown",
   "metadata": {},
   "source": [
    "# Q4. North Star for Instagram\n",
    "\n",
    "Which of the following is most likely to be the north star metric for Instagram?\n",
    "- Average number of likes & comments per post\n",
    "- Number of monthly active users\n",
    "- Number of direct messages sent per day\n",
    "- Number of ads targeted per week"
   ]
  },
  {
   "cell_type": "markdown",
   "metadata": {},
   "source": [
    "**Answer:** Number of monthly active users\n",
    "\n",
    "**Explanation:** Out of all these, the most important metric for Instagram is the “number of monthly active users”.\n",
    "\n",
    "No. of direct messages can be a north star metric for apps like messenger.\n",
    "No. of likes, dislikes are subjective and depend upon the content.\n",
    "No. of ads targeted can be a support metric which should increase with the increase in the no. of active users."
   ]
  },
  {
   "cell_type": "markdown",
   "metadata": {},
   "source": [
    "# Q5. Key Performance Indicator\n",
    "\n",
    "What is a Key Performance Indicator?\n",
    "- A way to assess employee behaviour\n",
    "- A synopsis of a business' digital marketing\n",
    "- A measurable value for tracking business goals\n",
    "- A look back at all the previous year's objectives"
   ]
  },
  {
   "cell_type": "markdown",
   "metadata": {},
   "source": [
    "**Answer:** A measurable value for tracking business goals\n",
    "\n",
    "**Explanation:** Key performance indicators (KPIs) are business metrics used by corporate executives and other managers to track and analyze factors deemed crucial to the success of an organization."
   ]
  }
 ],
 "metadata": {
  "language_info": {
   "name": "python"
  }
 },
 "nbformat": 4,
 "nbformat_minor": 2
}
