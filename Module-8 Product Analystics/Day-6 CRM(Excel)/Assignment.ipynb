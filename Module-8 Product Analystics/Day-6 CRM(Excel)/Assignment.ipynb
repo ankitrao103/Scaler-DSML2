{
 "cells": [
  {
   "cell_type": "markdown",
   "metadata": {},
   "source": [
    "## CRM Analytics - RFM Model Assignment "
   ]
  },
  {
   "cell_type": "markdown",
   "metadata": {},
   "source": [
    "# Q1. Features for RFM\n",
    "\n",
    "RFM helps a company to understand their customer’s characteristics based on their what?\n",
    "- Transaction History\n",
    "- Personal Details\n",
    "- Geographic Location\n",
    "- Age, Sex and Gender"
   ]
  },
  {
   "cell_type": "markdown",
   "metadata": {},
   "source": [
    "**Answer:** Transaction History\n",
    "\n",
    "**Explanation:** RFM stands for Recency, Frequency & Monetary. All these details can be obtained from a customer’s transaction history."
   ]
  },
  {
   "cell_type": "markdown",
   "metadata": {},
   "source": [
    "# Q2. RFM Clustering\n",
    "\n",
    "Which of the following statements is not true about the RFM clustering model?\n",
    "\n",
    "It focuses on..\n",
    "- How much money does a customer spend?\n",
    "- How long have they been shopping with us?\n",
    "- How often do they shop?\n",
    "- When did they last purchase something?"
   ]
  },
  {
   "cell_type": "markdown",
   "metadata": {},
   "source": [
    "**Answer:** How long have they been shopping with us?\n",
    "\n",
    "**Explanation:** RFM stands for Recency, Frequency & Monetary. It doesn’t take into account since when has a shopper been associated with the company."
   ]
  },
  {
   "cell_type": "markdown",
   "metadata": {},
   "source": [
    "# Q3. RFM value 1\n",
    "\n",
    "Which of these seems to be the correct RFM value for a low spending, old customer who hasn’t purchased anything for a long time?\n",
    "\n",
    "Note: Ratings are on a scale of 1 (low) to 5 (high).\n",
    "- 121\n",
    "- 245\n",
    "- 452\n",
    "- 521"
   ]
  },
  {
   "cell_type": "markdown",
   "metadata": {},
   "source": [
    "**Answer:** 121"
   ]
  },
  {
   "cell_type": "markdown",
   "metadata": {},
   "source": [
    "# Q4. RFM value 2\n",
    "\n",
    "Which of the following options correctly represents a RFM value for a frequent customer who shops once every week and spends a good amount of money while shopping?\n",
    "\n",
    "Note: Ratings are on a scale of 1 (low) to 5 (high).\n",
    "- 312\n",
    "- 135\n",
    "- 454\n",
    "- 251"
   ]
  },
  {
   "cell_type": "markdown",
   "metadata": {},
   "source": [
    "**Answer:** 454"
   ]
  },
  {
   "cell_type": "markdown",
   "metadata": {},
   "source": [
    "# Q5. Purpose of RFM\n",
    "\n",
    "A RFM model uses customers' purchasing patterns to _____ .\n",
    "- record their transactions\n",
    "- rank/segment the customers\n",
    "- predict future sales\n",
    "- None of the given options"
   ]
  },
  {
   "cell_type": "markdown",
   "metadata": {},
   "source": [
    "**Answer:** rank/segment the customers\n",
    "\n",
    "**Explanation:** Using the RFM clustering model, we can obtain a RFM score for each customer that can be used to rank/segment those customers for targeted marketing campaigns."
   ]
  },
  {
   "cell_type": "markdown",
   "metadata": {},
   "source": [
    "# Q6. Feature for Segmentation\n",
    "\n",
    "Which one of the following features is least expected to be used for segmenting customers?\n",
    "- Last Visit\n",
    "- Customer ID\n",
    "- Amount Spend\n",
    "- Payment Method"
   ]
  },
  {
   "cell_type": "markdown",
   "metadata": {},
   "source": [
    "**Answer:** Customer ID\n",
    "\n",
    "**Explanation:** Customer ID is least expected to be used for segmenting customers since it is a unique identifier that does not provide any meaningful information about the customer’s behavior or characteristics.\n",
    "\n",
    "Whereas Last Visit, Amount Spent, and Payment Method are all useful features for customer segmentation as they provide information about the customer’s behavior, preferences, and purchasing patterns."
   ]
  }
 ],
 "metadata": {
  "language_info": {
   "name": "python"
  }
 },
 "nbformat": 4,
 "nbformat_minor": 2
}
