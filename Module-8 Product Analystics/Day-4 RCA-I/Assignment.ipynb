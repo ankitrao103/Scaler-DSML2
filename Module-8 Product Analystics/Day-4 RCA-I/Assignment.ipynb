{
 "cells": [
  {
   "cell_type": "markdown",
   "metadata": {},
   "source": [
    "# Assignment"
   ]
  },
  {
   "cell_type": "markdown",
   "metadata": {},
   "source": [
    "# Q1. Primary Objective of RCA\n",
    "\n",
    "What is the primary objective of a Root Cause Analysis?\n",
    "- To identify the underlying cause of a problem\n",
    "- To track customer acquisition and retention\n",
    "- To segment customers based on demographics\n",
    "- To measure customer satisfaction with a product"
   ]
  },
  {
   "cell_type": "markdown",
   "metadata": {},
   "source": [
    "**Answer:** To identify the underlying cause of a problem\n",
    "\n",
    "**Explanation:** Root Cause Analysis is a problem-solving technique used to determine the underlying cause or causes of a problem or issue.\n",
    "By identifying the root cause, organizations can take corrective actions to prevent the problem from recurring in the future."
   ]
  },
  {
   "cell_type": "markdown",
   "metadata": {},
   "source": [
    "# Q2. Goal of RCA\n",
    "\n",
    "In a Root Cause Analysis, what is the goal of collecting and analyzing data?\n",
    "- To identify trends and patterns\n",
    "- To disprove a hypothesis\n",
    "- To find evidence to support a conclusion\n",
    "- All of these"
   ]
  },
  {
   "cell_type": "markdown",
   "metadata": {},
   "source": [
    "**Answer:** All of these\n",
    "\n",
    "**Explanation:** Collecting and analyzing data is a critical part of Root Cause Analysis as it helps to identify patterns and trends that may have contributed to the problem.\n",
    "Additionally, data analysis can help to disprove hypotheses that were made about the cause of the problem, and can provide evidence to support a conclusion about the root cause.\n",
    "Therefore, collecting and analyzing data is a comprehensive process that encompasses all of these goals."
   ]
  },
  {
   "cell_type": "markdown",
   "metadata": {},
   "source": [
    "# Q3. Structured Approach\n",
    "\n",
    "Why is it important to use a structured approach when conducting a Root Cause Analysis? (Choose the top 2 reasons)\n",
    "- It helps to ensure that all possible causes are considered\n",
    "\n",
    "- It helps in effective problem-solving and decision-making\n",
    "\n",
    "- It ensures that the correct person or team is held accountable for the problem\n",
    "\n",
    "- It allows for a clear and concise performance report to be generated"
   ]
  },
  {
   "cell_type": "markdown",
   "metadata": {},
   "source": [
    "**Answer:**\n",
    "\n",
    "Correct options:\n",
    "\n",
    "- It helps to ensure that all possible causes are considered\n",
    "- It helps in effective problem-solving and decision-making\n",
    "\n",
    "**Explanation:**\n",
    "A structured approach provides a systematic and organized way to conduct Root Cause Analysis, ensuring that all possible causes are considered and evaluated.\n",
    "By following a structured approach, the problem-solving process is more efficient and effective, leading to more accurate conclusions and better decisions for corrective actions.\n",
    "\n",
    "It is not the primary goal of Root Cause Analysis to hold a specific person or team accountable for the problem, as the focus is on identifying the underlying cause of the issue and taking appropriate actions to prevent it from recurring.\n",
    "\n",
    "While generating a performance report may be a valuable outcome of Root Cause Analysis, it is not the primary objective. The primary objective is to identify the root cause of the problem and take corrective actions to prevent it from happening again."
   ]
  },
  {
   "cell_type": "markdown",
   "metadata": {},
   "source": [
    "# Q4. Identifying the Root Cause\n",
    "\n",
    "How is the root cause of a problem identified in root cause analysis?\n",
    "- By brainstorming possible causes\n",
    "- By interviewing stakeholders\n",
    "- By analyzing historical data\n",
    "- All of the given options"
   ]
  },
  {
   "cell_type": "markdown",
   "metadata": {},
   "source": [
    "**Answer:** All of the given options\n",
    "\n",
    "**Explanation:** Brainstorming possible causes and interviewing stakeholders are useful methods for gathering information and ideas about potential causes of the problem. Analyzing historical data can also be helpful in identifying patterns and trends that may contribute to the problem."
   ]
  },
  {
   "cell_type": "markdown",
   "metadata": {},
   "source": [
    "# Q5. Use of RCA\n",
    "\n",
    "A root cause analysis can be used for investigating:\n",
    "- Downtime\n",
    "- Maintenance procedures\n",
    "- Quality control exercises\n",
    "- Accidents\n",
    "- All of these"
   ]
  },
  {
   "cell_type": "markdown",
   "metadata": {},
   "source": [
    "**Answer:** All of these\n",
    "\n",
    "**Explanation:** Root cause analysis is a versatile problem-solving technique that can be applied to a wide range of issues in various industries, including all of the above, and is not limited to one specific domain.\n",
    "\n",
    "Its goal is to identify the underlying cause or causes of a problem, regardless of the nature of the problem."
   ]
  }
 ],
 "metadata": {
  "language_info": {
   "name": "python"
  }
 },
 "nbformat": 4,
 "nbformat_minor": 2
}
