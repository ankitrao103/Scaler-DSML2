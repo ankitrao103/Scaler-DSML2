{
 "cells": [
  {
   "cell_type": "markdown",
   "metadata": {},
   "source": [
    "# RCA-II Assignment "
   ]
  },
  {
   "cell_type": "markdown",
   "metadata": {},
   "source": [
    "# Q1. Impact of Demographics\n",
    "\n",
    "- While investigating the probable root cause of a problem, the user demographics that we generally look at are..?\n",
    "\n",
    "- User's Geographical Location\n",
    "\n",
    "- Competitor Activities\n",
    "\n",
    "- User Age Groups\n",
    "\n",
    "- Global Supply Chain Crisis\n",
    "\n",
    "- Gender Distribution of the Users"
   ]
  },
  {
   "cell_type": "markdown",
   "metadata": {},
   "source": [
    "**Answer:**\n",
    "\n",
    "  **Correct options:**\n",
    "\n",
    "  - User's Geographical Location\n",
    "  - User Age Groups\n",
    "  - Gender Distribution of the Users\n",
    "\n",
    "**Explanation:** The user demographics that are generally looked at while investigating the probable root cause of a problem are their Age, Location & Gender distribution.\n",
    "\n",
    "These factors can provide insights into the preferences and behavior of different segments of users, which can help identify patterns or issues that may be specific to certain groups.\n",
    "\n",
    "Competitor activities and global supply chain crises are external factors that may impact the user experience, but they are not directly related to user demographics."
   ]
  },
  {
   "cell_type": "markdown",
   "metadata": {},
   "source": [
    "# Q2. Final Step of RCA\n",
    "\n",
    "Which of the given steps is the final stage of conducting a Root Cause Analysis?\n",
    "- Establish hypotheses and rule them out\n",
    "- List the observations and identify the root cause\n",
    "- Communicate the results and implement corrective measures\n",
    "- Gather relevant data and ask clarifying questions"
   ]
  },
  {
   "cell_type": "markdown",
   "metadata": {},
   "source": [
    "**Answer:** Communicate the results and implement corrective measures\n",
    "\n",
    "**Explanation:** The process of Root Cause Analysis (RCA) involves several steps to identify the underlying cause(s) of a problem. The final step of RCA is to communicate the results of the analysis to stakeholders and implement corrective measures to prevent the problem from recurring.\n",
    "\n",
    "This step involves developing an action plan to address the root cause(s) of the problem, assigning responsibilities, and tracking progress to ensure that the corrective measures are effective."
   ]
  },
  {
   "cell_type": "markdown",
   "metadata": {},
   "source": [
    "# Q3. User Journey\n",
    "\n",
    "Arrange these stages of a user's journey on an e-commerce/shopping application in their correct order.\n",
    "\n",
    "1. Checkout\n",
    "2. Home page\n",
    "3. Make payment\n",
    "4. Add to cart\n",
    "5. Product page"
   ]
  },
  {
   "cell_type": "markdown",
   "metadata": {},
   "source": [
    "**Answer:** 2; 5; 4; 1; 3\n",
    "\n",
    "**Explanation:**\n",
    "\n",
    "The correct order of stages of a user’s journey on an e-commerce/shopping application is as follows -\n",
    "\n",
    "1. Home page. The user begins their journey on the home page, where they can browse products and select ones they are interested in.\n",
    "2. Product page. Once the user finds a product they are interested in, they can click on it to view more details about it, such as product features, images, and reviews.\n",
    "3. Add to cart. After the user has reviewed the product and decided to purchase it, they can add it to their cart.\n",
    "4. Checkout. Once the user has added all the products they want to purchase to their cart, they can proceed to checkout to review their order and enter their shipping and payment information.\n",
    "5. Make payment. Finally, the user can make payment to complete their purchase and receive a confirmation of their order."
   ]
  },
  {
   "cell_type": "markdown",
   "metadata": {},
   "source": [
    "# Q4. Cohort vs Funnel Analysis\n",
    "\n",
    "What is the difference between a cohort analysis and a funnel analysis in the context of product analytics?\n",
    "- A cohort analysis is used to track the behaviour of a group of users over time, while a funnel analysis is used to track the progression of users through a predefined series of events or steps in a specific order.\n",
    "- A cohort analysis is used to track the progression of users through a predefined series of events or steps in a specific order, while a funnel analysis is used to track the behaviour of a group of users over time.\n",
    "- Both of them are used to observe & understand customer behaviour and they’re quite similar to each other."
   ]
  },
  {
   "cell_type": "markdown",
   "metadata": {},
   "source": [
    "**Answer:** A cohort analysis is used to track the behaviour of a group of users over time, while a funnel analysis is used to track the progression of users through a predefined series of events or steps in a specific order."
   ]
  },
  {
   "cell_type": "markdown",
   "metadata": {},
   "source": [
    "# Q5. Limitations of RCA\n",
    "\n",
    "Which of the following is a potential limitation of Root Cause Analysis?\n",
    "- It can be time-consuming and require significant resources.\n",
    "- It can only be used to address technical issues.\n",
    "- It will not consider external factors outside of the organization's control.\n",
    "- It is only useful for identifying superficial causes of problems."
   ]
  },
  {
   "cell_type": "markdown",
   "metadata": {},
   "source": [
    "**Answer:** It can be time-consuming and require significant resources.\n",
    "\n",
    "**Explanation:** While RCA can be an effective tool for addressing problems, it can also have limitations. One potential limitation is that RCA can be time-consuming and require significant resources, especially for complex issues.\n",
    "\n",
    "RCA typically involves a structured process of data collection, analysis, and evaluation, which can take time and require expertise from multiple stakeholders. This can be a challenge for organizations that have limited resources or need to address issues quickly."
   ]
  }
 ],
 "metadata": {
  "language_info": {
   "name": "python"
  }
 },
 "nbformat": 4,
 "nbformat_minor": 2
}
