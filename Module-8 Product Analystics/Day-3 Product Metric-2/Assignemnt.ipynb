{
 "cells": [
  {
   "cell_type": "markdown",
   "metadata": {},
   "source": [
    "### Day-3 Product Metric -2 Assignment"
   ]
  },
  {
   "cell_type": "markdown",
   "metadata": {},
   "source": [
    "# Q1. Key Indicator for Products Available\n",
    "\n",
    "Which key indicator results in a figure that represents the number of days' worth of products available?\n",
    "- Storage space utilization\n",
    "- Inventory on hand\n",
    "- On-time rate\n",
    "- Production time\n",
    "- Per-unit cost"
   ]
  },
  {
   "cell_type": "markdown",
   "metadata": {},
   "source": [
    "**Answer:** Inventory on hand\n",
    "\n",
    "**Explanation:** Inventory on hand is the amount of a product that a company has in stock at any given time.\n",
    "\n",
    "To calculate the number of days’ worth of products available, you would divide the total inventory on hand by the average daily sales of the product.\n",
    "This calculation gives you an estimate of how many days’ worth of inventory you have available to sell before you run out."
   ]
  },
  {
   "cell_type": "markdown",
   "metadata": {},
   "source": [
    "# Q2. Purchases from New Visitors\n",
    "\n",
    "Which of these KPI measures the proportion of new visitors who make a purchase at a store?\n",
    "- Average bill value\n",
    "- Conversion rate\n",
    "- Unit per transaction\n",
    "- Average selling price"
   ]
  },
  {
   "cell_type": "markdown",
   "metadata": {},
   "source": [
    "**Answer:** Conversion rate\n",
    "\n",
    "**Explanation:** The conversion rate is the percentage of visitors to a website or store who take a desired action, such as making a purchase, filling out a form, or subscribing to a newsletter.\n",
    "\n",
    "In this case, the desired action is making a purchase, and the visitors being measured are new visitors.\n",
    "This KPI is basically used to understand how well your product or service appeals to consumers.\n",
    "\n",
    "Average bill value, unit per transaction, and average selling price are all metrics that relate to sales performance, but they do not specifically measure the proportion of new visitors who make a purchase."
   ]
  },
  {
   "cell_type": "markdown",
   "metadata": {},
   "source": [
    "# Q3. Defining KPIs\n",
    "\n",
    "Select all the correct options in terms of defining the given KPIs?\n",
    "- IRR (Internal Rate of Return) represents the annual growth rate of a company.\n",
    "\n",
    "- Cost per hire measures the costs associated with the process of hiring new employees.\n",
    "\n",
    "- The net margin measures how much net income or profit is generated as a percentage of revenue."
   ]
  },
  {
   "cell_type": "markdown",
   "metadata": {},
   "source": [
    "**Answer:**\n",
    "\n",
    "**Correct options -**\n",
    "\n",
    "Cost per hire measures the costs associated with the process of hiring new employees.\n",
    "The net margin measures how much net income or profit is generated as a percentage of revenue.\n",
    "Explanation:\n",
    "\n",
    "**IRR (Internal Rate of Return)** is a financial metric that measures the rate of return on an investment over its entire life, taking into account the timing and magnitude of cash flows. It does not identify the annual growth rate of a company. Instead, it is used to evaluate the overall profitability of an investment opportunity\n",
    "\n",
    "The annual growth rate of a company is typically measured by a different financial metric called the **Compound Annual Growth Rate (CAGR)**."
   ]
  },
  {
   "cell_type": "markdown",
   "metadata": {},
   "source": [
    "# Q4. Metric for Measuring Success\n",
    "\n",
    "What is a common business metric used to measure the success of a marketing campaign?\n",
    "- Bounce rate\n",
    "- Conversion rate\n",
    "- Click-through rate\n",
    "- Page views per session"
   ]
  },
  {
   "cell_type": "markdown",
   "metadata": {},
   "source": [
    "**Answer:** Conversion rate\n",
    "\n",
    "**Explanation:** One common business metric used to measure the success of a marketing campaign is the conversion rate. The conversion rate is the percentage of people who take a desired action, such as making a purchase, filling out a form, or subscribing to a newsletter, after interacting with a marketing campaign.\n",
    "\n",
    "While other metrics such as bounce rate, click-through rate, and page views per session can be helpful in understanding the performance of a marketing campaign, the conversion rate is often seen as the most important because it directly measures the impact of the campaign on the bottom line of the business."
   ]
  },
  {
   "cell_type": "markdown",
   "metadata": {},
   "source": [
    "# Q5. Metrics vs KPIs\n",
    "\n",
    "What is the difference between a KPI (Key Performance Indicator) and a Metric?\n",
    "- A metric is a general measurement of performance, while a KPI is a specific measurement of success.\n",
    "- A metric is a measurement of a specific value, while a KPI is a measurement of the success of a company's goals.\n",
    "- There is no significant difference between a KPI and a metric."
   ]
  },
  {
   "cell_type": "markdown",
   "metadata": {},
   "source": [
    "**Answer:** A metric is a measurement of a specific value, while a KPI is a measurement of the success of a company’s goals."
   ]
  }
 ],
 "metadata": {
  "language_info": {
   "name": "python"
  }
 },
 "nbformat": 4,
 "nbformat_minor": 2
}
