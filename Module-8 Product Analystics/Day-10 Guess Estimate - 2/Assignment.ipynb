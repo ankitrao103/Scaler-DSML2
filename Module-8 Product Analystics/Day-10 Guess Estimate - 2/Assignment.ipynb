{
 "cells": [
  {
   "cell_type": "markdown",
   "metadata": {},
   "source": [
    "# Assignment - Guess Estimate - II"
   ]
  },
  {
   "cell_type": "markdown",
   "metadata": {},
   "source": [
    "# Q1. Metric Defintion 1\n",
    "\n",
    "___ is the amount of money that an advertiser spends on a digital ad campaign for each click they receive on their ad.\n",
    "- CPC\n",
    "- CPM\n",
    "- CTR\n",
    "- None of the given options is correct"
   ]
  },
  {
   "cell_type": "markdown",
   "metadata": {},
   "source": [
    "**Answer:** CPC\n",
    "\n",
    "**Explanation:** CPC stands for Cost-per-click."
   ]
  },
  {
   "cell_type": "markdown",
   "metadata": {},
   "source": [
    "# Q2. Metric Defintion 2\n",
    "\n",
    "___ is the amount an advertiser pays per thousand impressions of their ad on a web page.\n",
    "- CPC\n",
    "- CPM\n",
    "- CTR\n",
    "- None of the given options is correct"
   ]
  },
  {
   "cell_type": "markdown",
   "metadata": {},
   "source": [
    "**Answer:** CPM\n",
    "\n",
    "**Explanation:** CPM stands for Cost per mille."
   ]
  },
  {
   "cell_type": "markdown",
   "metadata": {},
   "source": [
    "# Q3. Metric Defintion 3\n",
    "\n",
    "___ measures the effectiveness of an ad campaign by calculating how many people click on the ad after seeing it.\n",
    "- CPC\n",
    "- CPM\n",
    "- CTR\n",
    "- None of the given options is correct"
   ]
  },
  {
   "cell_type": "markdown",
   "metadata": {},
   "source": [
    "**Answer:** CTR\n",
    "\n",
    "**Explanation:** CTR stands for Click-through rate."
   ]
  },
  {
   "cell_type": "markdown",
   "metadata": {},
   "source": [
    "# Q4. Calculating CPC\n",
    "\n",
    "If an ad campaign costs $500 and generates 1,000 clicks, what is the CPC?\n",
    "- $1.00\n",
    "- $0.50\n",
    "- $0.05\n"
   ]
  },
  {
   "cell_type": "markdown",
   "metadata": {},
   "source": [
    "**Answer:** $0.50\n",
    "\n",
    "**Solution:**\n",
    "\n",
    "If you spent \\$500 on an ad campaign and received 1,000 clicks, the CPC would be:\n",
    "CPC = \\$500 / 1,000 clicks\n",
    "CPC = \\$0.50 per click\n",
    "\n",
    "Therefore, the cost per click for this particular ad campaign would be **$0.50**."
   ]
  },
  {
   "cell_type": "markdown",
   "metadata": {},
   "source": [
    "# Q5. Calculating CPM\n",
    "\n",
    "If an ad campaign costs $500 and reaches 10,000 impressions, what is the CPM?\n",
    "- $0.05\n",
    "- $5.00\n",
    "- $50.00"
   ]
  },
  {
   "cell_type": "markdown",
   "metadata": {},
   "source": [
    "**Answer:** $50.00\n",
    "\n",
    "**Solution:**\n",
    "\n",
    "If you spent \\$500 on an ad campaign that generated 10,000 impressions, the CPM would be:\n",
    "CPM = (\\$500 / 10,000) x 1000\n",
    "CPM = \\$50 per thousand impressions\n",
    "\n",
    "Therefore, the cost per thousand impressions for this particular ad campaign would be **$50**."
   ]
  },
  {
   "cell_type": "markdown",
   "metadata": {},
   "source": [
    "# Q6. Calculating CTR\n",
    "\n",
    "If an ad receives 1,000 impressions and generates 50 clicks, what is the CTR?\n",
    "- 0.05%\n",
    "- 5%\n",
    "- 50%"
   ]
  },
  {
   "cell_type": "markdown",
   "metadata": {},
   "source": [
    "**Answer:** 5%\n",
    "\n",
    "**Solution:**\n",
    "\n",
    "If your ad received 50 clicks and had 1,000 impressions, the CTR would be:\n",
    "CTR = (50 / 1,000) x 100%\n",
    "CTR = 5%\n",
    "\n",
    "Therefore, the click-through rate for this particular ad campaign would be **5%**."
   ]
  }
 ],
 "metadata": {
  "language_info": {
   "name": "python"
  }
 },
 "nbformat": 4,
 "nbformat_minor": 2
}
