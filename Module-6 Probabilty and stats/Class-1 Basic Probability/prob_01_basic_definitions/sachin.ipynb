{
 "cells": [
  {
   "cell_type": "code",
   "execution_count": 1,
   "id": "e4a9f8b0",
   "metadata": {},
   "outputs": [],
   "source": [
    "import numpy as np\n",
    "import pandas as pd\n",
    "import seaborn as sns\n",
    "import matplotlib.pyplot as plt"
   ]
  },
  {
   "cell_type": "code",
   "execution_count": 2,
   "id": "9b0fe57b",
   "metadata": {},
   "outputs": [],
   "source": [
    "df_sachin = pd.read_csv(\"Sachin_ODI.csv\")"
   ]
  },
  {
   "cell_type": "code",
   "execution_count": 3,
   "id": "92418294",
   "metadata": {},
   "outputs": [
    {
     "data": {
      "text/plain": [
       "(360, 14)"
      ]
     },
     "execution_count": 3,
     "metadata": {},
     "output_type": "execute_result"
    }
   ],
   "source": [
    "df_sachin.shape"
   ]
  },
  {
   "cell_type": "code",
   "execution_count": 4,
   "id": "cf8d7998",
   "metadata": {},
   "outputs": [
    {
     "data": {
      "text/html": [
       "<div>\n",
       "<style scoped>\n",
       "    .dataframe tbody tr th:only-of-type {\n",
       "        vertical-align: middle;\n",
       "    }\n",
       "\n",
       "    .dataframe tbody tr th {\n",
       "        vertical-align: top;\n",
       "    }\n",
       "\n",
       "    .dataframe thead th {\n",
       "        text-align: right;\n",
       "    }\n",
       "</style>\n",
       "<table border=\"1\" class=\"dataframe\">\n",
       "  <thead>\n",
       "    <tr style=\"text-align: right;\">\n",
       "      <th></th>\n",
       "      <th>runs</th>\n",
       "      <th>NotOut</th>\n",
       "      <th>mins</th>\n",
       "      <th>bf</th>\n",
       "      <th>fours</th>\n",
       "      <th>sixes</th>\n",
       "      <th>sr</th>\n",
       "      <th>Inns</th>\n",
       "      <th>Opp</th>\n",
       "      <th>Ground</th>\n",
       "      <th>Date</th>\n",
       "      <th>Winner</th>\n",
       "      <th>Won</th>\n",
       "      <th>century</th>\n",
       "    </tr>\n",
       "  </thead>\n",
       "  <tbody>\n",
       "    <tr>\n",
       "      <th>0</th>\n",
       "      <td>13</td>\n",
       "      <td>0</td>\n",
       "      <td>30</td>\n",
       "      <td>15</td>\n",
       "      <td>3</td>\n",
       "      <td>0</td>\n",
       "      <td>86.66</td>\n",
       "      <td>1</td>\n",
       "      <td>New Zealand</td>\n",
       "      <td>Napier</td>\n",
       "      <td>1995-02-16</td>\n",
       "      <td>New Zealand</td>\n",
       "      <td>False</td>\n",
       "      <td>False</td>\n",
       "    </tr>\n",
       "    <tr>\n",
       "      <th>1</th>\n",
       "      <td>37</td>\n",
       "      <td>0</td>\n",
       "      <td>75</td>\n",
       "      <td>51</td>\n",
       "      <td>3</td>\n",
       "      <td>1</td>\n",
       "      <td>72.54</td>\n",
       "      <td>2</td>\n",
       "      <td>South Africa</td>\n",
       "      <td>Hamilton</td>\n",
       "      <td>1995-02-18</td>\n",
       "      <td>South Africa</td>\n",
       "      <td>False</td>\n",
       "      <td>False</td>\n",
       "    </tr>\n",
       "    <tr>\n",
       "      <th>2</th>\n",
       "      <td>47</td>\n",
       "      <td>0</td>\n",
       "      <td>65</td>\n",
       "      <td>40</td>\n",
       "      <td>7</td>\n",
       "      <td>0</td>\n",
       "      <td>117.50</td>\n",
       "      <td>2</td>\n",
       "      <td>Australia</td>\n",
       "      <td>Dunedin</td>\n",
       "      <td>1995-02-22</td>\n",
       "      <td>India</td>\n",
       "      <td>True</td>\n",
       "      <td>False</td>\n",
       "    </tr>\n",
       "    <tr>\n",
       "      <th>3</th>\n",
       "      <td>48</td>\n",
       "      <td>0</td>\n",
       "      <td>37</td>\n",
       "      <td>30</td>\n",
       "      <td>9</td>\n",
       "      <td>1</td>\n",
       "      <td>160.00</td>\n",
       "      <td>2</td>\n",
       "      <td>Bangladesh</td>\n",
       "      <td>Sharjah</td>\n",
       "      <td>1995-04-05</td>\n",
       "      <td>India</td>\n",
       "      <td>True</td>\n",
       "      <td>False</td>\n",
       "    </tr>\n",
       "    <tr>\n",
       "      <th>4</th>\n",
       "      <td>4</td>\n",
       "      <td>0</td>\n",
       "      <td>13</td>\n",
       "      <td>9</td>\n",
       "      <td>1</td>\n",
       "      <td>0</td>\n",
       "      <td>44.44</td>\n",
       "      <td>2</td>\n",
       "      <td>Pakistan</td>\n",
       "      <td>Sharjah</td>\n",
       "      <td>1995-04-07</td>\n",
       "      <td>Pakistan</td>\n",
       "      <td>False</td>\n",
       "      <td>False</td>\n",
       "    </tr>\n",
       "  </tbody>\n",
       "</table>\n",
       "</div>"
      ],
      "text/plain": [
       "   runs  NotOut mins  bf  fours  sixes      sr  Inns           Opp    Ground  \\\n",
       "0    13       0   30  15      3      0   86.66     1   New Zealand    Napier   \n",
       "1    37       0   75  51      3      1   72.54     2  South Africa  Hamilton   \n",
       "2    47       0   65  40      7      0  117.50     2     Australia   Dunedin   \n",
       "3    48       0   37  30      9      1  160.00     2    Bangladesh   Sharjah   \n",
       "4     4       0   13   9      1      0   44.44     2      Pakistan   Sharjah   \n",
       "\n",
       "         Date        Winner    Won  century  \n",
       "0  1995-02-16   New Zealand  False    False  \n",
       "1  1995-02-18  South Africa  False    False  \n",
       "2  1995-02-22         India   True    False  \n",
       "3  1995-04-05         India   True    False  \n",
       "4  1995-04-07      Pakistan  False    False  "
      ]
     },
     "execution_count": 4,
     "metadata": {},
     "output_type": "execute_result"
    }
   ],
   "source": [
    "df_sachin.head()"
   ]
  },
  {
   "cell_type": "markdown",
   "id": "c69ad481",
   "metadata": {
    "heading_collapsed": true
   },
   "source": [
    "## What is the probability of winning"
   ]
  },
  {
   "cell_type": "code",
   "execution_count": 5,
   "id": "3a4a3d35",
   "metadata": {
    "hidden": true
   },
   "outputs": [
    {
     "data": {
      "text/plain": [
       "True     184\n",
       "False    176\n",
       "Name: Won, dtype: int64"
      ]
     },
     "execution_count": 5,
     "metadata": {},
     "output_type": "execute_result"
    }
   ],
   "source": [
    "df_sachin[\"Won\"].value_counts()"
   ]
  },
  {
   "cell_type": "code",
   "execution_count": 6,
   "id": "5d2ef931",
   "metadata": {
    "hidden": true
   },
   "outputs": [
    {
     "data": {
      "text/plain": [
       "0.5111111111111111"
      ]
     },
     "execution_count": 6,
     "metadata": {},
     "output_type": "execute_result"
    }
   ],
   "source": [
    "prob_winning = 184/(184 + 176)\n",
    "prob_winning"
   ]
  },
  {
   "cell_type": "code",
   "execution_count": 7,
   "id": "df01c29f",
   "metadata": {
    "hidden": true
   },
   "outputs": [],
   "source": [
    "df_won = df_sachin[df_sachin[\"Won\"]==True]"
   ]
  },
  {
   "cell_type": "code",
   "execution_count": 8,
   "id": "db0caf74",
   "metadata": {
    "hidden": true
   },
   "outputs": [
    {
     "data": {
      "text/plain": [
       "184"
      ]
     },
     "execution_count": 8,
     "metadata": {},
     "output_type": "execute_result"
    }
   ],
   "source": [
    "len(df_won)"
   ]
  },
  {
   "cell_type": "code",
   "execution_count": 9,
   "id": "de477281",
   "metadata": {
    "hidden": true
   },
   "outputs": [
    {
     "data": {
      "text/plain": [
       "0.5111111111111111"
      ]
     },
     "execution_count": 9,
     "metadata": {},
     "output_type": "execute_result"
    }
   ],
   "source": [
    "prob_winning = len(df_won) / len(df_sachin)\n",
    "prob_winning"
   ]
  },
  {
   "cell_type": "markdown",
   "id": "0c4ce5a3",
   "metadata": {
    "heading_collapsed": true
   },
   "source": [
    "## What is the probability of century"
   ]
  },
  {
   "cell_type": "code",
   "execution_count": 10,
   "id": "eac2a4a4",
   "metadata": {
    "hidden": true
   },
   "outputs": [
    {
     "data": {
      "text/plain": [
       "False    314\n",
       "True      46\n",
       "Name: century, dtype: int64"
      ]
     },
     "execution_count": 10,
     "metadata": {},
     "output_type": "execute_result"
    }
   ],
   "source": [
    "df_sachin[\"century\"].value_counts()"
   ]
  },
  {
   "cell_type": "code",
   "execution_count": 11,
   "id": "3565c8ba",
   "metadata": {
    "hidden": true
   },
   "outputs": [
    {
     "data": {
      "text/plain": [
       "0.12777777777777777"
      ]
     },
     "execution_count": 11,
     "metadata": {},
     "output_type": "execute_result"
    }
   ],
   "source": [
    "prob_century = 46 / (314 + 46)\n",
    "prob_century"
   ]
  },
  {
   "cell_type": "code",
   "execution_count": 12,
   "id": "faa7b43b",
   "metadata": {
    "hidden": true
   },
   "outputs": [],
   "source": [
    "df_century = df_sachin[df_sachin[\"century\"]==True]"
   ]
  },
  {
   "cell_type": "code",
   "execution_count": 13,
   "id": "b274cfa9",
   "metadata": {
    "hidden": true
   },
   "outputs": [
    {
     "data": {
      "text/plain": [
       "46"
      ]
     },
     "execution_count": 13,
     "metadata": {},
     "output_type": "execute_result"
    }
   ],
   "source": [
    "len(df_century)"
   ]
  },
  {
   "cell_type": "code",
   "execution_count": 14,
   "id": "7821a010",
   "metadata": {
    "hidden": true
   },
   "outputs": [
    {
     "data": {
      "text/plain": [
       "0.12777777777777777"
      ]
     },
     "execution_count": 14,
     "metadata": {},
     "output_type": "execute_result"
    }
   ],
   "source": [
    "prob_century = len(df_century) / len(df_sachin)\n",
    "prob_century"
   ]
  },
  {
   "cell_type": "markdown",
   "id": "5817e8c1",
   "metadata": {},
   "source": [
    "## Winning and century"
   ]
  },
  {
   "cell_type": "code",
   "execution_count": 15,
   "id": "f595f986",
   "metadata": {},
   "outputs": [
    {
     "data": {
      "text/plain": [
       "century  Won  \n",
       "False    False    160\n",
       "         True     154\n",
       "True     True      30\n",
       "         False     16\n",
       "dtype: int64"
      ]
     },
     "execution_count": 15,
     "metadata": {},
     "output_type": "execute_result"
    }
   ],
   "source": [
    "df_sachin[[\"century\", \"Won\"]].value_counts()"
   ]
  },
  {
   "cell_type": "code",
   "execution_count": 16,
   "id": "a82dd464",
   "metadata": {},
   "outputs": [
    {
     "data": {
      "text/html": [
       "<div>\n",
       "<style scoped>\n",
       "    .dataframe tbody tr th:only-of-type {\n",
       "        vertical-align: middle;\n",
       "    }\n",
       "\n",
       "    .dataframe tbody tr th {\n",
       "        vertical-align: top;\n",
       "    }\n",
       "\n",
       "    .dataframe thead th {\n",
       "        text-align: right;\n",
       "    }\n",
       "</style>\n",
       "<table border=\"1\" class=\"dataframe\">\n",
       "  <thead>\n",
       "    <tr style=\"text-align: right;\">\n",
       "      <th>Won</th>\n",
       "      <th>False</th>\n",
       "      <th>True</th>\n",
       "    </tr>\n",
       "    <tr>\n",
       "      <th>century</th>\n",
       "      <th></th>\n",
       "      <th></th>\n",
       "    </tr>\n",
       "  </thead>\n",
       "  <tbody>\n",
       "    <tr>\n",
       "      <th>False</th>\n",
       "      <td>160</td>\n",
       "      <td>154</td>\n",
       "    </tr>\n",
       "    <tr>\n",
       "      <th>True</th>\n",
       "      <td>16</td>\n",
       "      <td>30</td>\n",
       "    </tr>\n",
       "  </tbody>\n",
       "</table>\n",
       "</div>"
      ],
      "text/plain": [
       "Won      False  True \n",
       "century              \n",
       "False      160    154\n",
       "True        16     30"
      ]
     },
     "execution_count": 16,
     "metadata": {},
     "output_type": "execute_result"
    }
   ],
   "source": [
    "df_sachin[[\"century\", \"Won\"]].value_counts().unstack()"
   ]
  },
  {
   "cell_type": "code",
   "execution_count": 17,
   "id": "9ffe1700",
   "metadata": {},
   "outputs": [
    {
     "data": {
      "text/html": [
       "<div>\n",
       "<style scoped>\n",
       "    .dataframe tbody tr th:only-of-type {\n",
       "        vertical-align: middle;\n",
       "    }\n",
       "\n",
       "    .dataframe tbody tr th {\n",
       "        vertical-align: top;\n",
       "    }\n",
       "\n",
       "    .dataframe thead th {\n",
       "        text-align: right;\n",
       "    }\n",
       "</style>\n",
       "<table border=\"1\" class=\"dataframe\">\n",
       "  <thead>\n",
       "    <tr style=\"text-align: right;\">\n",
       "      <th>Won</th>\n",
       "      <th>False</th>\n",
       "      <th>True</th>\n",
       "      <th>All</th>\n",
       "    </tr>\n",
       "    <tr>\n",
       "      <th>century</th>\n",
       "      <th></th>\n",
       "      <th></th>\n",
       "      <th></th>\n",
       "    </tr>\n",
       "  </thead>\n",
       "  <tbody>\n",
       "    <tr>\n",
       "      <th>False</th>\n",
       "      <td>160</td>\n",
       "      <td>154</td>\n",
       "      <td>314</td>\n",
       "    </tr>\n",
       "    <tr>\n",
       "      <th>True</th>\n",
       "      <td>16</td>\n",
       "      <td>30</td>\n",
       "      <td>46</td>\n",
       "    </tr>\n",
       "    <tr>\n",
       "      <th>All</th>\n",
       "      <td>176</td>\n",
       "      <td>184</td>\n",
       "      <td>360</td>\n",
       "    </tr>\n",
       "  </tbody>\n",
       "</table>\n",
       "</div>"
      ],
      "text/plain": [
       "Won      False  True  All\n",
       "century                  \n",
       "False      160   154  314\n",
       "True        16    30   46\n",
       "All        176   184  360"
      ]
     },
     "execution_count": 17,
     "metadata": {},
     "output_type": "execute_result"
    }
   ],
   "source": [
    "# Contingency table\n",
    "pd.crosstab(index=df_sachin[\"century\"], columns=df_sachin[\"Won\"], margins=True)"
   ]
  },
  {
   "cell_type": "markdown",
   "id": "28a31127",
   "metadata": {},
   "source": [
    "What is the probability of winning AND century"
   ]
  },
  {
   "cell_type": "markdown",
   "id": "772990d4",
   "metadata": {},
   "source": [
    "1) In how many matches has winning and century happened? 30\n",
    "2) Totally how many matches are there? 360\n",
    "3) What is the probability of winning and century? 30/360"
   ]
  },
  {
   "cell_type": "code",
   "execution_count": 18,
   "id": "4856063d",
   "metadata": {},
   "outputs": [],
   "source": [
    "df_win_and_century = df_sachin[(df_sachin[\"century\"] == True) & (df_sachin[\"Won\"] == True)]"
   ]
  },
  {
   "cell_type": "code",
   "execution_count": 19,
   "id": "65de3f38",
   "metadata": {},
   "outputs": [
    {
     "data": {
      "text/plain": [
       "30"
      ]
     },
     "execution_count": 19,
     "metadata": {},
     "output_type": "execute_result"
    }
   ],
   "source": [
    "len(df_win_and_century)"
   ]
  },
  {
   "cell_type": "code",
   "execution_count": 20,
   "id": "f5840758",
   "metadata": {},
   "outputs": [
    {
     "data": {
      "text/plain": [
       "0.08333333333333333"
      ]
     },
     "execution_count": 20,
     "metadata": {},
     "output_type": "execute_result"
    }
   ],
   "source": [
    "prob_win_and_century = len(df_win_and_century) / len(df_sachin)\n",
    "prob_win_and_century"
   ]
  },
  {
   "cell_type": "code",
   "execution_count": 21,
   "id": "0e6cf18d",
   "metadata": {},
   "outputs": [
    {
     "data": {
      "text/plain": [
       "0.08333333333333333"
      ]
     },
     "execution_count": 21,
     "metadata": {},
     "output_type": "execute_result"
    }
   ],
   "source": [
    "30/360"
   ]
  },
  {
   "cell_type": "markdown",
   "id": "953cf752",
   "metadata": {},
   "source": [
    "## Winning OR century"
   ]
  },
  {
   "cell_type": "code",
   "execution_count": 22,
   "id": "aa5c9336",
   "metadata": {},
   "outputs": [
    {
     "data": {
      "text/html": [
       "<div>\n",
       "<style scoped>\n",
       "    .dataframe tbody tr th:only-of-type {\n",
       "        vertical-align: middle;\n",
       "    }\n",
       "\n",
       "    .dataframe tbody tr th {\n",
       "        vertical-align: top;\n",
       "    }\n",
       "\n",
       "    .dataframe thead th {\n",
       "        text-align: right;\n",
       "    }\n",
       "</style>\n",
       "<table border=\"1\" class=\"dataframe\">\n",
       "  <thead>\n",
       "    <tr style=\"text-align: right;\">\n",
       "      <th>Won</th>\n",
       "      <th>False</th>\n",
       "      <th>True</th>\n",
       "      <th>All</th>\n",
       "    </tr>\n",
       "    <tr>\n",
       "      <th>century</th>\n",
       "      <th></th>\n",
       "      <th></th>\n",
       "      <th></th>\n",
       "    </tr>\n",
       "  </thead>\n",
       "  <tbody>\n",
       "    <tr>\n",
       "      <th>False</th>\n",
       "      <td>160</td>\n",
       "      <td>154</td>\n",
       "      <td>314</td>\n",
       "    </tr>\n",
       "    <tr>\n",
       "      <th>True</th>\n",
       "      <td>16</td>\n",
       "      <td>30</td>\n",
       "      <td>46</td>\n",
       "    </tr>\n",
       "    <tr>\n",
       "      <th>All</th>\n",
       "      <td>176</td>\n",
       "      <td>184</td>\n",
       "      <td>360</td>\n",
       "    </tr>\n",
       "  </tbody>\n",
       "</table>\n",
       "</div>"
      ],
      "text/plain": [
       "Won      False  True  All\n",
       "century                  \n",
       "False      160   154  314\n",
       "True        16    30   46\n",
       "All        176   184  360"
      ]
     },
     "execution_count": 22,
     "metadata": {},
     "output_type": "execute_result"
    }
   ],
   "source": [
    "pd.crosstab(index=df_sachin[\"century\"], columns=df_sachin[\"Won\"], margins=True)"
   ]
  },
  {
   "cell_type": "markdown",
   "id": "571be10d",
   "metadata": {},
   "source": [
    "What is the probability of winning OR century"
   ]
  },
  {
   "cell_type": "markdown",
   "id": "f4997f0e",
   "metadata": {},
   "source": [
    "1) In how many matches will winning or century happen?\n",
    "a) 184 + 46\n",
    "b) 184 + 16\n",
    "c) 154 + 16\n",
    "d) 184 + 46 - 30"
   ]
  },
  {
   "cell_type": "code",
   "execution_count": 23,
   "id": "21642b6a",
   "metadata": {},
   "outputs": [
    {
     "data": {
      "text/plain": [
       "200"
      ]
     },
     "execution_count": 23,
     "metadata": {},
     "output_type": "execute_result"
    }
   ],
   "source": [
    "184 + 46 - 30"
   ]
  },
  {
   "cell_type": "code",
   "execution_count": 24,
   "id": "e8f068ba",
   "metadata": {},
   "outputs": [],
   "source": [
    "df_win_or_century = df_sachin[(df_sachin[\"century\"] == True) | (df_sachin[\"Won\"] == True)]"
   ]
  },
  {
   "cell_type": "code",
   "execution_count": 25,
   "id": "d5ffe210",
   "metadata": {},
   "outputs": [
    {
     "data": {
      "text/plain": [
       "200"
      ]
     },
     "execution_count": 25,
     "metadata": {},
     "output_type": "execute_result"
    }
   ],
   "source": [
    "len(df_win_or_century)"
   ]
  },
  {
   "cell_type": "code",
   "execution_count": 26,
   "id": "22a5824f",
   "metadata": {},
   "outputs": [
    {
     "data": {
      "text/plain": [
       "0.5555555555555556"
      ]
     },
     "execution_count": 26,
     "metadata": {},
     "output_type": "execute_result"
    }
   ],
   "source": [
    "prob_win_or_century = len(df_win_or_century) / len(df_sachin)\n",
    "prob_win_or_century"
   ]
  },
  {
   "cell_type": "code",
   "execution_count": 27,
   "id": "7955e761",
   "metadata": {},
   "outputs": [
    {
     "data": {
      "text/plain": [
       "0.5555555555555556"
      ]
     },
     "execution_count": 27,
     "metadata": {},
     "output_type": "execute_result"
    }
   ],
   "source": [
    "200/360"
   ]
  },
  {
   "cell_type": "code",
   "execution_count": 28,
   "id": "e533d9e7",
   "metadata": {},
   "outputs": [
    {
     "data": {
      "text/plain": [
       "0.5555555555555555"
      ]
     },
     "execution_count": 28,
     "metadata": {},
     "output_type": "execute_result"
    }
   ],
   "source": [
    "prob_winning + prob_century - prob_win_and_century"
   ]
  },
  {
   "cell_type": "markdown",
   "id": "9589f844",
   "metadata": {},
   "source": [
    "## Complement"
   ]
  },
  {
   "cell_type": "code",
   "execution_count": 29,
   "id": "36451981",
   "metadata": {},
   "outputs": [
    {
     "data": {
      "text/plain": [
       "0.5111111111111111"
      ]
     },
     "execution_count": 29,
     "metadata": {},
     "output_type": "execute_result"
    }
   ],
   "source": [
    "# Win and loss\n",
    "df_won = df_sachin[df_sachin[\"Won\"]==True]\n",
    "prob_won = len(df_won) / len(df_sachin)\n",
    "prob_won"
   ]
  },
  {
   "cell_type": "code",
   "execution_count": 30,
   "id": "2e2602f3",
   "metadata": {},
   "outputs": [
    {
     "data": {
      "text/plain": [
       "0.4888888888888889"
      ]
     },
     "execution_count": 30,
     "metadata": {},
     "output_type": "execute_result"
    }
   ],
   "source": [
    "df_lost = df_sachin[df_sachin[\"Won\"]==False]\n",
    "prob_lost = len(df_lost) / len(df_sachin)\n",
    "prob_lost"
   ]
  },
  {
   "cell_type": "code",
   "execution_count": 31,
   "id": "f628af4a",
   "metadata": {},
   "outputs": [
    {
     "data": {
      "text/plain": [
       "1.0"
      ]
     },
     "execution_count": 31,
     "metadata": {},
     "output_type": "execute_result"
    }
   ],
   "source": [
    "prob_won + prob_lost"
   ]
  },
  {
   "cell_type": "code",
   "execution_count": 32,
   "id": "ecadf77b",
   "metadata": {},
   "outputs": [],
   "source": [
    "# Atleast 8 fours are scored\n",
    "# Complement: At most 7 fours"
   ]
  },
  {
   "cell_type": "code",
   "execution_count": 33,
   "id": "f3ba806d",
   "metadata": {},
   "outputs": [
    {
     "data": {
      "text/plain": [
       "0.26666666666666666"
      ]
     },
     "execution_count": 33,
     "metadata": {},
     "output_type": "execute_result"
    }
   ],
   "source": [
    "df_at_least_eight_fours = df_sachin[df_sachin[\"fours\"] >= 8]\n",
    "prob_at_least_eight_fours = len(df_at_least_eight_fours) / len(df_sachin)\n",
    "prob_at_least_eight_fours"
   ]
  },
  {
   "cell_type": "code",
   "execution_count": 34,
   "id": "9d31e9c4",
   "metadata": {},
   "outputs": [
    {
     "data": {
      "text/plain": [
       "96"
      ]
     },
     "execution_count": 34,
     "metadata": {},
     "output_type": "execute_result"
    }
   ],
   "source": [
    "len(df_at_least_eight_fours)"
   ]
  },
  {
   "cell_type": "code",
   "execution_count": 35,
   "id": "bfed6fbb",
   "metadata": {},
   "outputs": [
    {
     "data": {
      "text/plain": [
       "0.7333333333333333"
      ]
     },
     "execution_count": 35,
     "metadata": {},
     "output_type": "execute_result"
    }
   ],
   "source": [
    "df_at_most_seven_fours = df_sachin[df_sachin[\"fours\"] <= 7]\n",
    "prob_at_most_seven_fours = len(df_at_most_seven_fours) / len(df_sachin)\n",
    "prob_at_most_seven_fours"
   ]
  },
  {
   "cell_type": "code",
   "execution_count": 36,
   "id": "55e87c0d",
   "metadata": {},
   "outputs": [
    {
     "data": {
      "text/plain": [
       "264"
      ]
     },
     "execution_count": 36,
     "metadata": {},
     "output_type": "execute_result"
    }
   ],
   "source": [
    "len(df_at_most_seven_fours)"
   ]
  },
  {
   "cell_type": "code",
   "execution_count": 37,
   "id": "f28ea60c",
   "metadata": {},
   "outputs": [
    {
     "data": {
      "text/plain": [
       "1.0"
      ]
     },
     "execution_count": 37,
     "metadata": {},
     "output_type": "execute_result"
    }
   ],
   "source": [
    "prob_at_least_eight_fours + prob_at_most_seven_fours"
   ]
  }
 ],
 "metadata": {
  "kernelspec": {
   "display_name": "Python 3 (ipykernel)",
   "language": "python",
   "name": "python3"
  },
  "language_info": {
   "codemirror_mode": {
    "name": "ipython",
    "version": 3
   },
   "file_extension": ".py",
   "mimetype": "text/x-python",
   "name": "python",
   "nbconvert_exporter": "python",
   "pygments_lexer": "ipython3",
   "version": "3.8.12"
  }
 },
 "nbformat": 4,
 "nbformat_minor": 5
}
