{
 "cells": [
  {
   "cell_type": "code",
   "execution_count": 6,
   "id": "aef14437",
   "metadata": {},
   "outputs": [],
   "source": [
    "import numpy as np\n",
    "import pandas as pd\n",
    "import seaborn as sns\n",
    "from scipy import stats\n",
    "import matplotlib.pyplot as plt"
   ]
  },
  {
   "cell_type": "markdown",
   "id": "6dc5f5d3",
   "metadata": {},
   "source": [
    "# Sachin Tendulkar"
   ]
  },
  {
   "cell_type": "code",
   "execution_count": 7,
   "id": "91f9adf6",
   "metadata": {},
   "outputs": [],
   "source": [
    "df_sachin = pd.read_csv(\"Sachin_ODI.csv\")"
   ]
  },
  {
   "cell_type": "code",
   "execution_count": 8,
   "id": "3900f0aa",
   "metadata": {},
   "outputs": [
    {
     "data": {
      "text/html": [
       "<div>\n",
       "<style scoped>\n",
       "    .dataframe tbody tr th:only-of-type {\n",
       "        vertical-align: middle;\n",
       "    }\n",
       "\n",
       "    .dataframe tbody tr th {\n",
       "        vertical-align: top;\n",
       "    }\n",
       "\n",
       "    .dataframe thead th {\n",
       "        text-align: right;\n",
       "    }\n",
       "</style>\n",
       "<table border=\"1\" class=\"dataframe\">\n",
       "  <thead>\n",
       "    <tr style=\"text-align: right;\">\n",
       "      <th></th>\n",
       "      <th>runs</th>\n",
       "      <th>NotOut</th>\n",
       "      <th>mins</th>\n",
       "      <th>bf</th>\n",
       "      <th>fours</th>\n",
       "      <th>sixes</th>\n",
       "      <th>sr</th>\n",
       "      <th>Inns</th>\n",
       "      <th>Opp</th>\n",
       "      <th>Ground</th>\n",
       "      <th>Date</th>\n",
       "      <th>Winner</th>\n",
       "      <th>Won</th>\n",
       "      <th>century</th>\n",
       "    </tr>\n",
       "  </thead>\n",
       "  <tbody>\n",
       "    <tr>\n",
       "      <th>0</th>\n",
       "      <td>13</td>\n",
       "      <td>0</td>\n",
       "      <td>30</td>\n",
       "      <td>15</td>\n",
       "      <td>3</td>\n",
       "      <td>0</td>\n",
       "      <td>86.66</td>\n",
       "      <td>1</td>\n",
       "      <td>New Zealand</td>\n",
       "      <td>Napier</td>\n",
       "      <td>1995-02-16</td>\n",
       "      <td>New Zealand</td>\n",
       "      <td>False</td>\n",
       "      <td>False</td>\n",
       "    </tr>\n",
       "    <tr>\n",
       "      <th>1</th>\n",
       "      <td>37</td>\n",
       "      <td>0</td>\n",
       "      <td>75</td>\n",
       "      <td>51</td>\n",
       "      <td>3</td>\n",
       "      <td>1</td>\n",
       "      <td>72.54</td>\n",
       "      <td>2</td>\n",
       "      <td>South Africa</td>\n",
       "      <td>Hamilton</td>\n",
       "      <td>1995-02-18</td>\n",
       "      <td>South Africa</td>\n",
       "      <td>False</td>\n",
       "      <td>False</td>\n",
       "    </tr>\n",
       "    <tr>\n",
       "      <th>2</th>\n",
       "      <td>47</td>\n",
       "      <td>0</td>\n",
       "      <td>65</td>\n",
       "      <td>40</td>\n",
       "      <td>7</td>\n",
       "      <td>0</td>\n",
       "      <td>117.50</td>\n",
       "      <td>2</td>\n",
       "      <td>Australia</td>\n",
       "      <td>Dunedin</td>\n",
       "      <td>1995-02-22</td>\n",
       "      <td>India</td>\n",
       "      <td>True</td>\n",
       "      <td>False</td>\n",
       "    </tr>\n",
       "    <tr>\n",
       "      <th>3</th>\n",
       "      <td>48</td>\n",
       "      <td>0</td>\n",
       "      <td>37</td>\n",
       "      <td>30</td>\n",
       "      <td>9</td>\n",
       "      <td>1</td>\n",
       "      <td>160.00</td>\n",
       "      <td>2</td>\n",
       "      <td>Bangladesh</td>\n",
       "      <td>Sharjah</td>\n",
       "      <td>1995-04-05</td>\n",
       "      <td>India</td>\n",
       "      <td>True</td>\n",
       "      <td>False</td>\n",
       "    </tr>\n",
       "    <tr>\n",
       "      <th>4</th>\n",
       "      <td>4</td>\n",
       "      <td>0</td>\n",
       "      <td>13</td>\n",
       "      <td>9</td>\n",
       "      <td>1</td>\n",
       "      <td>0</td>\n",
       "      <td>44.44</td>\n",
       "      <td>2</td>\n",
       "      <td>Pakistan</td>\n",
       "      <td>Sharjah</td>\n",
       "      <td>1995-04-07</td>\n",
       "      <td>Pakistan</td>\n",
       "      <td>False</td>\n",
       "      <td>False</td>\n",
       "    </tr>\n",
       "  </tbody>\n",
       "</table>\n",
       "</div>"
      ],
      "text/plain": [
       "   runs  NotOut mins  bf  fours  sixes      sr  Inns           Opp    Ground  \\\n",
       "0    13       0   30  15      3      0   86.66     1   New Zealand    Napier   \n",
       "1    37       0   75  51      3      1   72.54     2  South Africa  Hamilton   \n",
       "2    47       0   65  40      7      0  117.50     2     Australia   Dunedin   \n",
       "3    48       0   37  30      9      1  160.00     2    Bangladesh   Sharjah   \n",
       "4     4       0   13   9      1      0   44.44     2      Pakistan   Sharjah   \n",
       "\n",
       "         Date        Winner    Won  century  \n",
       "0  1995-02-16   New Zealand  False    False  \n",
       "1  1995-02-18  South Africa  False    False  \n",
       "2  1995-02-22         India   True    False  \n",
       "3  1995-04-05         India   True    False  \n",
       "4  1995-04-07      Pakistan  False    False  "
      ]
     },
     "execution_count": 8,
     "metadata": {},
     "output_type": "execute_result"
    }
   ],
   "source": [
    "df_sachin.head()"
   ]
  },
  {
   "cell_type": "markdown",
   "id": "9cd23bd9",
   "metadata": {
    "heading_collapsed": true
   },
   "source": [
    "## What are the typical runs Sachin scores: *Mean, median, mode*"
   ]
  },
  {
   "cell_type": "markdown",
   "id": "10e7ab08",
   "metadata": {
    "hidden": true
   },
   "source": [
    "### Mean, Median, Mode"
   ]
  },
  {
   "cell_type": "code",
   "execution_count": 9,
   "id": "009ed294",
   "metadata": {
    "hidden": true
   },
   "outputs": [
    {
     "data": {
      "text/plain": [
       "43.24166666666667"
      ]
     },
     "execution_count": 9,
     "metadata": {},
     "output_type": "execute_result"
    }
   ],
   "source": [
    "df_sachin[\"runs\"].mean()"
   ]
  },
  {
   "cell_type": "code",
   "execution_count": 10,
   "id": "b4522df5",
   "metadata": {
    "hidden": true
   },
   "outputs": [
    {
     "data": {
      "text/plain": [
       "30.0"
      ]
     },
     "execution_count": 10,
     "metadata": {},
     "output_type": "execute_result"
    }
   ],
   "source": [
    "df_sachin[\"runs\"].median()"
   ]
  },
  {
   "cell_type": "code",
   "execution_count": 11,
   "id": "26cb1a49",
   "metadata": {
    "hidden": true
   },
   "outputs": [
    {
     "data": {
      "text/plain": [
       "0    2\n",
       "Name: runs, dtype: int64"
      ]
     },
     "execution_count": 11,
     "metadata": {},
     "output_type": "execute_result"
    }
   ],
   "source": [
    "df_sachin[\"runs\"].mode()"
   ]
  },
  {
   "cell_type": "markdown",
   "id": "4cc845f8",
   "metadata": {
    "heading_collapsed": true
   },
   "source": [
    "## Histogram of scoring pattern, balls faced etc: *Skewness*"
   ]
  },
  {
   "cell_type": "code",
   "execution_count": 12,
   "id": "087a3810",
   "metadata": {
    "hidden": true
   },
   "outputs": [
    {
     "data": {
      "text/plain": [
       "<AxesSubplot:>"
      ]
     },
     "execution_count": 12,
     "metadata": {},
     "output_type": "execute_result"
    },
    {
     "data": {
      "image/png": "[encoded data removed]",
      "text/plain": [
       "<Figure size 432x288 with 1 Axes>"
      ]
     },
     "metadata": {
      "needs_background": "light"
     },
     "output_type": "display_data"
    }
   ],
   "source": [
    "df_sachin[\"runs\"].hist()"
   ]
  },
  {
   "cell_type": "markdown",
   "id": "508b7406",
   "metadata": {
    "hidden": true
   },
   "source": [
    "Notice that the histgram is tapering towards the right. This is example of data being **right-skewed**"
   ]
  },
  {
   "cell_type": "markdown",
   "id": "19a64b2b",
   "metadata": {
    "heading_collapsed": true
   },
   "source": [
    "## What are the rarely occuring scores in Sachin's scoring pattern: *Outliers*"
   ]
  },
  {
   "cell_type": "code",
   "execution_count": 13,
   "id": "b9fe3f30",
   "metadata": {
    "hidden": true
   },
   "outputs": [
    {
     "data": {
      "text/plain": [
       "8.0"
      ]
     },
     "execution_count": 13,
     "metadata": {},
     "output_type": "execute_result"
    }
   ],
   "source": [
    "# Let us interpret the following line of code\n",
    "df_sachin[\"runs\"].quantile(0.25)"
   ]
  },
  {
   "cell_type": "markdown",
   "id": "bca09428",
   "metadata": {
    "hidden": true
   },
   "source": [
    "The above cell says that 25 percent of the times, Sachin scores less than or equal to 8 runs.\n",
    "The 25th percentile of the runs is 8"
   ]
  },
  {
   "cell_type": "code",
   "execution_count": 14,
   "id": "8639f2e0",
   "metadata": {
    "hidden": true
   },
   "outputs": [
    {
     "data": {
      "text/plain": [
       "67.0"
      ]
     },
     "execution_count": 14,
     "metadata": {},
     "output_type": "execute_result"
    }
   ],
   "source": [
    "df_sachin[\"runs\"].quantile(0.75)"
   ]
  },
  {
   "cell_type": "code",
   "execution_count": 15,
   "id": "92383f1f",
   "metadata": {
    "hidden": true
   },
   "outputs": [
    {
     "data": {
      "text/plain": [
       "<AxesSubplot:>"
      ]
     },
     "execution_count": 15,
     "metadata": {},
     "output_type": "execute_result"
    },
    {
     "data": {
      "image/png": "[encoded data removed]",
      "text/plain": [
       "<Figure size 432x288 with 1 Axes>"
      ]
     },
     "metadata": {
      "needs_background": "light"
     },
     "output_type": "display_data"
    }
   ],
   "source": [
    "sns.boxplot(data=df_sachin[\"runs\"], orient=\"horizontal\")"
   ]
  },
  {
   "cell_type": "code",
   "execution_count": 16,
   "id": "ad319b7a",
   "metadata": {
    "hidden": true
   },
   "outputs": [
    {
     "data": {
      "text/plain": [
       "<AxesSubplot:xlabel='runs', ylabel='Count'>"
      ]
     },
     "execution_count": 16,
     "metadata": {},
     "output_type": "execute_result"
    },
    {
     "data": {
      "image/png": "[encoded data removed]",
      "text/plain": [
       "<Figure size 432x288 with 2 Axes>"
      ]
     },
     "metadata": {
      "needs_background": "light"
     },
     "output_type": "display_data"
    }
   ],
   "source": [
    "fig, ax = plt.subplots(\n",
    "    2, 1, sharex=True, gridspec_kw={\"height_ratios\": (0.2, 1)}\n",
    ")\n",
    "sns.boxplot(data=df_sachin[\"runs\"], ax=ax[0], orient=\"horizontal\")\n",
    "sns.histplot(df_sachin[\"runs\"], ax=ax[1])"
   ]
  },
  {
   "cell_type": "code",
   "execution_count": null,
   "id": "bfe45a66",
   "metadata": {
    "hidden": true
   },
   "outputs": [],
   "source": []
  },
  {
   "cell_type": "markdown",
   "id": "c0294238",
   "metadata": {
    "hidden": true
   },
   "source": [
    "The above cell says that 75 percent of the times, Sachin scores less than or equal to 67 runs.\n",
    "The 75th percentile of the runs is 67"
   ]
  },
  {
   "cell_type": "markdown",
   "id": "98cf8573",
   "metadata": {
    "hidden": true
   },
   "source": [
    "[Explain] IQR, and outliers"
   ]
  },
  {
   "cell_type": "code",
   "execution_count": 17,
   "id": "a1b1da8b",
   "metadata": {
    "hidden": true
   },
   "outputs": [
    {
     "name": "stdout",
     "output_type": "stream",
     "text": [
      "Lower and upper: -80.5 155.5\n",
      "Number of outliers: 4\n",
      "Fraction of outliers: 0.011111111111111112\n"
     ]
    }
   ],
   "source": [
    "q1 = df_sachin[\"runs\"].quantile(0.25)\n",
    "q3 = df_sachin[\"runs\"].quantile(0.75)\n",
    "iqr = q3 - q1\n",
    "lower = q1 - 1.5 * iqr\n",
    "upper = q3 + 1.5 * iqr\n",
    "print(\"Lower and upper:\", lower, upper)\n",
    "df_sachin_outliers = df_sachin[(df_sachin[\"runs\"] < lower) | (df_sachin[\"runs\"] > upper)]\n",
    "df_sachin_no_outliers = df_sachin[(df_sachin[\"runs\"] >= lower) & (df_sachin[\"runs\"] <= upper)]\n",
    "print(\"Number of outliers:\", len(df_sachin_outliers))\n",
    "print(\"Fraction of outliers:\", len(df_sachin_outliers) / len(df_sachin))"
   ]
  },
  {
   "cell_type": "markdown",
   "id": "b75e64ea",
   "metadata": {
    "heading_collapsed": true,
    "hidden": true
   },
   "source": [
    "### Let us look at two other players - Dravid and Sehwag test matches"
   ]
  },
  {
   "cell_type": "code",
   "execution_count": 18,
   "id": "cc56cd35",
   "metadata": {
    "hidden": true
   },
   "outputs": [
    {
     "name": "stdout",
     "output_type": "stream",
     "text": [
      "Lower and upper: -49.0 103.0\n",
      "Number of outliers: 14\n",
      "Fraction of outliers: 0.05714285714285714\n"
     ]
    }
   ],
   "source": [
    "df_sehwag = pd.read_csv(\"sehwag.csv\")\n",
    "q1 = df_sehwag[\"Runs\"].quantile(0.25)\n",
    "q3 = df_sehwag[\"Runs\"].quantile(0.75)\n",
    "iqr = q3 - q1\n",
    "lower = q1 - 1.5 * iqr\n",
    "upper = q3 + 1.5 * iqr\n",
    "print(\"Lower and upper:\", lower, upper)\n",
    "df_sehwag_outliers = df_sehwag[(df_sehwag[\"Runs\"] < lower) | (df_sehwag[\"Runs\"] > upper)]\n",
    "df_sehwag_no_outliers = df_sehwag[(df_sehwag[\"Runs\"] >= lower) & (df_sehwag[\"Runs\"] <= upper)]\n",
    "print(\"Number of outliers:\", len(df_sehwag_outliers))\n",
    "print(\"Fraction of outliers:\", len(df_sehwag_outliers) / len(df_sehwag))"
   ]
  },
  {
   "cell_type": "code",
   "execution_count": 19,
   "id": "735ebaf0",
   "metadata": {
    "hidden": true
   },
   "outputs": [
    {
     "name": "stdout",
     "output_type": "stream",
     "text": [
      "Lower and upper: -56.0 120.0\n",
      "Number of outliers: 3\n",
      "Fraction of outliers: 0.009433962264150943\n"
     ]
    }
   ],
   "source": [
    "df_dravid = pd.read_csv(\"dravid.csv\")\n",
    "q1 = df_dravid[\"Runs\"].quantile(0.25)\n",
    "q3 = df_dravid[\"Runs\"].quantile(0.75)\n",
    "iqr = q3 - q1\n",
    "lower = q1 - 1.5 * iqr\n",
    "upper = q3 + 1.5 * iqr\n",
    "print(\"Lower and upper:\", lower, upper)\n",
    "df_dravid_outliers = df_dravid[(df_dravid[\"Runs\"] < lower) | (df_dravid[\"Runs\"] > upper)]\n",
    "df_dravid_no_outliers = df_dravid[(df_dravid[\"Runs\"] >= lower) & (df_dravid[\"Runs\"] <= upper)]\n",
    "print(\"Number of outliers:\", len(df_dravid_outliers))\n",
    "print(\"Fraction of outliers:\", len(df_dravid_outliers) / len(df_dravid))"
   ]
  },
  {
   "cell_type": "markdown",
   "id": "5a99cef6",
   "metadata": {
    "heading_collapsed": true
   },
   "source": [
    "## Average against two teams: *Weighted mean*"
   ]
  },
  {
   "cell_type": "code",
   "execution_count": 20,
   "id": "d64e2a6b",
   "metadata": {
    "hidden": true
   },
   "outputs": [
    {
     "data": {
      "text/html": [
       "<div>\n",
       "<style scoped>\n",
       "    .dataframe tbody tr th:only-of-type {\n",
       "        vertical-align: middle;\n",
       "    }\n",
       "\n",
       "    .dataframe tbody tr th {\n",
       "        vertical-align: top;\n",
       "    }\n",
       "\n",
       "    .dataframe thead tr th {\n",
       "        text-align: left;\n",
       "    }\n",
       "\n",
       "    .dataframe thead tr:last-of-type th {\n",
       "        text-align: right;\n",
       "    }\n",
       "</style>\n",
       "<table border=\"1\" class=\"dataframe\">\n",
       "  <thead>\n",
       "    <tr>\n",
       "      <th></th>\n",
       "      <th colspan=\"2\" halign=\"left\">runs</th>\n",
       "    </tr>\n",
       "    <tr>\n",
       "      <th></th>\n",
       "      <th>mean</th>\n",
       "      <th>count</th>\n",
       "    </tr>\n",
       "    <tr>\n",
       "      <th>Opp</th>\n",
       "      <th></th>\n",
       "      <th></th>\n",
       "    </tr>\n",
       "  </thead>\n",
       "  <tbody>\n",
       "    <tr>\n",
       "      <th>Australia</th>\n",
       "      <td>44.786885</td>\n",
       "      <td>61</td>\n",
       "    </tr>\n",
       "    <tr>\n",
       "      <th>Bangladesh</th>\n",
       "      <td>46.000000</td>\n",
       "      <td>10</td>\n",
       "    </tr>\n",
       "    <tr>\n",
       "      <th>Bermuda</th>\n",
       "      <td>57.000000</td>\n",
       "      <td>1</td>\n",
       "    </tr>\n",
       "    <tr>\n",
       "      <th>England</th>\n",
       "      <td>46.720000</td>\n",
       "      <td>25</td>\n",
       "    </tr>\n",
       "    <tr>\n",
       "      <th>Ireland</th>\n",
       "      <td>21.000000</td>\n",
       "      <td>2</td>\n",
       "    </tr>\n",
       "    <tr>\n",
       "      <th>Kenya</th>\n",
       "      <td>71.888889</td>\n",
       "      <td>9</td>\n",
       "    </tr>\n",
       "    <tr>\n",
       "      <th>Namibia</th>\n",
       "      <td>152.000000</td>\n",
       "      <td>1</td>\n",
       "    </tr>\n",
       "    <tr>\n",
       "      <th>Netherlands</th>\n",
       "      <td>39.500000</td>\n",
       "      <td>2</td>\n",
       "    </tr>\n",
       "    <tr>\n",
       "      <th>New Zealand</th>\n",
       "      <td>39.156250</td>\n",
       "      <td>32</td>\n",
       "    </tr>\n",
       "    <tr>\n",
       "      <th>Pakistan</th>\n",
       "      <td>38.203390</td>\n",
       "      <td>59</td>\n",
       "    </tr>\n",
       "    <tr>\n",
       "      <th>South Africa</th>\n",
       "      <td>39.954545</td>\n",
       "      <td>44</td>\n",
       "    </tr>\n",
       "    <tr>\n",
       "      <th>Sri Lanka</th>\n",
       "      <td>43.761905</td>\n",
       "      <td>63</td>\n",
       "    </tr>\n",
       "    <tr>\n",
       "      <th>U.A.E.</th>\n",
       "      <td>18.000000</td>\n",
       "      <td>1</td>\n",
       "    </tr>\n",
       "    <tr>\n",
       "      <th>West Indies</th>\n",
       "      <td>44.000000</td>\n",
       "      <td>22</td>\n",
       "    </tr>\n",
       "    <tr>\n",
       "      <th>Zimbabwe</th>\n",
       "      <td>43.642857</td>\n",
       "      <td>28</td>\n",
       "    </tr>\n",
       "  </tbody>\n",
       "</table>\n",
       "</div>"
      ],
      "text/plain": [
       "                    runs      \n",
       "                    mean count\n",
       "Opp                           \n",
       "Australia      44.786885    61\n",
       "Bangladesh     46.000000    10\n",
       "Bermuda        57.000000     1\n",
       "England        46.720000    25\n",
       "Ireland        21.000000     2\n",
       "Kenya          71.888889     9\n",
       "Namibia       152.000000     1\n",
       "Netherlands    39.500000     2\n",
       "New Zealand    39.156250    32\n",
       "Pakistan       38.203390    59\n",
       "South Africa   39.954545    44\n",
       "Sri Lanka      43.761905    63\n",
       "U.A.E.         18.000000     1\n",
       "West Indies    44.000000    22\n",
       "Zimbabwe       43.642857    28"
      ]
     },
     "execution_count": 20,
     "metadata": {},
     "output_type": "execute_result"
    }
   ],
   "source": [
    "df_sachin.groupby([\"Opp\"] ).agg({\"runs\": [np.mean, \"count\"]}).head(20)"
   ]
  },
  {
   "cell_type": "markdown",
   "id": "0624d80f",
   "metadata": {
    "hidden": true
   },
   "source": [
    "### Weighted mean of Australia and Bangladesh"
   ]
  },
  {
   "cell_type": "markdown",
   "id": "cc8116c3",
   "metadata": {
    "hidden": true
   },
   "source": [
    "From the above dataframe, we get the values for mean and number of matches against Australia and Bangladesh. <br>\n",
    "61 matches against Australia with mean of 44.78 <br>\n",
    "10 matches against Bangladesh with mean of 46<br>\n",
    "The weighted mean is given below"
   ]
  },
  {
   "cell_type": "code",
   "execution_count": 21,
   "id": "fab217c6",
   "metadata": {
    "hidden": true
   },
   "outputs": [
    {
     "data": {
      "text/plain": [
       "44.95183098591549"
      ]
     },
     "execution_count": 21,
     "metadata": {},
     "output_type": "execute_result"
    }
   ],
   "source": [
    "(44.78 * 61 + 46 * 10) / (61 + 10)"
   ]
  },
  {
   "cell_type": "markdown",
   "id": "5d350802",
   "metadata": {
    "hidden": true
   },
   "source": [
    "The same weighted mean is obtained using pandas filtering including both Australia and Bangladesh, as shown below"
   ]
  },
  {
   "cell_type": "code",
   "execution_count": 22,
   "id": "a1556909",
   "metadata": {
    "hidden": true
   },
   "outputs": [
    {
     "data": {
      "text/plain": [
       "44.95774647887324"
      ]
     },
     "execution_count": 22,
     "metadata": {},
     "output_type": "execute_result"
    }
   ],
   "source": [
    "df_sachin[df_sachin[\"Opp\"].isin([\"Australia\", \"Bangladesh\"])][\"runs\"].mean()"
   ]
  },
  {
   "cell_type": "markdown",
   "id": "b2360fcd",
   "metadata": {
    "heading_collapsed": true
   },
   "source": [
    "## How is the spread in scoring pattern: *Standard deviation $\\sigma$*"
   ]
  },
  {
   "cell_type": "code",
   "execution_count": 23,
   "id": "0b177c52",
   "metadata": {
    "hidden": true
   },
   "outputs": [
    {
     "data": {
      "text/plain": [
       "42.18245206052441"
      ]
     },
     "execution_count": 23,
     "metadata": {},
     "output_type": "execute_result"
    }
   ],
   "source": [
    "df_sachin[\"runs\"].std()"
   ]
  },
  {
   "cell_type": "code",
   "execution_count": 24,
   "id": "48243329",
   "metadata": {
    "hidden": true
   },
   "outputs": [
    {
     "data": {
      "text/plain": [
       "1779.35926183844"
      ]
     },
     "execution_count": 24,
     "metadata": {},
     "output_type": "execute_result"
    }
   ],
   "source": [
    "df_sachin[\"runs\"].var()"
   ]
  },
  {
   "cell_type": "code",
   "execution_count": 25,
   "id": "425e9a96",
   "metadata": {
    "hidden": true
   },
   "outputs": [
    {
     "data": {
      "text/plain": [
       "1779.3211240000003"
      ]
     },
     "execution_count": 25,
     "metadata": {},
     "output_type": "execute_result"
    }
   ],
   "source": [
    "# Variance is square of the std deviation\n",
    "42.182 * 42.182"
   ]
  },
  {
   "cell_type": "markdown",
   "id": "0d3acf28",
   "metadata": {
    "heading_collapsed": true
   },
   "source": [
    "## What is the probability of winning: $P[W]$"
   ]
  },
  {
   "cell_type": "markdown",
   "id": "480fcf74",
   "metadata": {
    "hidden": true
   },
   "source": [
    "Let us see the `value_counts` of the column \"Won\""
   ]
  },
  {
   "cell_type": "code",
   "execution_count": 26,
   "id": "9456e841",
   "metadata": {
    "hidden": true
   },
   "outputs": [
    {
     "data": {
      "text/plain": [
       "True     184\n",
       "False    176\n",
       "Name: Won, dtype: int64"
      ]
     },
     "execution_count": 26,
     "metadata": {},
     "output_type": "execute_result"
    }
   ],
   "source": [
    "df_sachin[\"Won\"].value_counts()"
   ]
  },
  {
   "cell_type": "markdown",
   "id": "2702ba41",
   "metadata": {
    "hidden": true
   },
   "source": [
    "Quiz: What is the probability of winning from the df_sachin dataset?\n",
    "1) 184/176\n",
    "2) 184/(184 + 176)\n",
    "3) 176/(184 + 176)\n",
    "4) 176/184\n",
    "\n",
    "Answer: 2)"
   ]
  },
  {
   "cell_type": "code",
   "execution_count": 27,
   "id": "d9617b3c",
   "metadata": {
    "hidden": true
   },
   "outputs": [
    {
     "data": {
      "text/plain": [
       "0.5111111111111111"
      ]
     },
     "execution_count": 27,
     "metadata": {},
     "output_type": "execute_result"
    }
   ],
   "source": [
    "prob_winning = 184/(184 + 176)\n",
    "prob_winning"
   ]
  },
  {
   "cell_type": "markdown",
   "id": "1aa955c9",
   "metadata": {
    "hidden": true
   },
   "source": [
    "Let us compute $P[W]$ using filtering"
   ]
  },
  {
   "cell_type": "code",
   "execution_count": 28,
   "id": "5425d7fd",
   "metadata": {
    "hidden": true
   },
   "outputs": [],
   "source": [
    "df_won = df_sachin[df_sachin[\"Won\"]==True]"
   ]
  },
  {
   "cell_type": "code",
   "execution_count": 29,
   "id": "e8212690",
   "metadata": {
    "hidden": true
   },
   "outputs": [
    {
     "data": {
      "text/plain": [
       "0.5111111111111111"
      ]
     },
     "execution_count": 29,
     "metadata": {},
     "output_type": "execute_result"
    }
   ],
   "source": [
    "prob_winning = len(df_won) / len(df_sachin)\n",
    "prob_winning"
   ]
  },
  {
   "cell_type": "markdown",
   "id": "70e4bfc2",
   "metadata": {
    "heading_collapsed": true
   },
   "source": [
    "## What is the probability of Sachin scoring century: $P[C]$"
   ]
  },
  {
   "cell_type": "markdown",
   "id": "57037af0",
   "metadata": {
    "hidden": true
   },
   "source": [
    "Let us see the `value_counts` of the column \"century\""
   ]
  },
  {
   "cell_type": "code",
   "execution_count": 30,
   "id": "5ff01eae",
   "metadata": {
    "hidden": true
   },
   "outputs": [
    {
     "data": {
      "text/plain": [
       "False    314\n",
       "True      46\n",
       "Name: century, dtype: int64"
      ]
     },
     "execution_count": 30,
     "metadata": {},
     "output_type": "execute_result"
    }
   ],
   "source": [
    "df_sachin[\"century\"].value_counts()"
   ]
  },
  {
   "cell_type": "markdown",
   "id": "dd5eb079",
   "metadata": {
    "hidden": true
   },
   "source": [
    "Probability of scoring a century is 49/280"
   ]
  },
  {
   "cell_type": "code",
   "execution_count": 31,
   "id": "b7cf7bb1",
   "metadata": {
    "hidden": true
   },
   "outputs": [
    {
     "data": {
      "text/plain": [
       "0.12777777777777777"
      ]
     },
     "execution_count": 31,
     "metadata": {},
     "output_type": "execute_result"
    }
   ],
   "source": [
    "prob_century = 46 / (314 + 46)\n",
    "prob_century"
   ]
  },
  {
   "cell_type": "markdown",
   "id": "1a6d2566",
   "metadata": {
    "hidden": true
   },
   "source": [
    "Let us compute the $P[C]$ using filtering"
   ]
  },
  {
   "cell_type": "code",
   "execution_count": 32,
   "id": "a09a310e",
   "metadata": {
    "hidden": true
   },
   "outputs": [],
   "source": [
    "df_century = df_sachin[df_sachin[\"century\"]==True]"
   ]
  },
  {
   "cell_type": "code",
   "execution_count": 33,
   "id": "9c59b956",
   "metadata": {
    "hidden": true
   },
   "outputs": [
    {
     "data": {
      "text/plain": [
       "0.12777777777777777"
      ]
     },
     "execution_count": 33,
     "metadata": {},
     "output_type": "execute_result"
    }
   ],
   "source": [
    "prob_century = len(df_century) / len(df_sachin)\n",
    "prob_century"
   ]
  },
  {
   "cell_type": "markdown",
   "id": "24370555",
   "metadata": {
    "heading_collapsed": true
   },
   "source": [
    "## Winning AND Century: $P[W \\cap C]$"
   ]
  },
  {
   "cell_type": "markdown",
   "id": "3e6c6b48",
   "metadata": {
    "hidden": true
   },
   "source": [
    "We want to compute the probability of Sachin scoring a century AND India winning.\n",
    "This is called **Joint** probability. Another important terminology is **Intersection**."
   ]
  },
  {
   "cell_type": "markdown",
   "id": "91fde345",
   "metadata": {
    "hidden": true
   },
   "source": [
    "Let us see the `value_counts` of the columns \"Won\" and \"century\""
   ]
  },
  {
   "cell_type": "code",
   "execution_count": 34,
   "id": "b5e152df",
   "metadata": {
    "hidden": true
   },
   "outputs": [
    {
     "data": {
      "text/plain": [
       "century  Won  \n",
       "False    False    160\n",
       "         True     154\n",
       "True     True      30\n",
       "         False     16\n",
       "dtype: int64"
      ]
     },
     "execution_count": 34,
     "metadata": {},
     "output_type": "execute_result"
    }
   ],
   "source": [
    "df_sachin[[\"century\", \"Won\"]].value_counts()"
   ]
  },
  {
   "cell_type": "markdown",
   "id": "94338ba1",
   "metadata": {
    "hidden": true
   },
   "source": [
    "We can use the `unstack` method to show it in tabular form"
   ]
  },
  {
   "cell_type": "code",
   "execution_count": 35,
   "id": "3dd65780",
   "metadata": {
    "hidden": true
   },
   "outputs": [
    {
     "data": {
      "text/html": [
       "<div>\n",
       "<style scoped>\n",
       "    .dataframe tbody tr th:only-of-type {\n",
       "        vertical-align: middle;\n",
       "    }\n",
       "\n",
       "    .dataframe tbody tr th {\n",
       "        vertical-align: top;\n",
       "    }\n",
       "\n",
       "    .dataframe thead th {\n",
       "        text-align: right;\n",
       "    }\n",
       "</style>\n",
       "<table border=\"1\" class=\"dataframe\">\n",
       "  <thead>\n",
       "    <tr style=\"text-align: right;\">\n",
       "      <th>Won</th>\n",
       "      <th>False</th>\n",
       "      <th>True</th>\n",
       "    </tr>\n",
       "    <tr>\n",
       "      <th>century</th>\n",
       "      <th></th>\n",
       "      <th></th>\n",
       "    </tr>\n",
       "  </thead>\n",
       "  <tbody>\n",
       "    <tr>\n",
       "      <th>False</th>\n",
       "      <td>160</td>\n",
       "      <td>154</td>\n",
       "    </tr>\n",
       "    <tr>\n",
       "      <th>True</th>\n",
       "      <td>16</td>\n",
       "      <td>30</td>\n",
       "    </tr>\n",
       "  </tbody>\n",
       "</table>\n",
       "</div>"
      ],
      "text/plain": [
       "Won      False  True\n",
       "century             \n",
       "False      160   154\n",
       "True        16    30"
      ]
     },
     "execution_count": 35,
     "metadata": {},
     "output_type": "execute_result"
    }
   ],
   "source": [
    "df_sachin[[\"century\", \"Won\"]].value_counts().unstack()"
   ]
  },
  {
   "cell_type": "markdown",
   "id": "16e70777",
   "metadata": {
    "hidden": true
   },
   "source": [
    "This table is called the **contingency table**"
   ]
  },
  {
   "cell_type": "markdown",
   "id": "5647a295",
   "metadata": {
    "hidden": true
   },
   "source": [
    "Another way to see the contingency table is to use `crosstab`"
   ]
  },
  {
   "cell_type": "code",
   "execution_count": 36,
   "id": "3d595aaf",
   "metadata": {
    "hidden": true
   },
   "outputs": [
    {
     "data": {
      "text/html": [
       "<div>\n",
       "<style scoped>\n",
       "    .dataframe tbody tr th:only-of-type {\n",
       "        vertical-align: middle;\n",
       "    }\n",
       "\n",
       "    .dataframe tbody tr th {\n",
       "        vertical-align: top;\n",
       "    }\n",
       "\n",
       "    .dataframe thead th {\n",
       "        text-align: right;\n",
       "    }\n",
       "</style>\n",
       "<table border=\"1\" class=\"dataframe\">\n",
       "  <thead>\n",
       "    <tr style=\"text-align: right;\">\n",
       "      <th>Won</th>\n",
       "      <th>False</th>\n",
       "      <th>True</th>\n",
       "    </tr>\n",
       "    <tr>\n",
       "      <th>century</th>\n",
       "      <th></th>\n",
       "      <th></th>\n",
       "    </tr>\n",
       "  </thead>\n",
       "  <tbody>\n",
       "    <tr>\n",
       "      <th>False</th>\n",
       "      <td>160</td>\n",
       "      <td>154</td>\n",
       "    </tr>\n",
       "    <tr>\n",
       "      <th>True</th>\n",
       "      <td>16</td>\n",
       "      <td>30</td>\n",
       "    </tr>\n",
       "  </tbody>\n",
       "</table>\n",
       "</div>"
      ],
      "text/plain": [
       "Won      False  True\n",
       "century             \n",
       "False      160   154\n",
       "True        16    30"
      ]
     },
     "execution_count": 36,
     "metadata": {},
     "output_type": "execute_result"
    }
   ],
   "source": [
    "pd.crosstab(index=df_sachin[\"century\"], columns=df_sachin[\"Won\"])"
   ]
  },
  {
   "cell_type": "markdown",
   "id": "55707185",
   "metadata": {
    "hidden": true
   },
   "source": [
    "The `crosstab` method also allows us to see the total in each row and column using the key word argument *margins*"
   ]
  },
  {
   "cell_type": "code",
   "execution_count": 37,
   "id": "3f989181",
   "metadata": {
    "hidden": true
   },
   "outputs": [
    {
     "data": {
      "text/html": [
       "<div>\n",
       "<style scoped>\n",
       "    .dataframe tbody tr th:only-of-type {\n",
       "        vertical-align: middle;\n",
       "    }\n",
       "\n",
       "    .dataframe tbody tr th {\n",
       "        vertical-align: top;\n",
       "    }\n",
       "\n",
       "    .dataframe thead th {\n",
       "        text-align: right;\n",
       "    }\n",
       "</style>\n",
       "<table border=\"1\" class=\"dataframe\">\n",
       "  <thead>\n",
       "    <tr style=\"text-align: right;\">\n",
       "      <th>Won</th>\n",
       "      <th>False</th>\n",
       "      <th>True</th>\n",
       "      <th>All</th>\n",
       "    </tr>\n",
       "    <tr>\n",
       "      <th>century</th>\n",
       "      <th></th>\n",
       "      <th></th>\n",
       "      <th></th>\n",
       "    </tr>\n",
       "  </thead>\n",
       "  <tbody>\n",
       "    <tr>\n",
       "      <th>False</th>\n",
       "      <td>160</td>\n",
       "      <td>154</td>\n",
       "      <td>314</td>\n",
       "    </tr>\n",
       "    <tr>\n",
       "      <th>True</th>\n",
       "      <td>16</td>\n",
       "      <td>30</td>\n",
       "      <td>46</td>\n",
       "    </tr>\n",
       "    <tr>\n",
       "      <th>All</th>\n",
       "      <td>176</td>\n",
       "      <td>184</td>\n",
       "      <td>360</td>\n",
       "    </tr>\n",
       "  </tbody>\n",
       "</table>\n",
       "</div>"
      ],
      "text/plain": [
       "Won      False  True  All\n",
       "century                  \n",
       "False      160   154  314\n",
       "True        16    30   46\n",
       "All        176   184  360"
      ]
     },
     "execution_count": 37,
     "metadata": {},
     "output_type": "execute_result"
    }
   ],
   "source": [
    "pd.crosstab(index=df_sachin[\"century\"], columns=df_sachin[\"Won\"], margins=True)"
   ]
  },
  {
   "cell_type": "markdown",
   "id": "913cdafb",
   "metadata": {
    "hidden": true
   },
   "source": [
    "From the contingency table, we see that there are 30 matches where Sachin has scored a century and India has won.\n",
    "We can also use simple filtering to get hold of all such matches, as shown below."
   ]
  },
  {
   "cell_type": "code",
   "execution_count": 38,
   "id": "bf4fc197",
   "metadata": {
    "hidden": true
   },
   "outputs": [
    {
     "data": {
      "text/plain": [
       "0.08333333333333333"
      ]
     },
     "execution_count": 38,
     "metadata": {},
     "output_type": "execute_result"
    }
   ],
   "source": [
    "30 / 360"
   ]
  },
  {
   "cell_type": "code",
   "execution_count": 39,
   "id": "a9a17181",
   "metadata": {
    "hidden": true
   },
   "outputs": [
    {
     "data": {
      "text/plain": [
       "30"
      ]
     },
     "execution_count": 39,
     "metadata": {},
     "output_type": "execute_result"
    }
   ],
   "source": [
    "df_win_and_century = df_sachin[(df_sachin[\"century\"] == True) & (df_sachin[\"Won\"] == True)]\n",
    "len(df_win_and_century)"
   ]
  },
  {
   "cell_type": "markdown",
   "id": "52777475",
   "metadata": {
    "hidden": true
   },
   "source": [
    "Finally, to compute the probability, we divide by total number of matches"
   ]
  },
  {
   "cell_type": "code",
   "execution_count": 40,
   "id": "4951c4aa",
   "metadata": {
    "hidden": true
   },
   "outputs": [
    {
     "data": {
      "text/plain": [
       "0.08333333333333333"
      ]
     },
     "execution_count": 40,
     "metadata": {},
     "output_type": "execute_result"
    }
   ],
   "source": [
    "prob_win_and_century = len(df_win_and_century) / len(df_sachin)\n",
    "prob_win_and_century"
   ]
  },
  {
   "cell_type": "markdown",
   "id": "82ce394f",
   "metadata": {
    "heading_collapsed": true
   },
   "source": [
    "## Winning OR Century: $P[W \\cup C]$"
   ]
  },
  {
   "cell_type": "markdown",
   "id": "2d84876c",
   "metadata": {
    "hidden": true
   },
   "source": [
    "We want to compute the probability of Sachin scoring a century OR India winning.\n",
    "Let us recall the contingency table."
   ]
  },
  {
   "cell_type": "code",
   "execution_count": 41,
   "id": "dda14b5a",
   "metadata": {
    "hidden": true
   },
   "outputs": [
    {
     "data": {
      "text/html": [
       "<div>\n",
       "<style scoped>\n",
       "    .dataframe tbody tr th:only-of-type {\n",
       "        vertical-align: middle;\n",
       "    }\n",
       "\n",
       "    .dataframe tbody tr th {\n",
       "        vertical-align: top;\n",
       "    }\n",
       "\n",
       "    .dataframe thead th {\n",
       "        text-align: right;\n",
       "    }\n",
       "</style>\n",
       "<table border=\"1\" class=\"dataframe\">\n",
       "  <thead>\n",
       "    <tr style=\"text-align: right;\">\n",
       "      <th>Won</th>\n",
       "      <th>False</th>\n",
       "      <th>True</th>\n",
       "      <th>All</th>\n",
       "    </tr>\n",
       "    <tr>\n",
       "      <th>century</th>\n",
       "      <th></th>\n",
       "      <th></th>\n",
       "      <th></th>\n",
       "    </tr>\n",
       "  </thead>\n",
       "  <tbody>\n",
       "    <tr>\n",
       "      <th>False</th>\n",
       "      <td>160</td>\n",
       "      <td>154</td>\n",
       "      <td>314</td>\n",
       "    </tr>\n",
       "    <tr>\n",
       "      <th>True</th>\n",
       "      <td>16</td>\n",
       "      <td>30</td>\n",
       "      <td>46</td>\n",
       "    </tr>\n",
       "    <tr>\n",
       "      <th>All</th>\n",
       "      <td>176</td>\n",
       "      <td>184</td>\n",
       "      <td>360</td>\n",
       "    </tr>\n",
       "  </tbody>\n",
       "</table>\n",
       "</div>"
      ],
      "text/plain": [
       "Won      False  True  All\n",
       "century                  \n",
       "False      160   154  314\n",
       "True        16    30   46\n",
       "All        176   184  360"
      ]
     },
     "execution_count": 41,
     "metadata": {},
     "output_type": "execute_result"
    }
   ],
   "source": [
    "pd.crosstab(index=df_sachin[\"century\"], columns=df_sachin[\"Won\"], margins=True)"
   ]
  },
  {
   "cell_type": "markdown",
   "id": "de3b1ec2",
   "metadata": {
    "hidden": true
   },
   "source": [
    "There are 184 matches where India won, 46 matches where Sachin scored a century. Let us use filtering to see in how many matches India has won OR Sachin has scored century"
   ]
  },
  {
   "cell_type": "code",
   "execution_count": 42,
   "id": "428a0d2c",
   "metadata": {
    "hidden": true
   },
   "outputs": [],
   "source": [
    "df_win_or_century = df_sachin[(df_sachin[\"century\"] == True) | (df_sachin[\"Won\"] == True)]"
   ]
  },
  {
   "cell_type": "code",
   "execution_count": 43,
   "id": "850e3954",
   "metadata": {
    "hidden": true
   },
   "outputs": [
    {
     "data": {
      "text/plain": [
       "200"
      ]
     },
     "execution_count": 43,
     "metadata": {},
     "output_type": "execute_result"
    }
   ],
   "source": [
    "len(df_win_or_century)"
   ]
  },
  {
   "cell_type": "markdown",
   "id": "c02aebce",
   "metadata": {
    "hidden": true
   },
   "source": [
    "How to we compute this number ourselves from the contingency table? Can we simply add 184 and 46? If we do that, then those matches in which century and win happened will be counted twice. Thus we have to remove this once."
   ]
  },
  {
   "cell_type": "code",
   "execution_count": 44,
   "id": "09ee7efd",
   "metadata": {
    "hidden": true
   },
   "outputs": [
    {
     "data": {
      "text/plain": [
       "200"
      ]
     },
     "execution_count": 44,
     "metadata": {},
     "output_type": "execute_result"
    }
   ],
   "source": [
    "184 + 46 - 30"
   ]
  },
  {
   "cell_type": "code",
   "execution_count": 45,
   "id": "b119f6f6",
   "metadata": {
    "hidden": true
   },
   "outputs": [
    {
     "data": {
      "text/plain": [
       "0.5555555555555556"
      ]
     },
     "execution_count": 45,
     "metadata": {},
     "output_type": "execute_result"
    }
   ],
   "source": [
    "200 / 360"
   ]
  },
  {
   "cell_type": "markdown",
   "id": "c1843914",
   "metadata": {
    "hidden": true
   },
   "source": [
    "Let us verify this from the filtered dataframe"
   ]
  },
  {
   "cell_type": "code",
   "execution_count": 46,
   "id": "97e9de02",
   "metadata": {
    "hidden": true
   },
   "outputs": [
    {
     "data": {
      "text/plain": [
       "0.5555555555555556"
      ]
     },
     "execution_count": 46,
     "metadata": {},
     "output_type": "execute_result"
    }
   ],
   "source": [
    "prob_win_or_century = len(df_win_or_century) / len(df_sachin)\n",
    "prob_win_or_century"
   ]
  },
  {
   "cell_type": "markdown",
   "id": "6d450a85",
   "metadata": {
    "hidden": true
   },
   "source": [
    "Finally, we have this formula \n",
    "\\begin{align}\n",
    "P[W \\cup C] = P[W] + P[C] - P[W \\cap C]\n",
    "\\end{align}"
   ]
  },
  {
   "cell_type": "code",
   "execution_count": 47,
   "id": "69456247",
   "metadata": {
    "hidden": true
   },
   "outputs": [
    {
     "data": {
      "text/plain": [
       "0.5555555555555555"
      ]
     },
     "execution_count": 47,
     "metadata": {},
     "output_type": "execute_result"
    }
   ],
   "source": [
    "prob_winning + prob_century - prob_win_and_century"
   ]
  },
  {
   "cell_type": "markdown",
   "id": "b290bf2d",
   "metadata": {},
   "source": [
    "## Winning given that Sachin scored a century: $P[W|C]$"
   ]
  },
  {
   "cell_type": "markdown",
   "id": "30deb5de",
   "metadata": {},
   "source": [
    "We now want to answer an important question. Given that Sachin has scored a century, what is the probability of winning?"
   ]
  },
  {
   "cell_type": "markdown",
   "id": "199decc9",
   "metadata": {},
   "source": [
    "Let us again look at the contingency table"
   ]
  },
  {
   "cell_type": "code",
   "execution_count": 48,
   "id": "a7c68776",
   "metadata": {},
   "outputs": [
    {
     "data": {
      "text/html": [
       "<div>\n",
       "<style scoped>\n",
       "    .dataframe tbody tr th:only-of-type {\n",
       "        vertical-align: middle;\n",
       "    }\n",
       "\n",
       "    .dataframe tbody tr th {\n",
       "        vertical-align: top;\n",
       "    }\n",
       "\n",
       "    .dataframe thead th {\n",
       "        text-align: right;\n",
       "    }\n",
       "</style>\n",
       "<table border=\"1\" class=\"dataframe\">\n",
       "  <thead>\n",
       "    <tr style=\"text-align: right;\">\n",
       "      <th>Won</th>\n",
       "      <th>False</th>\n",
       "      <th>True</th>\n",
       "      <th>All</th>\n",
       "    </tr>\n",
       "    <tr>\n",
       "      <th>century</th>\n",
       "      <th></th>\n",
       "      <th></th>\n",
       "      <th></th>\n",
       "    </tr>\n",
       "  </thead>\n",
       "  <tbody>\n",
       "    <tr>\n",
       "      <th>False</th>\n",
       "      <td>160</td>\n",
       "      <td>154</td>\n",
       "      <td>314</td>\n",
       "    </tr>\n",
       "    <tr>\n",
       "      <th>True</th>\n",
       "      <td>16</td>\n",
       "      <td>30</td>\n",
       "      <td>46</td>\n",
       "    </tr>\n",
       "    <tr>\n",
       "      <th>All</th>\n",
       "      <td>176</td>\n",
       "      <td>184</td>\n",
       "      <td>360</td>\n",
       "    </tr>\n",
       "  </tbody>\n",
       "</table>\n",
       "</div>"
      ],
      "text/plain": [
       "Won      False  True  All\n",
       "century                  \n",
       "False      160   154  314\n",
       "True        16    30   46\n",
       "All        176   184  360"
      ]
     },
     "execution_count": 48,
     "metadata": {},
     "output_type": "execute_result"
    }
   ],
   "source": [
    "pd.crosstab(index=df_sachin[\"century\"], columns=df_sachin[\"Won\"], margins=True)"
   ]
  },
  {
   "cell_type": "markdown",
   "id": "049df23b",
   "metadata": {},
   "source": [
    "We see that there are 46 matches in which Sachin has scored century. Of these, India has won 30 of them. So the probability of winning when Sachin scores a century is 30/46"
   ]
  },
  {
   "cell_type": "code",
   "execution_count": 49,
   "id": "26aef875",
   "metadata": {},
   "outputs": [
    {
     "data": {
      "text/plain": [
       "0.6521739130434783"
      ]
     },
     "execution_count": 49,
     "metadata": {},
     "output_type": "execute_result"
    }
   ],
   "source": [
    "30 / 46"
   ]
  },
  {
   "cell_type": "markdown",
   "id": "f68db440",
   "metadata": {},
   "source": [
    "Let us now use filtering to get the same answer"
   ]
  },
  {
   "cell_type": "code",
   "execution_count": 50,
   "id": "084ae3ea",
   "metadata": {},
   "outputs": [
    {
     "data": {
      "text/plain": [
       "46"
      ]
     },
     "execution_count": 50,
     "metadata": {},
     "output_type": "execute_result"
    }
   ],
   "source": [
    "df_century = df_sachin[df_sachin[\"century\"]==True]\n",
    "len(df_century)"
   ]
  },
  {
   "cell_type": "code",
   "execution_count": 51,
   "id": "b1684739",
   "metadata": {},
   "outputs": [
    {
     "data": {
      "text/plain": [
       "30"
      ]
     },
     "execution_count": 51,
     "metadata": {},
     "output_type": "execute_result"
    }
   ],
   "source": [
    "df_win_given_century = df_century[df_century[\"Won\"]==True]\n",
    "len(df_win_given_century)"
   ]
  },
  {
   "cell_type": "code",
   "execution_count": 52,
   "id": "c9689262",
   "metadata": {},
   "outputs": [
    {
     "data": {
      "text/plain": [
       "0.6521739130434783"
      ]
     },
     "execution_count": 52,
     "metadata": {},
     "output_type": "execute_result"
    }
   ],
   "source": [
    "prob_win_given_century = len(df_win_given_century) / len(df_century)\n",
    "prob_win_given_century"
   ]
  },
  {
   "cell_type": "code",
   "execution_count": 53,
   "id": "d98b65b7",
   "metadata": {},
   "outputs": [
    {
     "data": {
      "text/plain": [
       "0.6521739130434783"
      ]
     },
     "execution_count": 53,
     "metadata": {},
     "output_type": "execute_result"
    }
   ],
   "source": [
    "prob_win_and_century / prob_century"
   ]
  },
  {
   "cell_type": "markdown",
   "id": "f593854a",
   "metadata": {
    "heading_collapsed": true
   },
   "source": [
    "## Complement"
   ]
  },
  {
   "cell_type": "markdown",
   "id": "248a480d",
   "metadata": {
    "hidden": true
   },
   "source": [
    "### Winning Vs losing"
   ]
  },
  {
   "cell_type": "code",
   "execution_count": 54,
   "id": "82ddc9c9",
   "metadata": {
    "hidden": true
   },
   "outputs": [
    {
     "data": {
      "text/plain": [
       "0.5111111111111111"
      ]
     },
     "execution_count": 54,
     "metadata": {},
     "output_type": "execute_result"
    }
   ],
   "source": [
    "df_won = df_sachin[df_sachin[\"Won\"]==True]\n",
    "prob_won = len(df_won) / len(df_sachin)\n",
    "prob_won"
   ]
  },
  {
   "cell_type": "code",
   "execution_count": 55,
   "id": "f19f7401",
   "metadata": {
    "hidden": true
   },
   "outputs": [
    {
     "data": {
      "text/plain": [
       "0.4888888888888889"
      ]
     },
     "execution_count": 55,
     "metadata": {},
     "output_type": "execute_result"
    }
   ],
   "source": [
    "df_lost = df_sachin[df_sachin[\"Won\"]==False]\n",
    "prob_lost = len(df_lost) / len(df_sachin)\n",
    "prob_lost"
   ]
  },
  {
   "cell_type": "code",
   "execution_count": 56,
   "id": "00cfcde4",
   "metadata": {
    "hidden": true
   },
   "outputs": [
    {
     "data": {
      "text/plain": [
       "1.0"
      ]
     },
     "execution_count": 56,
     "metadata": {},
     "output_type": "execute_result"
    }
   ],
   "source": [
    "prob_won + prob_lost"
   ]
  },
  {
   "cell_type": "markdown",
   "id": "6f61eb8b",
   "metadata": {
    "hidden": true
   },
   "source": [
    "### Century Vs Not century"
   ]
  },
  {
   "cell_type": "code",
   "execution_count": 57,
   "id": "224a526a",
   "metadata": {
    "hidden": true
   },
   "outputs": [
    {
     "data": {
      "text/plain": [
       "0.12777777777777777"
      ]
     },
     "execution_count": 57,
     "metadata": {},
     "output_type": "execute_result"
    }
   ],
   "source": [
    "df_century = df_sachin[df_sachin[\"century\"]==True]\n",
    "prob_century = len(df_century) / len(df_sachin)\n",
    "prob_century"
   ]
  },
  {
   "cell_type": "code",
   "execution_count": 58,
   "id": "fb22c9c7",
   "metadata": {
    "hidden": true
   },
   "outputs": [
    {
     "data": {
      "text/plain": [
       "0.8722222222222222"
      ]
     },
     "execution_count": 58,
     "metadata": {},
     "output_type": "execute_result"
    }
   ],
   "source": [
    "df_not_century = df_sachin[df_sachin[\"century\"]==False]\n",
    "prob_not_century = len(df_not_century) / len(df_sachin)\n",
    "prob_not_century"
   ]
  },
  {
   "cell_type": "code",
   "execution_count": 59,
   "id": "5fbb5e1f",
   "metadata": {
    "hidden": true
   },
   "outputs": [
    {
     "data": {
      "text/plain": [
       "1.0"
      ]
     },
     "execution_count": 59,
     "metadata": {},
     "output_type": "execute_result"
    }
   ],
   "source": [
    "prob_century + prob_not_century"
   ]
  },
  {
   "cell_type": "markdown",
   "id": "21591a38",
   "metadata": {
    "hidden": true
   },
   "source": [
    "### Greater than 8 fours Vs At most 7 fours"
   ]
  },
  {
   "cell_type": "code",
   "execution_count": 60,
   "id": "2df1605e",
   "metadata": {
    "hidden": true
   },
   "outputs": [
    {
     "data": {
      "text/plain": [
       "0.26666666666666666"
      ]
     },
     "execution_count": 60,
     "metadata": {},
     "output_type": "execute_result"
    }
   ],
   "source": [
    "df_at_least_eight_fours = df_sachin[df_sachin[\"fours\"] >= 8]\n",
    "prob_at_least_eight_fours = len(df_at_least_eight_fours) / len(df_sachin)\n",
    "prob_at_least_eight_fours"
   ]
  },
  {
   "cell_type": "code",
   "execution_count": 61,
   "id": "baeb6ee1",
   "metadata": {
    "hidden": true
   },
   "outputs": [
    {
     "data": {
      "text/plain": [
       "0.7333333333333333"
      ]
     },
     "execution_count": 61,
     "metadata": {},
     "output_type": "execute_result"
    }
   ],
   "source": [
    "df_at_most_seven_fours = df_sachin[df_sachin[\"fours\"] <= 7]\n",
    "prob_at_most_seven_fours = len(df_at_most_seven_fours) / len(df_sachin)\n",
    "prob_at_most_seven_fours"
   ]
  },
  {
   "cell_type": "code",
   "execution_count": 62,
   "id": "44e539ed",
   "metadata": {
    "hidden": true
   },
   "outputs": [
    {
     "data": {
      "text/plain": [
       "1.0"
      ]
     },
     "execution_count": 62,
     "metadata": {},
     "output_type": "execute_result"
    }
   ],
   "source": [
    "prob_at_least_eight_fours + prob_at_most_seven_fours"
   ]
  },
  {
   "cell_type": "markdown",
   "id": "8c5b04a1",
   "metadata": {
    "hidden": true
   },
   "source": [
    "### Relation between $A$ and $A^c$"
   ]
  },
  {
   "cell_type": "markdown",
   "id": "79bb55d4",
   "metadata": {
    "hidden": true
   },
   "source": [
    "$P[A] + P[A^c] = 1$"
   ]
  },
  {
   "cell_type": "markdown",
   "id": "77ef3e34",
   "metadata": {
    "heading_collapsed": true
   },
   "source": [
    "## Outcomes, Events, Sample Space"
   ]
  },
  {
   "cell_type": "markdown",
   "id": "97866efc",
   "metadata": {
    "hidden": true
   },
   "source": [
    "There are many ways to define outcomes for this dataset.\n"
   ]
  },
  {
   "cell_type": "markdown",
   "id": "a6bdf399",
   "metadata": {
    "hidden": true
   },
   "source": [
    "### Example 1"
   ]
  },
  {
   "cell_type": "markdown",
   "id": "7665afe1",
   "metadata": {
    "hidden": true
   },
   "source": [
    "We define \"Won\" and \"Lost\" as outcomes. Each match thus falls in one out of these two categories\n",
    "\n",
    "S = {\"Won\", \"Lost\"}"
   ]
  },
  {
   "cell_type": "code",
   "execution_count": 63,
   "id": "f88c622f",
   "metadata": {
    "hidden": true
   },
   "outputs": [
    {
     "data": {
      "text/plain": [
       "Won  \n",
       "True     184\n",
       "False    176\n",
       "dtype: int64"
      ]
     },
     "execution_count": 63,
     "metadata": {},
     "output_type": "execute_result"
    }
   ],
   "source": [
    "df_sachin.value_counts([\"Won\"])"
   ]
  },
  {
   "cell_type": "markdown",
   "id": "7da877c6",
   "metadata": {
    "hidden": true
   },
   "source": [
    "### Example 2"
   ]
  },
  {
   "cell_type": "markdown",
   "id": "be9657c4",
   "metadata": {
    "hidden": true
   },
   "source": [
    "We define \"Century\" and \"Not Century\" as outcomes. Again, each match falls in one of these two categories\n",
    "\n",
    "S = {\"Century\", \"Not century\"}"
   ]
  },
  {
   "cell_type": "code",
   "execution_count": 64,
   "id": "ed867beb",
   "metadata": {
    "hidden": true
   },
   "outputs": [
    {
     "data": {
      "text/plain": [
       "century\n",
       "False      314\n",
       "True        46\n",
       "dtype: int64"
      ]
     },
     "execution_count": 64,
     "metadata": {},
     "output_type": "execute_result"
    }
   ],
   "source": [
    "df_sachin.value_counts([\"century\"])"
   ]
  },
  {
   "cell_type": "markdown",
   "id": "25cf67a1",
   "metadata": {
    "hidden": true
   },
   "source": [
    "### Example  3"
   ]
  },
  {
   "cell_type": "markdown",
   "id": "25270c9c",
   "metadata": {
    "hidden": true
   },
   "source": [
    "We can define the following four outcomes:\n",
    "1. \"Won\" and \"Century\" \n",
    "2. \"Won\" and \"Not century\"\n",
    "3. \"Lost\" and \"Century\"\n",
    "4. \"Lost\" and \"Not Century\"\n",
    "\n",
    "Notice that each match belongs to exactly one of these outcomes"
   ]
  },
  {
   "cell_type": "code",
   "execution_count": 65,
   "id": "a1e586b0",
   "metadata": {
    "hidden": true
   },
   "outputs": [
    {
     "data": {
      "text/html": [
       "<div>\n",
       "<style scoped>\n",
       "    .dataframe tbody tr th:only-of-type {\n",
       "        vertical-align: middle;\n",
       "    }\n",
       "\n",
       "    .dataframe tbody tr th {\n",
       "        vertical-align: top;\n",
       "    }\n",
       "\n",
       "    .dataframe thead th {\n",
       "        text-align: right;\n",
       "    }\n",
       "</style>\n",
       "<table border=\"1\" class=\"dataframe\">\n",
       "  <thead>\n",
       "    <tr style=\"text-align: right;\">\n",
       "      <th>century</th>\n",
       "      <th>False</th>\n",
       "      <th>True</th>\n",
       "    </tr>\n",
       "    <tr>\n",
       "      <th>Won</th>\n",
       "      <th></th>\n",
       "      <th></th>\n",
       "    </tr>\n",
       "  </thead>\n",
       "  <tbody>\n",
       "    <tr>\n",
       "      <th>False</th>\n",
       "      <td>160</td>\n",
       "      <td>16</td>\n",
       "    </tr>\n",
       "    <tr>\n",
       "      <th>True</th>\n",
       "      <td>154</td>\n",
       "      <td>30</td>\n",
       "    </tr>\n",
       "  </tbody>\n",
       "</table>\n",
       "</div>"
      ],
      "text/plain": [
       "century  False  True\n",
       "Won                 \n",
       "False      160    16\n",
       "True       154    30"
      ]
     },
     "execution_count": 65,
     "metadata": {},
     "output_type": "execute_result"
    }
   ],
   "source": [
    "df_sachin.value_counts([\"Won\", \"century\"]).unstack()"
   ]
  },
  {
   "cell_type": "markdown",
   "id": "346caf28",
   "metadata": {},
   "source": [
    "## Typical interview question"
   ]
  },
  {
   "cell_type": "markdown",
   "id": "7abaa07e",
   "metadata": {},
   "source": [
    "### Question"
   ]
  },
  {
   "cell_type": "markdown",
   "id": "366cdcad",
   "metadata": {},
   "source": [
    "The probability of Tendulkar scoring a century is 46/360. Probability of winning when he scores a century is 30/46. Probability of winning when he does not score a century is 154/314. Given that a match was won, what is the probability that he scored a century."
   ]
  },
  {
   "cell_type": "markdown",
   "id": "2a6b12ba",
   "metadata": {},
   "source": [
    "### Solution"
   ]
  },
  {
   "cell_type": "markdown",
   "id": "49d0e76a",
   "metadata": {},
   "source": [
    "#### Dataframe-based method"
   ]
  },
  {
   "cell_type": "markdown",
   "id": "4644efe0",
   "metadata": {},
   "source": [
    "#### Tree-based method"
   ]
  },
  {
   "cell_type": "markdown",
   "id": "42581d81",
   "metadata": {},
   "source": [
    "#### Bayes' theorem"
   ]
  },
  {
   "cell_type": "markdown",
   "id": "764d64f6",
   "metadata": {},
   "source": [
    "Let us write equations from the data given\n",
    "\n",
    "$P[C] = 46/360$\n",
    "\n",
    "$P[W|C] = 30/46$\n",
    "\n",
    "$P[W|C^c] = 154/314$\n",
    "\n",
    "Now let us use Bayes' theorem\n",
    "\n",
    "\n",
    "\\begin{align}\n",
    "P[C|W]&=\\frac{P[C \\cap W]}{P[W]} \\\\\n",
    "&= \\frac{P[W|C] P[C]}{P[W|C]P[C] + P[W|C^c]P[C^c]} \\\\\n",
    "& = \\displaystyle\\frac{\\frac{30}{46} \\frac{46}{360}}{\\frac{30}{46} \\frac{46}{360} + \\frac{154}{314}\\frac{314}{360}}\\\\\n",
    "&= \\frac{30}{30+154} \\\\\n",
    "&= 0.16\n",
    "\\end{align}\n"
   ]
  },
  {
   "cell_type": "markdown",
   "id": "fb4fde32",
   "metadata": {},
   "source": [
    "# "
   ]
  },
  {
   "cell_type": "markdown",
   "id": "bd89242d",
   "metadata": {},
   "source": [
    "### Binomial Distribution"
   ]
  },
  {
   "cell_type": "code",
   "execution_count": 75,
   "id": "f7a157a6",
   "metadata": {},
   "outputs": [
    {
     "data": {
      "image/png": "[encoded data removed]",
      "text/plain": [
       "<Figure size 432x288 with 1 Axes>"
      ]
     },
     "metadata": {
      "needs_background": "light"
     },
     "output_type": "display_data"
    }
   ],
   "source": [
    "num_matches = 30\n",
    "list_of_num_victories = []\n",
    "for i in range(10000):\n",
    "    sample = df_sachin[\"Won\"].sample(num_matches)\n",
    "    list_of_num_victories.append(sample.sum())\n",
    "# plt.hist(list_of_num_victories, bins=10)\n",
    "sns.histplot(list_of_num_victories, bins=30)\n",
    "\n",
    "plt.show()"
   ]
  },
  {
   "cell_type": "markdown",
   "id": "6ec72a1c",
   "metadata": {},
   "source": [
    "### Sample Mean distribution"
   ]
  },
  {
   "cell_type": "code",
   "execution_count": 67,
   "id": "12f35207",
   "metadata": {},
   "outputs": [
    {
     "name": "stdout",
     "output_type": "stream",
     "text": [
      "3.594220760665655\n"
     ]
    },
    {
     "data": {
      "image/png": "[encoded data removed]",
      "text/plain": [
       "<Figure size 432x288 with 1 Axes>"
      ]
     },
     "metadata": {
      "needs_background": "light"
     },
     "output_type": "display_data"
    }
   ],
   "source": [
    "num_samples = 100\n",
    "collect_sample_means = []\n",
    "for i in range(1000):\n",
    "    collect_sample_means.append(df_sachin[\"runs\"].sample(num_samples).mean())\n",
    "\n",
    "sns.histplot(collect_sample_means)\n",
    "print(np.std(collect_sample_means))"
   ]
  },
  {
   "cell_type": "code",
   "execution_count": 101,
   "id": "ce39b7cf",
   "metadata": {},
   "outputs": [
    {
     "name": "stdout",
     "output_type": "stream",
     "text": [
      "15.352652222089537\n"
     ]
    },
    {
     "data": {
      "image/png": "[encoded data removed]",
      "text/plain": [
       "<Figure size 432x288 with 1 Axes>"
      ]
     },
     "metadata": {
      "needs_background": "light"
     },
     "output_type": "display_data"
    }
   ],
   "source": [
    "num_samples = 100\n",
    "collect_p_99 = []\n",
    "for i in range(10000):\n",
    "    collect_p_99.append(df_sachin[\"runs\"].sample(num_samples).quantile(0.99))\n",
    "\n",
    "sns.histplot(collect_p_99)\n",
    "print(np.std(collect_p_99))"
   ]
  },
  {
   "cell_type": "markdown",
   "id": "252976ca",
   "metadata": {},
   "source": [
    "## Confidence interval"
   ]
  },
  {
   "cell_type": "code",
   "execution_count": 78,
   "id": "02d04642",
   "metadata": {},
   "outputs": [
    {
     "data": {
      "text/plain": [
       "36.416250000000005"
      ]
     },
     "execution_count": 78,
     "metadata": {},
     "output_type": "execute_result"
    }
   ],
   "source": [
    "np.percentile(collect_sample_means, 2.5)"
   ]
  },
  {
   "cell_type": "code",
   "execution_count": 79,
   "id": "6e472d37",
   "metadata": {},
   "outputs": [
    {
     "data": {
      "text/plain": [
       "50.431"
      ]
     },
     "execution_count": 79,
     "metadata": {},
     "output_type": "execute_result"
    }
   ],
   "source": [
    "np.percentile(collect_sample_means, 97.5)"
   ]
  }
 ],
 "metadata": {
  "kernelspec": {
   "display_name": "Python 3 (ipykernel)",
   "language": "python",
   "name": "python3"
  },
  "language_info": {
   "codemirror_mode": {
    "name": "ipython",
    "version": 3
   },
   "file_extension": ".py",
   "mimetype": "text/x-python",
   "name": "python",
   "nbconvert_exporter": "python",
   "pygments_lexer": "ipython3",
   "version": "3.8.12"
  }
 },
 "nbformat": 4,
 "nbformat_minor": 5
}
